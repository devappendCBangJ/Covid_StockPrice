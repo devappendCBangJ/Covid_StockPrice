{
 "cells": [
  {
   "cell_type": "markdown",
   "metadata": {},
   "source": [
    "# k-최근접 이웃 회귀"
   ]
  },
  {
   "cell_type": "markdown",
   "metadata": {},
   "source": [
    "<table align=\"left\">\n",
    "  <td>\n",
    "    <a target=\"_blank\" href=\"https://colab.research.google.com/github/rickiepark/hg-mldl/blob/master/3-1.ipynb\"><img src=\"https://www.tensorflow.org/images/colab_logo_32px.png\" />구글 코랩에서 실행하기</a>\n",
    "  </td>\n",
    "</table>"
   ]
  },
  {
   "cell_type": "markdown",
   "metadata": {
    "colab_type": "text",
    "id": "i5J2cFzCrDWT"
   },
   "source": [
    "## 데이터 준비"
   ]
  },
  {
   "cell_type": "code",
   "execution_count": 2,
   "metadata": {
    "colab": {},
    "colab_type": "code",
    "id": "fL3wuWxD0cH6"
   },
   "outputs": [],
   "source": [
    "import os\n",
    "import numpy as np\n",
    "import pandas as pd\n",
    "import random\n",
    "import seaborn as sns\n",
    "\n",
    "import datetime\n",
    "from datetime import date"
   ]
  },
  {
   "cell_type": "code",
   "execution_count": 3,
   "metadata": {},
   "outputs": [],
   "source": [
    "from matplotlib import rc\n",
    "import matplotlib.font_manager as fm\n",
    "\n",
    "fm.get_fontconfig_fonts()\n",
    "font_location = './NanumGothic.ttf'\n",
    "font_name = fm.FontProperties(fname=font_location).get_name()\n",
    "rc('font', family=font_name)"
   ]
  },
  {
   "cell_type": "markdown",
   "metadata": {},
   "source": [
    "# 데이터 불러오기"
   ]
  },
  {
   "cell_type": "code",
   "execution_count": 4,
   "metadata": {
    "colab": {},
    "colab_type": "code",
    "id": "np5j0UTtJNI_"
   },
   "outputs": [],
   "source": [
    "df_stock = pd.read_csv(\"C:\\\\Users\\\\Hi\\\\JupyterProjects\\\\JupyterML\\\\Covid\\\\data\\\\covid19_kor\\\\주식시장_일별__20220415170553.csv\", encoding='euc-kr')\n",
    "df_covid = pd.read_csv(\"C:\\\\Users\\\\Hi\\\\JupyterProjects\\\\JupyterML\\\\Covid\\\\data\\\\covid19_kor\\\\서울특별시 코로나19 자치구별 확진자 발생동향.csv\", encoding='euc-kr')"
   ]
  },
  {
   "cell_type": "markdown",
   "metadata": {},
   "source": [
    "# 데이터 확인"
   ]
  },
  {
   "cell_type": "code",
   "execution_count": 5,
   "metadata": {},
   "outputs": [
    {
     "data": {
      "text/html": [
       "<div>\n",
       "<style scoped>\n",
       "    .dataframe tbody tr th:only-of-type {\n",
       "        vertical-align: middle;\n",
       "    }\n",
       "\n",
       "    .dataframe tbody tr th {\n",
       "        vertical-align: top;\n",
       "    }\n",
       "\n",
       "    .dataframe thead th {\n",
       "        text-align: right;\n",
       "    }\n",
       "</style>\n",
       "<table border=\"1\" class=\"dataframe\">\n",
       "  <thead>\n",
       "    <tr style=\"text-align: right;\">\n",
       "      <th></th>\n",
       "      <th>계정별</th>\n",
       "      <th>2020.02.05</th>\n",
       "      <th>2020.02.06</th>\n",
       "      <th>2020.02.07</th>\n",
       "      <th>2020.02.10</th>\n",
       "      <th>2020.02.11</th>\n",
       "      <th>2020.02.12</th>\n",
       "      <th>2020.02.13</th>\n",
       "      <th>2020.02.14</th>\n",
       "      <th>2020.02.17</th>\n",
       "      <th>...</th>\n",
       "      <th>2022.02.04</th>\n",
       "      <th>2022.02.07</th>\n",
       "      <th>2022.02.08</th>\n",
       "      <th>2022.02.09</th>\n",
       "      <th>2022.02.10</th>\n",
       "      <th>2022.02.11</th>\n",
       "      <th>2022.02.14</th>\n",
       "      <th>2022.02.15</th>\n",
       "      <th>2022.02.16</th>\n",
       "      <th>2022.02.17</th>\n",
       "    </tr>\n",
       "  </thead>\n",
       "  <tbody>\n",
       "    <tr>\n",
       "      <th>0</th>\n",
       "      <td>KOSPI지수 (1980.01.04=100)</td>\n",
       "      <td>2165.63</td>\n",
       "      <td>2227.94</td>\n",
       "      <td>2211.95</td>\n",
       "      <td>2201.07</td>\n",
       "      <td>2223.12</td>\n",
       "      <td>2238.38</td>\n",
       "      <td>2232.96</td>\n",
       "      <td>2243.59</td>\n",
       "      <td>2242.17</td>\n",
       "      <td>...</td>\n",
       "      <td>2750.26</td>\n",
       "      <td>2745.06</td>\n",
       "      <td>2746.47</td>\n",
       "      <td>2768.85</td>\n",
       "      <td>2771.93</td>\n",
       "      <td>2747.71</td>\n",
       "      <td>2704.48</td>\n",
       "      <td>2676.54</td>\n",
       "      <td>2729.68</td>\n",
       "      <td>2744.09</td>\n",
       "    </tr>\n",
       "    <tr>\n",
       "      <th>1</th>\n",
       "      <td>거래량(주식시장, 잠정치) (만주)</td>\n",
       "      <td>56312.00</td>\n",
       "      <td>68323.00</td>\n",
       "      <td>76671.00</td>\n",
       "      <td>60047.00</td>\n",
       "      <td>51031.00</td>\n",
       "      <td>62342.00</td>\n",
       "      <td>62961.00</td>\n",
       "      <td>58900.00</td>\n",
       "      <td>45309.00</td>\n",
       "      <td>...</td>\n",
       "      <td>52652.00</td>\n",
       "      <td>41008.00</td>\n",
       "      <td>55489.00</td>\n",
       "      <td>52969.00</td>\n",
       "      <td>50043.00</td>\n",
       "      <td>45698.00</td>\n",
       "      <td>60566.00</td>\n",
       "      <td>57535.00</td>\n",
       "      <td>41515.00</td>\n",
       "      <td>60226.00</td>\n",
       "    </tr>\n",
       "    <tr>\n",
       "      <th>2</th>\n",
       "      <td>거래대금(주식시장 , 잠정치) (억원)</td>\n",
       "      <td>74625.00</td>\n",
       "      <td>80636.00</td>\n",
       "      <td>69263.00</td>\n",
       "      <td>53322.00</td>\n",
       "      <td>64744.00</td>\n",
       "      <td>67750.00</td>\n",
       "      <td>79571.00</td>\n",
       "      <td>61331.00</td>\n",
       "      <td>55661.00</td>\n",
       "      <td>...</td>\n",
       "      <td>111842.00</td>\n",
       "      <td>111059.00</td>\n",
       "      <td>116203.00</td>\n",
       "      <td>101579.00</td>\n",
       "      <td>125638.00</td>\n",
       "      <td>105400.00</td>\n",
       "      <td>113138.00</td>\n",
       "      <td>92255.00</td>\n",
       "      <td>82633.00</td>\n",
       "      <td>116773.00</td>\n",
       "    </tr>\n",
       "    <tr>\n",
       "      <th>3</th>\n",
       "      <td>외국인 순매수(주식시장, 잠정치) (억원)</td>\n",
       "      <td>4578.00</td>\n",
       "      <td>1586.00</td>\n",
       "      <td>223.00</td>\n",
       "      <td>-3039.00</td>\n",
       "      <td>-934.00</td>\n",
       "      <td>-2163.00</td>\n",
       "      <td>2795.00</td>\n",
       "      <td>945.00</td>\n",
       "      <td>-2287.00</td>\n",
       "      <td>...</td>\n",
       "      <td>1945.00</td>\n",
       "      <td>-69.00</td>\n",
       "      <td>-939.00</td>\n",
       "      <td>2355.00</td>\n",
       "      <td>8365.00</td>\n",
       "      <td>6081.00</td>\n",
       "      <td>684.00</td>\n",
       "      <td>-2209.00</td>\n",
       "      <td>-437.00</td>\n",
       "      <td>6516.00</td>\n",
       "    </tr>\n",
       "    <tr>\n",
       "      <th>4</th>\n",
       "      <td>주식시장-거래량(만주, 시간외거래분 포함) (만주)</td>\n",
       "      <td>57440.00</td>\n",
       "      <td>69522.00</td>\n",
       "      <td>80034.00</td>\n",
       "      <td>60957.00</td>\n",
       "      <td>52621.00</td>\n",
       "      <td>63246.00</td>\n",
       "      <td>63867.00</td>\n",
       "      <td>59722.00</td>\n",
       "      <td>45825.00</td>\n",
       "      <td>...</td>\n",
       "      <td>53615.00</td>\n",
       "      <td>41784.00</td>\n",
       "      <td>56053.00</td>\n",
       "      <td>53912.00</td>\n",
       "      <td>50961.00</td>\n",
       "      <td>48052.00</td>\n",
       "      <td>61634.00</td>\n",
       "      <td>58904.00</td>\n",
       "      <td>42237.00</td>\n",
       "      <td>-</td>\n",
       "    </tr>\n",
       "  </tbody>\n",
       "</table>\n",
       "<p>5 rows × 506 columns</p>\n",
       "</div>"
      ],
      "text/plain": [
       "                            계정별  2020.02.05  2020.02.06  2020.02.07  \\\n",
       "0      KOSPI지수 (1980.01.04=100)     2165.63     2227.94     2211.95   \n",
       "1           거래량(주식시장, 잠정치) (만주)    56312.00    68323.00    76671.00   \n",
       "2         거래대금(주식시장 , 잠정치) (억원)    74625.00    80636.00    69263.00   \n",
       "3       외국인 순매수(주식시장, 잠정치) (억원)     4578.00     1586.00      223.00   \n",
       "4  주식시장-거래량(만주, 시간외거래분 포함) (만주)    57440.00    69522.00    80034.00   \n",
       "\n",
       "   2020.02.10  2020.02.11  2020.02.12  2020.02.13  2020.02.14  2020.02.17  \\\n",
       "0     2201.07     2223.12     2238.38     2232.96     2243.59     2242.17   \n",
       "1    60047.00    51031.00    62342.00    62961.00    58900.00    45309.00   \n",
       "2    53322.00    64744.00    67750.00    79571.00    61331.00    55661.00   \n",
       "3    -3039.00     -934.00    -2163.00     2795.00      945.00    -2287.00   \n",
       "4    60957.00    52621.00    63246.00    63867.00    59722.00    45825.00   \n",
       "\n",
       "   ...  2022.02.04  2022.02.07  2022.02.08  2022.02.09  2022.02.10  \\\n",
       "0  ...     2750.26     2745.06     2746.47     2768.85     2771.93   \n",
       "1  ...    52652.00    41008.00    55489.00    52969.00    50043.00   \n",
       "2  ...   111842.00   111059.00   116203.00   101579.00   125638.00   \n",
       "3  ...     1945.00      -69.00     -939.00     2355.00     8365.00   \n",
       "4  ...    53615.00    41784.00    56053.00    53912.00    50961.00   \n",
       "\n",
       "   2022.02.11  2022.02.14  2022.02.15  2022.02.16  2022.02.17  \n",
       "0     2747.71     2704.48     2676.54     2729.68     2744.09  \n",
       "1    45698.00    60566.00    57535.00    41515.00    60226.00  \n",
       "2   105400.00   113138.00    92255.00    82633.00   116773.00  \n",
       "3     6081.00      684.00    -2209.00     -437.00     6516.00  \n",
       "4    48052.00    61634.00    58904.00    42237.00           -  \n",
       "\n",
       "[5 rows x 506 columns]"
      ]
     },
     "execution_count": 5,
     "metadata": {},
     "output_type": "execute_result"
    }
   ],
   "source": [
    "df_stock.head()"
   ]
  },
  {
   "cell_type": "code",
   "execution_count": 6,
   "metadata": {},
   "outputs": [
    {
     "data": {
      "text/html": [
       "<div>\n",
       "<style scoped>\n",
       "    .dataframe tbody tr th:only-of-type {\n",
       "        vertical-align: middle;\n",
       "    }\n",
       "\n",
       "    .dataframe tbody tr th {\n",
       "        vertical-align: top;\n",
       "    }\n",
       "\n",
       "    .dataframe thead th {\n",
       "        text-align: right;\n",
       "    }\n",
       "</style>\n",
       "<table border=\"1\" class=\"dataframe\">\n",
       "  <thead>\n",
       "    <tr style=\"text-align: right;\">\n",
       "      <th></th>\n",
       "      <th>자치구 기준일</th>\n",
       "      <th>종로구 전체</th>\n",
       "      <th>종로구 추가</th>\n",
       "      <th>중구 전체</th>\n",
       "      <th>중구 추가</th>\n",
       "      <th>용산구 전체</th>\n",
       "      <th>용산구 추가</th>\n",
       "      <th>성동구 전체</th>\n",
       "      <th>성동구 추가</th>\n",
       "      <th>광진구 전체</th>\n",
       "      <th>...</th>\n",
       "      <th>서초구 전체</th>\n",
       "      <th>서추구 추가</th>\n",
       "      <th>강남구 전체</th>\n",
       "      <th>강남구 추가</th>\n",
       "      <th>송파구 전체</th>\n",
       "      <th>송파구 추가</th>\n",
       "      <th>강동구 전체</th>\n",
       "      <th>강동구 추가</th>\n",
       "      <th>기타 전체</th>\n",
       "      <th>기타 추가</th>\n",
       "    </tr>\n",
       "  </thead>\n",
       "  <tbody>\n",
       "    <tr>\n",
       "      <th>0</th>\n",
       "      <td>2022.02.17.00</td>\n",
       "      <td>6850</td>\n",
       "      <td>246</td>\n",
       "      <td>6313</td>\n",
       "      <td>221</td>\n",
       "      <td>10242</td>\n",
       "      <td>405</td>\n",
       "      <td>11930</td>\n",
       "      <td>804</td>\n",
       "      <td>15729</td>\n",
       "      <td>...</td>\n",
       "      <td>17646</td>\n",
       "      <td>784</td>\n",
       "      <td>25413</td>\n",
       "      <td>1169</td>\n",
       "      <td>28864</td>\n",
       "      <td>1218</td>\n",
       "      <td>20800</td>\n",
       "      <td>1064</td>\n",
       "      <td>31146</td>\n",
       "      <td>1254</td>\n",
       "    </tr>\n",
       "    <tr>\n",
       "      <th>1</th>\n",
       "      <td>2022.02.16.00</td>\n",
       "      <td>6604</td>\n",
       "      <td>227</td>\n",
       "      <td>6092</td>\n",
       "      <td>179</td>\n",
       "      <td>9837</td>\n",
       "      <td>340</td>\n",
       "      <td>11126</td>\n",
       "      <td>639</td>\n",
       "      <td>14865</td>\n",
       "      <td>...</td>\n",
       "      <td>16862</td>\n",
       "      <td>764</td>\n",
       "      <td>24244</td>\n",
       "      <td>1040</td>\n",
       "      <td>27646</td>\n",
       "      <td>1356</td>\n",
       "      <td>19736</td>\n",
       "      <td>1180</td>\n",
       "      <td>29892</td>\n",
       "      <td>898</td>\n",
       "    </tr>\n",
       "    <tr>\n",
       "      <th>2</th>\n",
       "      <td>2022.02.15.00</td>\n",
       "      <td>6377</td>\n",
       "      <td>182</td>\n",
       "      <td>5913</td>\n",
       "      <td>136</td>\n",
       "      <td>9497</td>\n",
       "      <td>218</td>\n",
       "      <td>10487</td>\n",
       "      <td>316</td>\n",
       "      <td>14122</td>\n",
       "      <td>...</td>\n",
       "      <td>16098</td>\n",
       "      <td>440</td>\n",
       "      <td>23204</td>\n",
       "      <td>819</td>\n",
       "      <td>26290</td>\n",
       "      <td>682</td>\n",
       "      <td>18556</td>\n",
       "      <td>528</td>\n",
       "      <td>28994</td>\n",
       "      <td>844</td>\n",
       "    </tr>\n",
       "    <tr>\n",
       "      <th>3</th>\n",
       "      <td>2022.02.14.00</td>\n",
       "      <td>6195</td>\n",
       "      <td>96</td>\n",
       "      <td>5777</td>\n",
       "      <td>91</td>\n",
       "      <td>9279</td>\n",
       "      <td>256</td>\n",
       "      <td>10171</td>\n",
       "      <td>336</td>\n",
       "      <td>13669</td>\n",
       "      <td>...</td>\n",
       "      <td>15658</td>\n",
       "      <td>386</td>\n",
       "      <td>22385</td>\n",
       "      <td>632</td>\n",
       "      <td>25608</td>\n",
       "      <td>726</td>\n",
       "      <td>18028</td>\n",
       "      <td>588</td>\n",
       "      <td>28150</td>\n",
       "      <td>735</td>\n",
       "    </tr>\n",
       "    <tr>\n",
       "      <th>4</th>\n",
       "      <td>2022.02.13.00</td>\n",
       "      <td>6099</td>\n",
       "      <td>184</td>\n",
       "      <td>5686</td>\n",
       "      <td>111</td>\n",
       "      <td>9023</td>\n",
       "      <td>248</td>\n",
       "      <td>9835</td>\n",
       "      <td>408</td>\n",
       "      <td>13192</td>\n",
       "      <td>...</td>\n",
       "      <td>15272</td>\n",
       "      <td>430</td>\n",
       "      <td>21753</td>\n",
       "      <td>747</td>\n",
       "      <td>24882</td>\n",
       "      <td>800</td>\n",
       "      <td>17440</td>\n",
       "      <td>664</td>\n",
       "      <td>27416</td>\n",
       "      <td>728</td>\n",
       "    </tr>\n",
       "  </tbody>\n",
       "</table>\n",
       "<p>5 rows × 53 columns</p>\n",
       "</div>"
      ],
      "text/plain": [
       "         자치구 기준일  종로구 전체  종로구 추가  중구 전체  중구 추가  용산구 전체  용산구 추가  성동구 전체  \\\n",
       "0  2022.02.17.00    6850     246   6313    221   10242     405   11930   \n",
       "1  2022.02.16.00    6604     227   6092    179    9837     340   11126   \n",
       "2  2022.02.15.00    6377     182   5913    136    9497     218   10487   \n",
       "3  2022.02.14.00    6195      96   5777     91    9279     256   10171   \n",
       "4  2022.02.13.00    6099     184   5686    111    9023     248    9835   \n",
       "\n",
       "   성동구 추가  광진구 전체  ...  서초구 전체  서추구 추가  강남구 전체  강남구 추가  송파구 전체  송파구 추가  \\\n",
       "0     804   15729  ...   17646     784   25413    1169   28864    1218   \n",
       "1     639   14865  ...   16862     764   24244    1040   27646    1356   \n",
       "2     316   14122  ...   16098     440   23204     819   26290     682   \n",
       "3     336   13669  ...   15658     386   22385     632   25608     726   \n",
       "4     408   13192  ...   15272     430   21753     747   24882     800   \n",
       "\n",
       "   강동구 전체  강동구 추가  기타 전체  기타 추가  \n",
       "0   20800    1064  31146   1254  \n",
       "1   19736    1180  29892    898  \n",
       "2   18556     528  28994    844  \n",
       "3   18028     588  28150    735  \n",
       "4   17440     664  27416    728  \n",
       "\n",
       "[5 rows x 53 columns]"
      ]
     },
     "execution_count": 6,
     "metadata": {},
     "output_type": "execute_result"
    }
   ],
   "source": [
    "df_covid.head()"
   ]
  },
  {
   "cell_type": "markdown",
   "metadata": {},
   "source": [
    "# Covid"
   ]
  },
  {
   "cell_type": "code",
   "execution_count": 7,
   "metadata": {},
   "outputs": [],
   "source": [
    "df_covid_num = df_covid.drop(['자치구 기준일'], axis = 1)"
   ]
  },
  {
   "cell_type": "code",
   "execution_count": 8,
   "metadata": {
    "scrolled": false
   },
   "outputs": [
    {
     "data": {
      "text/html": [
       "<div>\n",
       "<style scoped>\n",
       "    .dataframe tbody tr th:only-of-type {\n",
       "        vertical-align: middle;\n",
       "    }\n",
       "\n",
       "    .dataframe tbody tr th {\n",
       "        vertical-align: top;\n",
       "    }\n",
       "\n",
       "    .dataframe thead th {\n",
       "        text-align: right;\n",
       "    }\n",
       "</style>\n",
       "<table border=\"1\" class=\"dataframe\">\n",
       "  <thead>\n",
       "    <tr style=\"text-align: right;\">\n",
       "      <th></th>\n",
       "      <th>종로구 전체</th>\n",
       "      <th>종로구 추가</th>\n",
       "      <th>중구 전체</th>\n",
       "      <th>중구 추가</th>\n",
       "      <th>용산구 전체</th>\n",
       "      <th>용산구 추가</th>\n",
       "      <th>성동구 전체</th>\n",
       "      <th>성동구 추가</th>\n",
       "      <th>광진구 전체</th>\n",
       "      <th>광진구 추가</th>\n",
       "      <th>...</th>\n",
       "      <th>서초구 전체</th>\n",
       "      <th>서추구 추가</th>\n",
       "      <th>강남구 전체</th>\n",
       "      <th>강남구 추가</th>\n",
       "      <th>송파구 전체</th>\n",
       "      <th>송파구 추가</th>\n",
       "      <th>강동구 전체</th>\n",
       "      <th>강동구 추가</th>\n",
       "      <th>기타 전체</th>\n",
       "      <th>기타 추가</th>\n",
       "    </tr>\n",
       "  </thead>\n",
       "  <tbody>\n",
       "    <tr>\n",
       "      <th>0</th>\n",
       "      <td>6850</td>\n",
       "      <td>246</td>\n",
       "      <td>6313</td>\n",
       "      <td>221</td>\n",
       "      <td>10242</td>\n",
       "      <td>405</td>\n",
       "      <td>11930</td>\n",
       "      <td>804</td>\n",
       "      <td>15729</td>\n",
       "      <td>864</td>\n",
       "      <td>...</td>\n",
       "      <td>17646</td>\n",
       "      <td>784</td>\n",
       "      <td>25413</td>\n",
       "      <td>1169</td>\n",
       "      <td>28864</td>\n",
       "      <td>1218</td>\n",
       "      <td>20800</td>\n",
       "      <td>1064</td>\n",
       "      <td>31146</td>\n",
       "      <td>1254</td>\n",
       "    </tr>\n",
       "    <tr>\n",
       "      <th>1</th>\n",
       "      <td>6604</td>\n",
       "      <td>227</td>\n",
       "      <td>6092</td>\n",
       "      <td>179</td>\n",
       "      <td>9837</td>\n",
       "      <td>340</td>\n",
       "      <td>11126</td>\n",
       "      <td>639</td>\n",
       "      <td>14865</td>\n",
       "      <td>743</td>\n",
       "      <td>...</td>\n",
       "      <td>16862</td>\n",
       "      <td>764</td>\n",
       "      <td>24244</td>\n",
       "      <td>1040</td>\n",
       "      <td>27646</td>\n",
       "      <td>1356</td>\n",
       "      <td>19736</td>\n",
       "      <td>1180</td>\n",
       "      <td>29892</td>\n",
       "      <td>898</td>\n",
       "    </tr>\n",
       "    <tr>\n",
       "      <th>2</th>\n",
       "      <td>6377</td>\n",
       "      <td>182</td>\n",
       "      <td>5913</td>\n",
       "      <td>136</td>\n",
       "      <td>9497</td>\n",
       "      <td>218</td>\n",
       "      <td>10487</td>\n",
       "      <td>316</td>\n",
       "      <td>14122</td>\n",
       "      <td>453</td>\n",
       "      <td>...</td>\n",
       "      <td>16098</td>\n",
       "      <td>440</td>\n",
       "      <td>23204</td>\n",
       "      <td>819</td>\n",
       "      <td>26290</td>\n",
       "      <td>682</td>\n",
       "      <td>18556</td>\n",
       "      <td>528</td>\n",
       "      <td>28994</td>\n",
       "      <td>844</td>\n",
       "    </tr>\n",
       "    <tr>\n",
       "      <th>3</th>\n",
       "      <td>6195</td>\n",
       "      <td>96</td>\n",
       "      <td>5777</td>\n",
       "      <td>91</td>\n",
       "      <td>9279</td>\n",
       "      <td>256</td>\n",
       "      <td>10171</td>\n",
       "      <td>336</td>\n",
       "      <td>13669</td>\n",
       "      <td>477</td>\n",
       "      <td>...</td>\n",
       "      <td>15658</td>\n",
       "      <td>386</td>\n",
       "      <td>22385</td>\n",
       "      <td>632</td>\n",
       "      <td>25608</td>\n",
       "      <td>726</td>\n",
       "      <td>18028</td>\n",
       "      <td>588</td>\n",
       "      <td>28150</td>\n",
       "      <td>735</td>\n",
       "    </tr>\n",
       "    <tr>\n",
       "      <th>4</th>\n",
       "      <td>6099</td>\n",
       "      <td>184</td>\n",
       "      <td>5686</td>\n",
       "      <td>111</td>\n",
       "      <td>9023</td>\n",
       "      <td>248</td>\n",
       "      <td>9835</td>\n",
       "      <td>408</td>\n",
       "      <td>13192</td>\n",
       "      <td>448</td>\n",
       "      <td>...</td>\n",
       "      <td>15272</td>\n",
       "      <td>430</td>\n",
       "      <td>21753</td>\n",
       "      <td>747</td>\n",
       "      <td>24882</td>\n",
       "      <td>800</td>\n",
       "      <td>17440</td>\n",
       "      <td>664</td>\n",
       "      <td>27416</td>\n",
       "      <td>728</td>\n",
       "    </tr>\n",
       "  </tbody>\n",
       "</table>\n",
       "<p>5 rows × 52 columns</p>\n",
       "</div>"
      ],
      "text/plain": [
       "   종로구 전체  종로구 추가  중구 전체  중구 추가  용산구 전체  용산구 추가  성동구 전체  성동구 추가  광진구 전체  \\\n",
       "0    6850     246   6313    221   10242     405   11930     804   15729   \n",
       "1    6604     227   6092    179    9837     340   11126     639   14865   \n",
       "2    6377     182   5913    136    9497     218   10487     316   14122   \n",
       "3    6195      96   5777     91    9279     256   10171     336   13669   \n",
       "4    6099     184   5686    111    9023     248    9835     408   13192   \n",
       "\n",
       "   광진구 추가  ...  서초구 전체  서추구 추가  강남구 전체  강남구 추가  송파구 전체  송파구 추가  강동구 전체  \\\n",
       "0     864  ...   17646     784   25413    1169   28864    1218   20800   \n",
       "1     743  ...   16862     764   24244    1040   27646    1356   19736   \n",
       "2     453  ...   16098     440   23204     819   26290     682   18556   \n",
       "3     477  ...   15658     386   22385     632   25608     726   18028   \n",
       "4     448  ...   15272     430   21753     747   24882     800   17440   \n",
       "\n",
       "   강동구 추가  기타 전체  기타 추가  \n",
       "0    1064  31146   1254  \n",
       "1    1180  29892    898  \n",
       "2     528  28994    844  \n",
       "3     588  28150    735  \n",
       "4     664  27416    728  \n",
       "\n",
       "[5 rows x 52 columns]"
      ]
     },
     "execution_count": 8,
     "metadata": {},
     "output_type": "execute_result"
    }
   ],
   "source": [
    "df_covid_num.head()"
   ]
  },
  {
   "cell_type": "code",
   "execution_count": 9,
   "metadata": {},
   "outputs": [],
   "source": [
    "# 서울 전체구 데이터 병합\n",
    "df_covid_num = df_covid_num.sum(axis = 1)"
   ]
  },
  {
   "cell_type": "code",
   "execution_count": 10,
   "metadata": {
    "scrolled": false
   },
   "outputs": [
    {
     "data": {
      "text/plain": [
       "0    468666\n",
       "1    448168\n",
       "2    422863\n",
       "3    409556\n",
       "4    398182\n",
       "dtype: int64"
      ]
     },
     "execution_count": 10,
     "metadata": {},
     "output_type": "execute_result"
    }
   ],
   "source": [
    "df_covid_num.head()"
   ]
  },
  {
   "cell_type": "code",
   "execution_count": 11,
   "metadata": {},
   "outputs": [],
   "source": [
    "df_covid_num = df_covid_num.to_frame()\n",
    "df_covid_num.columns = ['서울 전체']"
   ]
  },
  {
   "cell_type": "code",
   "execution_count": 12,
   "metadata": {
    "scrolled": false
   },
   "outputs": [
    {
     "data": {
      "text/html": [
       "<div>\n",
       "<style scoped>\n",
       "    .dataframe tbody tr th:only-of-type {\n",
       "        vertical-align: middle;\n",
       "    }\n",
       "\n",
       "    .dataframe tbody tr th {\n",
       "        vertical-align: top;\n",
       "    }\n",
       "\n",
       "    .dataframe thead th {\n",
       "        text-align: right;\n",
       "    }\n",
       "</style>\n",
       "<table border=\"1\" class=\"dataframe\">\n",
       "  <thead>\n",
       "    <tr style=\"text-align: right;\">\n",
       "      <th></th>\n",
       "      <th>서울 전체</th>\n",
       "    </tr>\n",
       "  </thead>\n",
       "  <tbody>\n",
       "    <tr>\n",
       "      <th>0</th>\n",
       "      <td>468666</td>\n",
       "    </tr>\n",
       "    <tr>\n",
       "      <th>1</th>\n",
       "      <td>448168</td>\n",
       "    </tr>\n",
       "    <tr>\n",
       "      <th>2</th>\n",
       "      <td>422863</td>\n",
       "    </tr>\n",
       "    <tr>\n",
       "      <th>3</th>\n",
       "      <td>409556</td>\n",
       "    </tr>\n",
       "    <tr>\n",
       "      <th>4</th>\n",
       "      <td>398182</td>\n",
       "    </tr>\n",
       "  </tbody>\n",
       "</table>\n",
       "</div>"
      ],
      "text/plain": [
       "    서울 전체\n",
       "0  468666\n",
       "1  448168\n",
       "2  422863\n",
       "3  409556\n",
       "4  398182"
      ]
     },
     "execution_count": 12,
     "metadata": {},
     "output_type": "execute_result"
    }
   ],
   "source": [
    "df_covid_num.head()"
   ]
  },
  {
   "cell_type": "code",
   "execution_count": 13,
   "metadata": {},
   "outputs": [],
   "source": [
    "df_covid = pd.concat([df_covid['자치구 기준일'], df_covid_num], axis = 1)"
   ]
  },
  {
   "cell_type": "code",
   "execution_count": 14,
   "metadata": {
    "scrolled": true
   },
   "outputs": [
    {
     "data": {
      "text/html": [
       "<div>\n",
       "<style scoped>\n",
       "    .dataframe tbody tr th:only-of-type {\n",
       "        vertical-align: middle;\n",
       "    }\n",
       "\n",
       "    .dataframe tbody tr th {\n",
       "        vertical-align: top;\n",
       "    }\n",
       "\n",
       "    .dataframe thead th {\n",
       "        text-align: right;\n",
       "    }\n",
       "</style>\n",
       "<table border=\"1\" class=\"dataframe\">\n",
       "  <thead>\n",
       "    <tr style=\"text-align: right;\">\n",
       "      <th></th>\n",
       "      <th>자치구 기준일</th>\n",
       "      <th>서울 전체</th>\n",
       "    </tr>\n",
       "  </thead>\n",
       "  <tbody>\n",
       "    <tr>\n",
       "      <th>0</th>\n",
       "      <td>2022.02.17.00</td>\n",
       "      <td>468666</td>\n",
       "    </tr>\n",
       "    <tr>\n",
       "      <th>1</th>\n",
       "      <td>2022.02.16.00</td>\n",
       "      <td>448168</td>\n",
       "    </tr>\n",
       "    <tr>\n",
       "      <th>2</th>\n",
       "      <td>2022.02.15.00</td>\n",
       "      <td>422863</td>\n",
       "    </tr>\n",
       "    <tr>\n",
       "      <th>3</th>\n",
       "      <td>2022.02.14.00</td>\n",
       "      <td>409556</td>\n",
       "    </tr>\n",
       "    <tr>\n",
       "      <th>4</th>\n",
       "      <td>2022.02.13.00</td>\n",
       "      <td>398182</td>\n",
       "    </tr>\n",
       "  </tbody>\n",
       "</table>\n",
       "</div>"
      ],
      "text/plain": [
       "         자치구 기준일   서울 전체\n",
       "0  2022.02.17.00  468666\n",
       "1  2022.02.16.00  448168\n",
       "2  2022.02.15.00  422863\n",
       "3  2022.02.14.00  409556\n",
       "4  2022.02.13.00  398182"
      ]
     },
     "execution_count": 14,
     "metadata": {},
     "output_type": "execute_result"
    }
   ],
   "source": [
    "df_covid.head()"
   ]
  },
  {
   "cell_type": "code",
   "execution_count": 15,
   "metadata": {},
   "outputs": [],
   "source": [
    "# 데이터 전처리 - 날짜 형식 변환\n",
    "date_set=[]\n",
    "remove_set = ['2020-04-15', '2020-04-30', '2020-05-01', '2020-05-05', '2020-08-17', '2020-09-30', '2020-10-01', '2020-10-02', '2020-10-09', '2020-12-25', '2020-12-31', '2021-01-01', '2021-02-11', '2021-02-12', '2021-03-01', '2021-05-05', '2021-05-19', '2021-08-16', '2021-09-20', '2021-09-21', '2021-09-22', '2021-10-04', '2021-10-11', '2021-12-31', '2022-01-31', '2022-02-01', '2022-02-02']\n",
    "for item in df_covid['자치구 기준일']:\n",
    "    break_flag = 1\n",
    "    # print(item)\n",
    "    item=item.split('.')\n",
    "    year=int(item[0])\n",
    "    month=int(item[1])\n",
    "    day=int(item[2])\n",
    "    for remove_data in remove_set:\n",
    "        if(remove_data == str(date(year, month, day)) or date(year, month, day).weekday() > 4):\n",
    "            date_set+=[np.nan]\n",
    "            break_flag = 0\n",
    "            break\n",
    "    if(break_flag == 1):\n",
    "        date_set+=[str(date(year,month,day))]\n",
    "        # print(datetime.date(year,month,day))\n",
    "df_covid['자치구 기준일'] = date_set\n",
    "# df_covid['자치구 기준일'] = pd.to_datetime(df_covid['자치구 기준일'])\n",
    "\n",
    "df_covid.dropna(axis=0, inplace = True)\n",
    "df_covid = df_covid.drop_duplicates(['자치구 기준일'])\n",
    "df_covid[\"서울 전체\"]=df_covid[\"서울 전체\"].apply(float)\n",
    "df_covid = df_covid.sort_values('자치구 기준일', ascending = True)\n",
    "\n",
    "# print(type(remove_set[0]))\n",
    "# print(type(str(date(year, month, day))))\n",
    "# print(str(date(year, month, day)))\n",
    "\n",
    "# dropna는 행(열) 중 에서 결측치가 존재하는 행(열)을 제거한다.\n",
    "# axis = 0이면 행을 제거하고 axis = 1이면 열을 제거한다.\n",
    "# thresh = N 옵션을 주면 해당 행(열)에 N개 이상의 값이 존재하면 결측치가 존재해도 행(열)을 제거하지 않는다.\n",
    "# inplace = True 옵션을 주면 항구적 적용이 가능하다."
   ]
  },
  {
   "cell_type": "code",
   "execution_count": 16,
   "metadata": {},
   "outputs": [
    {
     "name": "stdout",
     "output_type": "stream",
     "text": [
      "27\n"
     ]
    }
   ],
   "source": [
    "# 확인용 코드\n",
    "print(len(remove_set))"
   ]
  },
  {
   "cell_type": "code",
   "execution_count": 17,
   "metadata": {},
   "outputs": [
    {
     "data": {
      "text/plain": [
       "744    2020-02-05\n",
       "743    2020-02-06\n",
       "742    2020-02-07\n",
       "739    2020-02-10\n",
       "738    2020-02-11\n",
       "          ...    \n",
       "6      2022-02-11\n",
       "3      2022-02-14\n",
       "2      2022-02-15\n",
       "1      2022-02-16\n",
       "0      2022-02-17\n",
       "Name: 자치구 기준일, Length: 505, dtype: object"
      ]
     },
     "execution_count": 17,
     "metadata": {},
     "output_type": "execute_result"
    }
   ],
   "source": [
    "# 확인용 코드\n",
    "df_covid['자치구 기준일']"
   ]
  },
  {
   "cell_type": "code",
   "execution_count": 18,
   "metadata": {},
   "outputs": [
    {
     "data": {
      "text/html": [
       "<div>\n",
       "<style scoped>\n",
       "    .dataframe tbody tr th:only-of-type {\n",
       "        vertical-align: middle;\n",
       "    }\n",
       "\n",
       "    .dataframe tbody tr th {\n",
       "        vertical-align: top;\n",
       "    }\n",
       "\n",
       "    .dataframe thead th {\n",
       "        text-align: right;\n",
       "    }\n",
       "</style>\n",
       "<table border=\"1\" class=\"dataframe\">\n",
       "  <thead>\n",
       "    <tr style=\"text-align: right;\">\n",
       "      <th></th>\n",
       "      <th>자치구 기준일</th>\n",
       "      <th>서울 전체</th>\n",
       "    </tr>\n",
       "  </thead>\n",
       "  <tbody>\n",
       "    <tr>\n",
       "      <th>744</th>\n",
       "      <td>2020-02-05</td>\n",
       "      <td>12.0</td>\n",
       "    </tr>\n",
       "    <tr>\n",
       "      <th>743</th>\n",
       "      <td>2020-02-06</td>\n",
       "      <td>15.0</td>\n",
       "    </tr>\n",
       "    <tr>\n",
       "      <th>742</th>\n",
       "      <td>2020-02-07</td>\n",
       "      <td>0.0</td>\n",
       "    </tr>\n",
       "  </tbody>\n",
       "</table>\n",
       "</div>"
      ],
      "text/plain": [
       "        자치구 기준일  서울 전체\n",
       "744  2020-02-05   12.0\n",
       "743  2020-02-06   15.0\n",
       "742  2020-02-07    0.0"
      ]
     },
     "execution_count": 18,
     "metadata": {},
     "output_type": "execute_result"
    }
   ],
   "source": [
    "# 확인용 코드\n",
    "df_covid.head(3)"
   ]
  },
  {
   "cell_type": "code",
   "execution_count": 19,
   "metadata": {},
   "outputs": [
    {
     "data": {
      "text/html": [
       "<div>\n",
       "<style scoped>\n",
       "    .dataframe tbody tr th:only-of-type {\n",
       "        vertical-align: middle;\n",
       "    }\n",
       "\n",
       "    .dataframe tbody tr th {\n",
       "        vertical-align: top;\n",
       "    }\n",
       "\n",
       "    .dataframe thead th {\n",
       "        text-align: right;\n",
       "    }\n",
       "</style>\n",
       "<table border=\"1\" class=\"dataframe\">\n",
       "  <thead>\n",
       "    <tr style=\"text-align: right;\">\n",
       "      <th></th>\n",
       "      <th>자치구 기준일</th>\n",
       "      <th>서울 전체</th>\n",
       "    </tr>\n",
       "  </thead>\n",
       "  <tbody>\n",
       "    <tr>\n",
       "      <th>2</th>\n",
       "      <td>2022-02-15</td>\n",
       "      <td>422863.0</td>\n",
       "    </tr>\n",
       "    <tr>\n",
       "      <th>1</th>\n",
       "      <td>2022-02-16</td>\n",
       "      <td>448168.0</td>\n",
       "    </tr>\n",
       "    <tr>\n",
       "      <th>0</th>\n",
       "      <td>2022-02-17</td>\n",
       "      <td>468666.0</td>\n",
       "    </tr>\n",
       "  </tbody>\n",
       "</table>\n",
       "</div>"
      ],
      "text/plain": [
       "      자치구 기준일     서울 전체\n",
       "2  2022-02-15  422863.0\n",
       "1  2022-02-16  448168.0\n",
       "0  2022-02-17  468666.0"
      ]
     },
     "execution_count": 19,
     "metadata": {},
     "output_type": "execute_result"
    }
   ],
   "source": [
    "# 확인용 코드\n",
    "df_covid.tail(3)"
   ]
  },
  {
   "cell_type": "code",
   "execution_count": 20,
   "metadata": {},
   "outputs": [
    {
     "name": "stdout",
     "output_type": "stream",
     "text": [
      "<class 'pandas.core.frame.DataFrame'>\n",
      "Int64Index: 505 entries, 744 to 0\n",
      "Data columns (total 2 columns):\n",
      " #   Column   Non-Null Count  Dtype  \n",
      "---  ------   --------------  -----  \n",
      " 0   자치구 기준일  505 non-null    object \n",
      " 1   서울 전체    505 non-null    float64\n",
      "dtypes: float64(1), object(1)\n",
      "memory usage: 11.8+ KB\n"
     ]
    }
   ],
   "source": [
    "df_covid.info()"
   ]
  },
  {
   "cell_type": "code",
   "execution_count": 21,
   "metadata": {},
   "outputs": [],
   "source": [
    "# 오미크론 우세종 된 이후 데이터 제거\n",
    "df_covid = df_covid[df_covid['자치구 기준일'] < '2022-01-09']"
   ]
  },
  {
   "cell_type": "code",
   "execution_count": 22,
   "metadata": {},
   "outputs": [
    {
     "data": {
      "text/html": [
       "<div>\n",
       "<style scoped>\n",
       "    .dataframe tbody tr th:only-of-type {\n",
       "        vertical-align: middle;\n",
       "    }\n",
       "\n",
       "    .dataframe tbody tr th {\n",
       "        vertical-align: top;\n",
       "    }\n",
       "\n",
       "    .dataframe thead th {\n",
       "        text-align: right;\n",
       "    }\n",
       "</style>\n",
       "<table border=\"1\" class=\"dataframe\">\n",
       "  <thead>\n",
       "    <tr style=\"text-align: right;\">\n",
       "      <th></th>\n",
       "      <th>자치구 기준일</th>\n",
       "      <th>서울 전체</th>\n",
       "    </tr>\n",
       "  </thead>\n",
       "  <tbody>\n",
       "    <tr>\n",
       "      <th>744</th>\n",
       "      <td>2020-02-05</td>\n",
       "      <td>12.0</td>\n",
       "    </tr>\n",
       "    <tr>\n",
       "      <th>743</th>\n",
       "      <td>2020-02-06</td>\n",
       "      <td>15.0</td>\n",
       "    </tr>\n",
       "    <tr>\n",
       "      <th>742</th>\n",
       "      <td>2020-02-07</td>\n",
       "      <td>0.0</td>\n",
       "    </tr>\n",
       "    <tr>\n",
       "      <th>739</th>\n",
       "      <td>2020-02-10</td>\n",
       "      <td>0.0</td>\n",
       "    </tr>\n",
       "    <tr>\n",
       "      <th>738</th>\n",
       "      <td>2020-02-11</td>\n",
       "      <td>0.0</td>\n",
       "    </tr>\n",
       "    <tr>\n",
       "      <th>...</th>\n",
       "      <td>...</td>\n",
       "      <td>...</td>\n",
       "    </tr>\n",
       "    <tr>\n",
       "      <th>45</th>\n",
       "      <td>2022-01-03</td>\n",
       "      <td>229860.0</td>\n",
       "    </tr>\n",
       "    <tr>\n",
       "      <th>44</th>\n",
       "      <td>2022-01-04</td>\n",
       "      <td>230739.0</td>\n",
       "    </tr>\n",
       "    <tr>\n",
       "      <th>43</th>\n",
       "      <td>2022-01-05</td>\n",
       "      <td>232625.0</td>\n",
       "    </tr>\n",
       "    <tr>\n",
       "      <th>42</th>\n",
       "      <td>2022-01-06</td>\n",
       "      <td>233627.0</td>\n",
       "    </tr>\n",
       "    <tr>\n",
       "      <th>41</th>\n",
       "      <td>2022-01-07</td>\n",
       "      <td>234495.0</td>\n",
       "    </tr>\n",
       "  </tbody>\n",
       "</table>\n",
       "<p>479 rows × 2 columns</p>\n",
       "</div>"
      ],
      "text/plain": [
       "        자치구 기준일     서울 전체\n",
       "744  2020-02-05      12.0\n",
       "743  2020-02-06      15.0\n",
       "742  2020-02-07       0.0\n",
       "739  2020-02-10       0.0\n",
       "738  2020-02-11       0.0\n",
       "..          ...       ...\n",
       "45   2022-01-03  229860.0\n",
       "44   2022-01-04  230739.0\n",
       "43   2022-01-05  232625.0\n",
       "42   2022-01-06  233627.0\n",
       "41   2022-01-07  234495.0\n",
       "\n",
       "[479 rows x 2 columns]"
      ]
     },
     "execution_count": 22,
     "metadata": {},
     "output_type": "execute_result"
    }
   ],
   "source": [
    "df_covid"
   ]
  },
  {
   "cell_type": "code",
   "execution_count": 23,
   "metadata": {
    "scrolled": true
   },
   "outputs": [
    {
     "name": "stdout",
     "output_type": "stream",
     "text": [
      "<class 'pandas.core.frame.DataFrame'>\n",
      "Int64Index: 479 entries, 744 to 41\n",
      "Data columns (total 2 columns):\n",
      " #   Column   Non-Null Count  Dtype  \n",
      "---  ------   --------------  -----  \n",
      " 0   자치구 기준일  479 non-null    object \n",
      " 1   서울 전체    479 non-null    float64\n",
      "dtypes: float64(1), object(1)\n",
      "memory usage: 11.2+ KB\n"
     ]
    }
   ],
   "source": [
    "df_covid.info()"
   ]
  },
  {
   "cell_type": "markdown",
   "metadata": {},
   "source": [
    "# Stock"
   ]
  },
  {
   "cell_type": "code",
   "execution_count": 24,
   "metadata": {},
   "outputs": [
    {
     "data": {
      "text/html": [
       "<div>\n",
       "<style scoped>\n",
       "    .dataframe tbody tr th:only-of-type {\n",
       "        vertical-align: middle;\n",
       "    }\n",
       "\n",
       "    .dataframe tbody tr th {\n",
       "        vertical-align: top;\n",
       "    }\n",
       "\n",
       "    .dataframe thead th {\n",
       "        text-align: right;\n",
       "    }\n",
       "</style>\n",
       "<table border=\"1\" class=\"dataframe\">\n",
       "  <thead>\n",
       "    <tr style=\"text-align: right;\">\n",
       "      <th></th>\n",
       "      <th>계정별</th>\n",
       "      <th>2020.02.05</th>\n",
       "      <th>2020.02.06</th>\n",
       "      <th>2020.02.07</th>\n",
       "      <th>2020.02.10</th>\n",
       "      <th>2020.02.11</th>\n",
       "      <th>2020.02.12</th>\n",
       "      <th>2020.02.13</th>\n",
       "      <th>2020.02.14</th>\n",
       "      <th>2020.02.17</th>\n",
       "      <th>...</th>\n",
       "      <th>2022.02.04</th>\n",
       "      <th>2022.02.07</th>\n",
       "      <th>2022.02.08</th>\n",
       "      <th>2022.02.09</th>\n",
       "      <th>2022.02.10</th>\n",
       "      <th>2022.02.11</th>\n",
       "      <th>2022.02.14</th>\n",
       "      <th>2022.02.15</th>\n",
       "      <th>2022.02.16</th>\n",
       "      <th>2022.02.17</th>\n",
       "    </tr>\n",
       "  </thead>\n",
       "  <tbody>\n",
       "    <tr>\n",
       "      <th>0</th>\n",
       "      <td>KOSPI지수 (1980.01.04=100)</td>\n",
       "      <td>2165.63</td>\n",
       "      <td>2227.94</td>\n",
       "      <td>2211.95</td>\n",
       "      <td>2201.07</td>\n",
       "      <td>2223.12</td>\n",
       "      <td>2238.38</td>\n",
       "      <td>2232.96</td>\n",
       "      <td>2243.59</td>\n",
       "      <td>2242.17</td>\n",
       "      <td>...</td>\n",
       "      <td>2750.26</td>\n",
       "      <td>2745.06</td>\n",
       "      <td>2746.47</td>\n",
       "      <td>2768.85</td>\n",
       "      <td>2771.93</td>\n",
       "      <td>2747.71</td>\n",
       "      <td>2704.48</td>\n",
       "      <td>2676.54</td>\n",
       "      <td>2729.68</td>\n",
       "      <td>2744.09</td>\n",
       "    </tr>\n",
       "    <tr>\n",
       "      <th>1</th>\n",
       "      <td>거래량(주식시장, 잠정치) (만주)</td>\n",
       "      <td>56312.00</td>\n",
       "      <td>68323.00</td>\n",
       "      <td>76671.00</td>\n",
       "      <td>60047.00</td>\n",
       "      <td>51031.00</td>\n",
       "      <td>62342.00</td>\n",
       "      <td>62961.00</td>\n",
       "      <td>58900.00</td>\n",
       "      <td>45309.00</td>\n",
       "      <td>...</td>\n",
       "      <td>52652.00</td>\n",
       "      <td>41008.00</td>\n",
       "      <td>55489.00</td>\n",
       "      <td>52969.00</td>\n",
       "      <td>50043.00</td>\n",
       "      <td>45698.00</td>\n",
       "      <td>60566.00</td>\n",
       "      <td>57535.00</td>\n",
       "      <td>41515.00</td>\n",
       "      <td>60226.00</td>\n",
       "    </tr>\n",
       "    <tr>\n",
       "      <th>2</th>\n",
       "      <td>거래대금(주식시장 , 잠정치) (억원)</td>\n",
       "      <td>74625.00</td>\n",
       "      <td>80636.00</td>\n",
       "      <td>69263.00</td>\n",
       "      <td>53322.00</td>\n",
       "      <td>64744.00</td>\n",
       "      <td>67750.00</td>\n",
       "      <td>79571.00</td>\n",
       "      <td>61331.00</td>\n",
       "      <td>55661.00</td>\n",
       "      <td>...</td>\n",
       "      <td>111842.00</td>\n",
       "      <td>111059.00</td>\n",
       "      <td>116203.00</td>\n",
       "      <td>101579.00</td>\n",
       "      <td>125638.00</td>\n",
       "      <td>105400.00</td>\n",
       "      <td>113138.00</td>\n",
       "      <td>92255.00</td>\n",
       "      <td>82633.00</td>\n",
       "      <td>116773.00</td>\n",
       "    </tr>\n",
       "    <tr>\n",
       "      <th>3</th>\n",
       "      <td>외국인 순매수(주식시장, 잠정치) (억원)</td>\n",
       "      <td>4578.00</td>\n",
       "      <td>1586.00</td>\n",
       "      <td>223.00</td>\n",
       "      <td>-3039.00</td>\n",
       "      <td>-934.00</td>\n",
       "      <td>-2163.00</td>\n",
       "      <td>2795.00</td>\n",
       "      <td>945.00</td>\n",
       "      <td>-2287.00</td>\n",
       "      <td>...</td>\n",
       "      <td>1945.00</td>\n",
       "      <td>-69.00</td>\n",
       "      <td>-939.00</td>\n",
       "      <td>2355.00</td>\n",
       "      <td>8365.00</td>\n",
       "      <td>6081.00</td>\n",
       "      <td>684.00</td>\n",
       "      <td>-2209.00</td>\n",
       "      <td>-437.00</td>\n",
       "      <td>6516.00</td>\n",
       "    </tr>\n",
       "    <tr>\n",
       "      <th>4</th>\n",
       "      <td>주식시장-거래량(만주, 시간외거래분 포함) (만주)</td>\n",
       "      <td>57440.00</td>\n",
       "      <td>69522.00</td>\n",
       "      <td>80034.00</td>\n",
       "      <td>60957.00</td>\n",
       "      <td>52621.00</td>\n",
       "      <td>63246.00</td>\n",
       "      <td>63867.00</td>\n",
       "      <td>59722.00</td>\n",
       "      <td>45825.00</td>\n",
       "      <td>...</td>\n",
       "      <td>53615.00</td>\n",
       "      <td>41784.00</td>\n",
       "      <td>56053.00</td>\n",
       "      <td>53912.00</td>\n",
       "      <td>50961.00</td>\n",
       "      <td>48052.00</td>\n",
       "      <td>61634.00</td>\n",
       "      <td>58904.00</td>\n",
       "      <td>42237.00</td>\n",
       "      <td>-</td>\n",
       "    </tr>\n",
       "  </tbody>\n",
       "</table>\n",
       "<p>5 rows × 506 columns</p>\n",
       "</div>"
      ],
      "text/plain": [
       "                            계정별  2020.02.05  2020.02.06  2020.02.07  \\\n",
       "0      KOSPI지수 (1980.01.04=100)     2165.63     2227.94     2211.95   \n",
       "1           거래량(주식시장, 잠정치) (만주)    56312.00    68323.00    76671.00   \n",
       "2         거래대금(주식시장 , 잠정치) (억원)    74625.00    80636.00    69263.00   \n",
       "3       외국인 순매수(주식시장, 잠정치) (억원)     4578.00     1586.00      223.00   \n",
       "4  주식시장-거래량(만주, 시간외거래분 포함) (만주)    57440.00    69522.00    80034.00   \n",
       "\n",
       "   2020.02.10  2020.02.11  2020.02.12  2020.02.13  2020.02.14  2020.02.17  \\\n",
       "0     2201.07     2223.12     2238.38     2232.96     2243.59     2242.17   \n",
       "1    60047.00    51031.00    62342.00    62961.00    58900.00    45309.00   \n",
       "2    53322.00    64744.00    67750.00    79571.00    61331.00    55661.00   \n",
       "3    -3039.00     -934.00    -2163.00     2795.00      945.00    -2287.00   \n",
       "4    60957.00    52621.00    63246.00    63867.00    59722.00    45825.00   \n",
       "\n",
       "   ...  2022.02.04  2022.02.07  2022.02.08  2022.02.09  2022.02.10  \\\n",
       "0  ...     2750.26     2745.06     2746.47     2768.85     2771.93   \n",
       "1  ...    52652.00    41008.00    55489.00    52969.00    50043.00   \n",
       "2  ...   111842.00   111059.00   116203.00   101579.00   125638.00   \n",
       "3  ...     1945.00      -69.00     -939.00     2355.00     8365.00   \n",
       "4  ...    53615.00    41784.00    56053.00    53912.00    50961.00   \n",
       "\n",
       "   2022.02.11  2022.02.14  2022.02.15  2022.02.16  2022.02.17  \n",
       "0     2747.71     2704.48     2676.54     2729.68     2744.09  \n",
       "1    45698.00    60566.00    57535.00    41515.00    60226.00  \n",
       "2   105400.00   113138.00    92255.00    82633.00   116773.00  \n",
       "3     6081.00      684.00    -2209.00     -437.00     6516.00  \n",
       "4    48052.00    61634.00    58904.00    42237.00           -  \n",
       "\n",
       "[5 rows x 506 columns]"
      ]
     },
     "execution_count": 24,
     "metadata": {},
     "output_type": "execute_result"
    }
   ],
   "source": [
    "# 확인용 코드\n",
    "df_stock.head()"
   ]
  },
  {
   "cell_type": "code",
   "execution_count": 25,
   "metadata": {},
   "outputs": [],
   "source": [
    "# 데이터 전처리 - 전치 + 날짜 형식 변환\n",
    "df_stock_day = df_stock.columns.values.tolist()\n",
    "df_stock = df_stock.T\n",
    "# print(df_stock.T.head())\n",
    "df_stock['날짜'] = df_stock_day"
   ]
  },
  {
   "cell_type": "code",
   "execution_count": 26,
   "metadata": {},
   "outputs": [],
   "source": [
    "date_set=[]\n",
    "for item in df_stock['날짜']:\n",
    "    # print(item)\n",
    "    if(item == '계정별'):\n",
    "        date_set+=[np.nan]\n",
    "    else:\n",
    "        item=item.split('.')\n",
    "        year=int(item[0])\n",
    "        month=int(item[1])\n",
    "        day=int(item[2])\n",
    "        date_set+=[str(date(year,month,day))]\n",
    "    # print(datetime.date(year,month,day))\n",
    "df_stock['날짜'] = date_set\n",
    "# df_stock['날짜'] = pd.to_datetime(df_stock['날짜'])\n",
    "\n",
    "df_stock.dropna(axis=0, inplace = True)\n",
    "df_stock.rename(columns={0:'KOSPI'}, inplace = True)\n",
    "df_stock = df_stock[['KOSPI', '날짜']]\n",
    "df_stock[\"KOSPI\"]=df_stock[\"KOSPI\"].apply(float)\n",
    "df_stock = df_stock.sort_values('날짜', ascending = True)"
   ]
  },
  {
   "cell_type": "code",
   "execution_count": 27,
   "metadata": {},
   "outputs": [
    {
     "data": {
      "text/html": [
       "<div>\n",
       "<style scoped>\n",
       "    .dataframe tbody tr th:only-of-type {\n",
       "        vertical-align: middle;\n",
       "    }\n",
       "\n",
       "    .dataframe tbody tr th {\n",
       "        vertical-align: top;\n",
       "    }\n",
       "\n",
       "    .dataframe thead th {\n",
       "        text-align: right;\n",
       "    }\n",
       "</style>\n",
       "<table border=\"1\" class=\"dataframe\">\n",
       "  <thead>\n",
       "    <tr style=\"text-align: right;\">\n",
       "      <th></th>\n",
       "      <th>KOSPI</th>\n",
       "      <th>날짜</th>\n",
       "    </tr>\n",
       "  </thead>\n",
       "  <tbody>\n",
       "    <tr>\n",
       "      <th>2020.02.05</th>\n",
       "      <td>2165.63</td>\n",
       "      <td>2020-02-05</td>\n",
       "    </tr>\n",
       "    <tr>\n",
       "      <th>2020.02.06</th>\n",
       "      <td>2227.94</td>\n",
       "      <td>2020-02-06</td>\n",
       "    </tr>\n",
       "    <tr>\n",
       "      <th>2020.02.07</th>\n",
       "      <td>2211.95</td>\n",
       "      <td>2020-02-07</td>\n",
       "    </tr>\n",
       "  </tbody>\n",
       "</table>\n",
       "</div>"
      ],
      "text/plain": [
       "              KOSPI          날짜\n",
       "2020.02.05  2165.63  2020-02-05\n",
       "2020.02.06  2227.94  2020-02-06\n",
       "2020.02.07  2211.95  2020-02-07"
      ]
     },
     "execution_count": 27,
     "metadata": {},
     "output_type": "execute_result"
    }
   ],
   "source": [
    "# 확인용 코드\n",
    "df_stock.head(3)"
   ]
  },
  {
   "cell_type": "code",
   "execution_count": 28,
   "metadata": {},
   "outputs": [
    {
     "data": {
      "text/html": [
       "<div>\n",
       "<style scoped>\n",
       "    .dataframe tbody tr th:only-of-type {\n",
       "        vertical-align: middle;\n",
       "    }\n",
       "\n",
       "    .dataframe tbody tr th {\n",
       "        vertical-align: top;\n",
       "    }\n",
       "\n",
       "    .dataframe thead th {\n",
       "        text-align: right;\n",
       "    }\n",
       "</style>\n",
       "<table border=\"1\" class=\"dataframe\">\n",
       "  <thead>\n",
       "    <tr style=\"text-align: right;\">\n",
       "      <th></th>\n",
       "      <th>KOSPI</th>\n",
       "      <th>날짜</th>\n",
       "    </tr>\n",
       "  </thead>\n",
       "  <tbody>\n",
       "    <tr>\n",
       "      <th>2022.02.15</th>\n",
       "      <td>2676.54</td>\n",
       "      <td>2022-02-15</td>\n",
       "    </tr>\n",
       "    <tr>\n",
       "      <th>2022.02.16</th>\n",
       "      <td>2729.68</td>\n",
       "      <td>2022-02-16</td>\n",
       "    </tr>\n",
       "    <tr>\n",
       "      <th>2022.02.17</th>\n",
       "      <td>2744.09</td>\n",
       "      <td>2022-02-17</td>\n",
       "    </tr>\n",
       "  </tbody>\n",
       "</table>\n",
       "</div>"
      ],
      "text/plain": [
       "              KOSPI          날짜\n",
       "2022.02.15  2676.54  2022-02-15\n",
       "2022.02.16  2729.68  2022-02-16\n",
       "2022.02.17  2744.09  2022-02-17"
      ]
     },
     "execution_count": 28,
     "metadata": {},
     "output_type": "execute_result"
    }
   ],
   "source": [
    "# 확인용 코드\n",
    "df_stock.tail(3)"
   ]
  },
  {
   "cell_type": "code",
   "execution_count": 29,
   "metadata": {},
   "outputs": [
    {
     "data": {
      "text/html": [
       "<div>\n",
       "<style scoped>\n",
       "    .dataframe tbody tr th:only-of-type {\n",
       "        vertical-align: middle;\n",
       "    }\n",
       "\n",
       "    .dataframe tbody tr th {\n",
       "        vertical-align: top;\n",
       "    }\n",
       "\n",
       "    .dataframe thead th {\n",
       "        text-align: right;\n",
       "    }\n",
       "</style>\n",
       "<table border=\"1\" class=\"dataframe\">\n",
       "  <thead>\n",
       "    <tr style=\"text-align: right;\">\n",
       "      <th></th>\n",
       "      <th>자치구 기준일</th>\n",
       "      <th>서울 전체</th>\n",
       "    </tr>\n",
       "  </thead>\n",
       "  <tbody>\n",
       "    <tr>\n",
       "      <th>744</th>\n",
       "      <td>2020-02-05</td>\n",
       "      <td>12.0</td>\n",
       "    </tr>\n",
       "    <tr>\n",
       "      <th>743</th>\n",
       "      <td>2020-02-06</td>\n",
       "      <td>15.0</td>\n",
       "    </tr>\n",
       "    <tr>\n",
       "      <th>742</th>\n",
       "      <td>2020-02-07</td>\n",
       "      <td>0.0</td>\n",
       "    </tr>\n",
       "  </tbody>\n",
       "</table>\n",
       "</div>"
      ],
      "text/plain": [
       "        자치구 기준일  서울 전체\n",
       "744  2020-02-05   12.0\n",
       "743  2020-02-06   15.0\n",
       "742  2020-02-07    0.0"
      ]
     },
     "execution_count": 29,
     "metadata": {},
     "output_type": "execute_result"
    }
   ],
   "source": [
    "# 확인용 코드\n",
    "df_covid.head(3)"
   ]
  },
  {
   "cell_type": "code",
   "execution_count": 30,
   "metadata": {},
   "outputs": [
    {
     "data": {
      "text/html": [
       "<div>\n",
       "<style scoped>\n",
       "    .dataframe tbody tr th:only-of-type {\n",
       "        vertical-align: middle;\n",
       "    }\n",
       "\n",
       "    .dataframe tbody tr th {\n",
       "        vertical-align: top;\n",
       "    }\n",
       "\n",
       "    .dataframe thead th {\n",
       "        text-align: right;\n",
       "    }\n",
       "</style>\n",
       "<table border=\"1\" class=\"dataframe\">\n",
       "  <thead>\n",
       "    <tr style=\"text-align: right;\">\n",
       "      <th></th>\n",
       "      <th>자치구 기준일</th>\n",
       "      <th>서울 전체</th>\n",
       "    </tr>\n",
       "  </thead>\n",
       "  <tbody>\n",
       "    <tr>\n",
       "      <th>43</th>\n",
       "      <td>2022-01-05</td>\n",
       "      <td>232625.0</td>\n",
       "    </tr>\n",
       "    <tr>\n",
       "      <th>42</th>\n",
       "      <td>2022-01-06</td>\n",
       "      <td>233627.0</td>\n",
       "    </tr>\n",
       "    <tr>\n",
       "      <th>41</th>\n",
       "      <td>2022-01-07</td>\n",
       "      <td>234495.0</td>\n",
       "    </tr>\n",
       "  </tbody>\n",
       "</table>\n",
       "</div>"
      ],
      "text/plain": [
       "       자치구 기준일     서울 전체\n",
       "43  2022-01-05  232625.0\n",
       "42  2022-01-06  233627.0\n",
       "41  2022-01-07  234495.0"
      ]
     },
     "execution_count": 30,
     "metadata": {},
     "output_type": "execute_result"
    }
   ],
   "source": [
    "# 확인용 코드\n",
    "df_covid.tail(3)"
   ]
  },
  {
   "cell_type": "code",
   "execution_count": 31,
   "metadata": {},
   "outputs": [],
   "source": [
    "df_stock = df_stock[df_stock['날짜'] < '2022-01-09']"
   ]
  },
  {
   "cell_type": "code",
   "execution_count": 32,
   "metadata": {
    "scrolled": true
   },
   "outputs": [
    {
     "name": "stdout",
     "output_type": "stream",
     "text": [
      "<class 'pandas.core.frame.DataFrame'>\n",
      "Index: 479 entries, 2020.02.05 to 2022.01.07\n",
      "Data columns (total 2 columns):\n",
      " #   Column  Non-Null Count  Dtype  \n",
      "---  ------  --------------  -----  \n",
      " 0   KOSPI   479 non-null    float64\n",
      " 1   날짜      479 non-null    object \n",
      "dtypes: float64(1), object(1)\n",
      "memory usage: 11.2+ KB\n"
     ]
    }
   ],
   "source": [
    "df_stock.info()"
   ]
  },
  {
   "cell_type": "code",
   "execution_count": 33,
   "metadata": {},
   "outputs": [
    {
     "name": "stdout",
     "output_type": "stream",
     "text": [
      "479\n"
     ]
    }
   ],
   "source": [
    "# 확인용 코드\n",
    "list1 = list(np.array(df_covid['자치구 기준일'].tolist()))\n",
    "print(len(set(list1)))"
   ]
  },
  {
   "cell_type": "code",
   "execution_count": 34,
   "metadata": {},
   "outputs": [
    {
     "name": "stdout",
     "output_type": "stream",
     "text": [
      "479\n"
     ]
    }
   ],
   "source": [
    "# 확인용 코드\n",
    "list2 = list(np.array(df_stock['날짜'].tolist()))\n",
    "print(len(set(list1)))"
   ]
  },
  {
   "cell_type": "code",
   "execution_count": 35,
   "metadata": {},
   "outputs": [
    {
     "name": "stdout",
     "output_type": "stream",
     "text": [
      "[]\n",
      "[]\n"
     ]
    }
   ],
   "source": [
    "# 확인용 코드\n",
    "C = list(set(list1) - set(list2))\n",
    "D = list(set(list2) - set(list1))\n",
    "print(C)\n",
    "print(D)"
   ]
  },
  {
   "cell_type": "code",
   "execution_count": 36,
   "metadata": {},
   "outputs": [
    {
     "name": "stdout",
     "output_type": "stream",
     "text": [
      "<class 'pandas.core.frame.DataFrame'>\n",
      "Index: 479 entries, 2020.02.05 to 2022.01.07\n",
      "Data columns (total 2 columns):\n",
      " #   Column  Non-Null Count  Dtype  \n",
      "---  ------  --------------  -----  \n",
      " 0   KOSPI   479 non-null    float64\n",
      " 1   날짜      479 non-null    object \n",
      "dtypes: float64(1), object(1)\n",
      "memory usage: 11.2+ KB\n"
     ]
    }
   ],
   "source": [
    "# 확인용 코드\n",
    "df_stock.info()"
   ]
  },
  {
   "cell_type": "code",
   "execution_count": 37,
   "metadata": {
    "scrolled": true
   },
   "outputs": [
    {
     "name": "stdout",
     "output_type": "stream",
     "text": [
      "<class 'pandas.core.frame.DataFrame'>\n",
      "Int64Index: 479 entries, 744 to 41\n",
      "Data columns (total 2 columns):\n",
      " #   Column   Non-Null Count  Dtype  \n",
      "---  ------   --------------  -----  \n",
      " 0   자치구 기준일  479 non-null    object \n",
      " 1   서울 전체    479 non-null    float64\n",
      "dtypes: float64(1), object(1)\n",
      "memory usage: 11.2+ KB\n"
     ]
    }
   ],
   "source": [
    "# 확인용 코드\n",
    "df_covid.info()"
   ]
  },
  {
   "cell_type": "markdown",
   "metadata": {},
   "source": [
    "# 시각화"
   ]
  },
  {
   "cell_type": "code",
   "execution_count": 38,
   "metadata": {
    "colab": {},
    "colab_type": "code",
    "id": "cc-Fn23Q4AqQ"
   },
   "outputs": [],
   "source": [
    "import matplotlib.pyplot as plt"
   ]
  },
  {
   "cell_type": "code",
   "execution_count": 39,
   "metadata": {
    "colab": {
     "base_uri": "https://localhost:8080/",
     "height": 279
    },
    "colab_type": "code",
    "executionInfo": {
     "elapsed": 1097,
     "status": "ok",
     "timestamp": 1587904061347,
     "user": {
      "displayName": "Haesun Park",
      "photoUrl": "https://lh3.googleusercontent.com/a-/AOh14GhsWlS7sKQL-9fIkg3FmxpTMz_u-KDSs8y__P1ngQ=s64",
      "userId": "14935388527648823821"
     },
     "user_tz": -540
    },
    "id": "gE78Nuog4Eg4",
    "outputId": "e2862f05-14c9-4445-b711-1326aca5c020"
   },
   "outputs": [
    {
     "data": {
      "image/png": "[encoded data removed]",
      "text/plain": [
       "<Figure size 432x288 with 1 Axes>"
      ]
     },
     "metadata": {
      "needs_background": "light"
     },
     "output_type": "display_data"
    }
   ],
   "source": [
    "# 시각화\n",
    "df_covid_count = df_covid['서울 전체']\n",
    "df_kospi = df_stock['KOSPI']\n",
    "plt.scatter(df_covid_count, df_kospi, label='Original Data')\n",
    "plt.xlabel('covid count')\n",
    "plt.ylabel('kospi')\n",
    "plt.legend()\n",
    "plt.show()"
   ]
  },
  {
   "cell_type": "markdown",
   "metadata": {},
   "source": [
    "## 데이터셋 분류"
   ]
  },
  {
   "cell_type": "code",
   "execution_count": 40,
   "metadata": {
    "colab": {},
    "colab_type": "code",
    "id": "dqSDbM-K4pkB"
   },
   "outputs": [],
   "source": [
    "from sklearn.model_selection import train_test_split"
   ]
  },
  {
   "cell_type": "code",
   "execution_count": 41,
   "metadata": {},
   "outputs": [
    {
     "data": {
      "text/plain": [
       "744        12.0\n",
       "743        15.0\n",
       "742         0.0\n",
       "739         0.0\n",
       "738         0.0\n",
       "         ...   \n",
       "45     229860.0\n",
       "44     230739.0\n",
       "43     232625.0\n",
       "42     233627.0\n",
       "41     234495.0\n",
       "Name: 서울 전체, Length: 479, dtype: float64"
      ]
     },
     "execution_count": 41,
     "metadata": {},
     "output_type": "execute_result"
    }
   ],
   "source": [
    "df_covid_count"
   ]
  },
  {
   "cell_type": "code",
   "execution_count": 42,
   "metadata": {},
   "outputs": [
    {
     "data": {
      "text/plain": [
       "2020.02.05    2165.63\n",
       "2020.02.06    2227.94\n",
       "2020.02.07    2211.95\n",
       "2020.02.10    2201.07\n",
       "2020.02.11    2223.12\n",
       "               ...   \n",
       "2022.01.03    2988.77\n",
       "2022.01.04    2989.24\n",
       "2022.01.05    2953.97\n",
       "2022.01.06    2920.53\n",
       "2022.01.07    2954.89\n",
       "Name: KOSPI, Length: 479, dtype: float64"
      ]
     },
     "execution_count": 42,
     "metadata": {},
     "output_type": "execute_result"
    }
   ],
   "source": [
    "df_kospi"
   ]
  },
  {
   "cell_type": "code",
   "execution_count": 43,
   "metadata": {
    "colab": {},
    "colab_type": "code",
    "id": "seEljNAS4uET"
   },
   "outputs": [],
   "source": [
    "# 데이터셋 분류\n",
    "train_input, test_input, train_target, test_target = train_test_split(\n",
    "    df_covid_count, df_kospi, test_size = 0.25,  random_state=42)"
   ]
  },
  {
   "cell_type": "code",
   "execution_count": 44,
   "metadata": {
    "colab": {
     "base_uri": "https://localhost:8080/",
     "height": 35
    },
    "colab_type": "code",
    "executionInfo": {
     "elapsed": 1391,
     "status": "ok",
     "timestamp": 1587904061649,
     "user": {
      "displayName": "Haesun Park",
      "photoUrl": "https://lh3.googleusercontent.com/a-/AOh14GhsWlS7sKQL-9fIkg3FmxpTMz_u-KDSs8y__P1ngQ=s64",
      "userId": "14935388527648823821"
     },
     "user_tz": -540
    },
    "id": "sC6HAwnnK4aU",
    "outputId": "55cc21c4-0934-4244-ca96-2c69a099f345"
   },
   "outputs": [
    {
     "name": "stdout",
     "output_type": "stream",
     "text": [
      "(359,) (120,)\n"
     ]
    }
   ],
   "source": [
    "print(train_input.shape, test_input.shape)"
   ]
  },
  {
   "cell_type": "code",
   "execution_count": 45,
   "metadata": {
    "colab": {
     "base_uri": "https://localhost:8080/",
     "height": 35
    },
    "colab_type": "code",
    "executionInfo": {
     "elapsed": 1666,
     "status": "ok",
     "timestamp": 1587904061928,
     "user": {
      "displayName": "Haesun Park",
      "photoUrl": "https://lh3.googleusercontent.com/a-/AOh14GhsWlS7sKQL-9fIkg3FmxpTMz_u-KDSs8y__P1ngQ=s64",
      "userId": "14935388527648823821"
     },
     "user_tz": -540
    },
    "id": "Og1eucsRwzIs",
    "outputId": "fbfbad2f-99ed-43f7-aedb-d0cf67410c96"
   },
   "outputs": [],
   "source": [
    "# test_array = np.array([1,2,3,4])\n",
    "# print(test_array.shape)"
   ]
  },
  {
   "cell_type": "code",
   "execution_count": 46,
   "metadata": {
    "colab": {
     "base_uri": "https://localhost:8080/",
     "height": 35
    },
    "colab_type": "code",
    "executionInfo": {
     "elapsed": 1660,
     "status": "ok",
     "timestamp": 1587904061929,
     "user": {
      "displayName": "Haesun Park",
      "photoUrl": "https://lh3.googleusercontent.com/a-/AOh14GhsWlS7sKQL-9fIkg3FmxpTMz_u-KDSs8y__P1ngQ=s64",
      "userId": "14935388527648823821"
     },
     "user_tz": -540
    },
    "id": "y-DXX-xtw8Jb",
    "outputId": "c423952b-c355-4155-b3b4-b45b7c445715"
   },
   "outputs": [],
   "source": [
    "# test_array = test_array.reshape(2, 2)\n",
    "# print(test_array.shape)"
   ]
  },
  {
   "cell_type": "code",
   "execution_count": 47,
   "metadata": {
    "colab": {},
    "colab_type": "code",
    "id": "2z-LC4zrxzWL"
   },
   "outputs": [],
   "source": [
    "# reshape 메서드 : 원본 배열의 원소 개수와 reshape 배열의 원소 개수가 다르면 에러 발생\n",
    "# test_array = test_array.reshape(2, 3)"
   ]
  },
  {
   "cell_type": "code",
   "execution_count": 48,
   "metadata": {
    "colab": {},
    "colab_type": "code",
    "id": "_GfrND5GKg_z"
   },
   "outputs": [],
   "source": [
    "# 데이터셋 전처리\n",
    "train_input = train_input.values.reshape(-1, 1)\n",
    "test_input = test_input.values.reshape(-1, 1)"
   ]
  },
  {
   "cell_type": "code",
   "execution_count": 49,
   "metadata": {
    "colab": {
     "base_uri": "https://localhost:8080/",
     "height": 35
    },
    "colab_type": "code",
    "executionInfo": {
     "elapsed": 1655,
     "status": "ok",
     "timestamp": 1587904061930,
     "user": {
      "displayName": "Haesun Park",
      "photoUrl": "https://lh3.googleusercontent.com/a-/AOh14GhsWlS7sKQL-9fIkg3FmxpTMz_u-KDSs8y__P1ngQ=s64",
      "userId": "14935388527648823821"
     },
     "user_tz": -540
    },
    "id": "0c8e0UrkLJDe",
    "outputId": "dfa7fb53-eb97-4bfc-de5b-89391c07d835"
   },
   "outputs": [
    {
     "name": "stdout",
     "output_type": "stream",
     "text": [
      "(359, 1) (120, 1)\n"
     ]
    }
   ],
   "source": [
    "print(train_input.shape, test_input.shape)"
   ]
  },
  {
   "cell_type": "markdown",
   "metadata": {
    "colab_type": "text",
    "id": "NtmNJ7OqrKy_"
   },
   "source": [
    "## 결정 계수 ($ R^2$)"
   ]
  },
  {
   "cell_type": "code",
   "execution_count": 50,
   "metadata": {
    "colab": {},
    "colab_type": "code",
    "id": "BcPh-Da44lhx"
   },
   "outputs": [],
   "source": [
    "from sklearn.neighbors import KNeighborsRegressor"
   ]
  },
  {
   "cell_type": "code",
   "execution_count": 51,
   "metadata": {
    "colab": {
     "base_uri": "https://localhost:8080/",
     "height": 69
    },
    "colab_type": "code",
    "executionInfo": {
     "elapsed": 1647,
     "status": "ok",
     "timestamp": 1587904061930,
     "user": {
      "displayName": "Haesun Park",
      "photoUrl": "https://lh3.googleusercontent.com/a-/AOh14GhsWlS7sKQL-9fIkg3FmxpTMz_u-KDSs8y__P1ngQ=s64",
      "userId": "14935388527648823821"
     },
     "user_tz": -540
    },
    "id": "oe7MTnof45sP",
    "outputId": "0aa0f807-2c16-46b2-fc01-f96af997e7a8"
   },
   "outputs": [
    {
     "data": {
      "text/plain": [
       "KNeighborsRegressor()"
      ]
     },
     "execution_count": 51,
     "metadata": {},
     "output_type": "execute_result"
    }
   ],
   "source": [
    "# K-최근접 이웃 회귀 모델 선정 & 훈련 by 훈련 데이터\n",
    "knr = KNeighborsRegressor()\n",
    "knr.fit(train_input, train_target)"
   ]
  },
  {
   "cell_type": "code",
   "execution_count": 52,
   "metadata": {
    "colab": {
     "base_uri": "https://localhost:8080/",
     "height": 35
    },
    "colab_type": "code",
    "executionInfo": {
     "elapsed": 1644,
     "status": "ok",
     "timestamp": 1587904061931,
     "user": {
      "displayName": "Haesun Park",
      "photoUrl": "https://lh3.googleusercontent.com/a-/AOh14GhsWlS7sKQL-9fIkg3FmxpTMz_u-KDSs8y__P1ngQ=s64",
      "userId": "14935388527648823821"
     },
     "user_tz": -540
    },
    "id": "yEv88u6LIokr",
    "outputId": "1ff7d16b-0231-45ee-e9c8-86c739f2b38c"
   },
   "outputs": [
    {
     "name": "stdout",
     "output_type": "stream",
     "text": [
      "knn5_test_accuracy : 0.9911706536391104\n"
     ]
    }
   ],
   "source": [
    "# 모델 분석 by 테스트 데이터\n",
    "print(\"knn5_test_accuracy :\", end = ' ')\n",
    "print(knr.score(test_input, test_target))"
   ]
  },
  {
   "cell_type": "code",
   "execution_count": 53,
   "metadata": {
    "colab": {},
    "colab_type": "code",
    "id": "R8Uju0xGLX3s"
   },
   "outputs": [],
   "source": [
    "from sklearn.metrics import mean_absolute_error\n",
    "from sklearn.metrics import mean_squared_error\n",
    "from sklearn.metrics import r2_score"
   ]
  },
  {
   "cell_type": "code",
   "execution_count": 54,
   "metadata": {
    "colab": {
     "base_uri": "https://localhost:8080/",
     "height": 35
    },
    "colab_type": "code",
    "executionInfo": {
     "elapsed": 1637,
     "status": "ok",
     "timestamp": 1587904061931,
     "user": {
      "displayName": "Haesun Park",
      "photoUrl": "https://lh3.googleusercontent.com/a-/AOh14GhsWlS7sKQL-9fIkg3FmxpTMz_u-KDSs8y__P1ngQ=s64",
      "userId": "14935388527648823821"
     },
     "user_tz": -540
    },
    "id": "QKEf3y-5KVQx",
    "outputId": "c083b9d6-6836-4980-fcb7-0723e0cbcf86"
   },
   "outputs": [
    {
     "name": "stdout",
     "output_type": "stream",
     "text": [
      "ㅡㅡㅡknn5 errorㅡㅡㅡ\n",
      "MAE : 32.236\n"
     ]
    }
   ],
   "source": [
    "# 결과 예측 by 테스트 데이터\n",
    "test_prediction = knr.predict(test_input)\n",
    "# 평균 절댓값 오차 계산 by 테스트 데이터\n",
    "mae = mean_absolute_error(test_target, test_prediction)\n",
    "print(\"ㅡㅡㅡknn5 errorㅡㅡㅡ\")\n",
    "print('MAE : {0:.3f}'.format(mae))"
   ]
  },
  {
   "cell_type": "markdown",
   "metadata": {
    "colab_type": "text",
    "id": "pLW8kdDv5asl"
   },
   "source": [
    "## 과대적합 vs 과소적합"
   ]
  },
  {
   "cell_type": "code",
   "execution_count": 55,
   "metadata": {
    "colab": {
     "base_uri": "https://localhost:8080/",
     "height": 35
    },
    "colab_type": "code",
    "executionInfo": {
     "elapsed": 1634,
     "status": "ok",
     "timestamp": 1587904061932,
     "user": {
      "displayName": "Haesun Park",
      "photoUrl": "https://lh3.googleusercontent.com/a-/AOh14GhsWlS7sKQL-9fIkg3FmxpTMz_u-KDSs8y__P1ngQ=s64",
      "userId": "14935388527648823821"
     },
     "user_tz": -540
    },
    "id": "ZoXIfmiAJaNw",
    "outputId": "99289bfd-0735-4f96-874b-e52dda1725c4"
   },
   "outputs": [
    {
     "name": "stdout",
     "output_type": "stream",
     "text": [
      "knn5_train_accuracy : 0.9968730825054892\n"
     ]
    }
   ],
   "source": [
    "# 모델 분석 by 훈련 데이터\n",
    "print(\"knn5_train_accuracy :\", end = ' ')\n",
    "print(knr.score(train_input, train_target))"
   ]
  },
  {
   "cell_type": "code",
   "execution_count": 56,
   "metadata": {
    "colab": {
     "base_uri": "https://localhost:8080/",
     "height": 35
    },
    "colab_type": "code",
    "executionInfo": {
     "elapsed": 1628,
     "status": "ok",
     "timestamp": 1587904061932,
     "user": {
      "displayName": "Haesun Park",
      "photoUrl": "https://lh3.googleusercontent.com/a-/AOh14GhsWlS7sKQL-9fIkg3FmxpTMz_u-KDSs8y__P1ngQ=s64",
      "userId": "14935388527648823821"
     },
     "user_tz": -540
    },
    "id": "Jhu9abILLHjq",
    "outputId": "7fa6a8cf-1137-4ec6-e3df-14acfcb6be4d"
   },
   "outputs": [
    {
     "name": "stdout",
     "output_type": "stream",
     "text": [
      "knn3_train_accuracy : 0.9978960879159935\n"
     ]
    }
   ],
   "source": [
    "# 모델 수정\n",
    "# - n_neighbors의 default : 5\n",
    "knr.n_neighbors = 3\n",
    "# K-최근접 이웃 회귀 모델 훈련\n",
    "knr.fit(train_input, train_target)\n",
    "print(\"knn3_train_accuracy :\", end = ' ')\n",
    "print(knr.score(train_input, train_target))"
   ]
  },
  {
   "cell_type": "code",
   "execution_count": 57,
   "metadata": {
    "colab": {
     "base_uri": "https://localhost:8080/",
     "height": 35
    },
    "colab_type": "code",
    "executionInfo": {
     "elapsed": 1623,
     "status": "ok",
     "timestamp": 1587904061932,
     "user": {
      "displayName": "Haesun Park",
      "photoUrl": "https://lh3.googleusercontent.com/a-/AOh14GhsWlS7sKQL-9fIkg3FmxpTMz_u-KDSs8y__P1ngQ=s64",
      "userId": "14935388527648823821"
     },
     "user_tz": -540
    },
    "id": "cHedpJWCLVwb",
    "outputId": "862421ff-c2f8-4b83-9724-025ff6afadd7"
   },
   "outputs": [
    {
     "name": "stdout",
     "output_type": "stream",
     "text": [
      "knn3_test_accuracy : 0.9926500429906806\n"
     ]
    }
   ],
   "source": [
    "print(\"knn3_test_accuracy :\", end = ' ')\n",
    "print(knr.score(test_input, test_target))"
   ]
  },
  {
   "cell_type": "code",
   "execution_count": 58,
   "metadata": {},
   "outputs": [
    {
     "name": "stdout",
     "output_type": "stream",
     "text": [
      "ㅡㅡㅡknn3 errorㅡㅡㅡ\n",
      "MAE : 29.369\n"
     ]
    }
   ],
   "source": [
    "# 결과 예측 by 테스트 데이터\n",
    "test_prediction = knr.predict(test_input)\n",
    "# 평균 절댓값 오차 계산 by 테스트 데이터\n",
    "mae = mean_absolute_error(test_target, test_prediction)\n",
    "print(\"ㅡㅡㅡknn3 errorㅡㅡㅡ\")\n",
    "print('MAE : {0:.3f}'.format(mae))"
   ]
  },
  {
   "cell_type": "markdown",
   "metadata": {
    "colab_type": "text",
    "id": "z-oQeMvC2NnY"
   },
   "source": [
    "## 확인문제"
   ]
  },
  {
   "cell_type": "code",
   "execution_count": 59,
   "metadata": {
    "colab": {
     "base_uri": "https://localhost:8080/",
     "height": 851
    },
    "colab_type": "code",
    "executionInfo": {
     "elapsed": 2364,
     "status": "ok",
     "timestamp": 1587904062678,
     "user": {
      "displayName": "Haesun Park",
      "photoUrl": "https://lh3.googleusercontent.com/a-/AOh14GhsWlS7sKQL-9fIkg3FmxpTMz_u-KDSs8y__P1ngQ=s64",
      "userId": "14935388527648823821"
     },
     "user_tz": -540
    },
    "id": "ICPoeo9c2RLG",
    "outputId": "2f7e7afc-3d3b-46fd-d8ee-83b3f16fbc55"
   },
   "outputs": [
    {
     "data": {
      "image/png": "[encoded data removed]",
      "text/plain": [
       "<Figure size 432x288 with 1 Axes>"
      ]
     },
     "metadata": {
      "needs_background": "light"
     },
     "output_type": "display_data"
    },
    {
     "data": {
      "image/png": "[encoded data removed]",
      "text/plain": [
       "<Figure size 432x288 with 1 Axes>"
      ]
     },
     "metadata": {
      "needs_background": "light"
     },
     "output_type": "display_data"
    },
    {
     "data": {
      "image/png": "[encoded data removed]",
      "text/plain": [
       "<Figure size 432x288 with 1 Axes>"
      ]
     },
     "metadata": {
      "needs_background": "light"
     },
     "output_type": "display_data"
    },
    {
     "data": {
      "image/png": "[encoded data removed]",
      "text/plain": [
       "<Figure size 432x288 with 1 Axes>"
      ]
     },
     "metadata": {
      "needs_background": "light"
     },
     "output_type": "display_data"
    },
    {
     "data": {
      "image/png": "[encoded data removed]",
      "text/plain": [
       "<Figure size 432x288 with 1 Axes>"
      ]
     },
     "metadata": {
      "needs_background": "light"
     },
     "output_type": "display_data"
    },
    {
     "data": {
      "image/png": "[encoded data removed]",
      "text/plain": [
       "<Figure size 432x288 with 1 Axes>"
      ]
     },
     "metadata": {
      "needs_background": "light"
     },
     "output_type": "display_data"
    }
   ],
   "source": [
    "# k-최근접 이웃 회귀 객체를 만듭니다\n",
    "knr = KNeighborsRegressor()\n",
    "# x 좌표를 만듭니다\n",
    "x = np.arange(0, 300000).reshape(-1, 1)\n",
    "\n",
    "# n = 1, 5, 10일 때 예측 결과를 그래프로 그립니다.\n",
    "for n in [1, 5, 10, 50, 100, 300]:\n",
    "    # 모델 훈련\n",
    "    knr.n_neighbors = n\n",
    "    knr.fit(train_input, train_target)\n",
    "    # 지정한 범위 x에 대한 예측 구하기 \n",
    "    prediction = knr.predict(x)\n",
    "    # 훈련 세트와 예측 결과 그래프 그리기\n",
    "    plt.scatter(train_input, train_target, label='Original Data')\n",
    "    plt.plot(x, prediction, 'r', label='KNN')\n",
    "    plt.title('n_neighbors = {}'.format(n))    \n",
    "    plt.xlabel('covid count')\n",
    "    plt.ylabel('kospi')\n",
    "    plt.legend()\n",
    "    plt.show()"
   ]
  },
  {
   "cell_type": "code",
   "execution_count": 60,
   "metadata": {
    "scrolled": false
   },
   "outputs": [
    {
     "data": {
      "image/png": "[encoded data removed]",
      "text/plain": [
       "<Figure size 432x288 with 1 Axes>"
      ]
     },
     "metadata": {
      "needs_background": "light"
     },
     "output_type": "display_data"
    },
    {
     "name": "stdout",
     "output_type": "stream",
     "text": [
      "MAE : 28.245\n",
      "MSE : 1643.143\n",
      "RMSE : 40.536\n",
      "test score : 0.994\n",
      "train score : 1.000\n",
      "ㅡㅡㅡㅡㅡㅡㅡㅡㅡㅡㅡㅡㅡㅡㅡ\n"
     ]
    },
    {
     "data": {
      "image/png": "[encoded data removed]",
      "text/plain": [
       "<Figure size 432x288 with 1 Axes>"
      ]
     },
     "metadata": {
      "needs_background": "light"
     },
     "output_type": "display_data"
    },
    {
     "name": "stdout",
     "output_type": "stream",
     "text": [
      "MAE : 32.236\n",
      "MSE : 2320.760\n",
      "RMSE : 48.174\n",
      "test score : 0.991\n",
      "train score : 0.997\n",
      "ㅡㅡㅡㅡㅡㅡㅡㅡㅡㅡㅡㅡㅡㅡㅡ\n"
     ]
    },
    {
     "data": {
      "image/png": "[encoded data removed]",
      "text/plain": [
       "<Figure size 432x288 with 1 Axes>"
      ]
     },
     "metadata": {
      "needs_background": "light"
     },
     "output_type": "display_data"
    },
    {
     "name": "stdout",
     "output_type": "stream",
     "text": [
      "MAE : 38.628\n",
      "MSE : 3148.879\n",
      "RMSE : 56.115\n",
      "test score : 0.988\n",
      "train score : 0.994\n",
      "ㅡㅡㅡㅡㅡㅡㅡㅡㅡㅡㅡㅡㅡㅡㅡ\n"
     ]
    },
    {
     "data": {
      "image/png": "[encoded data removed]",
      "text/plain": [
       "<Figure size 432x288 with 1 Axes>"
      ]
     },
     "metadata": {
      "needs_background": "light"
     },
     "output_type": "display_data"
    },
    {
     "name": "stdout",
     "output_type": "stream",
     "text": [
      "MAE : 72.229\n",
      "MSE : 12209.320\n",
      "RMSE : 110.496\n",
      "test score : 0.954\n",
      "train score : 0.957\n",
      "ㅡㅡㅡㅡㅡㅡㅡㅡㅡㅡㅡㅡㅡㅡㅡ\n"
     ]
    },
    {
     "data": {
      "image/png": "[encoded data removed]",
      "text/plain": [
       "<Figure size 432x288 with 1 Axes>"
      ]
     },
     "metadata": {
      "needs_background": "light"
     },
     "output_type": "display_data"
    },
    {
     "name": "stdout",
     "output_type": "stream",
     "text": [
      "MAE : 111.912\n",
      "MSE : 24015.970\n",
      "RMSE : 154.971\n",
      "test score : 0.909\n",
      "train score : 0.914\n",
      "ㅡㅡㅡㅡㅡㅡㅡㅡㅡㅡㅡㅡㅡㅡㅡ\n"
     ]
    },
    {
     "data": {
      "image/png": "[encoded data removed]",
      "text/plain": [
       "<Figure size 432x288 with 1 Axes>"
      ]
     },
     "metadata": {
      "needs_background": "light"
     },
     "output_type": "display_data"
    },
    {
     "name": "stdout",
     "output_type": "stream",
     "text": [
      "MAE : 421.414\n",
      "MSE : 232087.230\n",
      "RMSE : 481.754\n",
      "test score : 0.117\n",
      "train score : 0.105\n",
      "ㅡㅡㅡㅡㅡㅡㅡㅡㅡㅡㅡㅡㅡㅡㅡ\n"
     ]
    }
   ],
   "source": [
    "# K-최근접 이웃 회귀 모델 선정 & 훈련 by 훈련 데이터\n",
    "knr = KNeighborsRegressor()\n",
    "knr.fit(train_input, train_target)\n",
    "\n",
    "# n = 1, 5, 10일 때 예측 결과를 그래프로 그립니다.\n",
    "for n in [1, 5, 10, 50, 100, 300]:\n",
    "    # 모델 훈련\n",
    "    knr.n_neighbors = n\n",
    "    knr.fit(train_input, train_target)\n",
    "    # 결과 예측 by 테스트 데이터\n",
    "    test_prediction = knr.predict(test_input)\n",
    "    # 훈련 세트와 예측 결과 그래프 그리기\n",
    "    plt.scatter(train_input, train_target, label='Original Data')\n",
    "    plt.scatter(test_input, test_prediction, label='KNN')\n",
    "    plt.title('n_neighbors = {}'.format(n))\n",
    "    plt.xlabel('covid count')\n",
    "    plt.ylabel('kospi')\n",
    "    plt.legend()\n",
    "    plt.show()\n",
    "    # 평균 오차 계산 by 테스트 데이터\n",
    "    mae = mean_absolute_error(test_target, test_prediction)\n",
    "    mse = mean_squared_error(test_target, test_prediction)\n",
    "    rmse = np.sqrt(mse)\n",
    "    print('MAE : {0:.3f}'.format(mae))\n",
    "    print('MSE : {0:.3f}'.format(mse))\n",
    "    print('RMSE : {0:.3f}'.format(rmse))\n",
    "    # 모델분석(결정계수) by 테스트 데이터 & 테스트 데이터\n",
    "    print('test score : {0:.3f}'.format(knr.score(test_input, test_target)))\n",
    "    print('train score : {0:.3f}'.format(knr.score(train_input, train_target)))\n",
    "    print('ㅡㅡㅡㅡㅡㅡㅡㅡㅡㅡㅡㅡㅡㅡㅡ')"
   ]
  },
  {
   "cell_type": "code",
   "execution_count": 61,
   "metadata": {},
   "outputs": [
    {
     "data": {
      "text/plain": [
       "GridSearchCV(cv=10,\n",
       "             estimator=Pipeline(steps=[('scaler', StandardScaler()),\n",
       "                                       ('knn', KNeighborsRegressor())]),\n",
       "             param_grid={'knn__n_neighbors': range(1, 100), 'knn__p': [1, 2]})"
      ]
     },
     "execution_count": 61,
     "metadata": {},
     "output_type": "execute_result"
    }
   ],
   "source": [
    "from sklearn.model_selection import GridSearchCV\n",
    "from sklearn.preprocessing import StandardScaler\n",
    "from sklearn.pipeline import Pipeline\n",
    "\n",
    "pipeline = Pipeline([('scaler', StandardScaler()), ('knn', KNeighborsRegressor())])\n",
    "param_grid = {\"knn__n_neighbors\":range(1,100), \"knn__p\":[1,2]}\n",
    "gs = GridSearchCV(pipeline, param_grid=param_grid, cv=10)\n",
    "gs.fit(train_input, train_target)"
   ]
  },
  {
   "cell_type": "code",
   "execution_count": 62,
   "metadata": {},
   "outputs": [
    {
     "data": {
      "text/plain": [
       "0.995296938598934"
      ]
     },
     "execution_count": 62,
     "metadata": {},
     "output_type": "execute_result"
    }
   ],
   "source": [
    "# 최고 성능 모델\n",
    "gs.best_score_"
   ]
  },
  {
   "cell_type": "code",
   "execution_count": 63,
   "metadata": {},
   "outputs": [
    {
     "data": {
      "text/plain": [
       "{'knn__n_neighbors': 3, 'knn__p': 1}"
      ]
     },
     "execution_count": 63,
     "metadata": {},
     "output_type": "execute_result"
    }
   ],
   "source": [
    "gs.best_params_"
   ]
  },
  {
   "cell_type": "code",
   "execution_count": 64,
   "metadata": {},
   "outputs": [
    {
     "ename": "NameError",
     "evalue": "name 'g' is not defined",
     "output_type": "error",
     "traceback": [
      "\u001b[1;31m---------------------------------------------------------------------------\u001b[0m",
      "\u001b[1;31mNameError\u001b[0m                                 Traceback (most recent call last)",
      "\u001b[1;32m~\\AppData\\Local\\Temp/ipykernel_14868/1191009556.py\u001b[0m in \u001b[0;36m<module>\u001b[1;34m\u001b[0m\n\u001b[0;32m      1\u001b[0m \u001b[0mbest_model\u001b[0m\u001b[1;33m=\u001b[0m\u001b[0mgs\u001b[0m\u001b[1;33m.\u001b[0m\u001b[0mbest_estimator_\u001b[0m\u001b[1;33m\u001b[0m\u001b[1;33m\u001b[0m\u001b[0m\n\u001b[0;32m      2\u001b[0m \u001b[0mbest_model\u001b[0m\u001b[1;33m.\u001b[0m\u001b[0mfit\u001b[0m\u001b[1;33m(\u001b[0m\u001b[0mtrain_input\u001b[0m\u001b[1;33m,\u001b[0m \u001b[0mtrain_target\u001b[0m\u001b[1;33m)\u001b[0m\u001b[1;33m\u001b[0m\u001b[1;33m\u001b[0m\u001b[0m\n\u001b[1;32m----> 3\u001b[1;33m \u001b[0mtrain_pred\u001b[0m \u001b[1;33m=\u001b[0m \u001b[0mbest_model\u001b[0m\u001b[1;33m.\u001b[0m\u001b[0mpredict\u001b[0m\u001b[1;33m(\u001b[0m\u001b[0mg\u001b[0m\u001b[1;33m)\u001b[0m\u001b[1;33m\u001b[0m\u001b[1;33m\u001b[0m\u001b[0m\n\u001b[0m",
      "\u001b[1;31mNameError\u001b[0m: name 'g' is not defined"
     ]
    }
   ],
   "source": [
    "best_model=gs.best_estimator_\n",
    "best_model.fit(train_input, train_target)\n",
    "train_pred = best_model.predict(g)"
   ]
  }
 ],
 "metadata": {
  "colab": {
   "authorship_tag": "ABX9TyPPmP3ScEjanUEaW0j9E5X0",
   "collapsed_sections": [
    "pLW8kdDv5asl"
   ],
   "mount_file_id": "1PMcKDATwazgu5Upg753KH9DyycHRMq2E",
   "name": "3-1 최근접 이웃 회귀.ipynb",
   "provenance": []
  },
  "kernelspec": {
   "display_name": "Python 3 (ipykernel)",
   "language": "python",
   "name": "python3"
  },
  "language_info": {
   "codemirror_mode": {
    "name": "ipython",
    "version": 3
   },
   "file_extension": ".py",
   "mimetype": "text/x-python",
   "name": "python",
   "nbconvert_exporter": "python",
   "pygments_lexer": "ipython3",
   "version": "3.9.7"
  }
 },
 "nbformat": 4,
 "nbformat_minor": 1
}
