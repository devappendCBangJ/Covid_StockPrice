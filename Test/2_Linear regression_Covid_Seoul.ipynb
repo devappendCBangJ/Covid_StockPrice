{
 "cells": [
  {
   "cell_type": "markdown",
   "metadata": {},
   "source": [
    "# 선형 회귀"
   ]
  },
  {
   "cell_type": "markdown",
   "metadata": {},
   "source": [
    "<table align=\"left\">\n",
    "  <td>\n",
    "    <a target=\"_blank\" href=\"https://colab.research.google.com/github/rickiepark/hg-mldl/blob/master/3-2.ipynb\"><img src=\"https://www.tensorflow.org/images/colab_logo_32px.png\" />구글 코랩에서 실행하기</a>\n",
    "  </td>\n",
    "</table>"
   ]
  },
  {
   "cell_type": "markdown",
   "metadata": {
    "colab_type": "text",
    "id": "i5J2cFzCrDWT"
   },
   "source": [
    "## 데이터 준비"
   ]
  },
  {
   "cell_type": "code",
   "execution_count": 1,
   "metadata": {
    "colab": {},
    "colab_type": "code",
    "id": "fL3wuWxD0cH6"
   },
   "outputs": [],
   "source": [
    "import os\n",
    "import numpy as np\n",
    "import pandas as pd\n",
    "import random\n",
    "import seaborn as sns\n",
    "\n",
    "import datetime\n",
    "from datetime import date"
   ]
  },
  {
   "cell_type": "code",
   "execution_count": 2,
   "metadata": {},
   "outputs": [],
   "source": [
    "from matplotlib import rc\n",
    "import matplotlib.font_manager as fm\n",
    "\n",
    "fm.get_fontconfig_fonts()\n",
    "font_location = './NanumGothic.ttf'\n",
    "font_name = fm.FontProperties(fname=font_location).get_name()\n",
    "rc('font', family=font_name)"
   ]
  },
  {
   "cell_type": "markdown",
   "metadata": {},
   "source": [
    "# 데이터 불러오기"
   ]
  },
  {
   "cell_type": "code",
   "execution_count": 3,
   "metadata": {
    "colab": {},
    "colab_type": "code",
    "id": "np5j0UTtJNI_"
   },
   "outputs": [],
   "source": [
    "df_stock = pd.read_csv(\"C:\\\\Users\\\\Hi\\\\JupyterProjects\\\\JupyterML\\\\Covid\\\\data\\\\covid19_kor\\\\주식시장_일별__20220415170553.csv\", encoding='euc-kr')\n",
    "df_covid = pd.read_csv(\"C:\\\\Users\\\\Hi\\\\JupyterProjects\\\\JupyterML\\\\Covid\\\\data\\\\covid19_kor\\\\서울특별시 코로나19 자치구별 확진자 발생동향.csv\", encoding='euc-kr')"
   ]
  },
  {
   "cell_type": "markdown",
   "metadata": {},
   "source": [
    "# 데이터 확인"
   ]
  },
  {
   "cell_type": "code",
   "execution_count": 4,
   "metadata": {},
   "outputs": [
    {
     "data": {
      "text/html": [
       "<div>\n",
       "<style scoped>\n",
       "    .dataframe tbody tr th:only-of-type {\n",
       "        vertical-align: middle;\n",
       "    }\n",
       "\n",
       "    .dataframe tbody tr th {\n",
       "        vertical-align: top;\n",
       "    }\n",
       "\n",
       "    .dataframe thead th {\n",
       "        text-align: right;\n",
       "    }\n",
       "</style>\n",
       "<table border=\"1\" class=\"dataframe\">\n",
       "  <thead>\n",
       "    <tr style=\"text-align: right;\">\n",
       "      <th></th>\n",
       "      <th>계정별</th>\n",
       "      <th>2020.02.05</th>\n",
       "      <th>2020.02.06</th>\n",
       "      <th>2020.02.07</th>\n",
       "      <th>2020.02.10</th>\n",
       "      <th>2020.02.11</th>\n",
       "      <th>2020.02.12</th>\n",
       "      <th>2020.02.13</th>\n",
       "      <th>2020.02.14</th>\n",
       "      <th>2020.02.17</th>\n",
       "      <th>...</th>\n",
       "      <th>2022.02.04</th>\n",
       "      <th>2022.02.07</th>\n",
       "      <th>2022.02.08</th>\n",
       "      <th>2022.02.09</th>\n",
       "      <th>2022.02.10</th>\n",
       "      <th>2022.02.11</th>\n",
       "      <th>2022.02.14</th>\n",
       "      <th>2022.02.15</th>\n",
       "      <th>2022.02.16</th>\n",
       "      <th>2022.02.17</th>\n",
       "    </tr>\n",
       "  </thead>\n",
       "  <tbody>\n",
       "    <tr>\n",
       "      <th>0</th>\n",
       "      <td>KOSPI지수 (1980.01.04=100)</td>\n",
       "      <td>2165.63</td>\n",
       "      <td>2227.94</td>\n",
       "      <td>2211.95</td>\n",
       "      <td>2201.07</td>\n",
       "      <td>2223.12</td>\n",
       "      <td>2238.38</td>\n",
       "      <td>2232.96</td>\n",
       "      <td>2243.59</td>\n",
       "      <td>2242.17</td>\n",
       "      <td>...</td>\n",
       "      <td>2750.26</td>\n",
       "      <td>2745.06</td>\n",
       "      <td>2746.47</td>\n",
       "      <td>2768.85</td>\n",
       "      <td>2771.93</td>\n",
       "      <td>2747.71</td>\n",
       "      <td>2704.48</td>\n",
       "      <td>2676.54</td>\n",
       "      <td>2729.68</td>\n",
       "      <td>2744.09</td>\n",
       "    </tr>\n",
       "    <tr>\n",
       "      <th>1</th>\n",
       "      <td>거래량(주식시장, 잠정치) (만주)</td>\n",
       "      <td>56312.00</td>\n",
       "      <td>68323.00</td>\n",
       "      <td>76671.00</td>\n",
       "      <td>60047.00</td>\n",
       "      <td>51031.00</td>\n",
       "      <td>62342.00</td>\n",
       "      <td>62961.00</td>\n",
       "      <td>58900.00</td>\n",
       "      <td>45309.00</td>\n",
       "      <td>...</td>\n",
       "      <td>52652.00</td>\n",
       "      <td>41008.00</td>\n",
       "      <td>55489.00</td>\n",
       "      <td>52969.00</td>\n",
       "      <td>50043.00</td>\n",
       "      <td>45698.00</td>\n",
       "      <td>60566.00</td>\n",
       "      <td>57535.00</td>\n",
       "      <td>41515.00</td>\n",
       "      <td>60226.00</td>\n",
       "    </tr>\n",
       "    <tr>\n",
       "      <th>2</th>\n",
       "      <td>거래대금(주식시장 , 잠정치) (억원)</td>\n",
       "      <td>74625.00</td>\n",
       "      <td>80636.00</td>\n",
       "      <td>69263.00</td>\n",
       "      <td>53322.00</td>\n",
       "      <td>64744.00</td>\n",
       "      <td>67750.00</td>\n",
       "      <td>79571.00</td>\n",
       "      <td>61331.00</td>\n",
       "      <td>55661.00</td>\n",
       "      <td>...</td>\n",
       "      <td>111842.00</td>\n",
       "      <td>111059.00</td>\n",
       "      <td>116203.00</td>\n",
       "      <td>101579.00</td>\n",
       "      <td>125638.00</td>\n",
       "      <td>105400.00</td>\n",
       "      <td>113138.00</td>\n",
       "      <td>92255.00</td>\n",
       "      <td>82633.00</td>\n",
       "      <td>116773.00</td>\n",
       "    </tr>\n",
       "    <tr>\n",
       "      <th>3</th>\n",
       "      <td>외국인 순매수(주식시장, 잠정치) (억원)</td>\n",
       "      <td>4578.00</td>\n",
       "      <td>1586.00</td>\n",
       "      <td>223.00</td>\n",
       "      <td>-3039.00</td>\n",
       "      <td>-934.00</td>\n",
       "      <td>-2163.00</td>\n",
       "      <td>2795.00</td>\n",
       "      <td>945.00</td>\n",
       "      <td>-2287.00</td>\n",
       "      <td>...</td>\n",
       "      <td>1945.00</td>\n",
       "      <td>-69.00</td>\n",
       "      <td>-939.00</td>\n",
       "      <td>2355.00</td>\n",
       "      <td>8365.00</td>\n",
       "      <td>6081.00</td>\n",
       "      <td>684.00</td>\n",
       "      <td>-2209.00</td>\n",
       "      <td>-437.00</td>\n",
       "      <td>6516.00</td>\n",
       "    </tr>\n",
       "    <tr>\n",
       "      <th>4</th>\n",
       "      <td>주식시장-거래량(만주, 시간외거래분 포함) (만주)</td>\n",
       "      <td>57440.00</td>\n",
       "      <td>69522.00</td>\n",
       "      <td>80034.00</td>\n",
       "      <td>60957.00</td>\n",
       "      <td>52621.00</td>\n",
       "      <td>63246.00</td>\n",
       "      <td>63867.00</td>\n",
       "      <td>59722.00</td>\n",
       "      <td>45825.00</td>\n",
       "      <td>...</td>\n",
       "      <td>53615.00</td>\n",
       "      <td>41784.00</td>\n",
       "      <td>56053.00</td>\n",
       "      <td>53912.00</td>\n",
       "      <td>50961.00</td>\n",
       "      <td>48052.00</td>\n",
       "      <td>61634.00</td>\n",
       "      <td>58904.00</td>\n",
       "      <td>42237.00</td>\n",
       "      <td>-</td>\n",
       "    </tr>\n",
       "  </tbody>\n",
       "</table>\n",
       "<p>5 rows × 506 columns</p>\n",
       "</div>"
      ],
      "text/plain": [
       "                            계정별  2020.02.05  2020.02.06  2020.02.07  \\\n",
       "0      KOSPI지수 (1980.01.04=100)     2165.63     2227.94     2211.95   \n",
       "1           거래량(주식시장, 잠정치) (만주)    56312.00    68323.00    76671.00   \n",
       "2         거래대금(주식시장 , 잠정치) (억원)    74625.00    80636.00    69263.00   \n",
       "3       외국인 순매수(주식시장, 잠정치) (억원)     4578.00     1586.00      223.00   \n",
       "4  주식시장-거래량(만주, 시간외거래분 포함) (만주)    57440.00    69522.00    80034.00   \n",
       "\n",
       "   2020.02.10  2020.02.11  2020.02.12  2020.02.13  2020.02.14  2020.02.17  \\\n",
       "0     2201.07     2223.12     2238.38     2232.96     2243.59     2242.17   \n",
       "1    60047.00    51031.00    62342.00    62961.00    58900.00    45309.00   \n",
       "2    53322.00    64744.00    67750.00    79571.00    61331.00    55661.00   \n",
       "3    -3039.00     -934.00    -2163.00     2795.00      945.00    -2287.00   \n",
       "4    60957.00    52621.00    63246.00    63867.00    59722.00    45825.00   \n",
       "\n",
       "   ...  2022.02.04  2022.02.07  2022.02.08  2022.02.09  2022.02.10  \\\n",
       "0  ...     2750.26     2745.06     2746.47     2768.85     2771.93   \n",
       "1  ...    52652.00    41008.00    55489.00    52969.00    50043.00   \n",
       "2  ...   111842.00   111059.00   116203.00   101579.00   125638.00   \n",
       "3  ...     1945.00      -69.00     -939.00     2355.00     8365.00   \n",
       "4  ...    53615.00    41784.00    56053.00    53912.00    50961.00   \n",
       "\n",
       "   2022.02.11  2022.02.14  2022.02.15  2022.02.16  2022.02.17  \n",
       "0     2747.71     2704.48     2676.54     2729.68     2744.09  \n",
       "1    45698.00    60566.00    57535.00    41515.00    60226.00  \n",
       "2   105400.00   113138.00    92255.00    82633.00   116773.00  \n",
       "3     6081.00      684.00    -2209.00     -437.00     6516.00  \n",
       "4    48052.00    61634.00    58904.00    42237.00           -  \n",
       "\n",
       "[5 rows x 506 columns]"
      ]
     },
     "execution_count": 4,
     "metadata": {},
     "output_type": "execute_result"
    }
   ],
   "source": [
    "df_stock.head()"
   ]
  },
  {
   "cell_type": "code",
   "execution_count": 5,
   "metadata": {},
   "outputs": [
    {
     "data": {
      "text/html": [
       "<div>\n",
       "<style scoped>\n",
       "    .dataframe tbody tr th:only-of-type {\n",
       "        vertical-align: middle;\n",
       "    }\n",
       "\n",
       "    .dataframe tbody tr th {\n",
       "        vertical-align: top;\n",
       "    }\n",
       "\n",
       "    .dataframe thead th {\n",
       "        text-align: right;\n",
       "    }\n",
       "</style>\n",
       "<table border=\"1\" class=\"dataframe\">\n",
       "  <thead>\n",
       "    <tr style=\"text-align: right;\">\n",
       "      <th></th>\n",
       "      <th>자치구 기준일</th>\n",
       "      <th>종로구 전체</th>\n",
       "      <th>종로구 추가</th>\n",
       "      <th>중구 전체</th>\n",
       "      <th>중구 추가</th>\n",
       "      <th>용산구 전체</th>\n",
       "      <th>용산구 추가</th>\n",
       "      <th>성동구 전체</th>\n",
       "      <th>성동구 추가</th>\n",
       "      <th>광진구 전체</th>\n",
       "      <th>...</th>\n",
       "      <th>서초구 전체</th>\n",
       "      <th>서추구 추가</th>\n",
       "      <th>강남구 전체</th>\n",
       "      <th>강남구 추가</th>\n",
       "      <th>송파구 전체</th>\n",
       "      <th>송파구 추가</th>\n",
       "      <th>강동구 전체</th>\n",
       "      <th>강동구 추가</th>\n",
       "      <th>기타 전체</th>\n",
       "      <th>기타 추가</th>\n",
       "    </tr>\n",
       "  </thead>\n",
       "  <tbody>\n",
       "    <tr>\n",
       "      <th>0</th>\n",
       "      <td>2022.02.17.00</td>\n",
       "      <td>6850</td>\n",
       "      <td>246</td>\n",
       "      <td>6313</td>\n",
       "      <td>221</td>\n",
       "      <td>10242</td>\n",
       "      <td>405</td>\n",
       "      <td>11930</td>\n",
       "      <td>804</td>\n",
       "      <td>15729</td>\n",
       "      <td>...</td>\n",
       "      <td>17646</td>\n",
       "      <td>784</td>\n",
       "      <td>25413</td>\n",
       "      <td>1169</td>\n",
       "      <td>28864</td>\n",
       "      <td>1218</td>\n",
       "      <td>20800</td>\n",
       "      <td>1064</td>\n",
       "      <td>31146</td>\n",
       "      <td>1254</td>\n",
       "    </tr>\n",
       "    <tr>\n",
       "      <th>1</th>\n",
       "      <td>2022.02.16.00</td>\n",
       "      <td>6604</td>\n",
       "      <td>227</td>\n",
       "      <td>6092</td>\n",
       "      <td>179</td>\n",
       "      <td>9837</td>\n",
       "      <td>340</td>\n",
       "      <td>11126</td>\n",
       "      <td>639</td>\n",
       "      <td>14865</td>\n",
       "      <td>...</td>\n",
       "      <td>16862</td>\n",
       "      <td>764</td>\n",
       "      <td>24244</td>\n",
       "      <td>1040</td>\n",
       "      <td>27646</td>\n",
       "      <td>1356</td>\n",
       "      <td>19736</td>\n",
       "      <td>1180</td>\n",
       "      <td>29892</td>\n",
       "      <td>898</td>\n",
       "    </tr>\n",
       "    <tr>\n",
       "      <th>2</th>\n",
       "      <td>2022.02.15.00</td>\n",
       "      <td>6377</td>\n",
       "      <td>182</td>\n",
       "      <td>5913</td>\n",
       "      <td>136</td>\n",
       "      <td>9497</td>\n",
       "      <td>218</td>\n",
       "      <td>10487</td>\n",
       "      <td>316</td>\n",
       "      <td>14122</td>\n",
       "      <td>...</td>\n",
       "      <td>16098</td>\n",
       "      <td>440</td>\n",
       "      <td>23204</td>\n",
       "      <td>819</td>\n",
       "      <td>26290</td>\n",
       "      <td>682</td>\n",
       "      <td>18556</td>\n",
       "      <td>528</td>\n",
       "      <td>28994</td>\n",
       "      <td>844</td>\n",
       "    </tr>\n",
       "    <tr>\n",
       "      <th>3</th>\n",
       "      <td>2022.02.14.00</td>\n",
       "      <td>6195</td>\n",
       "      <td>96</td>\n",
       "      <td>5777</td>\n",
       "      <td>91</td>\n",
       "      <td>9279</td>\n",
       "      <td>256</td>\n",
       "      <td>10171</td>\n",
       "      <td>336</td>\n",
       "      <td>13669</td>\n",
       "      <td>...</td>\n",
       "      <td>15658</td>\n",
       "      <td>386</td>\n",
       "      <td>22385</td>\n",
       "      <td>632</td>\n",
       "      <td>25608</td>\n",
       "      <td>726</td>\n",
       "      <td>18028</td>\n",
       "      <td>588</td>\n",
       "      <td>28150</td>\n",
       "      <td>735</td>\n",
       "    </tr>\n",
       "    <tr>\n",
       "      <th>4</th>\n",
       "      <td>2022.02.13.00</td>\n",
       "      <td>6099</td>\n",
       "      <td>184</td>\n",
       "      <td>5686</td>\n",
       "      <td>111</td>\n",
       "      <td>9023</td>\n",
       "      <td>248</td>\n",
       "      <td>9835</td>\n",
       "      <td>408</td>\n",
       "      <td>13192</td>\n",
       "      <td>...</td>\n",
       "      <td>15272</td>\n",
       "      <td>430</td>\n",
       "      <td>21753</td>\n",
       "      <td>747</td>\n",
       "      <td>24882</td>\n",
       "      <td>800</td>\n",
       "      <td>17440</td>\n",
       "      <td>664</td>\n",
       "      <td>27416</td>\n",
       "      <td>728</td>\n",
       "    </tr>\n",
       "  </tbody>\n",
       "</table>\n",
       "<p>5 rows × 53 columns</p>\n",
       "</div>"
      ],
      "text/plain": [
       "         자치구 기준일  종로구 전체  종로구 추가  중구 전체  중구 추가  용산구 전체  용산구 추가  성동구 전체  \\\n",
       "0  2022.02.17.00    6850     246   6313    221   10242     405   11930   \n",
       "1  2022.02.16.00    6604     227   6092    179    9837     340   11126   \n",
       "2  2022.02.15.00    6377     182   5913    136    9497     218   10487   \n",
       "3  2022.02.14.00    6195      96   5777     91    9279     256   10171   \n",
       "4  2022.02.13.00    6099     184   5686    111    9023     248    9835   \n",
       "\n",
       "   성동구 추가  광진구 전체  ...  서초구 전체  서추구 추가  강남구 전체  강남구 추가  송파구 전체  송파구 추가  \\\n",
       "0     804   15729  ...   17646     784   25413    1169   28864    1218   \n",
       "1     639   14865  ...   16862     764   24244    1040   27646    1356   \n",
       "2     316   14122  ...   16098     440   23204     819   26290     682   \n",
       "3     336   13669  ...   15658     386   22385     632   25608     726   \n",
       "4     408   13192  ...   15272     430   21753     747   24882     800   \n",
       "\n",
       "   강동구 전체  강동구 추가  기타 전체  기타 추가  \n",
       "0   20800    1064  31146   1254  \n",
       "1   19736    1180  29892    898  \n",
       "2   18556     528  28994    844  \n",
       "3   18028     588  28150    735  \n",
       "4   17440     664  27416    728  \n",
       "\n",
       "[5 rows x 53 columns]"
      ]
     },
     "execution_count": 5,
     "metadata": {},
     "output_type": "execute_result"
    }
   ],
   "source": [
    "df_covid.head()"
   ]
  },
  {
   "cell_type": "markdown",
   "metadata": {},
   "source": [
    "# Covid"
   ]
  },
  {
   "cell_type": "code",
   "execution_count": 6,
   "metadata": {},
   "outputs": [],
   "source": [
    "df_covid_num = df_covid.drop(['자치구 기준일'], axis = 1)"
   ]
  },
  {
   "cell_type": "code",
   "execution_count": 7,
   "metadata": {
    "scrolled": true
   },
   "outputs": [
    {
     "data": {
      "text/html": [
       "<div>\n",
       "<style scoped>\n",
       "    .dataframe tbody tr th:only-of-type {\n",
       "        vertical-align: middle;\n",
       "    }\n",
       "\n",
       "    .dataframe tbody tr th {\n",
       "        vertical-align: top;\n",
       "    }\n",
       "\n",
       "    .dataframe thead th {\n",
       "        text-align: right;\n",
       "    }\n",
       "</style>\n",
       "<table border=\"1\" class=\"dataframe\">\n",
       "  <thead>\n",
       "    <tr style=\"text-align: right;\">\n",
       "      <th></th>\n",
       "      <th>종로구 전체</th>\n",
       "      <th>종로구 추가</th>\n",
       "      <th>중구 전체</th>\n",
       "      <th>중구 추가</th>\n",
       "      <th>용산구 전체</th>\n",
       "      <th>용산구 추가</th>\n",
       "      <th>성동구 전체</th>\n",
       "      <th>성동구 추가</th>\n",
       "      <th>광진구 전체</th>\n",
       "      <th>광진구 추가</th>\n",
       "      <th>...</th>\n",
       "      <th>서초구 전체</th>\n",
       "      <th>서추구 추가</th>\n",
       "      <th>강남구 전체</th>\n",
       "      <th>강남구 추가</th>\n",
       "      <th>송파구 전체</th>\n",
       "      <th>송파구 추가</th>\n",
       "      <th>강동구 전체</th>\n",
       "      <th>강동구 추가</th>\n",
       "      <th>기타 전체</th>\n",
       "      <th>기타 추가</th>\n",
       "    </tr>\n",
       "  </thead>\n",
       "  <tbody>\n",
       "    <tr>\n",
       "      <th>0</th>\n",
       "      <td>6850</td>\n",
       "      <td>246</td>\n",
       "      <td>6313</td>\n",
       "      <td>221</td>\n",
       "      <td>10242</td>\n",
       "      <td>405</td>\n",
       "      <td>11930</td>\n",
       "      <td>804</td>\n",
       "      <td>15729</td>\n",
       "      <td>864</td>\n",
       "      <td>...</td>\n",
       "      <td>17646</td>\n",
       "      <td>784</td>\n",
       "      <td>25413</td>\n",
       "      <td>1169</td>\n",
       "      <td>28864</td>\n",
       "      <td>1218</td>\n",
       "      <td>20800</td>\n",
       "      <td>1064</td>\n",
       "      <td>31146</td>\n",
       "      <td>1254</td>\n",
       "    </tr>\n",
       "    <tr>\n",
       "      <th>1</th>\n",
       "      <td>6604</td>\n",
       "      <td>227</td>\n",
       "      <td>6092</td>\n",
       "      <td>179</td>\n",
       "      <td>9837</td>\n",
       "      <td>340</td>\n",
       "      <td>11126</td>\n",
       "      <td>639</td>\n",
       "      <td>14865</td>\n",
       "      <td>743</td>\n",
       "      <td>...</td>\n",
       "      <td>16862</td>\n",
       "      <td>764</td>\n",
       "      <td>24244</td>\n",
       "      <td>1040</td>\n",
       "      <td>27646</td>\n",
       "      <td>1356</td>\n",
       "      <td>19736</td>\n",
       "      <td>1180</td>\n",
       "      <td>29892</td>\n",
       "      <td>898</td>\n",
       "    </tr>\n",
       "    <tr>\n",
       "      <th>2</th>\n",
       "      <td>6377</td>\n",
       "      <td>182</td>\n",
       "      <td>5913</td>\n",
       "      <td>136</td>\n",
       "      <td>9497</td>\n",
       "      <td>218</td>\n",
       "      <td>10487</td>\n",
       "      <td>316</td>\n",
       "      <td>14122</td>\n",
       "      <td>453</td>\n",
       "      <td>...</td>\n",
       "      <td>16098</td>\n",
       "      <td>440</td>\n",
       "      <td>23204</td>\n",
       "      <td>819</td>\n",
       "      <td>26290</td>\n",
       "      <td>682</td>\n",
       "      <td>18556</td>\n",
       "      <td>528</td>\n",
       "      <td>28994</td>\n",
       "      <td>844</td>\n",
       "    </tr>\n",
       "    <tr>\n",
       "      <th>3</th>\n",
       "      <td>6195</td>\n",
       "      <td>96</td>\n",
       "      <td>5777</td>\n",
       "      <td>91</td>\n",
       "      <td>9279</td>\n",
       "      <td>256</td>\n",
       "      <td>10171</td>\n",
       "      <td>336</td>\n",
       "      <td>13669</td>\n",
       "      <td>477</td>\n",
       "      <td>...</td>\n",
       "      <td>15658</td>\n",
       "      <td>386</td>\n",
       "      <td>22385</td>\n",
       "      <td>632</td>\n",
       "      <td>25608</td>\n",
       "      <td>726</td>\n",
       "      <td>18028</td>\n",
       "      <td>588</td>\n",
       "      <td>28150</td>\n",
       "      <td>735</td>\n",
       "    </tr>\n",
       "    <tr>\n",
       "      <th>4</th>\n",
       "      <td>6099</td>\n",
       "      <td>184</td>\n",
       "      <td>5686</td>\n",
       "      <td>111</td>\n",
       "      <td>9023</td>\n",
       "      <td>248</td>\n",
       "      <td>9835</td>\n",
       "      <td>408</td>\n",
       "      <td>13192</td>\n",
       "      <td>448</td>\n",
       "      <td>...</td>\n",
       "      <td>15272</td>\n",
       "      <td>430</td>\n",
       "      <td>21753</td>\n",
       "      <td>747</td>\n",
       "      <td>24882</td>\n",
       "      <td>800</td>\n",
       "      <td>17440</td>\n",
       "      <td>664</td>\n",
       "      <td>27416</td>\n",
       "      <td>728</td>\n",
       "    </tr>\n",
       "  </tbody>\n",
       "</table>\n",
       "<p>5 rows × 52 columns</p>\n",
       "</div>"
      ],
      "text/plain": [
       "   종로구 전체  종로구 추가  중구 전체  중구 추가  용산구 전체  용산구 추가  성동구 전체  성동구 추가  광진구 전체  \\\n",
       "0    6850     246   6313    221   10242     405   11930     804   15729   \n",
       "1    6604     227   6092    179    9837     340   11126     639   14865   \n",
       "2    6377     182   5913    136    9497     218   10487     316   14122   \n",
       "3    6195      96   5777     91    9279     256   10171     336   13669   \n",
       "4    6099     184   5686    111    9023     248    9835     408   13192   \n",
       "\n",
       "   광진구 추가  ...  서초구 전체  서추구 추가  강남구 전체  강남구 추가  송파구 전체  송파구 추가  강동구 전체  \\\n",
       "0     864  ...   17646     784   25413    1169   28864    1218   20800   \n",
       "1     743  ...   16862     764   24244    1040   27646    1356   19736   \n",
       "2     453  ...   16098     440   23204     819   26290     682   18556   \n",
       "3     477  ...   15658     386   22385     632   25608     726   18028   \n",
       "4     448  ...   15272     430   21753     747   24882     800   17440   \n",
       "\n",
       "   강동구 추가  기타 전체  기타 추가  \n",
       "0    1064  31146   1254  \n",
       "1    1180  29892    898  \n",
       "2     528  28994    844  \n",
       "3     588  28150    735  \n",
       "4     664  27416    728  \n",
       "\n",
       "[5 rows x 52 columns]"
      ]
     },
     "execution_count": 7,
     "metadata": {},
     "output_type": "execute_result"
    }
   ],
   "source": [
    "df_covid_num.head()"
   ]
  },
  {
   "cell_type": "code",
   "execution_count": 8,
   "metadata": {},
   "outputs": [],
   "source": [
    "# 서울 전체구 데이터 병합\n",
    "df_covid_num = df_covid_num.sum(axis = 1)"
   ]
  },
  {
   "cell_type": "code",
   "execution_count": 9,
   "metadata": {
    "scrolled": false
   },
   "outputs": [
    {
     "data": {
      "text/plain": [
       "0    468666\n",
       "1    448168\n",
       "2    422863\n",
       "3    409556\n",
       "4    398182\n",
       "dtype: int64"
      ]
     },
     "execution_count": 9,
     "metadata": {},
     "output_type": "execute_result"
    }
   ],
   "source": [
    "df_covid_num.head()"
   ]
  },
  {
   "cell_type": "code",
   "execution_count": 10,
   "metadata": {},
   "outputs": [],
   "source": [
    "df_covid_num = df_covid_num.to_frame()\n",
    "df_covid_num.columns = ['서울 전체']"
   ]
  },
  {
   "cell_type": "code",
   "execution_count": 11,
   "metadata": {
    "scrolled": true
   },
   "outputs": [
    {
     "data": {
      "text/html": [
       "<div>\n",
       "<style scoped>\n",
       "    .dataframe tbody tr th:only-of-type {\n",
       "        vertical-align: middle;\n",
       "    }\n",
       "\n",
       "    .dataframe tbody tr th {\n",
       "        vertical-align: top;\n",
       "    }\n",
       "\n",
       "    .dataframe thead th {\n",
       "        text-align: right;\n",
       "    }\n",
       "</style>\n",
       "<table border=\"1\" class=\"dataframe\">\n",
       "  <thead>\n",
       "    <tr style=\"text-align: right;\">\n",
       "      <th></th>\n",
       "      <th>서울 전체</th>\n",
       "    </tr>\n",
       "  </thead>\n",
       "  <tbody>\n",
       "    <tr>\n",
       "      <th>0</th>\n",
       "      <td>468666</td>\n",
       "    </tr>\n",
       "    <tr>\n",
       "      <th>1</th>\n",
       "      <td>448168</td>\n",
       "    </tr>\n",
       "    <tr>\n",
       "      <th>2</th>\n",
       "      <td>422863</td>\n",
       "    </tr>\n",
       "    <tr>\n",
       "      <th>3</th>\n",
       "      <td>409556</td>\n",
       "    </tr>\n",
       "    <tr>\n",
       "      <th>4</th>\n",
       "      <td>398182</td>\n",
       "    </tr>\n",
       "  </tbody>\n",
       "</table>\n",
       "</div>"
      ],
      "text/plain": [
       "    서울 전체\n",
       "0  468666\n",
       "1  448168\n",
       "2  422863\n",
       "3  409556\n",
       "4  398182"
      ]
     },
     "execution_count": 11,
     "metadata": {},
     "output_type": "execute_result"
    }
   ],
   "source": [
    "df_covid_num.head()"
   ]
  },
  {
   "cell_type": "code",
   "execution_count": 12,
   "metadata": {},
   "outputs": [],
   "source": [
    "df_covid = pd.concat([df_covid['자치구 기준일'], df_covid_num], axis = 1)"
   ]
  },
  {
   "cell_type": "code",
   "execution_count": 13,
   "metadata": {
    "scrolled": true
   },
   "outputs": [
    {
     "data": {
      "text/html": [
       "<div>\n",
       "<style scoped>\n",
       "    .dataframe tbody tr th:only-of-type {\n",
       "        vertical-align: middle;\n",
       "    }\n",
       "\n",
       "    .dataframe tbody tr th {\n",
       "        vertical-align: top;\n",
       "    }\n",
       "\n",
       "    .dataframe thead th {\n",
       "        text-align: right;\n",
       "    }\n",
       "</style>\n",
       "<table border=\"1\" class=\"dataframe\">\n",
       "  <thead>\n",
       "    <tr style=\"text-align: right;\">\n",
       "      <th></th>\n",
       "      <th>자치구 기준일</th>\n",
       "      <th>서울 전체</th>\n",
       "    </tr>\n",
       "  </thead>\n",
       "  <tbody>\n",
       "    <tr>\n",
       "      <th>0</th>\n",
       "      <td>2022.02.17.00</td>\n",
       "      <td>468666</td>\n",
       "    </tr>\n",
       "    <tr>\n",
       "      <th>1</th>\n",
       "      <td>2022.02.16.00</td>\n",
       "      <td>448168</td>\n",
       "    </tr>\n",
       "    <tr>\n",
       "      <th>2</th>\n",
       "      <td>2022.02.15.00</td>\n",
       "      <td>422863</td>\n",
       "    </tr>\n",
       "    <tr>\n",
       "      <th>3</th>\n",
       "      <td>2022.02.14.00</td>\n",
       "      <td>409556</td>\n",
       "    </tr>\n",
       "    <tr>\n",
       "      <th>4</th>\n",
       "      <td>2022.02.13.00</td>\n",
       "      <td>398182</td>\n",
       "    </tr>\n",
       "  </tbody>\n",
       "</table>\n",
       "</div>"
      ],
      "text/plain": [
       "         자치구 기준일   서울 전체\n",
       "0  2022.02.17.00  468666\n",
       "1  2022.02.16.00  448168\n",
       "2  2022.02.15.00  422863\n",
       "3  2022.02.14.00  409556\n",
       "4  2022.02.13.00  398182"
      ]
     },
     "execution_count": 13,
     "metadata": {},
     "output_type": "execute_result"
    }
   ],
   "source": [
    "df_covid.head()"
   ]
  },
  {
   "cell_type": "code",
   "execution_count": 14,
   "metadata": {},
   "outputs": [],
   "source": [
    "# 데이터 전처리 - 날짜 형식 변환\n",
    "date_set=[]\n",
    "remove_set = ['2020-04-15', '2020-04-30', '2020-05-01', '2020-05-05', '2020-08-17', '2020-09-30', '2020-10-01', '2020-10-02', '2020-10-09', '2020-12-25', '2020-12-31', '2021-01-01', '2021-02-11', '2021-02-12', '2021-03-01', '2021-05-05', '2021-05-19', '2021-08-16', '2021-09-20', '2021-09-21', '2021-09-22', '2021-10-04', '2021-10-11', '2021-12-31', '2022-01-31', '2022-02-01', '2022-02-02']\n",
    "for item in df_covid['자치구 기준일']:\n",
    "    break_flag = 1\n",
    "    # print(item)\n",
    "    item=item.split('.')\n",
    "    year=int(item[0])\n",
    "    month=int(item[1])\n",
    "    day=int(item[2])\n",
    "    for remove_data in remove_set:\n",
    "        if(remove_data == str(date(year, month, day)) or date(year, month, day).weekday() > 4):\n",
    "            date_set+=[np.nan]\n",
    "            break_flag = 0\n",
    "            break\n",
    "    if(break_flag == 1):\n",
    "        date_set+=[str(date(year,month,day))]\n",
    "        # print(datetime.date(year,month,day))\n",
    "df_covid['자치구 기준일'] = date_set\n",
    "# df_covid['자치구 기준일'] = pd.to_datetime(df_covid['자치구 기준일'])\n",
    "\n",
    "df_covid.dropna(axis=0, inplace = True)\n",
    "df_covid = df_covid.drop_duplicates(['자치구 기준일'])\n",
    "df_covid[\"서울 전체\"]=df_covid[\"서울 전체\"].apply(float)\n",
    "df_covid = df_covid.sort_values('자치구 기준일', ascending = True)\n",
    "\n",
    "# print(type(remove_set[0]))\n",
    "# print(type(str(date(year, month, day))))\n",
    "# print(str(date(year, month, day)))\n",
    "\n",
    "# dropna는 행(열) 중 에서 결측치가 존재하는 행(열)을 제거한다.\n",
    "# axis = 0이면 행을 제거하고 axis = 1이면 열을 제거한다.\n",
    "# thresh = N 옵션을 주면 해당 행(열)에 N개 이상의 값이 존재하면 결측치가 존재해도 행(열)을 제거하지 않는다.\n",
    "# inplace = True 옵션을 주면 항구적 적용이 가능하다."
   ]
  },
  {
   "cell_type": "code",
   "execution_count": 15,
   "metadata": {},
   "outputs": [
    {
     "name": "stdout",
     "output_type": "stream",
     "text": [
      "27\n"
     ]
    }
   ],
   "source": [
    "# 확인용 코드\n",
    "print(len(remove_set))"
   ]
  },
  {
   "cell_type": "code",
   "execution_count": 16,
   "metadata": {},
   "outputs": [
    {
     "data": {
      "text/plain": [
       "744    2020-02-05\n",
       "743    2020-02-06\n",
       "742    2020-02-07\n",
       "739    2020-02-10\n",
       "738    2020-02-11\n",
       "          ...    \n",
       "6      2022-02-11\n",
       "3      2022-02-14\n",
       "2      2022-02-15\n",
       "1      2022-02-16\n",
       "0      2022-02-17\n",
       "Name: 자치구 기준일, Length: 505, dtype: object"
      ]
     },
     "execution_count": 16,
     "metadata": {},
     "output_type": "execute_result"
    }
   ],
   "source": [
    "# 확인용 코드\n",
    "df_covid['자치구 기준일']"
   ]
  },
  {
   "cell_type": "code",
   "execution_count": 17,
   "metadata": {},
   "outputs": [
    {
     "data": {
      "text/html": [
       "<div>\n",
       "<style scoped>\n",
       "    .dataframe tbody tr th:only-of-type {\n",
       "        vertical-align: middle;\n",
       "    }\n",
       "\n",
       "    .dataframe tbody tr th {\n",
       "        vertical-align: top;\n",
       "    }\n",
       "\n",
       "    .dataframe thead th {\n",
       "        text-align: right;\n",
       "    }\n",
       "</style>\n",
       "<table border=\"1\" class=\"dataframe\">\n",
       "  <thead>\n",
       "    <tr style=\"text-align: right;\">\n",
       "      <th></th>\n",
       "      <th>자치구 기준일</th>\n",
       "      <th>서울 전체</th>\n",
       "    </tr>\n",
       "  </thead>\n",
       "  <tbody>\n",
       "    <tr>\n",
       "      <th>744</th>\n",
       "      <td>2020-02-05</td>\n",
       "      <td>12.0</td>\n",
       "    </tr>\n",
       "    <tr>\n",
       "      <th>743</th>\n",
       "      <td>2020-02-06</td>\n",
       "      <td>15.0</td>\n",
       "    </tr>\n",
       "    <tr>\n",
       "      <th>742</th>\n",
       "      <td>2020-02-07</td>\n",
       "      <td>0.0</td>\n",
       "    </tr>\n",
       "  </tbody>\n",
       "</table>\n",
       "</div>"
      ],
      "text/plain": [
       "        자치구 기준일  서울 전체\n",
       "744  2020-02-05   12.0\n",
       "743  2020-02-06   15.0\n",
       "742  2020-02-07    0.0"
      ]
     },
     "execution_count": 17,
     "metadata": {},
     "output_type": "execute_result"
    }
   ],
   "source": [
    "# 확인용 코드\n",
    "df_covid.head(3)"
   ]
  },
  {
   "cell_type": "code",
   "execution_count": 18,
   "metadata": {},
   "outputs": [
    {
     "data": {
      "text/html": [
       "<div>\n",
       "<style scoped>\n",
       "    .dataframe tbody tr th:only-of-type {\n",
       "        vertical-align: middle;\n",
       "    }\n",
       "\n",
       "    .dataframe tbody tr th {\n",
       "        vertical-align: top;\n",
       "    }\n",
       "\n",
       "    .dataframe thead th {\n",
       "        text-align: right;\n",
       "    }\n",
       "</style>\n",
       "<table border=\"1\" class=\"dataframe\">\n",
       "  <thead>\n",
       "    <tr style=\"text-align: right;\">\n",
       "      <th></th>\n",
       "      <th>자치구 기준일</th>\n",
       "      <th>서울 전체</th>\n",
       "    </tr>\n",
       "  </thead>\n",
       "  <tbody>\n",
       "    <tr>\n",
       "      <th>2</th>\n",
       "      <td>2022-02-15</td>\n",
       "      <td>422863.0</td>\n",
       "    </tr>\n",
       "    <tr>\n",
       "      <th>1</th>\n",
       "      <td>2022-02-16</td>\n",
       "      <td>448168.0</td>\n",
       "    </tr>\n",
       "    <tr>\n",
       "      <th>0</th>\n",
       "      <td>2022-02-17</td>\n",
       "      <td>468666.0</td>\n",
       "    </tr>\n",
       "  </tbody>\n",
       "</table>\n",
       "</div>"
      ],
      "text/plain": [
       "      자치구 기준일     서울 전체\n",
       "2  2022-02-15  422863.0\n",
       "1  2022-02-16  448168.0\n",
       "0  2022-02-17  468666.0"
      ]
     },
     "execution_count": 18,
     "metadata": {},
     "output_type": "execute_result"
    }
   ],
   "source": [
    "# 확인용 코드\n",
    "df_covid.tail(3)"
   ]
  },
  {
   "cell_type": "code",
   "execution_count": 19,
   "metadata": {
    "scrolled": true
   },
   "outputs": [
    {
     "name": "stdout",
     "output_type": "stream",
     "text": [
      "<class 'pandas.core.frame.DataFrame'>\n",
      "Int64Index: 505 entries, 744 to 0\n",
      "Data columns (total 2 columns):\n",
      " #   Column   Non-Null Count  Dtype  \n",
      "---  ------   --------------  -----  \n",
      " 0   자치구 기준일  505 non-null    object \n",
      " 1   서울 전체    505 non-null    float64\n",
      "dtypes: float64(1), object(1)\n",
      "memory usage: 11.8+ KB\n"
     ]
    }
   ],
   "source": [
    "# 확인용 코드\n",
    "df_covid.info()"
   ]
  },
  {
   "cell_type": "code",
   "execution_count": 20,
   "metadata": {},
   "outputs": [],
   "source": [
    "# 오미크론 우세종 된 이후 데이터 제거\n",
    "df_covid = df_covid[df_covid['자치구 기준일'] < '2022-01-09']"
   ]
  },
  {
   "cell_type": "code",
   "execution_count": 21,
   "metadata": {},
   "outputs": [
    {
     "data": {
      "text/html": [
       "<div>\n",
       "<style scoped>\n",
       "    .dataframe tbody tr th:only-of-type {\n",
       "        vertical-align: middle;\n",
       "    }\n",
       "\n",
       "    .dataframe tbody tr th {\n",
       "        vertical-align: top;\n",
       "    }\n",
       "\n",
       "    .dataframe thead th {\n",
       "        text-align: right;\n",
       "    }\n",
       "</style>\n",
       "<table border=\"1\" class=\"dataframe\">\n",
       "  <thead>\n",
       "    <tr style=\"text-align: right;\">\n",
       "      <th></th>\n",
       "      <th>자치구 기준일</th>\n",
       "      <th>서울 전체</th>\n",
       "    </tr>\n",
       "  </thead>\n",
       "  <tbody>\n",
       "    <tr>\n",
       "      <th>744</th>\n",
       "      <td>2020-02-05</td>\n",
       "      <td>12.0</td>\n",
       "    </tr>\n",
       "    <tr>\n",
       "      <th>743</th>\n",
       "      <td>2020-02-06</td>\n",
       "      <td>15.0</td>\n",
       "    </tr>\n",
       "    <tr>\n",
       "      <th>742</th>\n",
       "      <td>2020-02-07</td>\n",
       "      <td>0.0</td>\n",
       "    </tr>\n",
       "    <tr>\n",
       "      <th>739</th>\n",
       "      <td>2020-02-10</td>\n",
       "      <td>0.0</td>\n",
       "    </tr>\n",
       "    <tr>\n",
       "      <th>738</th>\n",
       "      <td>2020-02-11</td>\n",
       "      <td>0.0</td>\n",
       "    </tr>\n",
       "    <tr>\n",
       "      <th>...</th>\n",
       "      <td>...</td>\n",
       "      <td>...</td>\n",
       "    </tr>\n",
       "    <tr>\n",
       "      <th>45</th>\n",
       "      <td>2022-01-03</td>\n",
       "      <td>229860.0</td>\n",
       "    </tr>\n",
       "    <tr>\n",
       "      <th>44</th>\n",
       "      <td>2022-01-04</td>\n",
       "      <td>230739.0</td>\n",
       "    </tr>\n",
       "    <tr>\n",
       "      <th>43</th>\n",
       "      <td>2022-01-05</td>\n",
       "      <td>232625.0</td>\n",
       "    </tr>\n",
       "    <tr>\n",
       "      <th>42</th>\n",
       "      <td>2022-01-06</td>\n",
       "      <td>233627.0</td>\n",
       "    </tr>\n",
       "    <tr>\n",
       "      <th>41</th>\n",
       "      <td>2022-01-07</td>\n",
       "      <td>234495.0</td>\n",
       "    </tr>\n",
       "  </tbody>\n",
       "</table>\n",
       "<p>479 rows × 2 columns</p>\n",
       "</div>"
      ],
      "text/plain": [
       "        자치구 기준일     서울 전체\n",
       "744  2020-02-05      12.0\n",
       "743  2020-02-06      15.0\n",
       "742  2020-02-07       0.0\n",
       "739  2020-02-10       0.0\n",
       "738  2020-02-11       0.0\n",
       "..          ...       ...\n",
       "45   2022-01-03  229860.0\n",
       "44   2022-01-04  230739.0\n",
       "43   2022-01-05  232625.0\n",
       "42   2022-01-06  233627.0\n",
       "41   2022-01-07  234495.0\n",
       "\n",
       "[479 rows x 2 columns]"
      ]
     },
     "execution_count": 21,
     "metadata": {},
     "output_type": "execute_result"
    }
   ],
   "source": [
    "df_covid"
   ]
  },
  {
   "cell_type": "code",
   "execution_count": 22,
   "metadata": {},
   "outputs": [
    {
     "name": "stdout",
     "output_type": "stream",
     "text": [
      "<class 'pandas.core.frame.DataFrame'>\n",
      "Int64Index: 479 entries, 744 to 41\n",
      "Data columns (total 2 columns):\n",
      " #   Column   Non-Null Count  Dtype  \n",
      "---  ------   --------------  -----  \n",
      " 0   자치구 기준일  479 non-null    object \n",
      " 1   서울 전체    479 non-null    float64\n",
      "dtypes: float64(1), object(1)\n",
      "memory usage: 11.2+ KB\n"
     ]
    }
   ],
   "source": [
    "df_covid.info()"
   ]
  },
  {
   "cell_type": "markdown",
   "metadata": {},
   "source": [
    "# Stock"
   ]
  },
  {
   "cell_type": "code",
   "execution_count": 23,
   "metadata": {},
   "outputs": [
    {
     "data": {
      "text/html": [
       "<div>\n",
       "<style scoped>\n",
       "    .dataframe tbody tr th:only-of-type {\n",
       "        vertical-align: middle;\n",
       "    }\n",
       "\n",
       "    .dataframe tbody tr th {\n",
       "        vertical-align: top;\n",
       "    }\n",
       "\n",
       "    .dataframe thead th {\n",
       "        text-align: right;\n",
       "    }\n",
       "</style>\n",
       "<table border=\"1\" class=\"dataframe\">\n",
       "  <thead>\n",
       "    <tr style=\"text-align: right;\">\n",
       "      <th></th>\n",
       "      <th>계정별</th>\n",
       "      <th>2020.02.05</th>\n",
       "      <th>2020.02.06</th>\n",
       "      <th>2020.02.07</th>\n",
       "      <th>2020.02.10</th>\n",
       "      <th>2020.02.11</th>\n",
       "      <th>2020.02.12</th>\n",
       "      <th>2020.02.13</th>\n",
       "      <th>2020.02.14</th>\n",
       "      <th>2020.02.17</th>\n",
       "      <th>...</th>\n",
       "      <th>2022.02.04</th>\n",
       "      <th>2022.02.07</th>\n",
       "      <th>2022.02.08</th>\n",
       "      <th>2022.02.09</th>\n",
       "      <th>2022.02.10</th>\n",
       "      <th>2022.02.11</th>\n",
       "      <th>2022.02.14</th>\n",
       "      <th>2022.02.15</th>\n",
       "      <th>2022.02.16</th>\n",
       "      <th>2022.02.17</th>\n",
       "    </tr>\n",
       "  </thead>\n",
       "  <tbody>\n",
       "    <tr>\n",
       "      <th>0</th>\n",
       "      <td>KOSPI지수 (1980.01.04=100)</td>\n",
       "      <td>2165.63</td>\n",
       "      <td>2227.94</td>\n",
       "      <td>2211.95</td>\n",
       "      <td>2201.07</td>\n",
       "      <td>2223.12</td>\n",
       "      <td>2238.38</td>\n",
       "      <td>2232.96</td>\n",
       "      <td>2243.59</td>\n",
       "      <td>2242.17</td>\n",
       "      <td>...</td>\n",
       "      <td>2750.26</td>\n",
       "      <td>2745.06</td>\n",
       "      <td>2746.47</td>\n",
       "      <td>2768.85</td>\n",
       "      <td>2771.93</td>\n",
       "      <td>2747.71</td>\n",
       "      <td>2704.48</td>\n",
       "      <td>2676.54</td>\n",
       "      <td>2729.68</td>\n",
       "      <td>2744.09</td>\n",
       "    </tr>\n",
       "    <tr>\n",
       "      <th>1</th>\n",
       "      <td>거래량(주식시장, 잠정치) (만주)</td>\n",
       "      <td>56312.00</td>\n",
       "      <td>68323.00</td>\n",
       "      <td>76671.00</td>\n",
       "      <td>60047.00</td>\n",
       "      <td>51031.00</td>\n",
       "      <td>62342.00</td>\n",
       "      <td>62961.00</td>\n",
       "      <td>58900.00</td>\n",
       "      <td>45309.00</td>\n",
       "      <td>...</td>\n",
       "      <td>52652.00</td>\n",
       "      <td>41008.00</td>\n",
       "      <td>55489.00</td>\n",
       "      <td>52969.00</td>\n",
       "      <td>50043.00</td>\n",
       "      <td>45698.00</td>\n",
       "      <td>60566.00</td>\n",
       "      <td>57535.00</td>\n",
       "      <td>41515.00</td>\n",
       "      <td>60226.00</td>\n",
       "    </tr>\n",
       "    <tr>\n",
       "      <th>2</th>\n",
       "      <td>거래대금(주식시장 , 잠정치) (억원)</td>\n",
       "      <td>74625.00</td>\n",
       "      <td>80636.00</td>\n",
       "      <td>69263.00</td>\n",
       "      <td>53322.00</td>\n",
       "      <td>64744.00</td>\n",
       "      <td>67750.00</td>\n",
       "      <td>79571.00</td>\n",
       "      <td>61331.00</td>\n",
       "      <td>55661.00</td>\n",
       "      <td>...</td>\n",
       "      <td>111842.00</td>\n",
       "      <td>111059.00</td>\n",
       "      <td>116203.00</td>\n",
       "      <td>101579.00</td>\n",
       "      <td>125638.00</td>\n",
       "      <td>105400.00</td>\n",
       "      <td>113138.00</td>\n",
       "      <td>92255.00</td>\n",
       "      <td>82633.00</td>\n",
       "      <td>116773.00</td>\n",
       "    </tr>\n",
       "    <tr>\n",
       "      <th>3</th>\n",
       "      <td>외국인 순매수(주식시장, 잠정치) (억원)</td>\n",
       "      <td>4578.00</td>\n",
       "      <td>1586.00</td>\n",
       "      <td>223.00</td>\n",
       "      <td>-3039.00</td>\n",
       "      <td>-934.00</td>\n",
       "      <td>-2163.00</td>\n",
       "      <td>2795.00</td>\n",
       "      <td>945.00</td>\n",
       "      <td>-2287.00</td>\n",
       "      <td>...</td>\n",
       "      <td>1945.00</td>\n",
       "      <td>-69.00</td>\n",
       "      <td>-939.00</td>\n",
       "      <td>2355.00</td>\n",
       "      <td>8365.00</td>\n",
       "      <td>6081.00</td>\n",
       "      <td>684.00</td>\n",
       "      <td>-2209.00</td>\n",
       "      <td>-437.00</td>\n",
       "      <td>6516.00</td>\n",
       "    </tr>\n",
       "    <tr>\n",
       "      <th>4</th>\n",
       "      <td>주식시장-거래량(만주, 시간외거래분 포함) (만주)</td>\n",
       "      <td>57440.00</td>\n",
       "      <td>69522.00</td>\n",
       "      <td>80034.00</td>\n",
       "      <td>60957.00</td>\n",
       "      <td>52621.00</td>\n",
       "      <td>63246.00</td>\n",
       "      <td>63867.00</td>\n",
       "      <td>59722.00</td>\n",
       "      <td>45825.00</td>\n",
       "      <td>...</td>\n",
       "      <td>53615.00</td>\n",
       "      <td>41784.00</td>\n",
       "      <td>56053.00</td>\n",
       "      <td>53912.00</td>\n",
       "      <td>50961.00</td>\n",
       "      <td>48052.00</td>\n",
       "      <td>61634.00</td>\n",
       "      <td>58904.00</td>\n",
       "      <td>42237.00</td>\n",
       "      <td>-</td>\n",
       "    </tr>\n",
       "  </tbody>\n",
       "</table>\n",
       "<p>5 rows × 506 columns</p>\n",
       "</div>"
      ],
      "text/plain": [
       "                            계정별  2020.02.05  2020.02.06  2020.02.07  \\\n",
       "0      KOSPI지수 (1980.01.04=100)     2165.63     2227.94     2211.95   \n",
       "1           거래량(주식시장, 잠정치) (만주)    56312.00    68323.00    76671.00   \n",
       "2         거래대금(주식시장 , 잠정치) (억원)    74625.00    80636.00    69263.00   \n",
       "3       외국인 순매수(주식시장, 잠정치) (억원)     4578.00     1586.00      223.00   \n",
       "4  주식시장-거래량(만주, 시간외거래분 포함) (만주)    57440.00    69522.00    80034.00   \n",
       "\n",
       "   2020.02.10  2020.02.11  2020.02.12  2020.02.13  2020.02.14  2020.02.17  \\\n",
       "0     2201.07     2223.12     2238.38     2232.96     2243.59     2242.17   \n",
       "1    60047.00    51031.00    62342.00    62961.00    58900.00    45309.00   \n",
       "2    53322.00    64744.00    67750.00    79571.00    61331.00    55661.00   \n",
       "3    -3039.00     -934.00    -2163.00     2795.00      945.00    -2287.00   \n",
       "4    60957.00    52621.00    63246.00    63867.00    59722.00    45825.00   \n",
       "\n",
       "   ...  2022.02.04  2022.02.07  2022.02.08  2022.02.09  2022.02.10  \\\n",
       "0  ...     2750.26     2745.06     2746.47     2768.85     2771.93   \n",
       "1  ...    52652.00    41008.00    55489.00    52969.00    50043.00   \n",
       "2  ...   111842.00   111059.00   116203.00   101579.00   125638.00   \n",
       "3  ...     1945.00      -69.00     -939.00     2355.00     8365.00   \n",
       "4  ...    53615.00    41784.00    56053.00    53912.00    50961.00   \n",
       "\n",
       "   2022.02.11  2022.02.14  2022.02.15  2022.02.16  2022.02.17  \n",
       "0     2747.71     2704.48     2676.54     2729.68     2744.09  \n",
       "1    45698.00    60566.00    57535.00    41515.00    60226.00  \n",
       "2   105400.00   113138.00    92255.00    82633.00   116773.00  \n",
       "3     6081.00      684.00    -2209.00     -437.00     6516.00  \n",
       "4    48052.00    61634.00    58904.00    42237.00           -  \n",
       "\n",
       "[5 rows x 506 columns]"
      ]
     },
     "execution_count": 23,
     "metadata": {},
     "output_type": "execute_result"
    }
   ],
   "source": [
    "# 확인용 코드\n",
    "df_stock.head()"
   ]
  },
  {
   "cell_type": "code",
   "execution_count": 24,
   "metadata": {},
   "outputs": [],
   "source": [
    "# 데이터 전처리 - 전치 + 날짜 형식 변환\n",
    "df_stock_day = df_stock.columns.values.tolist()\n",
    "df_stock = df_stock.T\n",
    "# print(df_stock.T.head())\n",
    "df_stock['날짜'] = df_stock_day"
   ]
  },
  {
   "cell_type": "code",
   "execution_count": 25,
   "metadata": {},
   "outputs": [],
   "source": [
    "date_set=[]\n",
    "for item in df_stock['날짜']:\n",
    "    # print(item)\n",
    "    if(item == '계정별'):\n",
    "        date_set+=[np.nan]\n",
    "    else:\n",
    "        item=item.split('.')\n",
    "        year=int(item[0])\n",
    "        month=int(item[1])\n",
    "        day=int(item[2])\n",
    "        date_set+=[str(date(year,month,day))]\n",
    "    # print(datetime.date(year,month,day))\n",
    "df_stock['날짜'] = date_set\n",
    "# df_stock['날짜'] = pd.to_datetime(df_stock['날짜'])\n",
    "\n",
    "df_stock.dropna(axis=0, inplace = True)\n",
    "df_stock.rename(columns={0:'KOSPI'}, inplace = True)\n",
    "df_stock = df_stock[['KOSPI', '날짜']]\n",
    "df_stock[\"KOSPI\"]=df_stock[\"KOSPI\"].apply(float)\n",
    "df_stock = df_stock.sort_values('날짜', ascending = True)"
   ]
  },
  {
   "cell_type": "code",
   "execution_count": 26,
   "metadata": {},
   "outputs": [
    {
     "data": {
      "text/html": [
       "<div>\n",
       "<style scoped>\n",
       "    .dataframe tbody tr th:only-of-type {\n",
       "        vertical-align: middle;\n",
       "    }\n",
       "\n",
       "    .dataframe tbody tr th {\n",
       "        vertical-align: top;\n",
       "    }\n",
       "\n",
       "    .dataframe thead th {\n",
       "        text-align: right;\n",
       "    }\n",
       "</style>\n",
       "<table border=\"1\" class=\"dataframe\">\n",
       "  <thead>\n",
       "    <tr style=\"text-align: right;\">\n",
       "      <th></th>\n",
       "      <th>KOSPI</th>\n",
       "      <th>날짜</th>\n",
       "    </tr>\n",
       "  </thead>\n",
       "  <tbody>\n",
       "    <tr>\n",
       "      <th>2020.02.05</th>\n",
       "      <td>2165.63</td>\n",
       "      <td>2020-02-05</td>\n",
       "    </tr>\n",
       "    <tr>\n",
       "      <th>2020.02.06</th>\n",
       "      <td>2227.94</td>\n",
       "      <td>2020-02-06</td>\n",
       "    </tr>\n",
       "    <tr>\n",
       "      <th>2020.02.07</th>\n",
       "      <td>2211.95</td>\n",
       "      <td>2020-02-07</td>\n",
       "    </tr>\n",
       "  </tbody>\n",
       "</table>\n",
       "</div>"
      ],
      "text/plain": [
       "              KOSPI          날짜\n",
       "2020.02.05  2165.63  2020-02-05\n",
       "2020.02.06  2227.94  2020-02-06\n",
       "2020.02.07  2211.95  2020-02-07"
      ]
     },
     "execution_count": 26,
     "metadata": {},
     "output_type": "execute_result"
    }
   ],
   "source": [
    "# 확인용 코드\n",
    "df_stock.head(3)"
   ]
  },
  {
   "cell_type": "code",
   "execution_count": 27,
   "metadata": {},
   "outputs": [
    {
     "data": {
      "text/html": [
       "<div>\n",
       "<style scoped>\n",
       "    .dataframe tbody tr th:only-of-type {\n",
       "        vertical-align: middle;\n",
       "    }\n",
       "\n",
       "    .dataframe tbody tr th {\n",
       "        vertical-align: top;\n",
       "    }\n",
       "\n",
       "    .dataframe thead th {\n",
       "        text-align: right;\n",
       "    }\n",
       "</style>\n",
       "<table border=\"1\" class=\"dataframe\">\n",
       "  <thead>\n",
       "    <tr style=\"text-align: right;\">\n",
       "      <th></th>\n",
       "      <th>KOSPI</th>\n",
       "      <th>날짜</th>\n",
       "    </tr>\n",
       "  </thead>\n",
       "  <tbody>\n",
       "    <tr>\n",
       "      <th>2022.02.15</th>\n",
       "      <td>2676.54</td>\n",
       "      <td>2022-02-15</td>\n",
       "    </tr>\n",
       "    <tr>\n",
       "      <th>2022.02.16</th>\n",
       "      <td>2729.68</td>\n",
       "      <td>2022-02-16</td>\n",
       "    </tr>\n",
       "    <tr>\n",
       "      <th>2022.02.17</th>\n",
       "      <td>2744.09</td>\n",
       "      <td>2022-02-17</td>\n",
       "    </tr>\n",
       "  </tbody>\n",
       "</table>\n",
       "</div>"
      ],
      "text/plain": [
       "              KOSPI          날짜\n",
       "2022.02.15  2676.54  2022-02-15\n",
       "2022.02.16  2729.68  2022-02-16\n",
       "2022.02.17  2744.09  2022-02-17"
      ]
     },
     "execution_count": 27,
     "metadata": {},
     "output_type": "execute_result"
    }
   ],
   "source": [
    "# 확인용 코드\n",
    "df_stock.tail(3)"
   ]
  },
  {
   "cell_type": "code",
   "execution_count": 28,
   "metadata": {},
   "outputs": [],
   "source": [
    "df_stock = df_stock[df_stock['날짜'] < '2022-01-09']"
   ]
  },
  {
   "cell_type": "code",
   "execution_count": 29,
   "metadata": {
    "scrolled": true
   },
   "outputs": [
    {
     "name": "stdout",
     "output_type": "stream",
     "text": [
      "<class 'pandas.core.frame.DataFrame'>\n",
      "Index: 479 entries, 2020.02.05 to 2022.01.07\n",
      "Data columns (total 2 columns):\n",
      " #   Column  Non-Null Count  Dtype  \n",
      "---  ------  --------------  -----  \n",
      " 0   KOSPI   479 non-null    float64\n",
      " 1   날짜      479 non-null    object \n",
      "dtypes: float64(1), object(1)\n",
      "memory usage: 11.2+ KB\n"
     ]
    }
   ],
   "source": [
    "df_stock.info()"
   ]
  },
  {
   "cell_type": "code",
   "execution_count": 30,
   "metadata": {},
   "outputs": [
    {
     "data": {
      "text/html": [
       "<div>\n",
       "<style scoped>\n",
       "    .dataframe tbody tr th:only-of-type {\n",
       "        vertical-align: middle;\n",
       "    }\n",
       "\n",
       "    .dataframe tbody tr th {\n",
       "        vertical-align: top;\n",
       "    }\n",
       "\n",
       "    .dataframe thead th {\n",
       "        text-align: right;\n",
       "    }\n",
       "</style>\n",
       "<table border=\"1\" class=\"dataframe\">\n",
       "  <thead>\n",
       "    <tr style=\"text-align: right;\">\n",
       "      <th></th>\n",
       "      <th>자치구 기준일</th>\n",
       "      <th>서울 전체</th>\n",
       "    </tr>\n",
       "  </thead>\n",
       "  <tbody>\n",
       "    <tr>\n",
       "      <th>744</th>\n",
       "      <td>2020-02-05</td>\n",
       "      <td>12.0</td>\n",
       "    </tr>\n",
       "    <tr>\n",
       "      <th>743</th>\n",
       "      <td>2020-02-06</td>\n",
       "      <td>15.0</td>\n",
       "    </tr>\n",
       "    <tr>\n",
       "      <th>742</th>\n",
       "      <td>2020-02-07</td>\n",
       "      <td>0.0</td>\n",
       "    </tr>\n",
       "  </tbody>\n",
       "</table>\n",
       "</div>"
      ],
      "text/plain": [
       "        자치구 기준일  서울 전체\n",
       "744  2020-02-05   12.0\n",
       "743  2020-02-06   15.0\n",
       "742  2020-02-07    0.0"
      ]
     },
     "execution_count": 30,
     "metadata": {},
     "output_type": "execute_result"
    }
   ],
   "source": [
    "# 확인용 코드\n",
    "df_covid.head(3)"
   ]
  },
  {
   "cell_type": "code",
   "execution_count": 31,
   "metadata": {},
   "outputs": [
    {
     "data": {
      "text/html": [
       "<div>\n",
       "<style scoped>\n",
       "    .dataframe tbody tr th:only-of-type {\n",
       "        vertical-align: middle;\n",
       "    }\n",
       "\n",
       "    .dataframe tbody tr th {\n",
       "        vertical-align: top;\n",
       "    }\n",
       "\n",
       "    .dataframe thead th {\n",
       "        text-align: right;\n",
       "    }\n",
       "</style>\n",
       "<table border=\"1\" class=\"dataframe\">\n",
       "  <thead>\n",
       "    <tr style=\"text-align: right;\">\n",
       "      <th></th>\n",
       "      <th>자치구 기준일</th>\n",
       "      <th>서울 전체</th>\n",
       "    </tr>\n",
       "  </thead>\n",
       "  <tbody>\n",
       "    <tr>\n",
       "      <th>43</th>\n",
       "      <td>2022-01-05</td>\n",
       "      <td>232625.0</td>\n",
       "    </tr>\n",
       "    <tr>\n",
       "      <th>42</th>\n",
       "      <td>2022-01-06</td>\n",
       "      <td>233627.0</td>\n",
       "    </tr>\n",
       "    <tr>\n",
       "      <th>41</th>\n",
       "      <td>2022-01-07</td>\n",
       "      <td>234495.0</td>\n",
       "    </tr>\n",
       "  </tbody>\n",
       "</table>\n",
       "</div>"
      ],
      "text/plain": [
       "       자치구 기준일     서울 전체\n",
       "43  2022-01-05  232625.0\n",
       "42  2022-01-06  233627.0\n",
       "41  2022-01-07  234495.0"
      ]
     },
     "execution_count": 31,
     "metadata": {},
     "output_type": "execute_result"
    }
   ],
   "source": [
    "# 확인용 코드\n",
    "df_covid.tail(3)"
   ]
  },
  {
   "cell_type": "code",
   "execution_count": 32,
   "metadata": {},
   "outputs": [
    {
     "name": "stdout",
     "output_type": "stream",
     "text": [
      "479\n"
     ]
    }
   ],
   "source": [
    "# 확인용 코드\n",
    "list1 = list(np.array(df_covid['자치구 기준일'].tolist()))\n",
    "print(len(set(list1)))"
   ]
  },
  {
   "cell_type": "code",
   "execution_count": 33,
   "metadata": {},
   "outputs": [
    {
     "name": "stdout",
     "output_type": "stream",
     "text": [
      "479\n"
     ]
    }
   ],
   "source": [
    "# 확인용 코드\n",
    "list2 = list(np.array(df_stock['날짜'].tolist()))\n",
    "print(len(set(list1)))"
   ]
  },
  {
   "cell_type": "code",
   "execution_count": 34,
   "metadata": {},
   "outputs": [
    {
     "name": "stdout",
     "output_type": "stream",
     "text": [
      "[]\n",
      "[]\n"
     ]
    }
   ],
   "source": [
    "# 확인용 코드\n",
    "C = list(set(list1) - set(list2))\n",
    "D = list(set(list2) - set(list1))\n",
    "print(C)\n",
    "print(D)"
   ]
  },
  {
   "cell_type": "code",
   "execution_count": 35,
   "metadata": {},
   "outputs": [
    {
     "name": "stdout",
     "output_type": "stream",
     "text": [
      "<class 'pandas.core.frame.DataFrame'>\n",
      "Index: 479 entries, 2020.02.05 to 2022.01.07\n",
      "Data columns (total 2 columns):\n",
      " #   Column  Non-Null Count  Dtype  \n",
      "---  ------  --------------  -----  \n",
      " 0   KOSPI   479 non-null    float64\n",
      " 1   날짜      479 non-null    object \n",
      "dtypes: float64(1), object(1)\n",
      "memory usage: 11.2+ KB\n"
     ]
    }
   ],
   "source": [
    "# 확인용 코드\n",
    "df_stock.info()"
   ]
  },
  {
   "cell_type": "code",
   "execution_count": 36,
   "metadata": {},
   "outputs": [
    {
     "name": "stdout",
     "output_type": "stream",
     "text": [
      "<class 'pandas.core.frame.DataFrame'>\n",
      "Int64Index: 479 entries, 744 to 41\n",
      "Data columns (total 2 columns):\n",
      " #   Column   Non-Null Count  Dtype  \n",
      "---  ------   --------------  -----  \n",
      " 0   자치구 기준일  479 non-null    object \n",
      " 1   서울 전체    479 non-null    float64\n",
      "dtypes: float64(1), object(1)\n",
      "memory usage: 11.2+ KB\n"
     ]
    }
   ],
   "source": [
    "# 확인용 코드\n",
    "df_covid.info()"
   ]
  },
  {
   "cell_type": "markdown",
   "metadata": {},
   "source": [
    "# 시각화"
   ]
  },
  {
   "cell_type": "code",
   "execution_count": 37,
   "metadata": {
    "colab": {},
    "colab_type": "code",
    "id": "cc-Fn23Q4AqQ"
   },
   "outputs": [],
   "source": [
    "import matplotlib.pyplot as plt"
   ]
  },
  {
   "cell_type": "code",
   "execution_count": 38,
   "metadata": {
    "colab": {
     "base_uri": "https://localhost:8080/",
     "height": 279
    },
    "colab_type": "code",
    "executionInfo": {
     "elapsed": 1097,
     "status": "ok",
     "timestamp": 1587904061347,
     "user": {
      "displayName": "Haesun Park",
      "photoUrl": "https://lh3.googleusercontent.com/a-/AOh14GhsWlS7sKQL-9fIkg3FmxpTMz_u-KDSs8y__P1ngQ=s64",
      "userId": "14935388527648823821"
     },
     "user_tz": -540
    },
    "id": "gE78Nuog4Eg4",
    "outputId": "e2862f05-14c9-4445-b711-1326aca5c020"
   },
   "outputs": [
    {
     "data": {
      "image/png": "[encoded data removed]",
      "text/plain": [
       "<Figure size 432x288 with 1 Axes>"
      ]
     },
     "metadata": {
      "needs_background": "light"
     },
     "output_type": "display_data"
    }
   ],
   "source": [
    "# 시각화\n",
    "df_covid_count = df_covid['서울 전체']\n",
    "df_kospi = df_stock['KOSPI']\n",
    "plt.scatter(df_covid_count, df_kospi)\n",
    "plt.xlabel('covid count')\n",
    "plt.ylabel('kospi')\n",
    "plt.show()"
   ]
  },
  {
   "cell_type": "code",
   "execution_count": 39,
   "metadata": {
    "colab": {},
    "colab_type": "code",
    "id": "dqSDbM-K4pkB"
   },
   "outputs": [],
   "source": [
    "from sklearn.model_selection import train_test_split"
   ]
  },
  {
   "cell_type": "code",
   "execution_count": 40,
   "metadata": {
    "colab": {},
    "colab_type": "code",
    "id": "seEljNAS4uET"
   },
   "outputs": [],
   "source": [
    "# 데이터셋 분류\n",
    "train_input, test_input, train_target, test_target = train_test_split(\n",
    "    df_covid_count, df_kospi,  random_state=42)"
   ]
  },
  {
   "cell_type": "code",
   "execution_count": 41,
   "metadata": {
    "colab": {
     "base_uri": "https://localhost:8080/",
     "height": 35
    },
    "colab_type": "code",
    "executionInfo": {
     "elapsed": 1391,
     "status": "ok",
     "timestamp": 1587904061649,
     "user": {
      "displayName": "Haesun Park",
      "photoUrl": "https://lh3.googleusercontent.com/a-/AOh14GhsWlS7sKQL-9fIkg3FmxpTMz_u-KDSs8y__P1ngQ=s64",
      "userId": "14935388527648823821"
     },
     "user_tz": -540
    },
    "id": "sC6HAwnnK4aU",
    "outputId": "55cc21c4-0934-4244-ca96-2c69a099f345"
   },
   "outputs": [
    {
     "name": "stdout",
     "output_type": "stream",
     "text": [
      "(359,) (120,)\n"
     ]
    }
   ],
   "source": [
    "print(train_input.shape, test_input.shape)"
   ]
  },
  {
   "cell_type": "code",
   "execution_count": 42,
   "metadata": {
    "colab": {
     "base_uri": "https://localhost:8080/",
     "height": 35
    },
    "colab_type": "code",
    "executionInfo": {
     "elapsed": 1666,
     "status": "ok",
     "timestamp": 1587904061928,
     "user": {
      "displayName": "Haesun Park",
      "photoUrl": "https://lh3.googleusercontent.com/a-/AOh14GhsWlS7sKQL-9fIkg3FmxpTMz_u-KDSs8y__P1ngQ=s64",
      "userId": "14935388527648823821"
     },
     "user_tz": -540
    },
    "id": "Og1eucsRwzIs",
    "outputId": "fbfbad2f-99ed-43f7-aedb-d0cf67410c96"
   },
   "outputs": [],
   "source": [
    "# test_array = np.array([1,2,3,4])\n",
    "# print(test_array.shape)"
   ]
  },
  {
   "cell_type": "code",
   "execution_count": 43,
   "metadata": {
    "colab": {
     "base_uri": "https://localhost:8080/",
     "height": 35
    },
    "colab_type": "code",
    "executionInfo": {
     "elapsed": 1660,
     "status": "ok",
     "timestamp": 1587904061929,
     "user": {
      "displayName": "Haesun Park",
      "photoUrl": "https://lh3.googleusercontent.com/a-/AOh14GhsWlS7sKQL-9fIkg3FmxpTMz_u-KDSs8y__P1ngQ=s64",
      "userId": "14935388527648823821"
     },
     "user_tz": -540
    },
    "id": "y-DXX-xtw8Jb",
    "outputId": "c423952b-c355-4155-b3b4-b45b7c445715"
   },
   "outputs": [],
   "source": [
    "# test_array = test_array.reshape(2, 2)\n",
    "# print(test_array.shape)"
   ]
  },
  {
   "cell_type": "code",
   "execution_count": 44,
   "metadata": {
    "colab": {},
    "colab_type": "code",
    "id": "2z-LC4zrxzWL"
   },
   "outputs": [],
   "source": [
    "# reshape 메서드 : 원본 배열의 원소 개수와 reshape 배열의 원소 개수가 다르면 에러 발생\n",
    "# test_array = test_array.reshape(2, 3)"
   ]
  },
  {
   "cell_type": "code",
   "execution_count": 45,
   "metadata": {
    "colab": {},
    "colab_type": "code",
    "id": "_GfrND5GKg_z"
   },
   "outputs": [],
   "source": [
    "# 데이터셋 전처리\n",
    "train_input = train_input.values.reshape(-1, 1)\n",
    "test_input = test_input.values.reshape(-1, 1)"
   ]
  },
  {
   "cell_type": "code",
   "execution_count": 46,
   "metadata": {
    "colab": {
     "base_uri": "https://localhost:8080/",
     "height": 35
    },
    "colab_type": "code",
    "executionInfo": {
     "elapsed": 1655,
     "status": "ok",
     "timestamp": 1587904061930,
     "user": {
      "displayName": "Haesun Park",
      "photoUrl": "https://lh3.googleusercontent.com/a-/AOh14GhsWlS7sKQL-9fIkg3FmxpTMz_u-KDSs8y__P1ngQ=s64",
      "userId": "14935388527648823821"
     },
     "user_tz": -540
    },
    "id": "0c8e0UrkLJDe",
    "outputId": "dfa7fb53-eb97-4bfc-de5b-89391c07d835"
   },
   "outputs": [
    {
     "name": "stdout",
     "output_type": "stream",
     "text": [
      "(359, 1) (120, 1)\n"
     ]
    }
   ],
   "source": [
    "print(train_input.shape, test_input.shape)"
   ]
  },
  {
   "cell_type": "markdown",
   "metadata": {},
   "source": [
    "# k-최근접 이웃의 한계"
   ]
  },
  {
   "cell_type": "code",
   "execution_count": 35,
   "metadata": {
    "colab": {
     "base_uri": "https://localhost:8080/",
     "height": 69
    },
    "colab_type": "code",
    "executionInfo": {
     "elapsed": 1686,
     "status": "ok",
     "timestamp": 1589780993181,
     "user": {
      "displayName": "Haesun Park",
      "photoUrl": "https://lh3.googleusercontent.com/a-/AOh14GhsWlS7sKQL-9fIkg3FmxpTMz_u-KDSs8y__P1ngQ=s64",
      "userId": "14935388527648823821"
     },
     "user_tz": -540
    },
    "id": "k7Uocvq2quTE",
    "outputId": "19602848-587f-4336-8c6d-cbfd2aea2e0c",
    "scrolled": true
   },
   "outputs": [
    {
     "data": {
      "text/plain": [
       "KNeighborsRegressor(n_neighbors=3)"
      ]
     },
     "execution_count": 35,
     "metadata": {},
     "output_type": "execute_result"
    }
   ],
   "source": [
    "from sklearn.neighbors import KNeighborsRegressor\n",
    "\n",
    "# K-최근접 이웃 회귀 모델 선정 & 훈련 by 훈련 데이터\n",
    "knr = KNeighborsRegressor(n_neighbors=3)\n",
    "knr.fit(train_input, train_target)"
   ]
  },
  {
   "cell_type": "code",
   "execution_count": 36,
   "metadata": {
    "colab": {
     "base_uri": "https://localhost:8080/",
     "height": 35
    },
    "colab_type": "code",
    "executionInfo": {
     "elapsed": 1681,
     "status": "ok",
     "timestamp": 1589780993182,
     "user": {
      "displayName": "Haesun Park",
      "photoUrl": "https://lh3.googleusercontent.com/a-/AOh14GhsWlS7sKQL-9fIkg3FmxpTMz_u-KDSs8y__P1ngQ=s64",
      "userId": "14935388527648823821"
     },
     "user_tz": -540
    },
    "id": "CFOp6T9-q0QR",
    "outputId": "22ed65b3-ba87-46f6-8752-ff4986ff84c7"
   },
   "outputs": [
    {
     "name": "stdout",
     "output_type": "stream",
     "text": [
      "[2739.14]\n"
     ]
    }
   ],
   "source": [
    "# 테스트 코드\n",
    "print(knr.predict([[10000]]))"
   ]
  },
  {
   "cell_type": "code",
   "execution_count": 37,
   "metadata": {
    "colab": {},
    "colab_type": "code",
    "id": "G8FR1q-IuBlU"
   },
   "outputs": [],
   "source": [
    "import matplotlib.pyplot as plt"
   ]
  },
  {
   "cell_type": "code",
   "execution_count": 50,
   "metadata": {
    "colab": {
     "base_uri": "https://localhost:8080/",
     "height": 265
    },
    "colab_type": "code",
    "executionInfo": {
     "elapsed": 1672,
     "status": "ok",
     "timestamp": 1589780993183,
     "user": {
      "displayName": "Haesun Park",
      "photoUrl": "https://lh3.googleusercontent.com/a-/AOh14GhsWlS7sKQL-9fIkg3FmxpTMz_u-KDSs8y__P1ngQ=s64",
      "userId": "14935388527648823821"
     },
     "user_tz": -540
    },
    "id": "wR9eDDH2q9nP",
    "outputId": "7a76bf0d-0abd-405e-e514-37de33419568"
   },
   "outputs": [
    {
     "name": "stdout",
     "output_type": "stream",
     "text": [
      "[[242 223   9]]\n"
     ]
    },
    {
     "ename": "ValueError",
     "evalue": "Wrong number of dimensions. values.ndim > ndim [2 > 1]",
     "output_type": "error",
     "traceback": [
      "\u001b[1;31m---------------------------------------------------------------------------\u001b[0m",
      "\u001b[1;31mValueError\u001b[0m                                Traceback (most recent call last)",
      "\u001b[1;32m~\\AppData\\Local\\Temp/ipykernel_1276/1701778483.py\u001b[0m in \u001b[0;36m<module>\u001b[1;34m\u001b[0m\n\u001b[0;32m      6\u001b[0m \u001b[0mplt\u001b[0m\u001b[1;33m.\u001b[0m\u001b[0mscatter\u001b[0m\u001b[1;33m(\u001b[0m\u001b[0mtrain_input\u001b[0m\u001b[1;33m,\u001b[0m \u001b[0mtrain_target\u001b[0m\u001b[1;33m)\u001b[0m\u001b[1;33m\u001b[0m\u001b[1;33m\u001b[0m\u001b[0m\n\u001b[0;32m      7\u001b[0m \u001b[1;31m# 이웃 샘플 데이터 시각화\u001b[0m\u001b[1;33m\u001b[0m\u001b[1;33m\u001b[0m\u001b[0m\n\u001b[1;32m----> 8\u001b[1;33m \u001b[0mplt\u001b[0m\u001b[1;33m.\u001b[0m\u001b[0mscatter\u001b[0m\u001b[1;33m(\u001b[0m\u001b[0mtrain_input\u001b[0m\u001b[1;33m[\u001b[0m\u001b[0mindexes\u001b[0m\u001b[1;33m]\u001b[0m\u001b[1;33m,\u001b[0m \u001b[0mtrain_target\u001b[0m\u001b[1;33m[\u001b[0m\u001b[0mindexes\u001b[0m\u001b[1;33m]\u001b[0m\u001b[1;33m,\u001b[0m \u001b[0mmarker\u001b[0m\u001b[1;33m=\u001b[0m\u001b[1;34m'D'\u001b[0m\u001b[1;33m)\u001b[0m\u001b[1;33m\u001b[0m\u001b[1;33m\u001b[0m\u001b[0m\n\u001b[0m\u001b[0;32m      9\u001b[0m \u001b[1;31m# 1만명 코로나 데이터 시각화\u001b[0m\u001b[1;33m\u001b[0m\u001b[1;33m\u001b[0m\u001b[0m\n\u001b[0;32m     10\u001b[0m \u001b[0mplt\u001b[0m\u001b[1;33m.\u001b[0m\u001b[0mscatter\u001b[0m\u001b[1;33m(\u001b[0m\u001b[1;36m10000\u001b[0m\u001b[1;33m,\u001b[0m \u001b[1;36m2701.19\u001b[0m\u001b[1;33m,\u001b[0m \u001b[0mmarker\u001b[0m\u001b[1;33m=\u001b[0m\u001b[1;34m'^'\u001b[0m\u001b[1;33m)\u001b[0m\u001b[1;33m\u001b[0m\u001b[1;33m\u001b[0m\u001b[0m\n",
      "\u001b[1;32m~\\anaconda3\\lib\\site-packages\\pandas\\core\\series.py\u001b[0m in \u001b[0;36m__getitem__\u001b[1;34m(self, key)\u001b[0m\n\u001b[0;32m    964\u001b[0m             \u001b[1;32mreturn\u001b[0m \u001b[0mself\u001b[0m\u001b[1;33m.\u001b[0m\u001b[0m_get_values\u001b[0m\u001b[1;33m(\u001b[0m\u001b[0mkey\u001b[0m\u001b[1;33m)\u001b[0m\u001b[1;33m\u001b[0m\u001b[1;33m\u001b[0m\u001b[0m\n\u001b[0;32m    965\u001b[0m \u001b[1;33m\u001b[0m\u001b[0m\n\u001b[1;32m--> 966\u001b[1;33m         \u001b[1;32mreturn\u001b[0m \u001b[0mself\u001b[0m\u001b[1;33m.\u001b[0m\u001b[0m_get_with\u001b[0m\u001b[1;33m(\u001b[0m\u001b[0mkey\u001b[0m\u001b[1;33m)\u001b[0m\u001b[1;33m\u001b[0m\u001b[1;33m\u001b[0m\u001b[0m\n\u001b[0m\u001b[0;32m    967\u001b[0m \u001b[1;33m\u001b[0m\u001b[0m\n\u001b[0;32m    968\u001b[0m     \u001b[1;32mdef\u001b[0m \u001b[0m_get_with\u001b[0m\u001b[1;33m(\u001b[0m\u001b[0mself\u001b[0m\u001b[1;33m,\u001b[0m \u001b[0mkey\u001b[0m\u001b[1;33m)\u001b[0m\u001b[1;33m:\u001b[0m\u001b[1;33m\u001b[0m\u001b[1;33m\u001b[0m\u001b[0m\n",
      "\u001b[1;32m~\\anaconda3\\lib\\site-packages\\pandas\\core\\series.py\u001b[0m in \u001b[0;36m_get_with\u001b[1;34m(self, key)\u001b[0m\n\u001b[0;32m   1001\u001b[0m                 \u001b[1;32mreturn\u001b[0m \u001b[0mself\u001b[0m\u001b[1;33m.\u001b[0m\u001b[0mloc\u001b[0m\u001b[1;33m[\u001b[0m\u001b[0mkey\u001b[0m\u001b[1;33m]\u001b[0m\u001b[1;33m\u001b[0m\u001b[1;33m\u001b[0m\u001b[0m\n\u001b[0;32m   1002\u001b[0m             \u001b[1;32melse\u001b[0m\u001b[1;33m:\u001b[0m\u001b[1;33m\u001b[0m\u001b[1;33m\u001b[0m\u001b[0m\n\u001b[1;32m-> 1003\u001b[1;33m                 \u001b[1;32mreturn\u001b[0m \u001b[0mself\u001b[0m\u001b[1;33m.\u001b[0m\u001b[0miloc\u001b[0m\u001b[1;33m[\u001b[0m\u001b[0mkey\u001b[0m\u001b[1;33m]\u001b[0m\u001b[1;33m\u001b[0m\u001b[1;33m\u001b[0m\u001b[0m\n\u001b[0m\u001b[0;32m   1004\u001b[0m \u001b[1;33m\u001b[0m\u001b[0m\n\u001b[0;32m   1005\u001b[0m         \u001b[1;31m# handle the dup indexing case GH#4246\u001b[0m\u001b[1;33m\u001b[0m\u001b[1;33m\u001b[0m\u001b[0m\n",
      "\u001b[1;32m~\\anaconda3\\lib\\site-packages\\pandas\\core\\indexing.py\u001b[0m in \u001b[0;36m__getitem__\u001b[1;34m(self, key)\u001b[0m\n\u001b[0;32m    929\u001b[0m \u001b[1;33m\u001b[0m\u001b[0m\n\u001b[0;32m    930\u001b[0m             \u001b[0mmaybe_callable\u001b[0m \u001b[1;33m=\u001b[0m \u001b[0mcom\u001b[0m\u001b[1;33m.\u001b[0m\u001b[0mapply_if_callable\u001b[0m\u001b[1;33m(\u001b[0m\u001b[0mkey\u001b[0m\u001b[1;33m,\u001b[0m \u001b[0mself\u001b[0m\u001b[1;33m.\u001b[0m\u001b[0mobj\u001b[0m\u001b[1;33m)\u001b[0m\u001b[1;33m\u001b[0m\u001b[1;33m\u001b[0m\u001b[0m\n\u001b[1;32m--> 931\u001b[1;33m             \u001b[1;32mreturn\u001b[0m \u001b[0mself\u001b[0m\u001b[1;33m.\u001b[0m\u001b[0m_getitem_axis\u001b[0m\u001b[1;33m(\u001b[0m\u001b[0mmaybe_callable\u001b[0m\u001b[1;33m,\u001b[0m \u001b[0maxis\u001b[0m\u001b[1;33m=\u001b[0m\u001b[0maxis\u001b[0m\u001b[1;33m)\u001b[0m\u001b[1;33m\u001b[0m\u001b[1;33m\u001b[0m\u001b[0m\n\u001b[0m\u001b[0;32m    932\u001b[0m \u001b[1;33m\u001b[0m\u001b[0m\n\u001b[0;32m    933\u001b[0m     \u001b[1;32mdef\u001b[0m \u001b[0m_is_scalar_access\u001b[0m\u001b[1;33m(\u001b[0m\u001b[0mself\u001b[0m\u001b[1;33m,\u001b[0m \u001b[0mkey\u001b[0m\u001b[1;33m:\u001b[0m \u001b[0mtuple\u001b[0m\u001b[1;33m)\u001b[0m\u001b[1;33m:\u001b[0m\u001b[1;33m\u001b[0m\u001b[1;33m\u001b[0m\u001b[0m\n",
      "\u001b[1;32m~\\anaconda3\\lib\\site-packages\\pandas\\core\\indexing.py\u001b[0m in \u001b[0;36m_getitem_axis\u001b[1;34m(self, key, axis)\u001b[0m\n\u001b[0;32m   1555\u001b[0m         \u001b[1;31m# a list of integers\u001b[0m\u001b[1;33m\u001b[0m\u001b[1;33m\u001b[0m\u001b[0m\n\u001b[0;32m   1556\u001b[0m         \u001b[1;32melif\u001b[0m \u001b[0mis_list_like_indexer\u001b[0m\u001b[1;33m(\u001b[0m\u001b[0mkey\u001b[0m\u001b[1;33m)\u001b[0m\u001b[1;33m:\u001b[0m\u001b[1;33m\u001b[0m\u001b[1;33m\u001b[0m\u001b[0m\n\u001b[1;32m-> 1557\u001b[1;33m             \u001b[1;32mreturn\u001b[0m \u001b[0mself\u001b[0m\u001b[1;33m.\u001b[0m\u001b[0m_get_list_axis\u001b[0m\u001b[1;33m(\u001b[0m\u001b[0mkey\u001b[0m\u001b[1;33m,\u001b[0m \u001b[0maxis\u001b[0m\u001b[1;33m=\u001b[0m\u001b[0maxis\u001b[0m\u001b[1;33m)\u001b[0m\u001b[1;33m\u001b[0m\u001b[1;33m\u001b[0m\u001b[0m\n\u001b[0m\u001b[0;32m   1558\u001b[0m \u001b[1;33m\u001b[0m\u001b[0m\n\u001b[0;32m   1559\u001b[0m         \u001b[1;31m# a single integer\u001b[0m\u001b[1;33m\u001b[0m\u001b[1;33m\u001b[0m\u001b[0m\n",
      "\u001b[1;32m~\\anaconda3\\lib\\site-packages\\pandas\\core\\indexing.py\u001b[0m in \u001b[0;36m_get_list_axis\u001b[1;34m(self, key, axis)\u001b[0m\n\u001b[0;32m   1528\u001b[0m         \"\"\"\n\u001b[0;32m   1529\u001b[0m         \u001b[1;32mtry\u001b[0m\u001b[1;33m:\u001b[0m\u001b[1;33m\u001b[0m\u001b[1;33m\u001b[0m\u001b[0m\n\u001b[1;32m-> 1530\u001b[1;33m             \u001b[1;32mreturn\u001b[0m \u001b[0mself\u001b[0m\u001b[1;33m.\u001b[0m\u001b[0mobj\u001b[0m\u001b[1;33m.\u001b[0m\u001b[0m_take_with_is_copy\u001b[0m\u001b[1;33m(\u001b[0m\u001b[0mkey\u001b[0m\u001b[1;33m,\u001b[0m \u001b[0maxis\u001b[0m\u001b[1;33m=\u001b[0m\u001b[0maxis\u001b[0m\u001b[1;33m)\u001b[0m\u001b[1;33m\u001b[0m\u001b[1;33m\u001b[0m\u001b[0m\n\u001b[0m\u001b[0;32m   1531\u001b[0m         \u001b[1;32mexcept\u001b[0m \u001b[0mIndexError\u001b[0m \u001b[1;32mas\u001b[0m \u001b[0merr\u001b[0m\u001b[1;33m:\u001b[0m\u001b[1;33m\u001b[0m\u001b[1;33m\u001b[0m\u001b[0m\n\u001b[0;32m   1532\u001b[0m             \u001b[1;31m# re-raise with different error message\u001b[0m\u001b[1;33m\u001b[0m\u001b[1;33m\u001b[0m\u001b[0m\n",
      "\u001b[1;32m~\\anaconda3\\lib\\site-packages\\pandas\\core\\series.py\u001b[0m in \u001b[0;36m_take_with_is_copy\u001b[1;34m(self, indices, axis)\u001b[0m\n\u001b[0;32m    905\u001b[0m         \u001b[0mSee\u001b[0m \u001b[0mthe\u001b[0m \u001b[0mdocstring\u001b[0m \u001b[0mof\u001b[0m\u001b[0;31m \u001b[0m\u001b[0;31m`\u001b[0m\u001b[0mtake\u001b[0m\u001b[0;31m`\u001b[0m \u001b[1;32mfor\u001b[0m \u001b[0mfull\u001b[0m \u001b[0mexplanation\u001b[0m \u001b[0mof\u001b[0m \u001b[0mthe\u001b[0m \u001b[0mparameters\u001b[0m\u001b[1;33m.\u001b[0m\u001b[1;33m\u001b[0m\u001b[1;33m\u001b[0m\u001b[0m\n\u001b[0;32m    906\u001b[0m         \"\"\"\n\u001b[1;32m--> 907\u001b[1;33m         \u001b[1;32mreturn\u001b[0m \u001b[0mself\u001b[0m\u001b[1;33m.\u001b[0m\u001b[0mtake\u001b[0m\u001b[1;33m(\u001b[0m\u001b[0mindices\u001b[0m\u001b[1;33m=\u001b[0m\u001b[0mindices\u001b[0m\u001b[1;33m,\u001b[0m \u001b[0maxis\u001b[0m\u001b[1;33m=\u001b[0m\u001b[0maxis\u001b[0m\u001b[1;33m)\u001b[0m\u001b[1;33m\u001b[0m\u001b[1;33m\u001b[0m\u001b[0m\n\u001b[0m\u001b[0;32m    908\u001b[0m \u001b[1;33m\u001b[0m\u001b[0m\n\u001b[0;32m    909\u001b[0m     \u001b[1;32mdef\u001b[0m \u001b[0m_ixs\u001b[0m\u001b[1;33m(\u001b[0m\u001b[0mself\u001b[0m\u001b[1;33m,\u001b[0m \u001b[0mi\u001b[0m\u001b[1;33m:\u001b[0m \u001b[0mint\u001b[0m\u001b[1;33m,\u001b[0m \u001b[0maxis\u001b[0m\u001b[1;33m:\u001b[0m \u001b[0mint\u001b[0m \u001b[1;33m=\u001b[0m \u001b[1;36m0\u001b[0m\u001b[1;33m)\u001b[0m\u001b[1;33m:\u001b[0m\u001b[1;33m\u001b[0m\u001b[1;33m\u001b[0m\u001b[0m\n",
      "\u001b[1;32m~\\anaconda3\\lib\\site-packages\\pandas\\core\\series.py\u001b[0m in \u001b[0;36mtake\u001b[1;34m(self, indices, axis, is_copy, **kwargs)\u001b[0m\n\u001b[0;32m    893\u001b[0m         \u001b[0mnew_values\u001b[0m \u001b[1;33m=\u001b[0m \u001b[0mself\u001b[0m\u001b[1;33m.\u001b[0m\u001b[0m_values\u001b[0m\u001b[1;33m.\u001b[0m\u001b[0mtake\u001b[0m\u001b[1;33m(\u001b[0m\u001b[0mindices\u001b[0m\u001b[1;33m)\u001b[0m\u001b[1;33m\u001b[0m\u001b[1;33m\u001b[0m\u001b[0m\n\u001b[0;32m    894\u001b[0m \u001b[1;33m\u001b[0m\u001b[0m\n\u001b[1;32m--> 895\u001b[1;33m         \u001b[0mresult\u001b[0m \u001b[1;33m=\u001b[0m \u001b[0mself\u001b[0m\u001b[1;33m.\u001b[0m\u001b[0m_constructor\u001b[0m\u001b[1;33m(\u001b[0m\u001b[0mnew_values\u001b[0m\u001b[1;33m,\u001b[0m \u001b[0mindex\u001b[0m\u001b[1;33m=\u001b[0m\u001b[0mnew_index\u001b[0m\u001b[1;33m,\u001b[0m \u001b[0mfastpath\u001b[0m\u001b[1;33m=\u001b[0m\u001b[1;32mTrue\u001b[0m\u001b[1;33m)\u001b[0m\u001b[1;33m\u001b[0m\u001b[1;33m\u001b[0m\u001b[0m\n\u001b[0m\u001b[0;32m    896\u001b[0m         \u001b[1;32mreturn\u001b[0m \u001b[0mresult\u001b[0m\u001b[1;33m.\u001b[0m\u001b[0m__finalize__\u001b[0m\u001b[1;33m(\u001b[0m\u001b[0mself\u001b[0m\u001b[1;33m,\u001b[0m \u001b[0mmethod\u001b[0m\u001b[1;33m=\u001b[0m\u001b[1;34m\"take\"\u001b[0m\u001b[1;33m)\u001b[0m\u001b[1;33m\u001b[0m\u001b[1;33m\u001b[0m\u001b[0m\n\u001b[0;32m    897\u001b[0m \u001b[1;33m\u001b[0m\u001b[0m\n",
      "\u001b[1;32m~\\anaconda3\\lib\\site-packages\\pandas\\core\\series.py\u001b[0m in \u001b[0;36m__init__\u001b[1;34m(self, data, index, dtype, name, copy, fastpath)\u001b[0m\n\u001b[0;32m    341\u001b[0m                 \u001b[0mmanager\u001b[0m \u001b[1;33m=\u001b[0m \u001b[0mget_option\u001b[0m\u001b[1;33m(\u001b[0m\u001b[1;34m\"mode.data_manager\"\u001b[0m\u001b[1;33m)\u001b[0m\u001b[1;33m\u001b[0m\u001b[1;33m\u001b[0m\u001b[0m\n\u001b[0;32m    342\u001b[0m                 \u001b[1;32mif\u001b[0m \u001b[0mmanager\u001b[0m \u001b[1;33m==\u001b[0m \u001b[1;34m\"block\"\u001b[0m\u001b[1;33m:\u001b[0m\u001b[1;33m\u001b[0m\u001b[1;33m\u001b[0m\u001b[0m\n\u001b[1;32m--> 343\u001b[1;33m                     \u001b[0mdata\u001b[0m \u001b[1;33m=\u001b[0m \u001b[0mSingleBlockManager\u001b[0m\u001b[1;33m.\u001b[0m\u001b[0mfrom_array\u001b[0m\u001b[1;33m(\u001b[0m\u001b[0mdata\u001b[0m\u001b[1;33m,\u001b[0m \u001b[0mindex\u001b[0m\u001b[1;33m)\u001b[0m\u001b[1;33m\u001b[0m\u001b[1;33m\u001b[0m\u001b[0m\n\u001b[0m\u001b[0;32m    344\u001b[0m                 \u001b[1;32melif\u001b[0m \u001b[0mmanager\u001b[0m \u001b[1;33m==\u001b[0m \u001b[1;34m\"array\"\u001b[0m\u001b[1;33m:\u001b[0m\u001b[1;33m\u001b[0m\u001b[1;33m\u001b[0m\u001b[0m\n\u001b[0;32m    345\u001b[0m                     \u001b[0mdata\u001b[0m \u001b[1;33m=\u001b[0m \u001b[0mSingleArrayManager\u001b[0m\u001b[1;33m.\u001b[0m\u001b[0mfrom_array\u001b[0m\u001b[1;33m(\u001b[0m\u001b[0mdata\u001b[0m\u001b[1;33m,\u001b[0m \u001b[0mindex\u001b[0m\u001b[1;33m)\u001b[0m\u001b[1;33m\u001b[0m\u001b[1;33m\u001b[0m\u001b[0m\n",
      "\u001b[1;32m~\\anaconda3\\lib\\site-packages\\pandas\\core\\internals\\managers.py\u001b[0m in \u001b[0;36mfrom_array\u001b[1;34m(cls, array, index)\u001b[0m\n\u001b[0;32m   1572\u001b[0m         \u001b[0mConstructor\u001b[0m \u001b[1;32mfor\u001b[0m \u001b[1;32mif\u001b[0m \u001b[0mwe\u001b[0m \u001b[0mhave\u001b[0m \u001b[0man\u001b[0m \u001b[0marray\u001b[0m \u001b[0mthat\u001b[0m \u001b[1;32mis\u001b[0m \u001b[1;32mnot\u001b[0m \u001b[0myet\u001b[0m \u001b[0ma\u001b[0m \u001b[0mBlock\u001b[0m\u001b[1;33m.\u001b[0m\u001b[1;33m\u001b[0m\u001b[1;33m\u001b[0m\u001b[0m\n\u001b[0;32m   1573\u001b[0m         \"\"\"\n\u001b[1;32m-> 1574\u001b[1;33m         \u001b[0mblock\u001b[0m \u001b[1;33m=\u001b[0m \u001b[0mnew_block\u001b[0m\u001b[1;33m(\u001b[0m\u001b[0marray\u001b[0m\u001b[1;33m,\u001b[0m \u001b[0mplacement\u001b[0m\u001b[1;33m=\u001b[0m\u001b[0mslice\u001b[0m\u001b[1;33m(\u001b[0m\u001b[1;36m0\u001b[0m\u001b[1;33m,\u001b[0m \u001b[0mlen\u001b[0m\u001b[1;33m(\u001b[0m\u001b[0mindex\u001b[0m\u001b[1;33m)\u001b[0m\u001b[1;33m)\u001b[0m\u001b[1;33m,\u001b[0m \u001b[0mndim\u001b[0m\u001b[1;33m=\u001b[0m\u001b[1;36m1\u001b[0m\u001b[1;33m)\u001b[0m\u001b[1;33m\u001b[0m\u001b[1;33m\u001b[0m\u001b[0m\n\u001b[0m\u001b[0;32m   1575\u001b[0m         \u001b[1;32mreturn\u001b[0m \u001b[0mcls\u001b[0m\u001b[1;33m(\u001b[0m\u001b[0mblock\u001b[0m\u001b[1;33m,\u001b[0m \u001b[0mindex\u001b[0m\u001b[1;33m)\u001b[0m\u001b[1;33m\u001b[0m\u001b[1;33m\u001b[0m\u001b[0m\n\u001b[0;32m   1576\u001b[0m \u001b[1;33m\u001b[0m\u001b[0m\n",
      "\u001b[1;32m~\\anaconda3\\lib\\site-packages\\pandas\\core\\internals\\blocks.py\u001b[0m in \u001b[0;36mnew_block\u001b[1;34m(values, placement, ndim, klass)\u001b[0m\n\u001b[0;32m   1935\u001b[0m \u001b[1;33m\u001b[0m\u001b[0m\n\u001b[0;32m   1936\u001b[0m     \u001b[0mvalues\u001b[0m\u001b[1;33m,\u001b[0m \u001b[0m_\u001b[0m \u001b[1;33m=\u001b[0m \u001b[0mextract_pandas_array\u001b[0m\u001b[1;33m(\u001b[0m\u001b[0mvalues\u001b[0m\u001b[1;33m,\u001b[0m \u001b[1;32mNone\u001b[0m\u001b[1;33m,\u001b[0m \u001b[0mndim\u001b[0m\u001b[1;33m)\u001b[0m\u001b[1;33m\u001b[0m\u001b[1;33m\u001b[0m\u001b[0m\n\u001b[1;32m-> 1937\u001b[1;33m     \u001b[0mcheck_ndim\u001b[0m\u001b[1;33m(\u001b[0m\u001b[0mvalues\u001b[0m\u001b[1;33m,\u001b[0m \u001b[0mplacement\u001b[0m\u001b[1;33m,\u001b[0m \u001b[0mndim\u001b[0m\u001b[1;33m)\u001b[0m\u001b[1;33m\u001b[0m\u001b[1;33m\u001b[0m\u001b[0m\n\u001b[0m\u001b[0;32m   1938\u001b[0m \u001b[1;33m\u001b[0m\u001b[0m\n\u001b[0;32m   1939\u001b[0m     \u001b[1;32mif\u001b[0m \u001b[0mklass\u001b[0m \u001b[1;32mis\u001b[0m \u001b[1;32mNone\u001b[0m\u001b[1;33m:\u001b[0m\u001b[1;33m\u001b[0m\u001b[1;33m\u001b[0m\u001b[0m\n",
      "\u001b[1;32m~\\anaconda3\\lib\\site-packages\\pandas\\core\\internals\\blocks.py\u001b[0m in \u001b[0;36mcheck_ndim\u001b[1;34m(values, placement, ndim)\u001b[0m\n\u001b[0;32m   1964\u001b[0m     \u001b[1;32mif\u001b[0m \u001b[0mvalues\u001b[0m\u001b[1;33m.\u001b[0m\u001b[0mndim\u001b[0m \u001b[1;33m>\u001b[0m \u001b[0mndim\u001b[0m\u001b[1;33m:\u001b[0m\u001b[1;33m\u001b[0m\u001b[1;33m\u001b[0m\u001b[0m\n\u001b[0;32m   1965\u001b[0m         \u001b[1;31m# Check for both np.ndarray and ExtensionArray\u001b[0m\u001b[1;33m\u001b[0m\u001b[1;33m\u001b[0m\u001b[0m\n\u001b[1;32m-> 1966\u001b[1;33m         raise ValueError(\n\u001b[0m\u001b[0;32m   1967\u001b[0m             \u001b[1;34m\"Wrong number of dimensions. \"\u001b[0m\u001b[1;33m\u001b[0m\u001b[1;33m\u001b[0m\u001b[0m\n\u001b[0;32m   1968\u001b[0m             \u001b[1;34mf\"values.ndim > ndim [{values.ndim} > {ndim}]\"\u001b[0m\u001b[1;33m\u001b[0m\u001b[1;33m\u001b[0m\u001b[0m\n",
      "\u001b[1;31mValueError\u001b[0m: Wrong number of dimensions. values.ndim > ndim [2 > 1]"
     ]
    },
    {
     "data": {
      "image/png": "[encoded data removed]",
      "text/plain": [
       "<Figure size 432x288 with 1 Axes>"
      ]
     },
     "metadata": {
      "needs_background": "light"
     },
     "output_type": "display_data"
    }
   ],
   "source": [
    "# 10만명 확진자에서 이웃까지의 거리, 이웃 샘플의 인덱스\n",
    "distances, indexes = knr.kneighbors([[100000]])\n",
    "print(indexes)\n",
    "\n",
    "# 훈련 데이터 시각화\n",
    "plt.scatter(train_input, train_target)\n",
    "# 이웃 샘플 데이터 시각화\n",
    "plt.scatter(train_input[indexes], train_target[indexes], marker='D')\n",
    "# 1만명 코로나 데이터 시각화\n",
    "plt.scatter(10000, 2701.19, marker='^')\n",
    "plt.title('n_neighbors = 3')  \n",
    "plt.xlabel('covid count')\n",
    "plt.ylabel('kospi')\n",
    "plt.show()"
   ]
  },
  {
   "cell_type": "code",
   "execution_count": null,
   "metadata": {
    "colab": {
     "base_uri": "https://localhost:8080/",
     "height": 35
    },
    "colab_type": "code",
    "executionInfo": {
     "elapsed": 1664,
     "status": "ok",
     "timestamp": 1589780993184,
     "user": {
      "displayName": "Haesun Park",
      "photoUrl": "https://lh3.googleusercontent.com/a-/AOh14GhsWlS7sKQL-9fIkg3FmxpTMz_u-KDSs8y__P1ngQ=s64",
      "userId": "14935388527648823821"
     },
     "user_tz": -540
    },
    "id": "-eljdQI_d0go",
    "outputId": "811fcc57-7b36-498e-ef55-6415e77db69c"
   },
   "outputs": [],
   "source": [
    "print(np.mean(train_target[indexes]))"
   ]
  },
  {
   "cell_type": "code",
   "execution_count": null,
   "metadata": {
    "colab": {
     "base_uri": "https://localhost:8080/",
     "height": 35
    },
    "colab_type": "code",
    "executionInfo": {
     "elapsed": 1658,
     "status": "ok",
     "timestamp": 1589780993184,
     "user": {
      "displayName": "Haesun Park",
      "photoUrl": "https://lh3.googleusercontent.com/a-/AOh14GhsWlS7sKQL-9fIkg3FmxpTMz_u-KDSs8y__P1ngQ=s64",
      "userId": "14935388527648823821"
     },
     "user_tz": -540
    },
    "id": "8cw87IL3t_3p",
    "outputId": "49c65839-728c-4c45-aa47-3d2f36ff4e15"
   },
   "outputs": [],
   "source": [
    "print(knr.predict([[10000000]]))"
   ]
  },
  {
   "cell_type": "code",
   "execution_count": null,
   "metadata": {
    "colab": {
     "base_uri": "https://localhost:8080/",
     "height": 265
    },
    "colab_type": "code",
    "executionInfo": {
     "elapsed": 1654,
     "status": "ok",
     "timestamp": 1589780993185,
     "user": {
      "displayName": "Haesun Park",
      "photoUrl": "https://lh3.googleusercontent.com/a-/AOh14GhsWlS7sKQL-9fIkg3FmxpTMz_u-KDSs8y__P1ngQ=s64",
      "userId": "14935388527648823821"
     },
     "user_tz": -540
    },
    "id": "YIMtpZKPfQjc",
    "outputId": "6a30c6c1-2c0f-4523-b4ad-857e0d2168f7"
   },
   "outputs": [],
   "source": [
    "# 1000만명 확진자에서 이웃까지의 거리, 이웃 샘플의 인덱스\n",
    "distances, indexes = knr.kneighbors([[10000000]])\n",
    "\n",
    "# 훈련 데이터 시각화\n",
    "plt.scatter(train_input, train_target)\n",
    "# 이웃 샘플 데이터 시각화\n",
    "plt.scatter(train_input[indexes], train_target[indexes], marker='D')\n",
    "# 1000만명 코로나 데이터 시각화\n",
    "plt.scatter(10000000, 2739.14, marker='^')\n",
    "plt.xlabel('covid count')\n",
    "plt.ylabel('kospi')\n",
    "plt.show()"
   ]
  },
  {
   "cell_type": "markdown",
   "metadata": {
    "colab_type": "text",
    "id": "yFadoVqdpe93"
   },
   "source": [
    "## 선형 회귀"
   ]
  },
  {
   "cell_type": "code",
   "execution_count": null,
   "metadata": {
    "colab": {},
    "colab_type": "code",
    "id": "AKnGV8g5uN_U"
   },
   "outputs": [],
   "source": [
    "from sklearn.linear_model import LinearRegression\n",
    "from sklearn.metrics import mean_absolute_error\n",
    "from sklearn.metrics import mean_squared_error\n",
    "from sklearn.metrics import r2_score"
   ]
  },
  {
   "cell_type": "code",
   "execution_count": null,
   "metadata": {
    "colab": {
     "base_uri": "https://localhost:8080/",
     "height": 35
    },
    "colab_type": "code",
    "executionInfo": {
     "elapsed": 1645,
     "status": "ok",
     "timestamp": 1589780993185,
     "user": {
      "displayName": "Haesun Park",
      "photoUrl": "https://lh3.googleusercontent.com/a-/AOh14GhsWlS7sKQL-9fIkg3FmxpTMz_u-KDSs8y__P1ngQ=s64",
      "userId": "14935388527648823821"
     },
     "user_tz": -540
    },
    "id": "Ypqgx5RRuOWg",
    "outputId": "4cd87532-d4e2-40eb-d1e0-b75056c536c2"
   },
   "outputs": [],
   "source": [
    "# 선형 회귀 모델 선정 & 훈련\n",
    "lr = LinearRegression()\n",
    "lr.fit(train_input, train_target)"
   ]
  },
  {
   "cell_type": "code",
   "execution_count": null,
   "metadata": {
    "colab": {
     "base_uri": "https://localhost:8080/",
     "height": 35
    },
    "colab_type": "code",
    "executionInfo": {
     "elapsed": 1641,
     "status": "ok",
     "timestamp": 1589780993186,
     "user": {
      "displayName": "Haesun Park",
      "photoUrl": "https://lh3.googleusercontent.com/a-/AOh14GhsWlS7sKQL-9fIkg3FmxpTMz_u-KDSs8y__P1ngQ=s64",
      "userId": "14935388527648823821"
     },
     "user_tz": -540
    },
    "id": "_Dh2FgXouRLU",
    "outputId": "36431778-59e3-4005-e780-76c2cc9dfb67"
   },
   "outputs": [],
   "source": [
    "# 30만명 코로나 결과 예측\n",
    "print(lr.predict([[300000]]))"
   ]
  },
  {
   "cell_type": "code",
   "execution_count": null,
   "metadata": {
    "colab": {
     "base_uri": "https://localhost:8080/",
     "height": 35
    },
    "colab_type": "code",
    "executionInfo": {
     "elapsed": 1635,
     "status": "ok",
     "timestamp": 1589780993186,
     "user": {
      "displayName": "Haesun Park",
      "photoUrl": "https://lh3.googleusercontent.com/a-/AOh14GhsWlS7sKQL-9fIkg3FmxpTMz_u-KDSs8y__P1ngQ=s64",
      "userId": "14935388527648823821"
     },
     "user_tz": -540
    },
    "id": "Gy_CKIiIMxDu",
    "outputId": "865ebeb5-8507-4c7a-e4e0-5fe1d47507ac"
   },
   "outputs": [],
   "source": [
    "# 파라미터 출력\n",
    "print(lr.coef_, lr.intercept_)"
   ]
  },
  {
   "cell_type": "code",
   "execution_count": null,
   "metadata": {
    "colab": {
     "base_uri": "https://localhost:8080/",
     "height": 265
    },
    "colab_type": "code",
    "executionInfo": {
     "elapsed": 2094,
     "status": "ok",
     "timestamp": 1589780993650,
     "user": {
      "displayName": "Haesun Park",
      "photoUrl": "https://lh3.googleusercontent.com/a-/AOh14GhsWlS7sKQL-9fIkg3FmxpTMz_u-KDSs8y__P1ngQ=s64",
      "userId": "14935388527648823821"
     },
     "user_tz": -540
    },
    "id": "VumOdzlFuV_5",
    "outputId": "7a8d52e8-7643-4de4-bcb6-2af933a8a4f9"
   },
   "outputs": [],
   "source": [
    "# 시각화\n",
    "plt.scatter(train_input, train_target, label='Original Data')\n",
    "# 0 ~ 30만 코로나 범위 1차 방정식 그래프\n",
    "plt.plot([0, 300000], [0*lr.coef_+lr.intercept_, 300000*lr.coef_+lr.intercept_], 'r', label='Linear Regression')\n",
    "# 30만명 코로나 데이터 시각화\n",
    "plt.scatter(300000, lr.predict([[300000]]), marker='^')\n",
    "plt.xlabel('covid count')\n",
    "plt.ylabel('kospi')\n",
    "plt.legend()\n",
    "plt.show()\n",
    "\n",
    "# 결과 예측 by 테스트 데이터\n",
    "test_prediction = lr.predict(test_input)\n",
    "\n",
    "# 모델분석(결정계수) by 테스트 데이터 & 테스트 데이터\n",
    "print(\"linear_train_accuracy :\", end = ' ')\n",
    "print(lr.score(train_input, train_target))\n",
    "print(\"linear_test_accuracy :\", end = ' ')\n",
    "print(lr.score(test_input, test_target))\n",
    "\n",
    "# 평균 오차 계산 by 테스트 데이터\n",
    "mae = mean_absolute_error(test_target, test_prediction)\n",
    "mse = mean_squared_error(test_target, test_prediction)\n",
    "rmse = np.sqrt(mse)\n",
    "print('MAE : {0:.3f}'.format(mae))\n",
    "print('MSE : {0:.3f}'.format(mse))\n",
    "print('RMSE : {0:.3f}'.format(rmse))"
   ]
  },
  {
   "cell_type": "code",
   "execution_count": null,
   "metadata": {},
   "outputs": [],
   "source": [
    "# from sklearn.model_selection import GridSearchCV\n",
    "# from sklearn.model_selection import KFold\n",
    "# # from sklearn.preprocessing import StandardScaler\n",
    "# # from sklearn.pipeline import Pipeline\n",
    "# lr = LinearRegression()\n",
    "# param_grid = {}\n",
    "# cv=KFold(n_splits=10)\n",
    "# gs_lr = GridSearchCV(lr, param_grid=param_grid, cv=cv)\n",
    "# gs_lr.fit(train_input, train_target)\n",
    "# # y_predict = best_model.predict(x_test)"
   ]
  },
  {
   "cell_type": "code",
   "execution_count": null,
   "metadata": {},
   "outputs": [],
   "source": [
    "# # 전체 GridSearch 결과 출력\n",
    "# lr_df = pd.DataFrame(gs_lr.cv_results_)\n",
    "# lr_df"
   ]
  },
  {
   "cell_type": "code",
   "execution_count": null,
   "metadata": {},
   "outputs": [],
   "source": [
    "# # 최고 성능 모델\n",
    "# print('lr best params', gs_lr.best_params_)   # 최적의 파라미터 값 출력\n",
    "# print('lr best score', gs_lr.best_score_)      # 최고의 점수\n",
    "\n",
    "# best_model_lr = gs_lr.best_estimator_"
   ]
  },
  {
   "cell_type": "markdown",
   "metadata": {
    "colab_type": "text",
    "id": "h-akkHaaQc0b"
   },
   "source": [
    "## 다항 회귀"
   ]
  },
  {
   "cell_type": "markdown",
   "metadata": {},
   "source": [
    "### 2차 그래프"
   ]
  },
  {
   "cell_type": "code",
   "execution_count": null,
   "metadata": {
    "colab": {},
    "colab_type": "code",
    "id": "wcdsYFxB2q82"
   },
   "outputs": [],
   "source": [
    "# 데이터셋 전처리\n",
    "train_poly = np.column_stack((train_input ** 2, train_input))\n",
    "test_poly = np.column_stack((test_input ** 2, test_input))"
   ]
  },
  {
   "cell_type": "code",
   "execution_count": null,
   "metadata": {
    "colab": {
     "base_uri": "https://localhost:8080/",
     "height": 35
    },
    "colab_type": "code",
    "executionInfo": {
     "elapsed": 2077,
     "status": "ok",
     "timestamp": 1589780993652,
     "user": {
      "displayName": "Haesun Park",
      "photoUrl": "https://lh3.googleusercontent.com/a-/AOh14GhsWlS7sKQL-9fIkg3FmxpTMz_u-KDSs8y__P1ngQ=s64",
      "userId": "14935388527648823821"
     },
     "user_tz": -540
    },
    "id": "JJ6tf1F96EzF",
    "outputId": "2335267c-34a7-4ccb-985a-855cfefce38a"
   },
   "outputs": [],
   "source": [
    "print(train_poly.shape, test_poly.shape)"
   ]
  },
  {
   "cell_type": "code",
   "execution_count": null,
   "metadata": {
    "colab": {
     "base_uri": "https://localhost:8080/",
     "height": 35
    },
    "colab_type": "code",
    "executionInfo": {
     "elapsed": 2073,
     "status": "ok",
     "timestamp": 1589780993653,
     "user": {
      "displayName": "Haesun Park",
      "photoUrl": "https://lh3.googleusercontent.com/a-/AOh14GhsWlS7sKQL-9fIkg3FmxpTMz_u-KDSs8y__P1ngQ=s64",
      "userId": "14935388527648823821"
     },
     "user_tz": -540
    },
    "id": "LTlN32tML4Kf",
    "outputId": "4d2d6db5-5296-471c-b72a-0097786f9d4f"
   },
   "outputs": [],
   "source": [
    "# 선형 회귀 모델 선정 & 훈련\n",
    "lr = LinearRegression()\n",
    "lr.fit(train_poly, train_target)\n",
    "\n",
    "# 30만명 코로나 결과 예측\n",
    "print(lr.predict([[300000**2, 300000]]))"
   ]
  },
  {
   "cell_type": "code",
   "execution_count": null,
   "metadata": {
    "colab": {
     "base_uri": "https://localhost:8080/",
     "height": 35
    },
    "colab_type": "code",
    "executionInfo": {
     "elapsed": 2068,
     "status": "ok",
     "timestamp": 1589780993654,
     "user": {
      "displayName": "Haesun Park",
      "photoUrl": "https://lh3.googleusercontent.com/a-/AOh14GhsWlS7sKQL-9fIkg3FmxpTMz_u-KDSs8y__P1ngQ=s64",
      "userId": "14935388527648823821"
     },
     "user_tz": -540
    },
    "id": "k_fGreBgNCAc",
    "outputId": "f26d2789-e893-4ed0-8fd2-857d14f75776"
   },
   "outputs": [],
   "source": [
    "# 파라미터 출력\n",
    "print(lr.coef_, lr.intercept_)"
   ]
  },
  {
   "cell_type": "code",
   "execution_count": null,
   "metadata": {
    "colab": {
     "base_uri": "https://localhost:8080/",
     "height": 265
    },
    "colab_type": "code",
    "executionInfo": {
     "elapsed": 2063,
     "status": "ok",
     "timestamp": 1589780993654,
     "user": {
      "displayName": "Haesun Park",
      "photoUrl": "https://lh3.googleusercontent.com/a-/AOh14GhsWlS7sKQL-9fIkg3FmxpTMz_u-KDSs8y__P1ngQ=s64",
      "userId": "14935388527648823821"
     },
     "user_tz": -540
    },
    "id": "c91qVYoPLz1H",
    "outputId": "7cc80bfd-8aba-4a81-876f-ea7bbe1cbc2d",
    "scrolled": false
   },
   "outputs": [],
   "source": [
    "# 시각화\n",
    "plt.scatter(train_input, train_target, label='Original Data')\n",
    "# 0 ~ 30만 코로나 범위 2차 방정식 그래프\n",
    "# point = np.arange(0, 300000, 1)\n",
    "point = np.linspace(0, 300000, 300000)\n",
    "plt.plot(point, lr.coef_[0]*point**2 + lr.coef_[1]*point + lr.intercept_, 'r', label='Poly Linear Regression')\n",
    "# 30만명 코로나 데이터 시각화\n",
    "plt.scatter([300000], [lr.predict([[300000**2, 300000]])], marker='^')\n",
    "plt.xlabel('covid count')\n",
    "plt.ylabel('kospi')\n",
    "plt.legend()\n",
    "plt.show()\n",
    "\n",
    "# 결과 예측 by 테스트 데이터\n",
    "test_prediction = lr.predict(test_poly)\n",
    "\n",
    "# 모델분석(결정계수) by 테스트 데이터 & 테스트 데이터\n",
    "print(\"poly_train_accuracy :\", end = ' ')\n",
    "print(lr.score(train_poly, train_target))\n",
    "print(\"poly_test_accuracy :\", end = ' ')\n",
    "print(lr.score(test_poly, test_target))\n",
    "\n",
    "# 평균 오차 계산 by 테스트 데이터\n",
    "mae = mean_absolute_error(test_target, test_prediction)\n",
    "mse = mean_squared_error(test_target, test_prediction)\n",
    "rmse = np.sqrt(mse)\n",
    "print('MAE : {0:.3f}'.format(mae))\n",
    "print('MSE : {0:.3f}'.format(mse))\n",
    "print('RMSE : {0:.3f}'.format(rmse))"
   ]
  },
  {
   "cell_type": "markdown",
   "metadata": {},
   "source": [
    "### 모듈 이용"
   ]
  },
  {
   "cell_type": "code",
   "execution_count": null,
   "metadata": {
    "scrolled": true
   },
   "outputs": [],
   "source": [
    "# 다항식\n",
    "from sklearn.preprocessing import PolynomialFeatures\n",
    "from sklearn.pipeline import Pipeline\n",
    "\n",
    "# 다항식 변환\n",
    "print('일차 단항식 계수 피처 : ', train_input[0])\n",
    "fig = plt.figure(figsize = (15, 15))\n",
    "\n",
    "degrees = [2, 3, 4, 5, 8, 10, 20, 30]\n",
    "\n",
    "# 다항식 시각화\n",
    "for i in range(len(degrees)):\n",
    "    print(\"ㅡㅡㅡㅡㅡㅡㅡㅡㅡㅡㅡㅡㅡㅡㅡㅡㅡㅡㅡㅡㅡㅡㅡㅡ\")\n",
    "    print(\"degrees : \", degrees[i])\n",
    "    print(\"ㅡㅡㅡㅡㅡㅡㅡㅡㅡㅡㅡㅡㅡㅡㅡㅡㅡㅡㅡㅡㅡㅡㅡㅡ\")\n",
    "    ax = plt.subplot(2, len(degrees)/2, i + 1)\n",
    "    plt.setp(ax, xticks=(), yticks=())\n",
    "\n",
    "    poly_features = PolynomialFeatures(degree=degrees[i], include_bias = True)\n",
    "    train_poly = poly_features.fit_transform(train_input)\n",
    "    test_poly = poly_features.transform(test_input)\n",
    "\n",
    "    # 선형 회귀 모델 선정 & 훈련\n",
    "    lr = LinearRegression()\n",
    "#     pipeline = Pipeline([(\"polynomial_features\", polynomial_features),\n",
    "#                     (\"linear_regression\", lr)])\n",
    "#     pipeline.fit(train_poly[:, np.newaxis], train_target)\n",
    "    lr.fit(train_poly, train_target)\n",
    "\n",
    "    # 파라미터 출력\n",
    "    print(\"intercept : \", lr.intercept_)\n",
    "    print(\"coefficient : \", lr.coef_)\n",
    "    print()\n",
    "\n",
    "    # 시각화\n",
    "    plt.scatter(train_input, train_target, label=\"Original Data\")\n",
    "\n",
    "#     point = np.arange(0, 10000**(1/i)).reshape(-1, 1)\n",
    "    # 예측값 곡선\n",
    "    X_new = np.linspace(0, 250000, 250000).reshape(250000, 1)\n",
    "#     plt.plot(X_test, pipeline.predict(X_test[:, np.newaxis]), label=\"Model\") \n",
    "    X_new_poly = poly_features.transform(X_new)\n",
    "    y_new = lr.predict(X_new_poly)\n",
    "    \n",
    "# 실제 값 곡선\n",
    "#     plt.plot(X_test, true_fun(X_test), '--', label=\"True function\")\n",
    "#     point_poly_input = poly_features.transform(point)\n",
    "#     point_poly_pre = lr.predict(point_poly_input)\n",
    "#     plt.plot(point_poly_input, point_poly_pre)\n",
    "    plt.plot(X_new, y_new, \"r\", linewidth=2, label=\"Poly Linear Regression\")\n",
    "    plt.xlabel('covid count')\n",
    "    plt.ylabel('kospi')\n",
    "    plt.legend()\n",
    "# plt.axis([-3000, 10000, 1500, 4000])\n",
    "\n",
    "    # 결과 예측 by 테스트 데이터\n",
    "    test_prediction = lr.predict(test_poly)\n",
    "\n",
    "    # 모델분석(결정계수) by 테스트 데이터 & 테스트 데이터\n",
    "    print(\"train accuracy : \", lr.score(train_poly, train_target))\n",
    "    print(\"test accuracy : \", lr.score(test_poly, test_target))\n",
    "\n",
    "    # 평균 오차 계산 by 테스트 데이터\n",
    "    mae = mean_absolute_error(test_target, test_prediction)\n",
    "    mse = mean_squared_error(test_target, test_prediction)\n",
    "    rmse = np.sqrt(mse)\n",
    "    print('MAE : {0:.3f}'.format(mae))\n",
    "    print('MSE : {0:.3f}'.format(mse))\n",
    "    print('RMSE : {0:.3f}'.format(rmse))\n",
    "    \n",
    "plt.show()"
   ]
  },
  {
   "cell_type": "code",
   "execution_count": null,
   "metadata": {},
   "outputs": [],
   "source": [
    "# train_errors, val_errors = [], []\n",
    "# for m in range (1, len(train_input)):\n",
    "#     model.fit(train_input[:m], train_target[:m])\n",
    "#     y_train_predict = model.predict(train_input[:m])\n",
    "#     y_val_predict = model.predict(X_val)\n",
    "#     train_errors.append(mean_squared_error(y_train[:m], y_train_predict))\n",
    "#     val_errors.append(mean_squared_error(y_val, y_val_predict))\n",
    "# plt.plot(np.sqrt(train_errors), \"r-+\", linewidth = 2, label = \"train set\")\n",
    "# plt.plot(np.sqrt(val_errors), \"b-\", linewidth = 3, label = \"validation set\") \n",
    "# plt.xlabel(\"size of train set\")\n",
    "# plt.ylabel(\"RMSE\")\n",
    "# plt.legend()"
   ]
  },
  {
   "cell_type": "markdown",
   "metadata": {},
   "source": [
    "# Standard Scaler"
   ]
  },
  {
   "cell_type": "markdown",
   "metadata": {},
   "source": [
    "## Small N"
   ]
  },
  {
   "cell_type": "code",
   "execution_count": null,
   "metadata": {
    "scrolled": false
   },
   "outputs": [],
   "source": [
    "# 다항식\n",
    "from sklearn.preprocessing import PolynomialFeatures\n",
    "from sklearn.preprocessing import StandardScaler\n",
    "from sklearn.pipeline import Pipeline\n",
    "\n",
    "# 다항식 변환\n",
    "print('일차 단항식 계수 피처 : ', train_input[0])\n",
    "fig = plt.figure(figsize = (15, 15))\n",
    "\n",
    "degrees = [2, 3, 4, 5, 8, 10, 20, 30]\n",
    "\n",
    "# 다항식 시각화\n",
    "for i in range(len(degrees)):\n",
    "    print(\"ㅡㅡㅡㅡㅡㅡㅡㅡㅡㅡㅡㅡㅡㅡㅡㅡㅡㅡㅡㅡㅡㅡㅡㅡ\")\n",
    "    print(\"degrees : \", degrees[i])\n",
    "    print(\"ㅡㅡㅡㅡㅡㅡㅡㅡㅡㅡㅡㅡㅡㅡㅡㅡㅡㅡㅡㅡㅡㅡㅡㅡ\")\n",
    "    ax = plt.subplot(2, len(degrees)/2, i + 1)\n",
    "    plt.setp(ax, xticks=(), yticks=())\n",
    "\n",
    "    poly_features = PolynomialFeatures(degree=degrees[i], include_bias = True)\n",
    "    train_poly = poly_features.fit_transform(train_input)\n",
    "    test_poly = poly_features.transform(test_input)\n",
    "    \n",
    "    ss = StandardScaler()\n",
    "    ss.fit(train_poly)\n",
    "    \n",
    "    train_scaled = ss.transform(train_poly)\n",
    "    test_scaled = ss.transform(test_poly)\n",
    "\n",
    "    # 선형 회귀 모델 선정 & 훈련\n",
    "    lr = LinearRegression()\n",
    "    lr.fit(train_scaled, train_target)\n",
    "    #     pipeline = Pipeline([(\"polynomial_features\", polynomial_features),\n",
    "    #                     (\"linear_regression\", lr)])\n",
    "    #     pipeline.fit(train_poly[:, np.newaxis], train_target)\n",
    "\n",
    "    # 파라미터 출력\n",
    "    print(\"intercept : \", lr.intercept_)\n",
    "    print(\"coefficient : \", lr.coef_)\n",
    "    print()\n",
    "\n",
    "    # 시각화\n",
    "    plt.scatter(train_input, train_target, label=\"Original Data\")\n",
    "\n",
    "    # 예측값 곡선\n",
    "    X_new = np.linspace(0, 200000, 200000).reshape(200000, 1)\n",
    "    X_new_poly = poly_features.transform(X_new)\n",
    "    X_new_scaled = ss.transform(X_new_poly)\n",
    "    y_new = lr.predict(X_new_scaled)\n",
    "    \n",
    "    # 실제 값 곡선\n",
    "    # plt.plot(X_test, pipeline.predict(X_test[:, np.newaxis]), label=\"Model\") \n",
    "    #     plt.plot(X_test, true_fun(X_test), '--', label=\"True function\")\n",
    "    #     point_poly_input = poly_features.transform(point)\n",
    "    #     point_poly_pre = lr.predict(point_poly_input)\n",
    "    #     plt.plot(point_poly_input, point_poly_pre)\n",
    "    plt.plot(X_new, y_new, \"r\", linewidth=2, label=str(degrees[i]) + \"Poly Linear Regression\")\n",
    "    plt.xlabel('covid count')\n",
    "    plt.ylabel('kospi')\n",
    "    plt.legend()\n",
    "    # plt.axis([-3000, 10000, 1500, 4000])\n",
    "\n",
    "    # 결과 예측 by 테스트 데이터\n",
    "    test_prediction = lr.predict(test_scaled)\n",
    "\n",
    "    # 모델분석(결정계수) by 테스트 데이터 & 테스트 데이터\n",
    "    print(\"train accuracy : \", lr.score(train_scaled, train_target))\n",
    "    print(\"test accuracy : \", lr.score(test_scaled, test_target))\n",
    "\n",
    "    # 평균 오차 계산 by 테스트 데이터\n",
    "    mae = mean_absolute_error(test_target, test_prediction)\n",
    "    mse = mean_squared_error(test_target, test_prediction)\n",
    "    rmse = np.sqrt(mse)\n",
    "    print('MAE : {0:.3f}'.format(mae))\n",
    "    print('MSE : {0:.3f}'.format(mse))\n",
    "    print('RMSE : {0:.3f}'.format(rmse))\n",
    "    \n",
    "plt.show()"
   ]
  },
  {
   "cell_type": "markdown",
   "metadata": {},
   "source": [
    "## Big N"
   ]
  },
  {
   "cell_type": "code",
   "execution_count": null,
   "metadata": {},
   "outputs": [],
   "source": [
    "# 다항식\n",
    "from sklearn.preprocessing import PolynomialFeatures\n",
    "from sklearn.preprocessing import StandardScaler\n",
    "from sklearn.pipeline import Pipeline\n",
    "\n",
    "# 다항식 변환\n",
    "print('일차 단항식 계수 피처 : ', train_input[0])\n",
    "fig = plt.figure(figsize = (15, 15))\n",
    "\n",
    "degrees = [2, 3, 4, 5, 8, 10, 20, 30]\n",
    "\n",
    "# 다항식 시각화\n",
    "for i in range(len(degrees)):\n",
    "    print(\"ㅡㅡㅡㅡㅡㅡㅡㅡㅡㅡㅡㅡㅡㅡㅡㅡㅡㅡㅡㅡㅡㅡㅡㅡ\")\n",
    "    print(\"degrees : \", degrees[i])\n",
    "    print(\"ㅡㅡㅡㅡㅡㅡㅡㅡㅡㅡㅡㅡㅡㅡㅡㅡㅡㅡㅡㅡㅡㅡㅡㅡ\")\n",
    "    ax = plt.subplot(2, len(degrees)/2, i + 1)\n",
    "    plt.setp(ax, xticks=(), yticks=())\n",
    "\n",
    "    poly_features = PolynomialFeatures(degree=degrees[i], include_bias = True)\n",
    "    train_poly = poly_features.fit_transform(train_input)\n",
    "    test_poly = poly_features.transform(test_input)\n",
    "    \n",
    "    ss = StandardScaler()\n",
    "    ss.fit(train_poly)\n",
    "    \n",
    "    train_scaled = ss.transform(train_poly)\n",
    "    test_scaled = ss.transform(test_poly)\n",
    "\n",
    "    # 선형 회귀 모델 선정 & 훈련\n",
    "    lr = LinearRegression()\n",
    "    lr.fit(train_scaled, train_target)\n",
    "    #     pipeline = Pipeline([(\"polynomial_features\", polynomial_features),\n",
    "    #                     (\"linear_regression\", lr)])\n",
    "    #     pipeline.fit(train_poly[:, np.newaxis], train_target)\n",
    "\n",
    "    # 파라미터 출력\n",
    "    print(\"intercept : \", lr.intercept_)\n",
    "    print(\"coefficient : \", lr.coef_)\n",
    "    print()\n",
    "\n",
    "    # 시각화\n",
    "    plt.scatter(train_input, train_target, label=\"Original Data\")\n",
    "\n",
    "    # 예측값 곡선\n",
    "    X_new = np.linspace(0, 300000, 300000).reshape(300000, 1)\n",
    "    X_new_poly = poly_features.transform(X_new)\n",
    "    X_new_scaled = ss.transform(X_new_poly)\n",
    "    y_new = lr.predict(X_new_scaled)\n",
    "    \n",
    "    # 실제 값 곡선\n",
    "    # plt.plot(X_test, pipeline.predict(X_test[:, np.newaxis]), label=\"Model\") \n",
    "    #     plt.plot(X_test, true_fun(X_test), '--', label=\"True function\")\n",
    "    #     point_poly_input = poly_features.transform(point)\n",
    "    #     point_poly_pre = lr.predict(point_poly_input)\n",
    "    #     plt.plot(point_poly_input, point_poly_pre)\n",
    "    plt.plot(X_new, y_new, \"r\", linewidth=2, label=str(degrees[i]) + \"Poly Linear Regression\")\n",
    "    plt.xlabel('covid count')\n",
    "    plt.ylabel('kospi')\n",
    "    plt.legend()\n",
    "    # plt.axis([-3000, 10000, 1500, 4000])\n",
    "\n",
    "    # 결과 예측 by 테스트 데이터\n",
    "    test_prediction = lr.predict(test_scaled)\n",
    "\n",
    "    # 모델분석(결정계수) by 테스트 데이터 & 테스트 데이터\n",
    "    print(\"train accuracy : \", lr.score(train_scaled, train_target))\n",
    "    print(\"test accuracy : \", lr.score(test_scaled, test_target))\n",
    "\n",
    "    # 평균 오차 계산 by 테스트 데이터\n",
    "    mae = mean_absolute_error(test_target, test_prediction)\n",
    "    mse = mean_squared_error(test_target, test_prediction)\n",
    "    rmse = np.sqrt(mse)\n",
    "    print('MAE : {0:.3f}'.format(mae))\n",
    "    print('MSE : {0:.3f}'.format(mse))\n",
    "    print('RMSE : {0:.3f}'.format(rmse))\n",
    "    \n",
    "plt.show()"
   ]
  },
  {
   "cell_type": "markdown",
   "metadata": {},
   "source": [
    "# K-Fold ## 오류 발생"
   ]
  },
  {
   "cell_type": "code",
   "execution_count": null,
   "metadata": {},
   "outputs": [],
   "source": [
    "# 다항식\n",
    "from sklearn.preprocessing import PolynomialFeatures\n",
    "from sklearn.preprocessing import StandardScaler\n",
    "from sklearn.model_selection import KFold\n",
    "from sklearn.pipeline import Pipeline\n",
    "\n",
    "# 다항식 변환\n",
    "print('일차 단항식 계수 피처 : ', train_input[0])\n",
    "fig = plt.figure(figsize = (15, 15))\n",
    "\n",
    "degrees = [2, 3, 4, 5, 8, 10, 20, 30]\n",
    "kf = KFold(n_splits = 10, shuffle = True, random_state = 0)\n",
    "\n",
    "\n",
    "# 다항식 시각화\n",
    "for i in range(len(degrees)):\n",
    "    n_iter = 0\n",
    "    for train_index, test_index in kf.split(df_covid):\n",
    "        n_iter += 1\n",
    "        print(\"ㅡㅡㅡㅡㅡㅡㅡㅡㅡㅡㅡㅡㅡㅡㅡㅡㅡㅡㅡㅡㅡㅡㅡㅡ\")\n",
    "        print(\"degrees : \", degrees[i])\n",
    "        print(\"ㅡㅡㅡㅡㅡㅡㅡㅡㅡㅡㅡㅡㅡㅡㅡㅡㅡㅡㅡㅡㅡㅡㅡㅡ\")\n",
    "        ax = plt.subplot(2, len(degrees)/2, i + 1)\n",
    "        plt.setp(ax, xticks=(), yticks=())\n",
    "        \n",
    "        train_input, test_input = df_covid[train_index], df_covid[test_index]\n",
    "        train_target, test_target = df_stock[train_index], df_stock[test_index]\n",
    "\n",
    "        poly_features = PolynomialFeatures(degree=degrees[i], include_bias = True)\n",
    "        train_poly = poly_features.fit_transform(train_input)\n",
    "        test_poly = poly_features.transform(test_input)\n",
    "\n",
    "        ss = StandardScaler()\n",
    "        ss.fit(train_poly)\n",
    "\n",
    "        train_scaled = ss.transform(train_poly)\n",
    "        test_scaled = ss.transform(test_poly)\n",
    "\n",
    "        # 선형 회귀 모델 선정 & 훈련\n",
    "        lr = LinearRegression()\n",
    "        lr.fit(train_scaled, train_target)\n",
    "        #     pipeline = Pipeline([(\"polynomial_features\", polynomial_features),\n",
    "        #                     (\"linear_regression\", lr)])\n",
    "        #     pipeline.fit(train_poly[:, np.newaxis], train_target)\n",
    "\n",
    "        # 파라미터 출력\n",
    "        print(\"intercept : \", lr.intercept_)\n",
    "        print(\"coefficient : \", lr.coef_)\n",
    "        print()\n",
    "\n",
    "        # 시각화\n",
    "        plt.scatter(train_input, train_target, label=\"Original Data\")\n",
    "\n",
    "        # 예측값 곡선\n",
    "        X_new = np.linspace(0, 200000, 200000).reshape(200000, 1)\n",
    "        X_new_poly = poly_features.transform(X_new)\n",
    "        X_new_scaled = ss.transform(X_new_poly)\n",
    "        y_new = lr.predict(X_new_scaled)\n",
    "\n",
    "        # 실제 값 곡선\n",
    "        # plt.plot(X_test, pipeline.predict(X_test[:, np.newaxis]), label=\"Model\") \n",
    "        #     plt.plot(X_test, true_fun(X_test), '--', label=\"True function\")\n",
    "        #     point_poly_input = poly_features.transform(point)\n",
    "        #     point_poly_pre = lr.predict(point_poly_input)\n",
    "        #     plt.plot(point_poly_input, point_poly_pre)\n",
    "        plt.plot(X_new, y_new, \"r\", linewidth=2, label=str(degrees[i]) + \"Poly Linear Regression\")\n",
    "        plt.xlabel('covid count')\n",
    "        plt.ylabel('kospi')\n",
    "        plt.legend()\n",
    "        # plt.axis([-3000, 10000, 1500, 4000])\n",
    "\n",
    "        # 결과 예측 by 테스트 데이터\n",
    "        test_prediction = lr.predict(test_scaled)\n",
    "\n",
    "        # 모델분석(결정계수) by 테스트 데이터 & 테스트 데이터\n",
    "        print(\"train accuracy : \", lr.score(train_scaled, train_target))\n",
    "        print(\"test accuracy : \", lr.score(test_scaled, test_target))\n",
    "\n",
    "        # 평균 오차 계산 by 테스트 데이터\n",
    "        mae = mean_absolute_error(test_target, test_prediction)\n",
    "        mse = mean_squared_error(test_target, test_prediction)\n",
    "        rmse = np.sqrt(mse)\n",
    "        print('MAE : {0:.3f}'.format(mae))\n",
    "        print('MSE : {0:.3f}'.format(mse))\n",
    "        print('RMSE : {0:.3f}'.format(rmse))\n",
    "    \n",
    "plt.show()"
   ]
  },
  {
   "cell_type": "code",
   "execution_count": null,
   "metadata": {},
   "outputs": [],
   "source": [
    "from sklearn.model_selection import cross_val_score, cross_validate\n",
    "import numpy as np\n",
    "\n",
    "# 다항식\n",
    "from sklearn.preprocessing import PolynomialFeatures\n",
    "from sklearn.preprocessing import StandardScaler\n",
    "from sklearn.pipeline import Pipeline\n",
    "\n",
    "# 다항식 변환\n",
    "print('일차 단항식 계수 피처 : ', train_input[0])\n",
    "fig = plt.figure(figsize = (15, 15))\n",
    "\n",
    "degrees = list(range(2, 30))\n",
    "\n",
    "# 다항식 시각화\n",
    "for i in range(len(degrees)):\n",
    "    print(\"ㅡㅡㅡㅡㅡㅡㅡㅡㅡㅡㅡㅡㅡㅡㅡㅡㅡㅡㅡㅡㅡㅡㅡㅡ\")\n",
    "    print(\"degrees : \", degrees[i])\n",
    "    print(\"ㅡㅡㅡㅡㅡㅡㅡㅡㅡㅡㅡㅡㅡㅡㅡㅡㅡㅡㅡㅡㅡㅡㅡㅡ\")\n",
    "    ax = plt.subplot(2, len(degrees)/2, i + 1)\n",
    "    plt.setp(ax, xticks=(), yticks=())\n",
    "\n",
    "    poly_features = PolynomialFeatures(degree=degrees[i], include_bias = True)\n",
    "    train_poly = poly_features.fit_transform(train_input)\n",
    "    test_poly = poly_features.transform(test_input)\n",
    "    \n",
    "    ss = StandardScaler()\n",
    "    ss.fit(train_poly)\n",
    "    \n",
    "    train_scaled = ss.transform(train_poly)\n",
    "    test_scaled = ss.transform(test_poly)\n",
    "\n",
    "    # 선형 회귀 모델 선정 & 훈련\n",
    "    lr = LinearRegression()\n",
    "    scores = cross_val_score(lr, np.concatenate([train_scaled, test_scaled], 0), \n",
    "                             np.concatenate([train_target, test_target], 0), cv=10)\n",
    "    #     pipeline = Pipeline([(\"polynomial_features\", polynomial_features),\n",
    "    #                     (\"linear_regression\", lr)])\n",
    "    #     pipeline.fit(train_poly[:, np.newaxis], train_target)\n",
    "    print(f\"한 번씩 검증 때마다 accuracy : {scores}\")\n",
    "    print()\n",
    "    print(f\"5번 모두 검증한 accuracy 총 평균 : {np.mean(scores)}\")\n",
    "\n",
    "#     # 파라미터 출력\n",
    "#     print(\"intercept : \", lr.intercept_)\n",
    "#     print(\"coefficient : \", lr.coef_)\n",
    "#     print()\n",
    "\n",
    "#     # 시각화\n",
    "#     plt.scatter(train_input, train_target, label=\"Original Data\")\n",
    "\n",
    "#     # 예측값 곡선\n",
    "#     X_new = np.linspace(0, 200000, 200000).reshape(200000, 1)\n",
    "#     X_new_poly = poly_features.transform(X_new)\n",
    "#     X_new_scaled = ss.transform(X_new_poly)\n",
    "#     y_new = lr.predict(X_new_scaled)\n",
    "    \n",
    "#     # 실제 값 곡선\n",
    "#     # plt.plot(X_test, pipeline.predict(X_test[:, np.newaxis]), label=\"Model\") \n",
    "#     #     plt.plot(X_test, true_fun(X_test), '--', label=\"True function\")\n",
    "#     #     point_poly_input = poly_features.transform(point)\n",
    "#     #     point_poly_pre = lr.predict(point_poly_input)\n",
    "#     #     plt.plot(point_poly_input, point_poly_pre)\n",
    "#     plt.plot(X_new, y_new, \"r\", linewidth=2, label=str(degrees[i]) + \"Poly Linear Regression\")\n",
    "#     plt.xlabel('covid count')\n",
    "#     plt.ylabel('kospi')\n",
    "#     plt.legend()\n",
    "#     # plt.axis([-3000, 10000, 1500, 4000])\n",
    "\n",
    "#     # 결과 예측 by 테스트 데이터\n",
    "#     test_prediction = lr.predict(test_scaled)\n",
    "\n",
    "#     # 모델분석(결정계수) by 테스트 데이터 & 테스트 데이터\n",
    "#     print(\"train accuracy : \", lr.score(train_scaled, train_target))\n",
    "#     print(\"test accuracy : \", lr.score(test_scaled, test_target))\n",
    "\n",
    "#     # 평균 오차 계산 by 테스트 데이터\n",
    "#     mae = mean_absolute_error(test_target, test_prediction)\n",
    "#     mse = mean_squared_error(test_target, test_prediction)\n",
    "#     rmse = np.sqrt(mse)\n",
    "#     print('MAE : {0:.3f}'.format(mae))\n",
    "#     print('MSE : {0:.3f}'.format(mse))\n",
    "#     print('RMSE : {0:.3f}'.format(rmse))\n",
    "    \n",
    "# plt.show()"
   ]
  },
  {
   "cell_type": "code",
   "execution_count": null,
   "metadata": {},
   "outputs": [],
   "source": [
    "train_scaled"
   ]
  },
  {
   "cell_type": "code",
   "execution_count": null,
   "metadata": {},
   "outputs": [],
   "source": []
  }
 ],
 "metadata": {
  "colab": {
   "authorship_tag": "ABX9TyP/K+2VKm+7gJYWBdi4NH3X",
   "collapsed_sections": [],
   "name": "3-2 선형 회귀.ipynb",
   "provenance": []
  },
  "kernelspec": {
   "display_name": "Python 3 (ipykernel)",
   "language": "python",
   "name": "python3"
  },
  "language_info": {
   "codemirror_mode": {
    "name": "ipython",
    "version": 3
   },
   "file_extension": ".py",
   "mimetype": "text/x-python",
   "name": "python",
   "nbconvert_exporter": "python",
   "pygments_lexer": "ipython3",
   "version": "3.9.7"
  }
 },
 "nbformat": 4,
 "nbformat_minor": 1
}
