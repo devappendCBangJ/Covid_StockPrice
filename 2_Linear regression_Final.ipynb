{
 "cells": [
  {
   "cell_type": "markdown",
   "metadata": {},
   "source": [
    "# 선형 회귀"
   ]
  },
  {
   "cell_type": "markdown",
   "metadata": {},
   "source": [
    "<table align=\"left\">\n",
    "  <td>\n",
    "    <a target=\"_blank\" href=\"https://colab.research.google.com/github/rickiepark/hg-mldl/blob/master/3-2.ipynb\"><img src=\"https://www.tensorflow.org/images/colab_logo_32px.png\" />구글 코랩에서 실행하기</a>\n",
    "  </td>\n",
    "</table>"
   ]
  },
  {
   "cell_type": "markdown",
   "metadata": {
    "colab_type": "text",
    "id": "i5J2cFzCrDWT"
   },
   "source": [
    "## 데이터 준비"
   ]
  },
  {
   "cell_type": "code",
   "execution_count": 1,
   "metadata": {
    "colab": {},
    "colab_type": "code",
    "id": "fL3wuWxD0cH6"
   },
   "outputs": [],
   "source": [
    "import os\n",
    "import numpy as np\n",
    "import pandas as pd\n",
    "import random\n",
    "import seaborn as sns\n",
    "\n",
    "import datetime\n",
    "from datetime import date"
   ]
  },
  {
   "cell_type": "code",
   "execution_count": 2,
   "metadata": {},
   "outputs": [],
   "source": [
    "from matplotlib import rc\n",
    "import matplotlib.font_manager as fm\n",
    "\n",
    "fm.get_fontconfig_fonts()\n",
    "font_location = './NanumGothic.ttf'\n",
    "font_name = fm.FontProperties(fname=font_location).get_name()\n",
    "rc('font', family=font_name)"
   ]
  },
  {
   "cell_type": "markdown",
   "metadata": {},
   "source": [
    "# 데이터 불러오기"
   ]
  },
  {
   "cell_type": "code",
   "execution_count": 3,
   "metadata": {
    "colab": {},
    "colab_type": "code",
    "id": "np5j0UTtJNI_"
   },
   "outputs": [],
   "source": [
    "df_stock = pd.read_csv(\"C:\\\\Users\\\\Hi\\\\JupyterProjects\\\\JupyterML\\\\Covid\\\\data\\\\covid19_kor\\\\주식시장_일별__20220415170553.csv\", encoding='euc-kr')\n",
    "df_covid = pd.read_csv(\"C:\\\\Users\\\\Hi\\\\JupyterProjects\\\\JupyterML\\\\Covid\\\\data\\\\covid19_kor\\\\서울특별시 코로나19 자치구별 확진자 발생동향.csv\", encoding='euc-kr')"
   ]
  },
  {
   "cell_type": "markdown",
   "metadata": {},
   "source": [
    "# 데이터 확인"
   ]
  },
  {
   "cell_type": "code",
   "execution_count": 4,
   "metadata": {},
   "outputs": [
    {
     "data": {
      "text/html": [
       "<div>\n",
       "<style scoped>\n",
       "    .dataframe tbody tr th:only-of-type {\n",
       "        vertical-align: middle;\n",
       "    }\n",
       "\n",
       "    .dataframe tbody tr th {\n",
       "        vertical-align: top;\n",
       "    }\n",
       "\n",
       "    .dataframe thead th {\n",
       "        text-align: right;\n",
       "    }\n",
       "</style>\n",
       "<table border=\"1\" class=\"dataframe\">\n",
       "  <thead>\n",
       "    <tr style=\"text-align: right;\">\n",
       "      <th></th>\n",
       "      <th>계정별</th>\n",
       "      <th>2020.02.05</th>\n",
       "      <th>2020.02.06</th>\n",
       "      <th>2020.02.07</th>\n",
       "      <th>2020.02.10</th>\n",
       "      <th>2020.02.11</th>\n",
       "      <th>2020.02.12</th>\n",
       "      <th>2020.02.13</th>\n",
       "      <th>2020.02.14</th>\n",
       "      <th>2020.02.17</th>\n",
       "      <th>...</th>\n",
       "      <th>2022.02.04</th>\n",
       "      <th>2022.02.07</th>\n",
       "      <th>2022.02.08</th>\n",
       "      <th>2022.02.09</th>\n",
       "      <th>2022.02.10</th>\n",
       "      <th>2022.02.11</th>\n",
       "      <th>2022.02.14</th>\n",
       "      <th>2022.02.15</th>\n",
       "      <th>2022.02.16</th>\n",
       "      <th>2022.02.17</th>\n",
       "    </tr>\n",
       "  </thead>\n",
       "  <tbody>\n",
       "    <tr>\n",
       "      <th>0</th>\n",
       "      <td>KOSPI지수 (1980.01.04=100)</td>\n",
       "      <td>2165.63</td>\n",
       "      <td>2227.94</td>\n",
       "      <td>2211.95</td>\n",
       "      <td>2201.07</td>\n",
       "      <td>2223.12</td>\n",
       "      <td>2238.38</td>\n",
       "      <td>2232.96</td>\n",
       "      <td>2243.59</td>\n",
       "      <td>2242.17</td>\n",
       "      <td>...</td>\n",
       "      <td>2750.26</td>\n",
       "      <td>2745.06</td>\n",
       "      <td>2746.47</td>\n",
       "      <td>2768.85</td>\n",
       "      <td>2771.93</td>\n",
       "      <td>2747.71</td>\n",
       "      <td>2704.48</td>\n",
       "      <td>2676.54</td>\n",
       "      <td>2729.68</td>\n",
       "      <td>2744.09</td>\n",
       "    </tr>\n",
       "    <tr>\n",
       "      <th>1</th>\n",
       "      <td>거래량(주식시장, 잠정치) (만주)</td>\n",
       "      <td>56312.00</td>\n",
       "      <td>68323.00</td>\n",
       "      <td>76671.00</td>\n",
       "      <td>60047.00</td>\n",
       "      <td>51031.00</td>\n",
       "      <td>62342.00</td>\n",
       "      <td>62961.00</td>\n",
       "      <td>58900.00</td>\n",
       "      <td>45309.00</td>\n",
       "      <td>...</td>\n",
       "      <td>52652.00</td>\n",
       "      <td>41008.00</td>\n",
       "      <td>55489.00</td>\n",
       "      <td>52969.00</td>\n",
       "      <td>50043.00</td>\n",
       "      <td>45698.00</td>\n",
       "      <td>60566.00</td>\n",
       "      <td>57535.00</td>\n",
       "      <td>41515.00</td>\n",
       "      <td>60226.00</td>\n",
       "    </tr>\n",
       "    <tr>\n",
       "      <th>2</th>\n",
       "      <td>거래대금(주식시장 , 잠정치) (억원)</td>\n",
       "      <td>74625.00</td>\n",
       "      <td>80636.00</td>\n",
       "      <td>69263.00</td>\n",
       "      <td>53322.00</td>\n",
       "      <td>64744.00</td>\n",
       "      <td>67750.00</td>\n",
       "      <td>79571.00</td>\n",
       "      <td>61331.00</td>\n",
       "      <td>55661.00</td>\n",
       "      <td>...</td>\n",
       "      <td>111842.00</td>\n",
       "      <td>111059.00</td>\n",
       "      <td>116203.00</td>\n",
       "      <td>101579.00</td>\n",
       "      <td>125638.00</td>\n",
       "      <td>105400.00</td>\n",
       "      <td>113138.00</td>\n",
       "      <td>92255.00</td>\n",
       "      <td>82633.00</td>\n",
       "      <td>116773.00</td>\n",
       "    </tr>\n",
       "    <tr>\n",
       "      <th>3</th>\n",
       "      <td>외국인 순매수(주식시장, 잠정치) (억원)</td>\n",
       "      <td>4578.00</td>\n",
       "      <td>1586.00</td>\n",
       "      <td>223.00</td>\n",
       "      <td>-3039.00</td>\n",
       "      <td>-934.00</td>\n",
       "      <td>-2163.00</td>\n",
       "      <td>2795.00</td>\n",
       "      <td>945.00</td>\n",
       "      <td>-2287.00</td>\n",
       "      <td>...</td>\n",
       "      <td>1945.00</td>\n",
       "      <td>-69.00</td>\n",
       "      <td>-939.00</td>\n",
       "      <td>2355.00</td>\n",
       "      <td>8365.00</td>\n",
       "      <td>6081.00</td>\n",
       "      <td>684.00</td>\n",
       "      <td>-2209.00</td>\n",
       "      <td>-437.00</td>\n",
       "      <td>6516.00</td>\n",
       "    </tr>\n",
       "    <tr>\n",
       "      <th>4</th>\n",
       "      <td>주식시장-거래량(만주, 시간외거래분 포함) (만주)</td>\n",
       "      <td>57440.00</td>\n",
       "      <td>69522.00</td>\n",
       "      <td>80034.00</td>\n",
       "      <td>60957.00</td>\n",
       "      <td>52621.00</td>\n",
       "      <td>63246.00</td>\n",
       "      <td>63867.00</td>\n",
       "      <td>59722.00</td>\n",
       "      <td>45825.00</td>\n",
       "      <td>...</td>\n",
       "      <td>53615.00</td>\n",
       "      <td>41784.00</td>\n",
       "      <td>56053.00</td>\n",
       "      <td>53912.00</td>\n",
       "      <td>50961.00</td>\n",
       "      <td>48052.00</td>\n",
       "      <td>61634.00</td>\n",
       "      <td>58904.00</td>\n",
       "      <td>42237.00</td>\n",
       "      <td>-</td>\n",
       "    </tr>\n",
       "  </tbody>\n",
       "</table>\n",
       "<p>5 rows × 506 columns</p>\n",
       "</div>"
      ],
      "text/plain": [
       "                            계정별  2020.02.05  2020.02.06  2020.02.07  \\\n",
       "0      KOSPI지수 (1980.01.04=100)     2165.63     2227.94     2211.95   \n",
       "1           거래량(주식시장, 잠정치) (만주)    56312.00    68323.00    76671.00   \n",
       "2         거래대금(주식시장 , 잠정치) (억원)    74625.00    80636.00    69263.00   \n",
       "3       외국인 순매수(주식시장, 잠정치) (억원)     4578.00     1586.00      223.00   \n",
       "4  주식시장-거래량(만주, 시간외거래분 포함) (만주)    57440.00    69522.00    80034.00   \n",
       "\n",
       "   2020.02.10  2020.02.11  2020.02.12  2020.02.13  2020.02.14  2020.02.17  \\\n",
       "0     2201.07     2223.12     2238.38     2232.96     2243.59     2242.17   \n",
       "1    60047.00    51031.00    62342.00    62961.00    58900.00    45309.00   \n",
       "2    53322.00    64744.00    67750.00    79571.00    61331.00    55661.00   \n",
       "3    -3039.00     -934.00    -2163.00     2795.00      945.00    -2287.00   \n",
       "4    60957.00    52621.00    63246.00    63867.00    59722.00    45825.00   \n",
       "\n",
       "   ...  2022.02.04  2022.02.07  2022.02.08  2022.02.09  2022.02.10  \\\n",
       "0  ...     2750.26     2745.06     2746.47     2768.85     2771.93   \n",
       "1  ...    52652.00    41008.00    55489.00    52969.00    50043.00   \n",
       "2  ...   111842.00   111059.00   116203.00   101579.00   125638.00   \n",
       "3  ...     1945.00      -69.00     -939.00     2355.00     8365.00   \n",
       "4  ...    53615.00    41784.00    56053.00    53912.00    50961.00   \n",
       "\n",
       "   2022.02.11  2022.02.14  2022.02.15  2022.02.16  2022.02.17  \n",
       "0     2747.71     2704.48     2676.54     2729.68     2744.09  \n",
       "1    45698.00    60566.00    57535.00    41515.00    60226.00  \n",
       "2   105400.00   113138.00    92255.00    82633.00   116773.00  \n",
       "3     6081.00      684.00    -2209.00     -437.00     6516.00  \n",
       "4    48052.00    61634.00    58904.00    42237.00           -  \n",
       "\n",
       "[5 rows x 506 columns]"
      ]
     },
     "execution_count": 4,
     "metadata": {},
     "output_type": "execute_result"
    }
   ],
   "source": [
    "df_stock.head()"
   ]
  },
  {
   "cell_type": "code",
   "execution_count": 5,
   "metadata": {},
   "outputs": [
    {
     "data": {
      "text/html": [
       "<div>\n",
       "<style scoped>\n",
       "    .dataframe tbody tr th:only-of-type {\n",
       "        vertical-align: middle;\n",
       "    }\n",
       "\n",
       "    .dataframe tbody tr th {\n",
       "        vertical-align: top;\n",
       "    }\n",
       "\n",
       "    .dataframe thead th {\n",
       "        text-align: right;\n",
       "    }\n",
       "</style>\n",
       "<table border=\"1\" class=\"dataframe\">\n",
       "  <thead>\n",
       "    <tr style=\"text-align: right;\">\n",
       "      <th></th>\n",
       "      <th>자치구 기준일</th>\n",
       "      <th>종로구 전체</th>\n",
       "      <th>종로구 추가</th>\n",
       "      <th>중구 전체</th>\n",
       "      <th>중구 추가</th>\n",
       "      <th>용산구 전체</th>\n",
       "      <th>용산구 추가</th>\n",
       "      <th>성동구 전체</th>\n",
       "      <th>성동구 추가</th>\n",
       "      <th>광진구 전체</th>\n",
       "      <th>...</th>\n",
       "      <th>서초구 전체</th>\n",
       "      <th>서추구 추가</th>\n",
       "      <th>강남구 전체</th>\n",
       "      <th>강남구 추가</th>\n",
       "      <th>송파구 전체</th>\n",
       "      <th>송파구 추가</th>\n",
       "      <th>강동구 전체</th>\n",
       "      <th>강동구 추가</th>\n",
       "      <th>기타 전체</th>\n",
       "      <th>기타 추가</th>\n",
       "    </tr>\n",
       "  </thead>\n",
       "  <tbody>\n",
       "    <tr>\n",
       "      <th>0</th>\n",
       "      <td>2022.02.17.00</td>\n",
       "      <td>6850</td>\n",
       "      <td>246</td>\n",
       "      <td>6313</td>\n",
       "      <td>221</td>\n",
       "      <td>10242</td>\n",
       "      <td>405</td>\n",
       "      <td>11930</td>\n",
       "      <td>804</td>\n",
       "      <td>15729</td>\n",
       "      <td>...</td>\n",
       "      <td>17646</td>\n",
       "      <td>784</td>\n",
       "      <td>25413</td>\n",
       "      <td>1169</td>\n",
       "      <td>28864</td>\n",
       "      <td>1218</td>\n",
       "      <td>20800</td>\n",
       "      <td>1064</td>\n",
       "      <td>31146</td>\n",
       "      <td>1254</td>\n",
       "    </tr>\n",
       "    <tr>\n",
       "      <th>1</th>\n",
       "      <td>2022.02.16.00</td>\n",
       "      <td>6604</td>\n",
       "      <td>227</td>\n",
       "      <td>6092</td>\n",
       "      <td>179</td>\n",
       "      <td>9837</td>\n",
       "      <td>340</td>\n",
       "      <td>11126</td>\n",
       "      <td>639</td>\n",
       "      <td>14865</td>\n",
       "      <td>...</td>\n",
       "      <td>16862</td>\n",
       "      <td>764</td>\n",
       "      <td>24244</td>\n",
       "      <td>1040</td>\n",
       "      <td>27646</td>\n",
       "      <td>1356</td>\n",
       "      <td>19736</td>\n",
       "      <td>1180</td>\n",
       "      <td>29892</td>\n",
       "      <td>898</td>\n",
       "    </tr>\n",
       "    <tr>\n",
       "      <th>2</th>\n",
       "      <td>2022.02.15.00</td>\n",
       "      <td>6377</td>\n",
       "      <td>182</td>\n",
       "      <td>5913</td>\n",
       "      <td>136</td>\n",
       "      <td>9497</td>\n",
       "      <td>218</td>\n",
       "      <td>10487</td>\n",
       "      <td>316</td>\n",
       "      <td>14122</td>\n",
       "      <td>...</td>\n",
       "      <td>16098</td>\n",
       "      <td>440</td>\n",
       "      <td>23204</td>\n",
       "      <td>819</td>\n",
       "      <td>26290</td>\n",
       "      <td>682</td>\n",
       "      <td>18556</td>\n",
       "      <td>528</td>\n",
       "      <td>28994</td>\n",
       "      <td>844</td>\n",
       "    </tr>\n",
       "    <tr>\n",
       "      <th>3</th>\n",
       "      <td>2022.02.14.00</td>\n",
       "      <td>6195</td>\n",
       "      <td>96</td>\n",
       "      <td>5777</td>\n",
       "      <td>91</td>\n",
       "      <td>9279</td>\n",
       "      <td>256</td>\n",
       "      <td>10171</td>\n",
       "      <td>336</td>\n",
       "      <td>13669</td>\n",
       "      <td>...</td>\n",
       "      <td>15658</td>\n",
       "      <td>386</td>\n",
       "      <td>22385</td>\n",
       "      <td>632</td>\n",
       "      <td>25608</td>\n",
       "      <td>726</td>\n",
       "      <td>18028</td>\n",
       "      <td>588</td>\n",
       "      <td>28150</td>\n",
       "      <td>735</td>\n",
       "    </tr>\n",
       "    <tr>\n",
       "      <th>4</th>\n",
       "      <td>2022.02.13.00</td>\n",
       "      <td>6099</td>\n",
       "      <td>184</td>\n",
       "      <td>5686</td>\n",
       "      <td>111</td>\n",
       "      <td>9023</td>\n",
       "      <td>248</td>\n",
       "      <td>9835</td>\n",
       "      <td>408</td>\n",
       "      <td>13192</td>\n",
       "      <td>...</td>\n",
       "      <td>15272</td>\n",
       "      <td>430</td>\n",
       "      <td>21753</td>\n",
       "      <td>747</td>\n",
       "      <td>24882</td>\n",
       "      <td>800</td>\n",
       "      <td>17440</td>\n",
       "      <td>664</td>\n",
       "      <td>27416</td>\n",
       "      <td>728</td>\n",
       "    </tr>\n",
       "  </tbody>\n",
       "</table>\n",
       "<p>5 rows × 53 columns</p>\n",
       "</div>"
      ],
      "text/plain": [
       "         자치구 기준일  종로구 전체  종로구 추가  중구 전체  중구 추가  용산구 전체  용산구 추가  성동구 전체  \\\n",
       "0  2022.02.17.00    6850     246   6313    221   10242     405   11930   \n",
       "1  2022.02.16.00    6604     227   6092    179    9837     340   11126   \n",
       "2  2022.02.15.00    6377     182   5913    136    9497     218   10487   \n",
       "3  2022.02.14.00    6195      96   5777     91    9279     256   10171   \n",
       "4  2022.02.13.00    6099     184   5686    111    9023     248    9835   \n",
       "\n",
       "   성동구 추가  광진구 전체  ...  서초구 전체  서추구 추가  강남구 전체  강남구 추가  송파구 전체  송파구 추가  \\\n",
       "0     804   15729  ...   17646     784   25413    1169   28864    1218   \n",
       "1     639   14865  ...   16862     764   24244    1040   27646    1356   \n",
       "2     316   14122  ...   16098     440   23204     819   26290     682   \n",
       "3     336   13669  ...   15658     386   22385     632   25608     726   \n",
       "4     408   13192  ...   15272     430   21753     747   24882     800   \n",
       "\n",
       "   강동구 전체  강동구 추가  기타 전체  기타 추가  \n",
       "0   20800    1064  31146   1254  \n",
       "1   19736    1180  29892    898  \n",
       "2   18556     528  28994    844  \n",
       "3   18028     588  28150    735  \n",
       "4   17440     664  27416    728  \n",
       "\n",
       "[5 rows x 53 columns]"
      ]
     },
     "execution_count": 5,
     "metadata": {},
     "output_type": "execute_result"
    }
   ],
   "source": [
    "df_covid.head()"
   ]
  },
  {
   "cell_type": "markdown",
   "metadata": {},
   "source": [
    "# Covid"
   ]
  },
  {
   "cell_type": "code",
   "execution_count": 6,
   "metadata": {},
   "outputs": [],
   "source": [
    "df_covid_num = df_covid.drop(['자치구 기준일'], axis = 1)"
   ]
  },
  {
   "cell_type": "code",
   "execution_count": 7,
   "metadata": {
    "scrolled": true
   },
   "outputs": [
    {
     "data": {
      "text/html": [
       "<div>\n",
       "<style scoped>\n",
       "    .dataframe tbody tr th:only-of-type {\n",
       "        vertical-align: middle;\n",
       "    }\n",
       "\n",
       "    .dataframe tbody tr th {\n",
       "        vertical-align: top;\n",
       "    }\n",
       "\n",
       "    .dataframe thead th {\n",
       "        text-align: right;\n",
       "    }\n",
       "</style>\n",
       "<table border=\"1\" class=\"dataframe\">\n",
       "  <thead>\n",
       "    <tr style=\"text-align: right;\">\n",
       "      <th></th>\n",
       "      <th>종로구 전체</th>\n",
       "      <th>종로구 추가</th>\n",
       "      <th>중구 전체</th>\n",
       "      <th>중구 추가</th>\n",
       "      <th>용산구 전체</th>\n",
       "      <th>용산구 추가</th>\n",
       "      <th>성동구 전체</th>\n",
       "      <th>성동구 추가</th>\n",
       "      <th>광진구 전체</th>\n",
       "      <th>광진구 추가</th>\n",
       "      <th>...</th>\n",
       "      <th>서초구 전체</th>\n",
       "      <th>서추구 추가</th>\n",
       "      <th>강남구 전체</th>\n",
       "      <th>강남구 추가</th>\n",
       "      <th>송파구 전체</th>\n",
       "      <th>송파구 추가</th>\n",
       "      <th>강동구 전체</th>\n",
       "      <th>강동구 추가</th>\n",
       "      <th>기타 전체</th>\n",
       "      <th>기타 추가</th>\n",
       "    </tr>\n",
       "  </thead>\n",
       "  <tbody>\n",
       "    <tr>\n",
       "      <th>0</th>\n",
       "      <td>6850</td>\n",
       "      <td>246</td>\n",
       "      <td>6313</td>\n",
       "      <td>221</td>\n",
       "      <td>10242</td>\n",
       "      <td>405</td>\n",
       "      <td>11930</td>\n",
       "      <td>804</td>\n",
       "      <td>15729</td>\n",
       "      <td>864</td>\n",
       "      <td>...</td>\n",
       "      <td>17646</td>\n",
       "      <td>784</td>\n",
       "      <td>25413</td>\n",
       "      <td>1169</td>\n",
       "      <td>28864</td>\n",
       "      <td>1218</td>\n",
       "      <td>20800</td>\n",
       "      <td>1064</td>\n",
       "      <td>31146</td>\n",
       "      <td>1254</td>\n",
       "    </tr>\n",
       "    <tr>\n",
       "      <th>1</th>\n",
       "      <td>6604</td>\n",
       "      <td>227</td>\n",
       "      <td>6092</td>\n",
       "      <td>179</td>\n",
       "      <td>9837</td>\n",
       "      <td>340</td>\n",
       "      <td>11126</td>\n",
       "      <td>639</td>\n",
       "      <td>14865</td>\n",
       "      <td>743</td>\n",
       "      <td>...</td>\n",
       "      <td>16862</td>\n",
       "      <td>764</td>\n",
       "      <td>24244</td>\n",
       "      <td>1040</td>\n",
       "      <td>27646</td>\n",
       "      <td>1356</td>\n",
       "      <td>19736</td>\n",
       "      <td>1180</td>\n",
       "      <td>29892</td>\n",
       "      <td>898</td>\n",
       "    </tr>\n",
       "    <tr>\n",
       "      <th>2</th>\n",
       "      <td>6377</td>\n",
       "      <td>182</td>\n",
       "      <td>5913</td>\n",
       "      <td>136</td>\n",
       "      <td>9497</td>\n",
       "      <td>218</td>\n",
       "      <td>10487</td>\n",
       "      <td>316</td>\n",
       "      <td>14122</td>\n",
       "      <td>453</td>\n",
       "      <td>...</td>\n",
       "      <td>16098</td>\n",
       "      <td>440</td>\n",
       "      <td>23204</td>\n",
       "      <td>819</td>\n",
       "      <td>26290</td>\n",
       "      <td>682</td>\n",
       "      <td>18556</td>\n",
       "      <td>528</td>\n",
       "      <td>28994</td>\n",
       "      <td>844</td>\n",
       "    </tr>\n",
       "    <tr>\n",
       "      <th>3</th>\n",
       "      <td>6195</td>\n",
       "      <td>96</td>\n",
       "      <td>5777</td>\n",
       "      <td>91</td>\n",
       "      <td>9279</td>\n",
       "      <td>256</td>\n",
       "      <td>10171</td>\n",
       "      <td>336</td>\n",
       "      <td>13669</td>\n",
       "      <td>477</td>\n",
       "      <td>...</td>\n",
       "      <td>15658</td>\n",
       "      <td>386</td>\n",
       "      <td>22385</td>\n",
       "      <td>632</td>\n",
       "      <td>25608</td>\n",
       "      <td>726</td>\n",
       "      <td>18028</td>\n",
       "      <td>588</td>\n",
       "      <td>28150</td>\n",
       "      <td>735</td>\n",
       "    </tr>\n",
       "    <tr>\n",
       "      <th>4</th>\n",
       "      <td>6099</td>\n",
       "      <td>184</td>\n",
       "      <td>5686</td>\n",
       "      <td>111</td>\n",
       "      <td>9023</td>\n",
       "      <td>248</td>\n",
       "      <td>9835</td>\n",
       "      <td>408</td>\n",
       "      <td>13192</td>\n",
       "      <td>448</td>\n",
       "      <td>...</td>\n",
       "      <td>15272</td>\n",
       "      <td>430</td>\n",
       "      <td>21753</td>\n",
       "      <td>747</td>\n",
       "      <td>24882</td>\n",
       "      <td>800</td>\n",
       "      <td>17440</td>\n",
       "      <td>664</td>\n",
       "      <td>27416</td>\n",
       "      <td>728</td>\n",
       "    </tr>\n",
       "  </tbody>\n",
       "</table>\n",
       "<p>5 rows × 52 columns</p>\n",
       "</div>"
      ],
      "text/plain": [
       "   종로구 전체  종로구 추가  중구 전체  중구 추가  용산구 전체  용산구 추가  성동구 전체  성동구 추가  광진구 전체  \\\n",
       "0    6850     246   6313    221   10242     405   11930     804   15729   \n",
       "1    6604     227   6092    179    9837     340   11126     639   14865   \n",
       "2    6377     182   5913    136    9497     218   10487     316   14122   \n",
       "3    6195      96   5777     91    9279     256   10171     336   13669   \n",
       "4    6099     184   5686    111    9023     248    9835     408   13192   \n",
       "\n",
       "   광진구 추가  ...  서초구 전체  서추구 추가  강남구 전체  강남구 추가  송파구 전체  송파구 추가  강동구 전체  \\\n",
       "0     864  ...   17646     784   25413    1169   28864    1218   20800   \n",
       "1     743  ...   16862     764   24244    1040   27646    1356   19736   \n",
       "2     453  ...   16098     440   23204     819   26290     682   18556   \n",
       "3     477  ...   15658     386   22385     632   25608     726   18028   \n",
       "4     448  ...   15272     430   21753     747   24882     800   17440   \n",
       "\n",
       "   강동구 추가  기타 전체  기타 추가  \n",
       "0    1064  31146   1254  \n",
       "1    1180  29892    898  \n",
       "2     528  28994    844  \n",
       "3     588  28150    735  \n",
       "4     664  27416    728  \n",
       "\n",
       "[5 rows x 52 columns]"
      ]
     },
     "execution_count": 7,
     "metadata": {},
     "output_type": "execute_result"
    }
   ],
   "source": [
    "df_covid_num.head()"
   ]
  },
  {
   "cell_type": "code",
   "execution_count": 8,
   "metadata": {},
   "outputs": [],
   "source": [
    "# 서울 전체구 데이터 병합\n",
    "df_covid_num = df_covid_num.sum(axis = 1)"
   ]
  },
  {
   "cell_type": "code",
   "execution_count": 9,
   "metadata": {
    "scrolled": false
   },
   "outputs": [
    {
     "data": {
      "text/plain": [
       "0    468666\n",
       "1    448168\n",
       "2    422863\n",
       "3    409556\n",
       "4    398182\n",
       "dtype: int64"
      ]
     },
     "execution_count": 9,
     "metadata": {},
     "output_type": "execute_result"
    }
   ],
   "source": [
    "df_covid_num.head()"
   ]
  },
  {
   "cell_type": "code",
   "execution_count": 10,
   "metadata": {},
   "outputs": [],
   "source": [
    "df_covid_num = df_covid_num.to_frame()\n",
    "df_covid_num.columns = ['서울 전체']"
   ]
  },
  {
   "cell_type": "code",
   "execution_count": 11,
   "metadata": {
    "scrolled": true
   },
   "outputs": [
    {
     "data": {
      "text/html": [
       "<div>\n",
       "<style scoped>\n",
       "    .dataframe tbody tr th:only-of-type {\n",
       "        vertical-align: middle;\n",
       "    }\n",
       "\n",
       "    .dataframe tbody tr th {\n",
       "        vertical-align: top;\n",
       "    }\n",
       "\n",
       "    .dataframe thead th {\n",
       "        text-align: right;\n",
       "    }\n",
       "</style>\n",
       "<table border=\"1\" class=\"dataframe\">\n",
       "  <thead>\n",
       "    <tr style=\"text-align: right;\">\n",
       "      <th></th>\n",
       "      <th>서울 전체</th>\n",
       "    </tr>\n",
       "  </thead>\n",
       "  <tbody>\n",
       "    <tr>\n",
       "      <th>0</th>\n",
       "      <td>468666</td>\n",
       "    </tr>\n",
       "    <tr>\n",
       "      <th>1</th>\n",
       "      <td>448168</td>\n",
       "    </tr>\n",
       "    <tr>\n",
       "      <th>2</th>\n",
       "      <td>422863</td>\n",
       "    </tr>\n",
       "    <tr>\n",
       "      <th>3</th>\n",
       "      <td>409556</td>\n",
       "    </tr>\n",
       "    <tr>\n",
       "      <th>4</th>\n",
       "      <td>398182</td>\n",
       "    </tr>\n",
       "  </tbody>\n",
       "</table>\n",
       "</div>"
      ],
      "text/plain": [
       "    서울 전체\n",
       "0  468666\n",
       "1  448168\n",
       "2  422863\n",
       "3  409556\n",
       "4  398182"
      ]
     },
     "execution_count": 11,
     "metadata": {},
     "output_type": "execute_result"
    }
   ],
   "source": [
    "df_covid_num.head()"
   ]
  },
  {
   "cell_type": "code",
   "execution_count": 12,
   "metadata": {},
   "outputs": [],
   "source": [
    "df_covid = pd.concat([df_covid['자치구 기준일'], df_covid_num], axis = 1)"
   ]
  },
  {
   "cell_type": "code",
   "execution_count": 13,
   "metadata": {
    "scrolled": true
   },
   "outputs": [
    {
     "data": {
      "text/html": [
       "<div>\n",
       "<style scoped>\n",
       "    .dataframe tbody tr th:only-of-type {\n",
       "        vertical-align: middle;\n",
       "    }\n",
       "\n",
       "    .dataframe tbody tr th {\n",
       "        vertical-align: top;\n",
       "    }\n",
       "\n",
       "    .dataframe thead th {\n",
       "        text-align: right;\n",
       "    }\n",
       "</style>\n",
       "<table border=\"1\" class=\"dataframe\">\n",
       "  <thead>\n",
       "    <tr style=\"text-align: right;\">\n",
       "      <th></th>\n",
       "      <th>자치구 기준일</th>\n",
       "      <th>서울 전체</th>\n",
       "    </tr>\n",
       "  </thead>\n",
       "  <tbody>\n",
       "    <tr>\n",
       "      <th>0</th>\n",
       "      <td>2022.02.17.00</td>\n",
       "      <td>468666</td>\n",
       "    </tr>\n",
       "    <tr>\n",
       "      <th>1</th>\n",
       "      <td>2022.02.16.00</td>\n",
       "      <td>448168</td>\n",
       "    </tr>\n",
       "    <tr>\n",
       "      <th>2</th>\n",
       "      <td>2022.02.15.00</td>\n",
       "      <td>422863</td>\n",
       "    </tr>\n",
       "    <tr>\n",
       "      <th>3</th>\n",
       "      <td>2022.02.14.00</td>\n",
       "      <td>409556</td>\n",
       "    </tr>\n",
       "    <tr>\n",
       "      <th>4</th>\n",
       "      <td>2022.02.13.00</td>\n",
       "      <td>398182</td>\n",
       "    </tr>\n",
       "  </tbody>\n",
       "</table>\n",
       "</div>"
      ],
      "text/plain": [
       "         자치구 기준일   서울 전체\n",
       "0  2022.02.17.00  468666\n",
       "1  2022.02.16.00  448168\n",
       "2  2022.02.15.00  422863\n",
       "3  2022.02.14.00  409556\n",
       "4  2022.02.13.00  398182"
      ]
     },
     "execution_count": 13,
     "metadata": {},
     "output_type": "execute_result"
    }
   ],
   "source": [
    "df_covid.head()"
   ]
  },
  {
   "cell_type": "code",
   "execution_count": 14,
   "metadata": {},
   "outputs": [],
   "source": [
    "# 데이터 전처리 - 날짜 형식 변환\n",
    "date_set=[]\n",
    "remove_set = ['2020-04-15', '2020-04-30', '2020-05-01', '2020-05-05', '2020-08-17', '2020-09-30', '2020-10-01', '2020-10-02', '2020-10-09', '2020-12-25', '2020-12-31', '2021-01-01', '2021-02-11', '2021-02-12', '2021-03-01', '2021-05-05', '2021-05-19', '2021-08-16', '2021-09-20', '2021-09-21', '2021-09-22', '2021-10-04', '2021-10-11', '2021-12-31', '2022-01-31', '2022-02-01', '2022-02-02']\n",
    "for item in df_covid['자치구 기준일']:\n",
    "    break_flag = 1\n",
    "    # print(item)\n",
    "    item=item.split('.')\n",
    "    year=int(item[0])\n",
    "    month=int(item[1])\n",
    "    day=int(item[2])\n",
    "    for remove_data in remove_set:\n",
    "        if(remove_data == str(date(year, month, day)) or date(year, month, day).weekday() > 4):\n",
    "            date_set+=[np.nan]\n",
    "            break_flag = 0\n",
    "            break\n",
    "    if(break_flag == 1):\n",
    "        date_set+=[str(date(year,month,day))]\n",
    "        \n",
    "df_covid['자치구 기준일'] = date_set\n",
    "\n",
    "df_covid.dropna(axis=0, inplace = True)\n",
    "df_covid = df_covid.drop_duplicates(['자치구 기준일'])\n",
    "df_covid[\"서울 전체\"]=df_covid[\"서울 전체\"].apply(float)\n",
    "df_covid = df_covid.sort_values('자치구 기준일', ascending = True)"
   ]
  },
  {
   "cell_type": "code",
   "execution_count": 15,
   "metadata": {},
   "outputs": [
    {
     "name": "stdout",
     "output_type": "stream",
     "text": [
      "27\n"
     ]
    }
   ],
   "source": [
    "# 확인용 코드\n",
    "print(len(remove_set))"
   ]
  },
  {
   "cell_type": "code",
   "execution_count": 16,
   "metadata": {},
   "outputs": [
    {
     "data": {
      "text/plain": [
       "744    2020-02-05\n",
       "743    2020-02-06\n",
       "742    2020-02-07\n",
       "739    2020-02-10\n",
       "738    2020-02-11\n",
       "          ...    \n",
       "6      2022-02-11\n",
       "3      2022-02-14\n",
       "2      2022-02-15\n",
       "1      2022-02-16\n",
       "0      2022-02-17\n",
       "Name: 자치구 기준일, Length: 505, dtype: object"
      ]
     },
     "execution_count": 16,
     "metadata": {},
     "output_type": "execute_result"
    }
   ],
   "source": [
    "# 확인용 코드\n",
    "df_covid['자치구 기준일']"
   ]
  },
  {
   "cell_type": "code",
   "execution_count": 17,
   "metadata": {},
   "outputs": [
    {
     "data": {
      "text/html": [
       "<div>\n",
       "<style scoped>\n",
       "    .dataframe tbody tr th:only-of-type {\n",
       "        vertical-align: middle;\n",
       "    }\n",
       "\n",
       "    .dataframe tbody tr th {\n",
       "        vertical-align: top;\n",
       "    }\n",
       "\n",
       "    .dataframe thead th {\n",
       "        text-align: right;\n",
       "    }\n",
       "</style>\n",
       "<table border=\"1\" class=\"dataframe\">\n",
       "  <thead>\n",
       "    <tr style=\"text-align: right;\">\n",
       "      <th></th>\n",
       "      <th>자치구 기준일</th>\n",
       "      <th>서울 전체</th>\n",
       "    </tr>\n",
       "  </thead>\n",
       "  <tbody>\n",
       "    <tr>\n",
       "      <th>744</th>\n",
       "      <td>2020-02-05</td>\n",
       "      <td>12.0</td>\n",
       "    </tr>\n",
       "    <tr>\n",
       "      <th>743</th>\n",
       "      <td>2020-02-06</td>\n",
       "      <td>15.0</td>\n",
       "    </tr>\n",
       "    <tr>\n",
       "      <th>742</th>\n",
       "      <td>2020-02-07</td>\n",
       "      <td>0.0</td>\n",
       "    </tr>\n",
       "  </tbody>\n",
       "</table>\n",
       "</div>"
      ],
      "text/plain": [
       "        자치구 기준일  서울 전체\n",
       "744  2020-02-05   12.0\n",
       "743  2020-02-06   15.0\n",
       "742  2020-02-07    0.0"
      ]
     },
     "execution_count": 17,
     "metadata": {},
     "output_type": "execute_result"
    }
   ],
   "source": [
    "# 확인용 코드\n",
    "df_covid.head(3)"
   ]
  },
  {
   "cell_type": "code",
   "execution_count": 18,
   "metadata": {},
   "outputs": [
    {
     "data": {
      "text/html": [
       "<div>\n",
       "<style scoped>\n",
       "    .dataframe tbody tr th:only-of-type {\n",
       "        vertical-align: middle;\n",
       "    }\n",
       "\n",
       "    .dataframe tbody tr th {\n",
       "        vertical-align: top;\n",
       "    }\n",
       "\n",
       "    .dataframe thead th {\n",
       "        text-align: right;\n",
       "    }\n",
       "</style>\n",
       "<table border=\"1\" class=\"dataframe\">\n",
       "  <thead>\n",
       "    <tr style=\"text-align: right;\">\n",
       "      <th></th>\n",
       "      <th>자치구 기준일</th>\n",
       "      <th>서울 전체</th>\n",
       "    </tr>\n",
       "  </thead>\n",
       "  <tbody>\n",
       "    <tr>\n",
       "      <th>2</th>\n",
       "      <td>2022-02-15</td>\n",
       "      <td>422863.0</td>\n",
       "    </tr>\n",
       "    <tr>\n",
       "      <th>1</th>\n",
       "      <td>2022-02-16</td>\n",
       "      <td>448168.0</td>\n",
       "    </tr>\n",
       "    <tr>\n",
       "      <th>0</th>\n",
       "      <td>2022-02-17</td>\n",
       "      <td>468666.0</td>\n",
       "    </tr>\n",
       "  </tbody>\n",
       "</table>\n",
       "</div>"
      ],
      "text/plain": [
       "      자치구 기준일     서울 전체\n",
       "2  2022-02-15  422863.0\n",
       "1  2022-02-16  448168.0\n",
       "0  2022-02-17  468666.0"
      ]
     },
     "execution_count": 18,
     "metadata": {},
     "output_type": "execute_result"
    }
   ],
   "source": [
    "# 확인용 코드\n",
    "df_covid.tail(3)"
   ]
  },
  {
   "cell_type": "code",
   "execution_count": 19,
   "metadata": {
    "scrolled": true
   },
   "outputs": [
    {
     "name": "stdout",
     "output_type": "stream",
     "text": [
      "<class 'pandas.core.frame.DataFrame'>\n",
      "Int64Index: 505 entries, 744 to 0\n",
      "Data columns (total 2 columns):\n",
      " #   Column   Non-Null Count  Dtype  \n",
      "---  ------   --------------  -----  \n",
      " 0   자치구 기준일  505 non-null    object \n",
      " 1   서울 전체    505 non-null    float64\n",
      "dtypes: float64(1), object(1)\n",
      "memory usage: 11.8+ KB\n"
     ]
    }
   ],
   "source": [
    "# 확인용 코드\n",
    "df_covid.info()"
   ]
  },
  {
   "cell_type": "code",
   "execution_count": 20,
   "metadata": {},
   "outputs": [],
   "source": [
    "# 오미크론 우세종 된 이후 데이터 제거\n",
    "df_covid = df_covid[df_covid['자치구 기준일'] < '2022-01-09']"
   ]
  },
  {
   "cell_type": "code",
   "execution_count": 21,
   "metadata": {},
   "outputs": [
    {
     "data": {
      "text/html": [
       "<div>\n",
       "<style scoped>\n",
       "    .dataframe tbody tr th:only-of-type {\n",
       "        vertical-align: middle;\n",
       "    }\n",
       "\n",
       "    .dataframe tbody tr th {\n",
       "        vertical-align: top;\n",
       "    }\n",
       "\n",
       "    .dataframe thead th {\n",
       "        text-align: right;\n",
       "    }\n",
       "</style>\n",
       "<table border=\"1\" class=\"dataframe\">\n",
       "  <thead>\n",
       "    <tr style=\"text-align: right;\">\n",
       "      <th></th>\n",
       "      <th>자치구 기준일</th>\n",
       "      <th>서울 전체</th>\n",
       "    </tr>\n",
       "  </thead>\n",
       "  <tbody>\n",
       "    <tr>\n",
       "      <th>744</th>\n",
       "      <td>2020-02-05</td>\n",
       "      <td>12.0</td>\n",
       "    </tr>\n",
       "    <tr>\n",
       "      <th>743</th>\n",
       "      <td>2020-02-06</td>\n",
       "      <td>15.0</td>\n",
       "    </tr>\n",
       "    <tr>\n",
       "      <th>742</th>\n",
       "      <td>2020-02-07</td>\n",
       "      <td>0.0</td>\n",
       "    </tr>\n",
       "    <tr>\n",
       "      <th>739</th>\n",
       "      <td>2020-02-10</td>\n",
       "      <td>0.0</td>\n",
       "    </tr>\n",
       "    <tr>\n",
       "      <th>738</th>\n",
       "      <td>2020-02-11</td>\n",
       "      <td>0.0</td>\n",
       "    </tr>\n",
       "    <tr>\n",
       "      <th>...</th>\n",
       "      <td>...</td>\n",
       "      <td>...</td>\n",
       "    </tr>\n",
       "    <tr>\n",
       "      <th>45</th>\n",
       "      <td>2022-01-03</td>\n",
       "      <td>229860.0</td>\n",
       "    </tr>\n",
       "    <tr>\n",
       "      <th>44</th>\n",
       "      <td>2022-01-04</td>\n",
       "      <td>230739.0</td>\n",
       "    </tr>\n",
       "    <tr>\n",
       "      <th>43</th>\n",
       "      <td>2022-01-05</td>\n",
       "      <td>232625.0</td>\n",
       "    </tr>\n",
       "    <tr>\n",
       "      <th>42</th>\n",
       "      <td>2022-01-06</td>\n",
       "      <td>233627.0</td>\n",
       "    </tr>\n",
       "    <tr>\n",
       "      <th>41</th>\n",
       "      <td>2022-01-07</td>\n",
       "      <td>234495.0</td>\n",
       "    </tr>\n",
       "  </tbody>\n",
       "</table>\n",
       "<p>479 rows × 2 columns</p>\n",
       "</div>"
      ],
      "text/plain": [
       "        자치구 기준일     서울 전체\n",
       "744  2020-02-05      12.0\n",
       "743  2020-02-06      15.0\n",
       "742  2020-02-07       0.0\n",
       "739  2020-02-10       0.0\n",
       "738  2020-02-11       0.0\n",
       "..          ...       ...\n",
       "45   2022-01-03  229860.0\n",
       "44   2022-01-04  230739.0\n",
       "43   2022-01-05  232625.0\n",
       "42   2022-01-06  233627.0\n",
       "41   2022-01-07  234495.0\n",
       "\n",
       "[479 rows x 2 columns]"
      ]
     },
     "execution_count": 21,
     "metadata": {},
     "output_type": "execute_result"
    }
   ],
   "source": [
    "df_covid"
   ]
  },
  {
   "cell_type": "code",
   "execution_count": 22,
   "metadata": {},
   "outputs": [
    {
     "name": "stdout",
     "output_type": "stream",
     "text": [
      "<class 'pandas.core.frame.DataFrame'>\n",
      "Int64Index: 479 entries, 744 to 41\n",
      "Data columns (total 2 columns):\n",
      " #   Column   Non-Null Count  Dtype  \n",
      "---  ------   --------------  -----  \n",
      " 0   자치구 기준일  479 non-null    object \n",
      " 1   서울 전체    479 non-null    float64\n",
      "dtypes: float64(1), object(1)\n",
      "memory usage: 11.2+ KB\n"
     ]
    }
   ],
   "source": [
    "df_covid.info()"
   ]
  },
  {
   "cell_type": "markdown",
   "metadata": {},
   "source": [
    "# Stock"
   ]
  },
  {
   "cell_type": "code",
   "execution_count": 23,
   "metadata": {},
   "outputs": [
    {
     "data": {
      "text/html": [
       "<div>\n",
       "<style scoped>\n",
       "    .dataframe tbody tr th:only-of-type {\n",
       "        vertical-align: middle;\n",
       "    }\n",
       "\n",
       "    .dataframe tbody tr th {\n",
       "        vertical-align: top;\n",
       "    }\n",
       "\n",
       "    .dataframe thead th {\n",
       "        text-align: right;\n",
       "    }\n",
       "</style>\n",
       "<table border=\"1\" class=\"dataframe\">\n",
       "  <thead>\n",
       "    <tr style=\"text-align: right;\">\n",
       "      <th></th>\n",
       "      <th>계정별</th>\n",
       "      <th>2020.02.05</th>\n",
       "      <th>2020.02.06</th>\n",
       "      <th>2020.02.07</th>\n",
       "      <th>2020.02.10</th>\n",
       "      <th>2020.02.11</th>\n",
       "      <th>2020.02.12</th>\n",
       "      <th>2020.02.13</th>\n",
       "      <th>2020.02.14</th>\n",
       "      <th>2020.02.17</th>\n",
       "      <th>...</th>\n",
       "      <th>2022.02.04</th>\n",
       "      <th>2022.02.07</th>\n",
       "      <th>2022.02.08</th>\n",
       "      <th>2022.02.09</th>\n",
       "      <th>2022.02.10</th>\n",
       "      <th>2022.02.11</th>\n",
       "      <th>2022.02.14</th>\n",
       "      <th>2022.02.15</th>\n",
       "      <th>2022.02.16</th>\n",
       "      <th>2022.02.17</th>\n",
       "    </tr>\n",
       "  </thead>\n",
       "  <tbody>\n",
       "    <tr>\n",
       "      <th>0</th>\n",
       "      <td>KOSPI지수 (1980.01.04=100)</td>\n",
       "      <td>2165.63</td>\n",
       "      <td>2227.94</td>\n",
       "      <td>2211.95</td>\n",
       "      <td>2201.07</td>\n",
       "      <td>2223.12</td>\n",
       "      <td>2238.38</td>\n",
       "      <td>2232.96</td>\n",
       "      <td>2243.59</td>\n",
       "      <td>2242.17</td>\n",
       "      <td>...</td>\n",
       "      <td>2750.26</td>\n",
       "      <td>2745.06</td>\n",
       "      <td>2746.47</td>\n",
       "      <td>2768.85</td>\n",
       "      <td>2771.93</td>\n",
       "      <td>2747.71</td>\n",
       "      <td>2704.48</td>\n",
       "      <td>2676.54</td>\n",
       "      <td>2729.68</td>\n",
       "      <td>2744.09</td>\n",
       "    </tr>\n",
       "    <tr>\n",
       "      <th>1</th>\n",
       "      <td>거래량(주식시장, 잠정치) (만주)</td>\n",
       "      <td>56312.00</td>\n",
       "      <td>68323.00</td>\n",
       "      <td>76671.00</td>\n",
       "      <td>60047.00</td>\n",
       "      <td>51031.00</td>\n",
       "      <td>62342.00</td>\n",
       "      <td>62961.00</td>\n",
       "      <td>58900.00</td>\n",
       "      <td>45309.00</td>\n",
       "      <td>...</td>\n",
       "      <td>52652.00</td>\n",
       "      <td>41008.00</td>\n",
       "      <td>55489.00</td>\n",
       "      <td>52969.00</td>\n",
       "      <td>50043.00</td>\n",
       "      <td>45698.00</td>\n",
       "      <td>60566.00</td>\n",
       "      <td>57535.00</td>\n",
       "      <td>41515.00</td>\n",
       "      <td>60226.00</td>\n",
       "    </tr>\n",
       "    <tr>\n",
       "      <th>2</th>\n",
       "      <td>거래대금(주식시장 , 잠정치) (억원)</td>\n",
       "      <td>74625.00</td>\n",
       "      <td>80636.00</td>\n",
       "      <td>69263.00</td>\n",
       "      <td>53322.00</td>\n",
       "      <td>64744.00</td>\n",
       "      <td>67750.00</td>\n",
       "      <td>79571.00</td>\n",
       "      <td>61331.00</td>\n",
       "      <td>55661.00</td>\n",
       "      <td>...</td>\n",
       "      <td>111842.00</td>\n",
       "      <td>111059.00</td>\n",
       "      <td>116203.00</td>\n",
       "      <td>101579.00</td>\n",
       "      <td>125638.00</td>\n",
       "      <td>105400.00</td>\n",
       "      <td>113138.00</td>\n",
       "      <td>92255.00</td>\n",
       "      <td>82633.00</td>\n",
       "      <td>116773.00</td>\n",
       "    </tr>\n",
       "    <tr>\n",
       "      <th>3</th>\n",
       "      <td>외국인 순매수(주식시장, 잠정치) (억원)</td>\n",
       "      <td>4578.00</td>\n",
       "      <td>1586.00</td>\n",
       "      <td>223.00</td>\n",
       "      <td>-3039.00</td>\n",
       "      <td>-934.00</td>\n",
       "      <td>-2163.00</td>\n",
       "      <td>2795.00</td>\n",
       "      <td>945.00</td>\n",
       "      <td>-2287.00</td>\n",
       "      <td>...</td>\n",
       "      <td>1945.00</td>\n",
       "      <td>-69.00</td>\n",
       "      <td>-939.00</td>\n",
       "      <td>2355.00</td>\n",
       "      <td>8365.00</td>\n",
       "      <td>6081.00</td>\n",
       "      <td>684.00</td>\n",
       "      <td>-2209.00</td>\n",
       "      <td>-437.00</td>\n",
       "      <td>6516.00</td>\n",
       "    </tr>\n",
       "    <tr>\n",
       "      <th>4</th>\n",
       "      <td>주식시장-거래량(만주, 시간외거래분 포함) (만주)</td>\n",
       "      <td>57440.00</td>\n",
       "      <td>69522.00</td>\n",
       "      <td>80034.00</td>\n",
       "      <td>60957.00</td>\n",
       "      <td>52621.00</td>\n",
       "      <td>63246.00</td>\n",
       "      <td>63867.00</td>\n",
       "      <td>59722.00</td>\n",
       "      <td>45825.00</td>\n",
       "      <td>...</td>\n",
       "      <td>53615.00</td>\n",
       "      <td>41784.00</td>\n",
       "      <td>56053.00</td>\n",
       "      <td>53912.00</td>\n",
       "      <td>50961.00</td>\n",
       "      <td>48052.00</td>\n",
       "      <td>61634.00</td>\n",
       "      <td>58904.00</td>\n",
       "      <td>42237.00</td>\n",
       "      <td>-</td>\n",
       "    </tr>\n",
       "  </tbody>\n",
       "</table>\n",
       "<p>5 rows × 506 columns</p>\n",
       "</div>"
      ],
      "text/plain": [
       "                            계정별  2020.02.05  2020.02.06  2020.02.07  \\\n",
       "0      KOSPI지수 (1980.01.04=100)     2165.63     2227.94     2211.95   \n",
       "1           거래량(주식시장, 잠정치) (만주)    56312.00    68323.00    76671.00   \n",
       "2         거래대금(주식시장 , 잠정치) (억원)    74625.00    80636.00    69263.00   \n",
       "3       외국인 순매수(주식시장, 잠정치) (억원)     4578.00     1586.00      223.00   \n",
       "4  주식시장-거래량(만주, 시간외거래분 포함) (만주)    57440.00    69522.00    80034.00   \n",
       "\n",
       "   2020.02.10  2020.02.11  2020.02.12  2020.02.13  2020.02.14  2020.02.17  \\\n",
       "0     2201.07     2223.12     2238.38     2232.96     2243.59     2242.17   \n",
       "1    60047.00    51031.00    62342.00    62961.00    58900.00    45309.00   \n",
       "2    53322.00    64744.00    67750.00    79571.00    61331.00    55661.00   \n",
       "3    -3039.00     -934.00    -2163.00     2795.00      945.00    -2287.00   \n",
       "4    60957.00    52621.00    63246.00    63867.00    59722.00    45825.00   \n",
       "\n",
       "   ...  2022.02.04  2022.02.07  2022.02.08  2022.02.09  2022.02.10  \\\n",
       "0  ...     2750.26     2745.06     2746.47     2768.85     2771.93   \n",
       "1  ...    52652.00    41008.00    55489.00    52969.00    50043.00   \n",
       "2  ...   111842.00   111059.00   116203.00   101579.00   125638.00   \n",
       "3  ...     1945.00      -69.00     -939.00     2355.00     8365.00   \n",
       "4  ...    53615.00    41784.00    56053.00    53912.00    50961.00   \n",
       "\n",
       "   2022.02.11  2022.02.14  2022.02.15  2022.02.16  2022.02.17  \n",
       "0     2747.71     2704.48     2676.54     2729.68     2744.09  \n",
       "1    45698.00    60566.00    57535.00    41515.00    60226.00  \n",
       "2   105400.00   113138.00    92255.00    82633.00   116773.00  \n",
       "3     6081.00      684.00    -2209.00     -437.00     6516.00  \n",
       "4    48052.00    61634.00    58904.00    42237.00           -  \n",
       "\n",
       "[5 rows x 506 columns]"
      ]
     },
     "execution_count": 23,
     "metadata": {},
     "output_type": "execute_result"
    }
   ],
   "source": [
    "# 확인용 코드\n",
    "df_stock.head()"
   ]
  },
  {
   "cell_type": "code",
   "execution_count": 24,
   "metadata": {},
   "outputs": [],
   "source": [
    "# 데이터 전처리 - 전치 + 날짜 형식 변환\n",
    "df_stock_day = df_stock.columns.values.tolist()\n",
    "df_stock = df_stock.T\n",
    "df_stock['날짜'] = df_stock_day"
   ]
  },
  {
   "cell_type": "code",
   "execution_count": 25,
   "metadata": {},
   "outputs": [],
   "source": [
    "date_set=[]\n",
    "for item in df_stock['날짜']:\n",
    "    if(item == '계정별'):\n",
    "        date_set+=[np.nan]\n",
    "    else:\n",
    "        item=item.split('.')\n",
    "        year=int(item[0])\n",
    "        month=int(item[1])\n",
    "        day=int(item[2])\n",
    "        date_set+=[str(date(year,month,day))]\n",
    "\n",
    "df_stock['날짜'] = date_set\n",
    "\n",
    "df_stock.dropna(axis=0, inplace = True)\n",
    "df_stock.rename(columns={0:'KOSPI'}, inplace = True)\n",
    "df_stock = df_stock[['KOSPI', '날짜']]\n",
    "df_stock[\"KOSPI\"]=df_stock[\"KOSPI\"].apply(float)\n",
    "df_stock = df_stock.sort_values('날짜', ascending = True)"
   ]
  },
  {
   "cell_type": "code",
   "execution_count": 26,
   "metadata": {},
   "outputs": [
    {
     "data": {
      "text/html": [
       "<div>\n",
       "<style scoped>\n",
       "    .dataframe tbody tr th:only-of-type {\n",
       "        vertical-align: middle;\n",
       "    }\n",
       "\n",
       "    .dataframe tbody tr th {\n",
       "        vertical-align: top;\n",
       "    }\n",
       "\n",
       "    .dataframe thead th {\n",
       "        text-align: right;\n",
       "    }\n",
       "</style>\n",
       "<table border=\"1\" class=\"dataframe\">\n",
       "  <thead>\n",
       "    <tr style=\"text-align: right;\">\n",
       "      <th></th>\n",
       "      <th>KOSPI</th>\n",
       "      <th>날짜</th>\n",
       "    </tr>\n",
       "  </thead>\n",
       "  <tbody>\n",
       "    <tr>\n",
       "      <th>2020.02.05</th>\n",
       "      <td>2165.63</td>\n",
       "      <td>2020-02-05</td>\n",
       "    </tr>\n",
       "    <tr>\n",
       "      <th>2020.02.06</th>\n",
       "      <td>2227.94</td>\n",
       "      <td>2020-02-06</td>\n",
       "    </tr>\n",
       "    <tr>\n",
       "      <th>2020.02.07</th>\n",
       "      <td>2211.95</td>\n",
       "      <td>2020-02-07</td>\n",
       "    </tr>\n",
       "  </tbody>\n",
       "</table>\n",
       "</div>"
      ],
      "text/plain": [
       "              KOSPI          날짜\n",
       "2020.02.05  2165.63  2020-02-05\n",
       "2020.02.06  2227.94  2020-02-06\n",
       "2020.02.07  2211.95  2020-02-07"
      ]
     },
     "execution_count": 26,
     "metadata": {},
     "output_type": "execute_result"
    }
   ],
   "source": [
    "# 확인용 코드\n",
    "df_stock.head(3)"
   ]
  },
  {
   "cell_type": "code",
   "execution_count": 27,
   "metadata": {},
   "outputs": [
    {
     "data": {
      "text/html": [
       "<div>\n",
       "<style scoped>\n",
       "    .dataframe tbody tr th:only-of-type {\n",
       "        vertical-align: middle;\n",
       "    }\n",
       "\n",
       "    .dataframe tbody tr th {\n",
       "        vertical-align: top;\n",
       "    }\n",
       "\n",
       "    .dataframe thead th {\n",
       "        text-align: right;\n",
       "    }\n",
       "</style>\n",
       "<table border=\"1\" class=\"dataframe\">\n",
       "  <thead>\n",
       "    <tr style=\"text-align: right;\">\n",
       "      <th></th>\n",
       "      <th>KOSPI</th>\n",
       "      <th>날짜</th>\n",
       "    </tr>\n",
       "  </thead>\n",
       "  <tbody>\n",
       "    <tr>\n",
       "      <th>2022.02.15</th>\n",
       "      <td>2676.54</td>\n",
       "      <td>2022-02-15</td>\n",
       "    </tr>\n",
       "    <tr>\n",
       "      <th>2022.02.16</th>\n",
       "      <td>2729.68</td>\n",
       "      <td>2022-02-16</td>\n",
       "    </tr>\n",
       "    <tr>\n",
       "      <th>2022.02.17</th>\n",
       "      <td>2744.09</td>\n",
       "      <td>2022-02-17</td>\n",
       "    </tr>\n",
       "  </tbody>\n",
       "</table>\n",
       "</div>"
      ],
      "text/plain": [
       "              KOSPI          날짜\n",
       "2022.02.15  2676.54  2022-02-15\n",
       "2022.02.16  2729.68  2022-02-16\n",
       "2022.02.17  2744.09  2022-02-17"
      ]
     },
     "execution_count": 27,
     "metadata": {},
     "output_type": "execute_result"
    }
   ],
   "source": [
    "# 확인용 코드\n",
    "df_stock.tail(3)"
   ]
  },
  {
   "cell_type": "code",
   "execution_count": 28,
   "metadata": {},
   "outputs": [],
   "source": [
    "df_stock = df_stock[df_stock['날짜'] < '2022-01-09']"
   ]
  },
  {
   "cell_type": "code",
   "execution_count": 29,
   "metadata": {
    "scrolled": true
   },
   "outputs": [
    {
     "name": "stdout",
     "output_type": "stream",
     "text": [
      "<class 'pandas.core.frame.DataFrame'>\n",
      "Index: 479 entries, 2020.02.05 to 2022.01.07\n",
      "Data columns (total 2 columns):\n",
      " #   Column  Non-Null Count  Dtype  \n",
      "---  ------  --------------  -----  \n",
      " 0   KOSPI   479 non-null    float64\n",
      " 1   날짜      479 non-null    object \n",
      "dtypes: float64(1), object(1)\n",
      "memory usage: 11.2+ KB\n"
     ]
    }
   ],
   "source": [
    "df_stock.info()"
   ]
  },
  {
   "cell_type": "code",
   "execution_count": 30,
   "metadata": {},
   "outputs": [
    {
     "data": {
      "text/html": [
       "<div>\n",
       "<style scoped>\n",
       "    .dataframe tbody tr th:only-of-type {\n",
       "        vertical-align: middle;\n",
       "    }\n",
       "\n",
       "    .dataframe tbody tr th {\n",
       "        vertical-align: top;\n",
       "    }\n",
       "\n",
       "    .dataframe thead th {\n",
       "        text-align: right;\n",
       "    }\n",
       "</style>\n",
       "<table border=\"1\" class=\"dataframe\">\n",
       "  <thead>\n",
       "    <tr style=\"text-align: right;\">\n",
       "      <th></th>\n",
       "      <th>자치구 기준일</th>\n",
       "      <th>서울 전체</th>\n",
       "    </tr>\n",
       "  </thead>\n",
       "  <tbody>\n",
       "    <tr>\n",
       "      <th>744</th>\n",
       "      <td>2020-02-05</td>\n",
       "      <td>12.0</td>\n",
       "    </tr>\n",
       "    <tr>\n",
       "      <th>743</th>\n",
       "      <td>2020-02-06</td>\n",
       "      <td>15.0</td>\n",
       "    </tr>\n",
       "    <tr>\n",
       "      <th>742</th>\n",
       "      <td>2020-02-07</td>\n",
       "      <td>0.0</td>\n",
       "    </tr>\n",
       "  </tbody>\n",
       "</table>\n",
       "</div>"
      ],
      "text/plain": [
       "        자치구 기준일  서울 전체\n",
       "744  2020-02-05   12.0\n",
       "743  2020-02-06   15.0\n",
       "742  2020-02-07    0.0"
      ]
     },
     "execution_count": 30,
     "metadata": {},
     "output_type": "execute_result"
    }
   ],
   "source": [
    "# 확인용 코드\n",
    "df_covid.head(3)"
   ]
  },
  {
   "cell_type": "code",
   "execution_count": 31,
   "metadata": {},
   "outputs": [
    {
     "data": {
      "text/html": [
       "<div>\n",
       "<style scoped>\n",
       "    .dataframe tbody tr th:only-of-type {\n",
       "        vertical-align: middle;\n",
       "    }\n",
       "\n",
       "    .dataframe tbody tr th {\n",
       "        vertical-align: top;\n",
       "    }\n",
       "\n",
       "    .dataframe thead th {\n",
       "        text-align: right;\n",
       "    }\n",
       "</style>\n",
       "<table border=\"1\" class=\"dataframe\">\n",
       "  <thead>\n",
       "    <tr style=\"text-align: right;\">\n",
       "      <th></th>\n",
       "      <th>자치구 기준일</th>\n",
       "      <th>서울 전체</th>\n",
       "    </tr>\n",
       "  </thead>\n",
       "  <tbody>\n",
       "    <tr>\n",
       "      <th>43</th>\n",
       "      <td>2022-01-05</td>\n",
       "      <td>232625.0</td>\n",
       "    </tr>\n",
       "    <tr>\n",
       "      <th>42</th>\n",
       "      <td>2022-01-06</td>\n",
       "      <td>233627.0</td>\n",
       "    </tr>\n",
       "    <tr>\n",
       "      <th>41</th>\n",
       "      <td>2022-01-07</td>\n",
       "      <td>234495.0</td>\n",
       "    </tr>\n",
       "  </tbody>\n",
       "</table>\n",
       "</div>"
      ],
      "text/plain": [
       "       자치구 기준일     서울 전체\n",
       "43  2022-01-05  232625.0\n",
       "42  2022-01-06  233627.0\n",
       "41  2022-01-07  234495.0"
      ]
     },
     "execution_count": 31,
     "metadata": {},
     "output_type": "execute_result"
    }
   ],
   "source": [
    "# 확인용 코드\n",
    "df_covid.tail(3)"
   ]
  },
  {
   "cell_type": "code",
   "execution_count": 32,
   "metadata": {},
   "outputs": [
    {
     "name": "stdout",
     "output_type": "stream",
     "text": [
      "479\n"
     ]
    }
   ],
   "source": [
    "# 확인용 코드\n",
    "list1 = list(np.array(df_covid['자치구 기준일'].tolist()))\n",
    "print(len(set(list1)))"
   ]
  },
  {
   "cell_type": "code",
   "execution_count": 33,
   "metadata": {},
   "outputs": [
    {
     "name": "stdout",
     "output_type": "stream",
     "text": [
      "479\n"
     ]
    }
   ],
   "source": [
    "# 확인용 코드\n",
    "list2 = list(np.array(df_stock['날짜'].tolist()))\n",
    "print(len(set(list1)))"
   ]
  },
  {
   "cell_type": "code",
   "execution_count": 34,
   "metadata": {},
   "outputs": [
    {
     "name": "stdout",
     "output_type": "stream",
     "text": [
      "[]\n",
      "[]\n"
     ]
    }
   ],
   "source": [
    "# 확인용 코드\n",
    "C = list(set(list1) - set(list2))\n",
    "D = list(set(list2) - set(list1))\n",
    "print(C)\n",
    "print(D)"
   ]
  },
  {
   "cell_type": "code",
   "execution_count": 35,
   "metadata": {},
   "outputs": [
    {
     "name": "stdout",
     "output_type": "stream",
     "text": [
      "<class 'pandas.core.frame.DataFrame'>\n",
      "Index: 479 entries, 2020.02.05 to 2022.01.07\n",
      "Data columns (total 2 columns):\n",
      " #   Column  Non-Null Count  Dtype  \n",
      "---  ------  --------------  -----  \n",
      " 0   KOSPI   479 non-null    float64\n",
      " 1   날짜      479 non-null    object \n",
      "dtypes: float64(1), object(1)\n",
      "memory usage: 11.2+ KB\n"
     ]
    }
   ],
   "source": [
    "# 확인용 코드\n",
    "df_stock.info()"
   ]
  },
  {
   "cell_type": "code",
   "execution_count": 36,
   "metadata": {},
   "outputs": [
    {
     "name": "stdout",
     "output_type": "stream",
     "text": [
      "<class 'pandas.core.frame.DataFrame'>\n",
      "Int64Index: 479 entries, 744 to 41\n",
      "Data columns (total 2 columns):\n",
      " #   Column   Non-Null Count  Dtype  \n",
      "---  ------   --------------  -----  \n",
      " 0   자치구 기준일  479 non-null    object \n",
      " 1   서울 전체    479 non-null    float64\n",
      "dtypes: float64(1), object(1)\n",
      "memory usage: 11.2+ KB\n"
     ]
    }
   ],
   "source": [
    "# 확인용 코드\n",
    "df_covid.info()"
   ]
  },
  {
   "cell_type": "markdown",
   "metadata": {},
   "source": [
    "# 시각화"
   ]
  },
  {
   "cell_type": "code",
   "execution_count": 37,
   "metadata": {
    "colab": {},
    "colab_type": "code",
    "id": "cc-Fn23Q4AqQ"
   },
   "outputs": [],
   "source": [
    "import matplotlib.pyplot as plt"
   ]
  },
  {
   "cell_type": "code",
   "execution_count": 38,
   "metadata": {
    "colab": {
     "base_uri": "https://localhost:8080/",
     "height": 279
    },
    "colab_type": "code",
    "executionInfo": {
     "elapsed": 1097,
     "status": "ok",
     "timestamp": 1587904061347,
     "user": {
      "displayName": "Haesun Park",
      "photoUrl": "https://lh3.googleusercontent.com/a-/AOh14GhsWlS7sKQL-9fIkg3FmxpTMz_u-KDSs8y__P1ngQ=s64",
      "userId": "14935388527648823821"
     },
     "user_tz": -540
    },
    "id": "gE78Nuog4Eg4",
    "outputId": "e2862f05-14c9-4445-b711-1326aca5c020"
   },
   "outputs": [
    {
     "data": {
      "image/png": "[encoded data removed]",
      "text/plain": [
       "<Figure size 432x288 with 1 Axes>"
      ]
     },
     "metadata": {
      "needs_background": "light"
     },
     "output_type": "display_data"
    }
   ],
   "source": [
    "# 시각화\n",
    "df_covid_count = df_covid['서울 전체']\n",
    "df_kospi = df_stock['KOSPI']\n",
    "plt.scatter(df_covid_count, df_kospi)\n",
    "plt.xlabel('covid count')\n",
    "plt.ylabel('kospi')\n",
    "plt.show()"
   ]
  },
  {
   "cell_type": "code",
   "execution_count": 39,
   "metadata": {
    "colab": {},
    "colab_type": "code",
    "id": "dqSDbM-K4pkB"
   },
   "outputs": [],
   "source": [
    "from sklearn.model_selection import train_test_split"
   ]
  },
  {
   "cell_type": "code",
   "execution_count": 40,
   "metadata": {
    "colab": {},
    "colab_type": "code",
    "id": "seEljNAS4uET"
   },
   "outputs": [],
   "source": [
    "# 데이터셋 분류\n",
    "train_input, test_input, train_target, test_target = train_test_split(\n",
    "    df_covid_count, df_kospi,  random_state=42)"
   ]
  },
  {
   "cell_type": "code",
   "execution_count": 41,
   "metadata": {
    "colab": {
     "base_uri": "https://localhost:8080/",
     "height": 35
    },
    "colab_type": "code",
    "executionInfo": {
     "elapsed": 1391,
     "status": "ok",
     "timestamp": 1587904061649,
     "user": {
      "displayName": "Haesun Park",
      "photoUrl": "https://lh3.googleusercontent.com/a-/AOh14GhsWlS7sKQL-9fIkg3FmxpTMz_u-KDSs8y__P1ngQ=s64",
      "userId": "14935388527648823821"
     },
     "user_tz": -540
    },
    "id": "sC6HAwnnK4aU",
    "outputId": "55cc21c4-0934-4244-ca96-2c69a099f345"
   },
   "outputs": [
    {
     "name": "stdout",
     "output_type": "stream",
     "text": [
      "(359,) (120,)\n"
     ]
    }
   ],
   "source": [
    "print(train_input.shape, test_input.shape)"
   ]
  },
  {
   "cell_type": "code",
   "execution_count": 42,
   "metadata": {
    "colab": {},
    "colab_type": "code",
    "id": "_GfrND5GKg_z"
   },
   "outputs": [],
   "source": [
    "# 데이터셋 전처리\n",
    "train_input = train_input.values.reshape(-1, 1)\n",
    "test_input = test_input.values.reshape(-1, 1)"
   ]
  },
  {
   "cell_type": "code",
   "execution_count": 43,
   "metadata": {
    "colab": {
     "base_uri": "https://localhost:8080/",
     "height": 35
    },
    "colab_type": "code",
    "executionInfo": {
     "elapsed": 1655,
     "status": "ok",
     "timestamp": 1587904061930,
     "user": {
      "displayName": "Haesun Park",
      "photoUrl": "https://lh3.googleusercontent.com/a-/AOh14GhsWlS7sKQL-9fIkg3FmxpTMz_u-KDSs8y__P1ngQ=s64",
      "userId": "14935388527648823821"
     },
     "user_tz": -540
    },
    "id": "0c8e0UrkLJDe",
    "outputId": "dfa7fb53-eb97-4bfc-de5b-89391c07d835"
   },
   "outputs": [
    {
     "name": "stdout",
     "output_type": "stream",
     "text": [
      "(359, 1) (120, 1)\n"
     ]
    }
   ],
   "source": [
    "print(train_input.shape, test_input.shape)"
   ]
  },
  {
   "cell_type": "markdown",
   "metadata": {
    "colab_type": "text",
    "id": "yFadoVqdpe93"
   },
   "source": [
    "## 선형 회귀"
   ]
  },
  {
   "cell_type": "code",
   "execution_count": 44,
   "metadata": {
    "colab": {},
    "colab_type": "code",
    "id": "AKnGV8g5uN_U"
   },
   "outputs": [],
   "source": [
    "from sklearn.linear_model import LinearRegression\n",
    "from sklearn.metrics import mean_absolute_error\n",
    "from sklearn.metrics import mean_squared_error\n",
    "from sklearn.metrics import r2_score"
   ]
  },
  {
   "cell_type": "code",
   "execution_count": 45,
   "metadata": {
    "colab": {
     "base_uri": "https://localhost:8080/",
     "height": 35
    },
    "colab_type": "code",
    "executionInfo": {
     "elapsed": 1645,
     "status": "ok",
     "timestamp": 1589780993185,
     "user": {
      "displayName": "Haesun Park",
      "photoUrl": "https://lh3.googleusercontent.com/a-/AOh14GhsWlS7sKQL-9fIkg3FmxpTMz_u-KDSs8y__P1ngQ=s64",
      "userId": "14935388527648823821"
     },
     "user_tz": -540
    },
    "id": "Ypqgx5RRuOWg",
    "outputId": "4cd87532-d4e2-40eb-d1e0-b75056c536c2"
   },
   "outputs": [
    {
     "data": {
      "text/plain": [
       "LinearRegression()"
      ]
     },
     "execution_count": 45,
     "metadata": {},
     "output_type": "execute_result"
    }
   ],
   "source": [
    "# 선형 회귀 모델 선정 & 훈련\n",
    "lr = LinearRegression()\n",
    "lr.fit(train_input, train_target)"
   ]
  },
  {
   "cell_type": "code",
   "execution_count": 46,
   "metadata": {
    "colab": {
     "base_uri": "https://localhost:8080/",
     "height": 35
    },
    "colab_type": "code",
    "executionInfo": {
     "elapsed": 1641,
     "status": "ok",
     "timestamp": 1589780993186,
     "user": {
      "displayName": "Haesun Park",
      "photoUrl": "https://lh3.googleusercontent.com/a-/AOh14GhsWlS7sKQL-9fIkg3FmxpTMz_u-KDSs8y__P1ngQ=s64",
      "userId": "14935388527648823821"
     },
     "user_tz": -540
    },
    "id": "_Dh2FgXouRLU",
    "outputId": "36431778-59e3-4005-e780-76c2cc9dfb67"
   },
   "outputs": [
    {
     "name": "stdout",
     "output_type": "stream",
     "text": [
      "[4042.38153092]\n"
     ]
    }
   ],
   "source": [
    "# 30만명 코로나 결과 예측\n",
    "print(lr.predict([[300000]]))"
   ]
  },
  {
   "cell_type": "code",
   "execution_count": 47,
   "metadata": {
    "colab": {
     "base_uri": "https://localhost:8080/",
     "height": 35
    },
    "colab_type": "code",
    "executionInfo": {
     "elapsed": 1635,
     "status": "ok",
     "timestamp": 1589780993186,
     "user": {
      "displayName": "Haesun Park",
      "photoUrl": "https://lh3.googleusercontent.com/a-/AOh14GhsWlS7sKQL-9fIkg3FmxpTMz_u-KDSs8y__P1ngQ=s64",
      "userId": "14935388527648823821"
     },
     "user_tz": -540
    },
    "id": "Gy_CKIiIMxDu",
    "outputId": "865ebeb5-8507-4c7a-e4e0-5fe1d47507ac"
   },
   "outputs": [
    {
     "name": "stdout",
     "output_type": "stream",
     "text": [
      "[0.00513486] 2501.924312158931\n"
     ]
    }
   ],
   "source": [
    "# 파라미터 출력\n",
    "print(lr.coef_, lr.intercept_)"
   ]
  },
  {
   "cell_type": "code",
   "execution_count": 48,
   "metadata": {
    "colab": {
     "base_uri": "https://localhost:8080/",
     "height": 265
    },
    "colab_type": "code",
    "executionInfo": {
     "elapsed": 2094,
     "status": "ok",
     "timestamp": 1589780993650,
     "user": {
      "displayName": "Haesun Park",
      "photoUrl": "https://lh3.googleusercontent.com/a-/AOh14GhsWlS7sKQL-9fIkg3FmxpTMz_u-KDSs8y__P1ngQ=s64",
      "userId": "14935388527648823821"
     },
     "user_tz": -540
    },
    "id": "VumOdzlFuV_5",
    "outputId": "7a8d52e8-7643-4de4-bcb6-2af933a8a4f9"
   },
   "outputs": [
    {
     "data": {
      "image/png": "[encoded data removed]",
      "text/plain": [
       "<Figure size 432x288 with 1 Axes>"
      ]
     },
     "metadata": {
      "needs_background": "light"
     },
     "output_type": "display_data"
    },
    {
     "name": "stdout",
     "output_type": "stream",
     "text": [
      "linear_train_accuracy : 0.3005638064688242\n",
      "linear_test_accuracy : 0.29437491100768676\n",
      "MAE : 378.720\n",
      "MSE : 185470.893\n",
      "RMSE : 430.663\n"
     ]
    }
   ],
   "source": [
    "# 시각화\n",
    "plt.scatter(train_input, train_target, label='Original Data')\n",
    "# 0 ~ 30만 코로나 범위 1차 방정식 그래프\n",
    "plt.plot([0, 300000], [0*lr.coef_+lr.intercept_, 300000*lr.coef_+lr.intercept_], 'r', label='Linear Regression')\n",
    "# 30만명 코로나 데이터 시각화\n",
    "plt.scatter(300000, lr.predict([[300000]]), marker='^')\n",
    "plt.xlabel('covid count')\n",
    "plt.ylabel('kospi')\n",
    "plt.legend()\n",
    "plt.show()\n",
    "\n",
    "# 결과 예측 by 테스트 데이터\n",
    "test_prediction = lr.predict(test_input)\n",
    "\n",
    "# 모델분석(결정계수) by 테스트 데이터 & 테스트 데이터\n",
    "print(\"linear_train_accuracy :\", end = ' ')\n",
    "print(lr.score(train_input, train_target))\n",
    "print(\"linear_test_accuracy :\", end = ' ')\n",
    "print(lr.score(test_input, test_target))\n",
    "\n",
    "# 평균 오차 계산 by 테스트 데이터\n",
    "mae = mean_absolute_error(test_target, test_prediction)\n",
    "mse = mean_squared_error(test_target, test_prediction)\n",
    "rmse = np.sqrt(mse)\n",
    "print('MAE : {0:.3f}'.format(mae))\n",
    "print('MSE : {0:.3f}'.format(mse))\n",
    "print('RMSE : {0:.3f}'.format(rmse))"
   ]
  },
  {
   "cell_type": "markdown",
   "metadata": {
    "colab_type": "text",
    "id": "h-akkHaaQc0b"
   },
   "source": [
    "## 다항 회귀"
   ]
  },
  {
   "cell_type": "markdown",
   "metadata": {},
   "source": [
    "### 2차 그래프"
   ]
  },
  {
   "cell_type": "code",
   "execution_count": 49,
   "metadata": {
    "colab": {},
    "colab_type": "code",
    "id": "wcdsYFxB2q82"
   },
   "outputs": [],
   "source": [
    "# 데이터셋 전처리\n",
    "train_poly = np.column_stack((train_input ** 2, train_input))\n",
    "test_poly = np.column_stack((test_input ** 2, test_input))"
   ]
  },
  {
   "cell_type": "code",
   "execution_count": 50,
   "metadata": {
    "colab": {
     "base_uri": "https://localhost:8080/",
     "height": 35
    },
    "colab_type": "code",
    "executionInfo": {
     "elapsed": 2077,
     "status": "ok",
     "timestamp": 1589780993652,
     "user": {
      "displayName": "Haesun Park",
      "photoUrl": "https://lh3.googleusercontent.com/a-/AOh14GhsWlS7sKQL-9fIkg3FmxpTMz_u-KDSs8y__P1ngQ=s64",
      "userId": "14935388527648823821"
     },
     "user_tz": -540
    },
    "id": "JJ6tf1F96EzF",
    "outputId": "2335267c-34a7-4ccb-985a-855cfefce38a"
   },
   "outputs": [
    {
     "name": "stdout",
     "output_type": "stream",
     "text": [
      "(359, 2) (120, 2)\n"
     ]
    }
   ],
   "source": [
    "print(train_poly.shape, test_poly.shape)"
   ]
  },
  {
   "cell_type": "code",
   "execution_count": 51,
   "metadata": {
    "colab": {
     "base_uri": "https://localhost:8080/",
     "height": 35
    },
    "colab_type": "code",
    "executionInfo": {
     "elapsed": 2073,
     "status": "ok",
     "timestamp": 1589780993653,
     "user": {
      "displayName": "Haesun Park",
      "photoUrl": "https://lh3.googleusercontent.com/a-/AOh14GhsWlS7sKQL-9fIkg3FmxpTMz_u-KDSs8y__P1ngQ=s64",
      "userId": "14935388527648823821"
     },
     "user_tz": -540
    },
    "id": "LTlN32tML4Kf",
    "outputId": "4d2d6db5-5296-471c-b72a-0097786f9d4f"
   },
   "outputs": [
    {
     "name": "stdout",
     "output_type": "stream",
     "text": [
      "[486.95068321]\n"
     ]
    }
   ],
   "source": [
    "# 선형 회귀 모델 선정 & 훈련\n",
    "lr = LinearRegression()\n",
    "lr.fit(train_poly, train_target)\n",
    "\n",
    "# 30만명 코로나 결과 예측\n",
    "print(lr.predict([[300000**2, 300000]]))"
   ]
  },
  {
   "cell_type": "code",
   "execution_count": 52,
   "metadata": {
    "colab": {
     "base_uri": "https://localhost:8080/",
     "height": 35
    },
    "colab_type": "code",
    "executionInfo": {
     "elapsed": 2068,
     "status": "ok",
     "timestamp": 1589780993654,
     "user": {
      "displayName": "Haesun Park",
      "photoUrl": "https://lh3.googleusercontent.com/a-/AOh14GhsWlS7sKQL-9fIkg3FmxpTMz_u-KDSs8y__P1ngQ=s64",
      "userId": "14935388527648823821"
     },
     "user_tz": -540
    },
    "id": "k_fGreBgNCAc",
    "outputId": "f26d2789-e893-4ed0-8fd2-857d14f75776"
   },
   "outputs": [
    {
     "name": "stdout",
     "output_type": "stream",
     "text": [
      "[-8.52894134e-08  1.96070987e-02] 2280.868284677109\n"
     ]
    }
   ],
   "source": [
    "# 파라미터 출력\n",
    "print(lr.coef_, lr.intercept_)"
   ]
  },
  {
   "cell_type": "code",
   "execution_count": 53,
   "metadata": {
    "colab": {
     "base_uri": "https://localhost:8080/",
     "height": 265
    },
    "colab_type": "code",
    "executionInfo": {
     "elapsed": 2063,
     "status": "ok",
     "timestamp": 1589780993654,
     "user": {
      "displayName": "Haesun Park",
      "photoUrl": "https://lh3.googleusercontent.com/a-/AOh14GhsWlS7sKQL-9fIkg3FmxpTMz_u-KDSs8y__P1ngQ=s64",
      "userId": "14935388527648823821"
     },
     "user_tz": -540
    },
    "id": "c91qVYoPLz1H",
    "outputId": "7cc80bfd-8aba-4a81-876f-ea7bbe1cbc2d",
    "scrolled": false
   },
   "outputs": [
    {
     "data": {
      "image/png": "[encoded data removed]",
      "text/plain": [
       "<Figure size 432x288 with 1 Axes>"
      ]
     },
     "metadata": {
      "needs_background": "light"
     },
     "output_type": "display_data"
    },
    {
     "name": "stdout",
     "output_type": "stream",
     "text": [
      "poly_train_accuracy : 0.657138830281127\n",
      "poly_test_accuracy : 0.6320321425918017\n",
      "MAE : 260.658\n",
      "MSE : 96718.963\n",
      "RMSE : 310.997\n"
     ]
    }
   ],
   "source": [
    "# 시각화\n",
    "plt.scatter(train_input, train_target, label='Original Data')\n",
    "# 0 ~ 30만 코로나 범위 2차 방정식 그래프\n",
    "# point = np.arange(0, 300000, 1)\n",
    "point = np.linspace(0, 300000, 300000)\n",
    "plt.plot(point, lr.coef_[0]*point**2 + lr.coef_[1]*point + lr.intercept_, 'r', label='Poly Linear Regression')\n",
    "# 30만명 코로나 데이터 시각화\n",
    "plt.scatter([300000], [lr.predict([[300000**2, 300000]])], marker='^')\n",
    "plt.xlabel('covid count')\n",
    "plt.ylabel('kospi')\n",
    "plt.legend()\n",
    "plt.show()\n",
    "\n",
    "# 결과 예측 by 테스트 데이터\n",
    "test_prediction = lr.predict(test_poly)\n",
    "\n",
    "# 모델분석(결정계수) by 테스트 데이터 & 테스트 데이터\n",
    "print(\"poly_train_accuracy :\", end = ' ')\n",
    "print(lr.score(train_poly, train_target))\n",
    "print(\"poly_test_accuracy :\", end = ' ')\n",
    "print(lr.score(test_poly, test_target))\n",
    "\n",
    "# 평균 오차 계산 by 테스트 데이터\n",
    "mae = mean_absolute_error(test_target, test_prediction)\n",
    "mse = mean_squared_error(test_target, test_prediction)\n",
    "rmse = np.sqrt(mse)\n",
    "print('MAE : {0:.3f}'.format(mae))\n",
    "print('MSE : {0:.3f}'.format(mse))\n",
    "print('RMSE : {0:.3f}'.format(rmse))"
   ]
  },
  {
   "cell_type": "markdown",
   "metadata": {},
   "source": [
    "### 모듈 이용"
   ]
  },
  {
   "cell_type": "code",
   "execution_count": 54,
   "metadata": {
    "scrolled": true
   },
   "outputs": [
    {
     "name": "stdout",
     "output_type": "stream",
     "text": [
      "일차 단항식 계수 피처 :  [1012.]\n",
      "ㅡㅡㅡㅡㅡㅡㅡㅡㅡㅡㅡㅡㅡㅡㅡㅡㅡㅡㅡㅡㅡㅡㅡㅡ\n",
      "degrees :  2\n",
      "ㅡㅡㅡㅡㅡㅡㅡㅡㅡㅡㅡㅡㅡㅡㅡㅡㅡㅡㅡㅡㅡㅡㅡㅡ\n",
      "intercept :  2280.8682846794177\n",
      "coefficient :  [ 0.00000000e+00  1.96070987e-02 -8.52894134e-08]\n",
      "\n",
      "train accuracy :  0.657138830281127\n",
      "test accuracy :  0.6320321425877828\n",
      "MAE : 260.658\n",
      "MSE : 96718.963\n",
      "RMSE : 310.997\n",
      "ㅡㅡㅡㅡㅡㅡㅡㅡㅡㅡㅡㅡㅡㅡㅡㅡㅡㅡㅡㅡㅡㅡㅡㅡ\n",
      "degrees :  3\n",
      "ㅡㅡㅡㅡㅡㅡㅡㅡㅡㅡㅡㅡㅡㅡㅡㅡㅡㅡㅡㅡㅡㅡㅡㅡ\n",
      "intercept :  2122.424632283941\n",
      "coefficient :  [ 0.00000000e+00  4.05403772e-02 -4.04259141e-07  1.08819204e-12]\n",
      "\n"
     ]
    },
    {
     "name": "stderr",
     "output_type": "stream",
     "text": [
      "C:\\Users\\Hi\\AppData\\Local\\Temp/ipykernel_17580/1698556570.py:16: MatplotlibDeprecationWarning: Passing non-integers as three-element position specification is deprecated since 3.3 and will be removed two minor releases later.\n",
      "  ax = plt.subplot(2, len(degrees)/2, i + 1)\n",
      "C:\\Users\\Hi\\AppData\\Local\\Temp/ipykernel_17580/1698556570.py:16: MatplotlibDeprecationWarning: Passing non-integers as three-element position specification is deprecated since 3.3 and will be removed two minor releases later.\n",
      "  ax = plt.subplot(2, len(degrees)/2, i + 1)\n"
     ]
    },
    {
     "name": "stdout",
     "output_type": "stream",
     "text": [
      "train accuracy :  0.8812716872853991\n",
      "test accuracy :  0.8739738143272043\n",
      "MAE : 135.906\n",
      "MSE : 33125.508\n",
      "RMSE : 182.004\n",
      "ㅡㅡㅡㅡㅡㅡㅡㅡㅡㅡㅡㅡㅡㅡㅡㅡㅡㅡㅡㅡㅡㅡㅡㅡ\n",
      "degrees :  4\n",
      "ㅡㅡㅡㅡㅡㅡㅡㅡㅡㅡㅡㅡㅡㅡㅡㅡㅡㅡㅡㅡㅡㅡㅡㅡ\n",
      "intercept :  2408.7283867576352\n",
      "coefficient :  [ 0.00000000e+00  1.75260248e-11  4.43892737e-07 -4.63150332e-12\n",
      "  1.20994805e-17]\n",
      "\n",
      "train accuracy :  0.5167381425446813\n",
      "test accuracy :  0.5233392836506359\n",
      "MAE : 304.477\n",
      "MSE : 125288.471\n",
      "RMSE : 353.961\n",
      "ㅡㅡㅡㅡㅡㅡㅡㅡㅡㅡㅡㅡㅡㅡㅡㅡㅡㅡㅡㅡㅡㅡㅡㅡ\n",
      "degrees :  5\n",
      "ㅡㅡㅡㅡㅡㅡㅡㅡㅡㅡㅡㅡㅡㅡㅡㅡㅡㅡㅡㅡㅡㅡㅡㅡ\n",
      "intercept :  2561.359576130093\n",
      "coefficient :  [ 0.00000000e+00  5.18843182e-17  5.25022878e-17  2.68655811e-12\n",
      " -2.67977620e-17  6.67392205e-23]\n",
      "\n"
     ]
    },
    {
     "name": "stderr",
     "output_type": "stream",
     "text": [
      "C:\\Users\\Hi\\AppData\\Local\\Temp/ipykernel_17580/1698556570.py:16: MatplotlibDeprecationWarning: Passing non-integers as three-element position specification is deprecated since 3.3 and will be removed two minor releases later.\n",
      "  ax = plt.subplot(2, len(degrees)/2, i + 1)\n",
      "C:\\Users\\Hi\\AppData\\Local\\Temp/ipykernel_17580/1698556570.py:16: MatplotlibDeprecationWarning: Passing non-integers as three-element position specification is deprecated since 3.3 and will be removed two minor releases later.\n",
      "  ax = plt.subplot(2, len(degrees)/2, i + 1)\n"
     ]
    },
    {
     "name": "stdout",
     "output_type": "stream",
     "text": [
      "train accuracy :  0.2333744316585894\n",
      "test accuracy :  0.27217467339504553\n",
      "MAE : 378.669\n",
      "MSE : 191306.142\n",
      "RMSE : 437.386\n",
      "ㅡㅡㅡㅡㅡㅡㅡㅡㅡㅡㅡㅡㅡㅡㅡㅡㅡㅡㅡㅡㅡㅡㅡㅡ\n",
      "degrees :  8\n",
      "ㅡㅡㅡㅡㅡㅡㅡㅡㅡㅡㅡㅡㅡㅡㅡㅡㅡㅡㅡㅡㅡㅡㅡㅡ\n",
      "intercept :  2665.429023042978\n",
      "coefficient :  [ 0.00000000e+00 -7.23045354e-32 -3.46468120e-39  6.27781712e-43\n",
      "  6.77178665e-38  6.13719091e-33  3.77735938e-28 -3.42485187e-33\n",
      "  7.78481805e-39]\n",
      "\n",
      "train accuracy :  0.05340404476370053\n",
      "test accuracy :  0.0688436841375496\n",
      "MAE : 432.482\n",
      "MSE : 244750.926\n",
      "RMSE : 494.723\n",
      "ㅡㅡㅡㅡㅡㅡㅡㅡㅡㅡㅡㅡㅡㅡㅡㅡㅡㅡㅡㅡㅡㅡㅡㅡ\n",
      "degrees :  10\n",
      "ㅡㅡㅡㅡㅡㅡㅡㅡㅡㅡㅡㅡㅡㅡㅡㅡㅡㅡㅡㅡㅡㅡㅡㅡ\n",
      "intercept :  2680.2538823171476\n",
      "coefficient :  [ 0.00000000e+00 -3.86929021e-42 -1.72603781e-49  2.59509953e-75\n",
      "  1.89852951e-58  1.51174604e-53  1.72446674e-48  1.66170304e-43\n",
      "  1.08092303e-38 -9.64453731e-44  2.15490538e-49]\n",
      "\n"
     ]
    },
    {
     "name": "stderr",
     "output_type": "stream",
     "text": [
      "C:\\Users\\Hi\\AppData\\Local\\Temp/ipykernel_17580/1698556570.py:16: MatplotlibDeprecationWarning: Passing non-integers as three-element position specification is deprecated since 3.3 and will be removed two minor releases later.\n",
      "  ax = plt.subplot(2, len(degrees)/2, i + 1)\n",
      "C:\\Users\\Hi\\AppData\\Local\\Temp/ipykernel_17580/1698556570.py:16: MatplotlibDeprecationWarning: Passing non-integers as three-element position specification is deprecated since 3.3 and will be removed two minor releases later.\n",
      "  ax = plt.subplot(2, len(degrees)/2, i + 1)\n"
     ]
    },
    {
     "name": "stdout",
     "output_type": "stream",
     "text": [
      "train accuracy :  0.034316468047197346\n",
      "test accuracy :  0.035091745023590026\n",
      "MAE : 444.775\n",
      "MSE : 253622.495\n",
      "RMSE : 503.609\n",
      "ㅡㅡㅡㅡㅡㅡㅡㅡㅡㅡㅡㅡㅡㅡㅡㅡㅡㅡㅡㅡㅡㅡㅡㅡ\n",
      "degrees :  20\n",
      "ㅡㅡㅡㅡㅡㅡㅡㅡㅡㅡㅡㅡㅡㅡㅡㅡㅡㅡㅡㅡㅡㅡㅡㅡ\n",
      "intercept :  2699.3203960331584\n",
      "coefficient :  [ 0.00000000e+000  4.39205109e-095 -9.38362428e-102  8.04205208e-182\n",
      "  9.09596575e-164  4.31784224e-159  5.40994841e-129  2.24533992e-132\n",
      "  2.51229576e-143  3.50513871e-138  7.69391368e-133  1.31153708e-127\n",
      "  2.18091869e-122  3.50821035e-117  5.39072820e-112  7.75314396e-107\n",
      "  1.00626786e-101  1.09110440e-096  7.90616093e-092 -6.88283231e-097\n",
      "  1.49867514e-102]\n",
      "\n"
     ]
    },
    {
     "name": "stderr",
     "output_type": "stream",
     "text": [
      "C:\\Users\\Hi\\AppData\\Local\\Temp/ipykernel_17580/1698556570.py:16: MatplotlibDeprecationWarning: Passing non-integers as three-element position specification is deprecated since 3.3 and will be removed two minor releases later.\n",
      "  ax = plt.subplot(2, len(degrees)/2, i + 1)\n"
     ]
    },
    {
     "name": "stdout",
     "output_type": "stream",
     "text": [
      "train accuracy :  0.012603471346509298\n",
      "test accuracy :  0.004095750178606861\n",
      "MAE : 452.815\n",
      "MSE : 261769.676\n",
      "RMSE : 511.634\n",
      "ㅡㅡㅡㅡㅡㅡㅡㅡㅡㅡㅡㅡㅡㅡㅡㅡㅡㅡㅡㅡㅡㅡㅡㅡ\n",
      "degrees :  30\n",
      "ㅡㅡㅡㅡㅡㅡㅡㅡㅡㅡㅡㅡㅡㅡㅡㅡㅡㅡㅡㅡㅡㅡㅡㅡ\n",
      "intercept :  2702.779016297144\n",
      "coefficient :  [-2.15218784e-149  4.47266258e-148 -6.08253884e-155  7.11282800e-161\n",
      "  2.84809832e-270  1.12135538e-265  2.25088078e-260  4.50391124e-255\n",
      "  8.98607484e-250  1.78749249e-244  3.54382568e-239  6.99924156e-234\n",
      "  1.37632974e-228  2.69261720e-223  5.23640837e-218  1.01123271e-212\n",
      "  1.93680493e-207  3.67345690e-202  6.88642382e-197  1.27290693e-191\n",
      "  2.31274191e-186  4.11317415e-181  7.11959616e-176  1.18956047e-170\n",
      "  1.89478845e-165  2.81961605e-160  3.77978079e-155  4.22624018e-150\n",
      "  3.15304767e-145 -2.71041430e-150  5.82671610e-156]\n",
      "\n"
     ]
    },
    {
     "name": "stderr",
     "output_type": "stream",
     "text": [
      "C:\\Users\\Hi\\AppData\\Local\\Temp/ipykernel_17580/1698556570.py:16: MatplotlibDeprecationWarning: Passing non-integers as three-element position specification is deprecated since 3.3 and will be removed two minor releases later.\n",
      "  ax = plt.subplot(2, len(degrees)/2, i + 1)\n"
     ]
    },
    {
     "name": "stdout",
     "output_type": "stream",
     "text": [
      "train accuracy :  0.00857389041572243\n",
      "test accuracy :  -0.001164492713292109\n",
      "MAE : 455.528\n",
      "MSE : 263152.311\n",
      "RMSE : 512.984\n"
     ]
    },
    {
     "data": {
      "image/png": "[encoded data removed]",
      "text/plain": [
       "<Figure size 1080x1080 with 8 Axes>"
      ]
     },
     "metadata": {},
     "output_type": "display_data"
    }
   ],
   "source": [
    "# 다항식\n",
    "from sklearn.preprocessing import PolynomialFeatures\n",
    "from sklearn.pipeline import Pipeline\n",
    "\n",
    "# 다항식 변환\n",
    "print('일차 단항식 계수 피처 : ', train_input[0])\n",
    "fig = plt.figure(figsize = (15, 15))\n",
    "\n",
    "degrees = [2, 3, 4, 5, 8, 10, 20, 30]\n",
    "\n",
    "# 다항식 시각화\n",
    "for i in range(len(degrees)):\n",
    "    print(\"ㅡㅡㅡㅡㅡㅡㅡㅡㅡㅡㅡㅡㅡㅡㅡㅡㅡㅡㅡㅡㅡㅡㅡㅡ\")\n",
    "    print(\"degrees : \", degrees[i])\n",
    "    print(\"ㅡㅡㅡㅡㅡㅡㅡㅡㅡㅡㅡㅡㅡㅡㅡㅡㅡㅡㅡㅡㅡㅡㅡㅡ\")\n",
    "    ax = plt.subplot(2, len(degrees)/2, i + 1)\n",
    "    plt.setp(ax, xticks=(), yticks=())\n",
    "\n",
    "    poly_features = PolynomialFeatures(degree=degrees[i], include_bias = True)\n",
    "    train_poly = poly_features.fit_transform(train_input)\n",
    "    test_poly = poly_features.transform(test_input)\n",
    "\n",
    "    # 선형 회귀 모델 선정 & 훈련\n",
    "    lr = LinearRegression()\n",
    "    lr.fit(train_poly, train_target)\n",
    "\n",
    "    # 파라미터 출력\n",
    "    print(\"intercept : \", lr.intercept_)\n",
    "    print(\"coefficient : \", lr.coef_)\n",
    "    print()\n",
    "\n",
    "    # 시각화\n",
    "    plt.scatter(train_input, train_target, label=\"Original Data\")\n",
    "\n",
    "    # 예측값 곡선\n",
    "    X_new = np.linspace(0, 250000, 250000).reshape(250000, 1)\n",
    "    X_new_poly = poly_features.transform(X_new)\n",
    "    y_new = lr.predict(X_new_poly)\n",
    "    \n",
    "    # 실제 값 곡선\n",
    "    plt.plot(X_new, y_new, \"r\", linewidth=2, label=\"Poly Linear Regression\")\n",
    "    plt.xlabel('covid count')\n",
    "    plt.ylabel('kospi')\n",
    "    plt.legend()\n",
    "\n",
    "    # 결과 예측 by 테스트 데이터\n",
    "    test_prediction = lr.predict(test_poly)\n",
    "\n",
    "    # 모델분석(결정계수) by 테스트 데이터 & 테스트 데이터\n",
    "    print(\"train accuracy : \", lr.score(train_poly, train_target))\n",
    "    print(\"test accuracy : \", lr.score(test_poly, test_target))\n",
    "\n",
    "    # 평균 오차 계산 by 테스트 데이터\n",
    "    mae = mean_absolute_error(test_target, test_prediction)\n",
    "    mse = mean_squared_error(test_target, test_prediction)\n",
    "    rmse = np.sqrt(mse)\n",
    "    print('MAE : {0:.3f}'.format(mae))\n",
    "    print('MSE : {0:.3f}'.format(mse))\n",
    "    print('RMSE : {0:.3f}'.format(rmse))\n",
    "    \n",
    "plt.show()"
   ]
  },
  {
   "cell_type": "markdown",
   "metadata": {},
   "source": [
    "# Standard Scaler"
   ]
  },
  {
   "cell_type": "markdown",
   "metadata": {},
   "source": [
    "## Small N"
   ]
  },
  {
   "cell_type": "code",
   "execution_count": 55,
   "metadata": {
    "scrolled": false
   },
   "outputs": [
    {
     "name": "stdout",
     "output_type": "stream",
     "text": [
      "일차 단항식 계수 피처 :  [1012.]\n",
      "ㅡㅡㅡㅡㅡㅡㅡㅡㅡㅡㅡㅡㅡㅡㅡㅡㅡㅡㅡㅡㅡㅡㅡㅡ\n",
      "degrees :  2\n",
      "ㅡㅡㅡㅡㅡㅡㅡㅡㅡㅡㅡㅡㅡㅡㅡㅡㅡㅡㅡㅡㅡㅡㅡㅡ\n",
      "intercept :  2710.088384401114\n",
      "coefficient :  [   0.         1008.11901271 -797.73755602]\n",
      "\n",
      "train accuracy :  0.657138830281127\n",
      "test accuracy :  0.6320321425918023\n",
      "MAE : 260.658\n",
      "MSE : 96718.963\n",
      "RMSE : 310.997\n",
      "ㅡㅡㅡㅡㅡㅡㅡㅡㅡㅡㅡㅡㅡㅡㅡㅡㅡㅡㅡㅡㅡㅡㅡㅡ\n",
      "degrees :  3\n",
      "ㅡㅡㅡㅡㅡㅡㅡㅡㅡㅡㅡㅡㅡㅡㅡㅡㅡㅡㅡㅡㅡㅡㅡㅡ\n",
      "intercept :  2710.0883844011137\n",
      "coefficient :  [    0.          2084.43055501 -3781.15786029  2029.9778419 ]\n",
      "\n",
      "train accuracy :  0.8812716876127169\n",
      "test accuracy :  0.873976018232921\n",
      "MAE : 135.905\n",
      "MSE : 33124.928\n",
      "RMSE : 182.003\n",
      "ㅡㅡㅡㅡㅡㅡㅡㅡㅡㅡㅡㅡㅡㅡㅡㅡㅡㅡㅡㅡㅡㅡㅡㅡ\n",
      "degrees :  4\n",
      "ㅡㅡㅡㅡㅡㅡㅡㅡㅡㅡㅡㅡㅡㅡㅡㅡㅡㅡㅡㅡㅡㅡㅡㅡ\n"
     ]
    },
    {
     "name": "stderr",
     "output_type": "stream",
     "text": [
      "C:\\Users\\Hi\\AppData\\Local\\Temp/ipykernel_17580/737960926.py:17: MatplotlibDeprecationWarning: Passing non-integers as three-element position specification is deprecated since 3.3 and will be removed two minor releases later.\n",
      "  ax = plt.subplot(2, len(degrees)/2, i + 1)\n",
      "C:\\Users\\Hi\\AppData\\Local\\Temp/ipykernel_17580/737960926.py:17: MatplotlibDeprecationWarning: Passing non-integers as three-element position specification is deprecated since 3.3 and will be removed two minor releases later.\n",
      "  ax = plt.subplot(2, len(degrees)/2, i + 1)\n",
      "C:\\Users\\Hi\\AppData\\Local\\Temp/ipykernel_17580/737960926.py:17: MatplotlibDeprecationWarning: Passing non-integers as three-element position specification is deprecated since 3.3 and will be removed two minor releases later.\n",
      "  ax = plt.subplot(2, len(degrees)/2, i + 1)\n"
     ]
    },
    {
     "name": "stdout",
     "output_type": "stream",
     "text": [
      "intercept :  2710.088384401113\n",
      "coefficient :  [    0.          2987.29327398 -8428.85667889  9641.76680013\n",
      " -3886.03775469]\n",
      "\n",
      "train accuracy :  0.9386952011606157\n",
      "test accuracy :  0.9286569326592731\n",
      "MAE : 94.271\n",
      "MSE : 18752.256\n",
      "RMSE : 136.939\n",
      "ㅡㅡㅡㅡㅡㅡㅡㅡㅡㅡㅡㅡㅡㅡㅡㅡㅡㅡㅡㅡㅡㅡㅡㅡ\n",
      "degrees :  5\n",
      "ㅡㅡㅡㅡㅡㅡㅡㅡㅡㅡㅡㅡㅡㅡㅡㅡㅡㅡㅡㅡㅡㅡㅡㅡ\n",
      "intercept :  2710.0883844011146\n",
      "coefficient :  [     0.           3528.9937998  -12553.6580455   20940.85253876\n",
      " -16767.84839259   5180.86123501]\n",
      "\n",
      "train accuracy :  0.9465021874678955\n",
      "test accuracy :  0.9366180517925599\n",
      "MAE : 86.715\n",
      "MSE : 16659.706\n",
      "RMSE : 129.072\n",
      "ㅡㅡㅡㅡㅡㅡㅡㅡㅡㅡㅡㅡㅡㅡㅡㅡㅡㅡㅡㅡㅡㅡㅡㅡ\n",
      "degrees :  8\n",
      "ㅡㅡㅡㅡㅡㅡㅡㅡㅡㅡㅡㅡㅡㅡㅡㅡㅡㅡㅡㅡㅡㅡㅡㅡ\n"
     ]
    },
    {
     "name": "stderr",
     "output_type": "stream",
     "text": [
      "C:\\Users\\Hi\\AppData\\Local\\Temp/ipykernel_17580/737960926.py:17: MatplotlibDeprecationWarning: Passing non-integers as three-element position specification is deprecated since 3.3 and will be removed two minor releases later.\n",
      "  ax = plt.subplot(2, len(degrees)/2, i + 1)\n",
      "C:\\Users\\Hi\\AppData\\Local\\Temp/ipykernel_17580/737960926.py:17: MatplotlibDeprecationWarning: Passing non-integers as three-element position specification is deprecated since 3.3 and will be removed two minor releases later.\n",
      "  ax = plt.subplot(2, len(degrees)/2, i + 1)\n"
     ]
    },
    {
     "name": "stdout",
     "output_type": "stream",
     "text": [
      "intercept :  2710.0883844014397\n",
      "coefficient :  [      0.            5093.82828489  -35570.86363102  164977.75441755\n",
      " -491601.14403477  895142.15323606 -954249.63306969  545632.05807351\n",
      " -129075.45224342]\n",
      "\n",
      "train accuracy :  0.9525517329783892\n",
      "test accuracy :  0.9465057964123398\n",
      "MAE : 75.606\n",
      "MSE : 14060.750\n",
      "RMSE : 118.578\n",
      "ㅡㅡㅡㅡㅡㅡㅡㅡㅡㅡㅡㅡㅡㅡㅡㅡㅡㅡㅡㅡㅡㅡㅡㅡ\n",
      "degrees :  10\n",
      "ㅡㅡㅡㅡㅡㅡㅡㅡㅡㅡㅡㅡㅡㅡㅡㅡㅡㅡㅡㅡㅡㅡㅡㅡ\n",
      "intercept :  2710.0883844039176\n",
      "coefficient :  [ 0.00000000e+00  5.52194063e+03 -4.69358335e+04  2.88503679e+05\n",
      " -1.19492125e+06  3.23017022e+06 -5.70534107e+06  6.54225780e+06\n",
      " -4.70127353e+06  1.92581199e+06 -3.43443472e+05]\n",
      "\n"
     ]
    },
    {
     "name": "stderr",
     "output_type": "stream",
     "text": [
      "C:\\Users\\Hi\\AppData\\Local\\Temp/ipykernel_17580/737960926.py:17: MatplotlibDeprecationWarning: Passing non-integers as three-element position specification is deprecated since 3.3 and will be removed two minor releases later.\n",
      "  ax = plt.subplot(2, len(degrees)/2, i + 1)\n",
      "C:\\Users\\Hi\\AppData\\Local\\Temp/ipykernel_17580/737960926.py:17: MatplotlibDeprecationWarning: Passing non-integers as three-element position specification is deprecated since 3.3 and will be removed two minor releases later.\n",
      "  ax = plt.subplot(2, len(degrees)/2, i + 1)\n"
     ]
    },
    {
     "name": "stdout",
     "output_type": "stream",
     "text": [
      "train accuracy :  0.9529408665618746\n",
      "test accuracy :  0.9471346947636007\n",
      "MAE : 74.355\n",
      "MSE : 13895.446\n",
      "RMSE : 117.879\n",
      "ㅡㅡㅡㅡㅡㅡㅡㅡㅡㅡㅡㅡㅡㅡㅡㅡㅡㅡㅡㅡㅡㅡㅡㅡ\n",
      "degrees :  20\n",
      "ㅡㅡㅡㅡㅡㅡㅡㅡㅡㅡㅡㅡㅡㅡㅡㅡㅡㅡㅡㅡㅡㅡㅡㅡ\n",
      "intercept :  2710.054465491021\n",
      "coefficient :  [ 0.00000000e+00  7.58065855e+03 -1.00384468e+05 -2.09293753e+06\n",
      "  1.34026245e+08 -2.86521615e+09  3.54536712e+10 -2.91881925e+11\n",
      "  1.71045649e+12 -7.42484405e+12  2.44820547e+13 -6.22842653e+13\n",
      "  1.23303308e+14 -1.90406189e+14  2.28516569e+14 -2.10913356e+14\n",
      "  1.46790686e+14 -7.44954684e+13  2.60075878e+13 -5.58266644e+12\n",
      "  5.55287357e+11]\n",
      "\n",
      "train accuracy :  0.955743900528744\n",
      "test accuracy :  0.9489907002704706\n",
      "MAE : 74.767\n",
      "MSE : 13407.602\n",
      "RMSE : 115.791\n",
      "ㅡㅡㅡㅡㅡㅡㅡㅡㅡㅡㅡㅡㅡㅡㅡㅡㅡㅡㅡㅡㅡㅡㅡㅡ\n",
      "degrees :  30\n",
      "ㅡㅡㅡㅡㅡㅡㅡㅡㅡㅡㅡㅡㅡㅡㅡㅡㅡㅡㅡㅡㅡㅡㅡㅡ\n",
      "intercept :  2710.0829378350572\n",
      "coefficient :  [-4.28638621e+10  7.58472383e+03 -1.01232044e+05 -2.01692090e+06\n",
      "  1.30300761e+08 -2.75809584e+09  3.34975021e+10 -2.67702259e+11\n",
      "  1.49857570e+12 -6.06517925e+12  1.79514156e+13 -3.84981411e+13\n",
      "  5.72971164e+13 -5.15081891e+13  1.08146321e+13  3.28903665e+13\n",
      " -3.02223939e+13 -1.31252218e+13  3.12504819e+13  2.19578342e+12\n",
      " -2.87044018e+13  4.90077434e+12  2.57531847e+13 -1.38103143e+13\n",
      " -1.89505522e+13  2.97624980e+13 -1.78618240e+13  5.32425288e+12\n",
      " -6.56029338e+11  0.00000000e+00  0.00000000e+00]\n",
      "\n"
     ]
    },
    {
     "name": "stderr",
     "output_type": "stream",
     "text": [
      "C:\\Users\\Hi\\AppData\\Local\\Temp/ipykernel_17580/737960926.py:17: MatplotlibDeprecationWarning: Passing non-integers as three-element position specification is deprecated since 3.3 and will be removed two minor releases later.\n",
      "  ax = plt.subplot(2, len(degrees)/2, i + 1)\n",
      "C:\\Users\\Hi\\anaconda3\\lib\\site-packages\\numpy\\lib\\nanfunctions.py:1544: RuntimeWarning: overflow encountered in multiply\n",
      "  sqr = np.multiply(arr, arr, out=arr)\n"
     ]
    },
    {
     "name": "stdout",
     "output_type": "stream",
     "text": [
      "train accuracy :  0.9557353534442933\n",
      "test accuracy :  0.9490450825683923\n",
      "MAE : 74.553\n",
      "MSE : 13393.308\n",
      "RMSE : 115.729\n"
     ]
    },
    {
     "data": {
      "image/png": "[encoded data removed]",
      "text/plain": [
       "<Figure size 1080x1080 with 8 Axes>"
      ]
     },
     "metadata": {},
     "output_type": "display_data"
    }
   ],
   "source": [
    "# 다항식\n",
    "from sklearn.preprocessing import PolynomialFeatures\n",
    "from sklearn.preprocessing import StandardScaler\n",
    "from sklearn.pipeline import Pipeline\n",
    "\n",
    "# 다항식 변환\n",
    "print('일차 단항식 계수 피처 : ', train_input[0])\n",
    "fig = plt.figure(figsize = (15, 15))\n",
    "\n",
    "degrees = [2, 3, 4, 5, 8, 10, 20, 30]\n",
    "\n",
    "# 다항식 시각화\n",
    "for i in range(len(degrees)):\n",
    "    print(\"ㅡㅡㅡㅡㅡㅡㅡㅡㅡㅡㅡㅡㅡㅡㅡㅡㅡㅡㅡㅡㅡㅡㅡㅡ\")\n",
    "    print(\"degrees : \", degrees[i])\n",
    "    print(\"ㅡㅡㅡㅡㅡㅡㅡㅡㅡㅡㅡㅡㅡㅡㅡㅡㅡㅡㅡㅡㅡㅡㅡㅡ\")\n",
    "    ax = plt.subplot(2, len(degrees)/2, i + 1)\n",
    "    plt.setp(ax, xticks=(), yticks=())\n",
    "\n",
    "    poly_features = PolynomialFeatures(degree=degrees[i], include_bias = True)\n",
    "    train_poly = poly_features.fit_transform(train_input)\n",
    "    test_poly = poly_features.transform(test_input)\n",
    "    \n",
    "    ss = StandardScaler()\n",
    "    ss.fit(train_poly)\n",
    "    \n",
    "    train_scaled = ss.transform(train_poly)\n",
    "    test_scaled = ss.transform(test_poly)\n",
    "\n",
    "    # 선형 회귀 모델 선정 & 훈련\n",
    "    lr = LinearRegression()\n",
    "    lr.fit(train_scaled, train_target)\n",
    "\n",
    "    # 파라미터 출력\n",
    "    print(\"intercept : \", lr.intercept_)\n",
    "    print(\"coefficient : \", lr.coef_)\n",
    "    print()\n",
    "\n",
    "    # 시각화\n",
    "    plt.scatter(train_input, train_target, label=\"Original Data\")\n",
    "\n",
    "    # 예측값 곡선\n",
    "    X_new = np.linspace(0, 200000, 200000).reshape(200000, 1)\n",
    "    X_new_poly = poly_features.transform(X_new)\n",
    "    X_new_scaled = ss.transform(X_new_poly)\n",
    "    y_new = lr.predict(X_new_scaled)\n",
    "    \n",
    "    # 실제 값 곡선\n",
    "    plt.plot(X_new, y_new, \"r\", linewidth=2, label=str(degrees[i]) + \"Poly Linear Regression\")\n",
    "    plt.xlabel('covid count')\n",
    "    plt.ylabel('kospi')\n",
    "    plt.legend()\n",
    "\n",
    "    # 결과 예측 by 테스트 데이터\n",
    "    test_prediction = lr.predict(test_scaled)\n",
    "\n",
    "    # 모델분석(결정계수) by 테스트 데이터 & 테스트 데이터\n",
    "    print(\"train accuracy : \", lr.score(train_scaled, train_target))\n",
    "    print(\"test accuracy : \", lr.score(test_scaled, test_target))\n",
    "\n",
    "    # 평균 오차 계산 by 테스트 데이터\n",
    "    mae = mean_absolute_error(test_target, test_prediction)\n",
    "    mse = mean_squared_error(test_target, test_prediction)\n",
    "    rmse = np.sqrt(mse)\n",
    "    print('MAE : {0:.3f}'.format(mae))\n",
    "    print('MSE : {0:.3f}'.format(mse))\n",
    "    print('RMSE : {0:.3f}'.format(rmse))\n",
    "    \n",
    "plt.show()"
   ]
  },
  {
   "cell_type": "markdown",
   "metadata": {},
   "source": [
    "## Big N"
   ]
  },
  {
   "cell_type": "code",
   "execution_count": 56,
   "metadata": {},
   "outputs": [
    {
     "name": "stdout",
     "output_type": "stream",
     "text": [
      "일차 단항식 계수 피처 :  [1012.]\n",
      "ㅡㅡㅡㅡㅡㅡㅡㅡㅡㅡㅡㅡㅡㅡㅡㅡㅡㅡㅡㅡㅡㅡㅡㅡ\n",
      "degrees :  2\n",
      "ㅡㅡㅡㅡㅡㅡㅡㅡㅡㅡㅡㅡㅡㅡㅡㅡㅡㅡㅡㅡㅡㅡㅡㅡ\n",
      "intercept :  2710.088384401114\n",
      "coefficient :  [   0.         1008.11901271 -797.73755602]\n",
      "\n",
      "train accuracy :  0.657138830281127\n",
      "test accuracy :  0.6320321425918023\n",
      "MAE : 260.658\n",
      "MSE : 96718.963\n",
      "RMSE : 310.997\n",
      "ㅡㅡㅡㅡㅡㅡㅡㅡㅡㅡㅡㅡㅡㅡㅡㅡㅡㅡㅡㅡㅡㅡㅡㅡ\n",
      "degrees :  3\n",
      "ㅡㅡㅡㅡㅡㅡㅡㅡㅡㅡㅡㅡㅡㅡㅡㅡㅡㅡㅡㅡㅡㅡㅡㅡ\n",
      "intercept :  2710.0883844011137\n",
      "coefficient :  [    0.          2084.43055501 -3781.15786029  2029.9778419 ]\n",
      "\n"
     ]
    },
    {
     "name": "stderr",
     "output_type": "stream",
     "text": [
      "C:\\Users\\Hi\\AppData\\Local\\Temp/ipykernel_17580/3853157450.py:17: MatplotlibDeprecationWarning: Passing non-integers as three-element position specification is deprecated since 3.3 and will be removed two minor releases later.\n",
      "  ax = plt.subplot(2, len(degrees)/2, i + 1)\n",
      "C:\\Users\\Hi\\AppData\\Local\\Temp/ipykernel_17580/3853157450.py:17: MatplotlibDeprecationWarning: Passing non-integers as three-element position specification is deprecated since 3.3 and will be removed two minor releases later.\n",
      "  ax = plt.subplot(2, len(degrees)/2, i + 1)\n"
     ]
    },
    {
     "name": "stdout",
     "output_type": "stream",
     "text": [
      "train accuracy :  0.8812716876127169\n",
      "test accuracy :  0.873976018232921\n",
      "MAE : 135.905\n",
      "MSE : 33124.928\n",
      "RMSE : 182.003\n",
      "ㅡㅡㅡㅡㅡㅡㅡㅡㅡㅡㅡㅡㅡㅡㅡㅡㅡㅡㅡㅡㅡㅡㅡㅡ\n",
      "degrees :  4\n",
      "ㅡㅡㅡㅡㅡㅡㅡㅡㅡㅡㅡㅡㅡㅡㅡㅡㅡㅡㅡㅡㅡㅡㅡㅡ\n",
      "intercept :  2710.088384401113\n",
      "coefficient :  [    0.          2987.29327398 -8428.85667889  9641.76680013\n",
      " -3886.03775469]\n",
      "\n",
      "train accuracy :  0.9386952011606157\n",
      "test accuracy :  0.9286569326592731\n",
      "MAE : 94.271\n",
      "MSE : 18752.256\n",
      "RMSE : 136.939\n",
      "ㅡㅡㅡㅡㅡㅡㅡㅡㅡㅡㅡㅡㅡㅡㅡㅡㅡㅡㅡㅡㅡㅡㅡㅡ\n",
      "degrees :  5\n",
      "ㅡㅡㅡㅡㅡㅡㅡㅡㅡㅡㅡㅡㅡㅡㅡㅡㅡㅡㅡㅡㅡㅡㅡㅡ\n",
      "intercept :  2710.0883844011146\n",
      "coefficient :  [     0.           3528.9937998  -12553.6580455   20940.85253876\n",
      " -16767.84839259   5180.86123501]\n",
      "\n"
     ]
    },
    {
     "name": "stderr",
     "output_type": "stream",
     "text": [
      "C:\\Users\\Hi\\AppData\\Local\\Temp/ipykernel_17580/3853157450.py:17: MatplotlibDeprecationWarning: Passing non-integers as three-element position specification is deprecated since 3.3 and will be removed two minor releases later.\n",
      "  ax = plt.subplot(2, len(degrees)/2, i + 1)\n",
      "C:\\Users\\Hi\\AppData\\Local\\Temp/ipykernel_17580/3853157450.py:17: MatplotlibDeprecationWarning: Passing non-integers as three-element position specification is deprecated since 3.3 and will be removed two minor releases later.\n",
      "  ax = plt.subplot(2, len(degrees)/2, i + 1)\n"
     ]
    },
    {
     "name": "stdout",
     "output_type": "stream",
     "text": [
      "train accuracy :  0.9465021874678955\n",
      "test accuracy :  0.9366180517925599\n",
      "MAE : 86.715\n",
      "MSE : 16659.706\n",
      "RMSE : 129.072\n",
      "ㅡㅡㅡㅡㅡㅡㅡㅡㅡㅡㅡㅡㅡㅡㅡㅡㅡㅡㅡㅡㅡㅡㅡㅡ\n",
      "degrees :  8\n",
      "ㅡㅡㅡㅡㅡㅡㅡㅡㅡㅡㅡㅡㅡㅡㅡㅡㅡㅡㅡㅡㅡㅡㅡㅡ\n",
      "intercept :  2710.0883844014397\n",
      "coefficient :  [      0.            5093.82828489  -35570.86363102  164977.75441755\n",
      " -491601.14403477  895142.15323606 -954249.63306969  545632.05807351\n",
      " -129075.45224342]\n",
      "\n",
      "train accuracy :  0.9525517329783892\n",
      "test accuracy :  0.9465057964123398\n",
      "MAE : 75.606\n",
      "MSE : 14060.750\n",
      "RMSE : 118.578\n",
      "ㅡㅡㅡㅡㅡㅡㅡㅡㅡㅡㅡㅡㅡㅡㅡㅡㅡㅡㅡㅡㅡㅡㅡㅡ\n",
      "degrees :  10\n",
      "ㅡㅡㅡㅡㅡㅡㅡㅡㅡㅡㅡㅡㅡㅡㅡㅡㅡㅡㅡㅡㅡㅡㅡㅡ\n"
     ]
    },
    {
     "name": "stderr",
     "output_type": "stream",
     "text": [
      "C:\\Users\\Hi\\AppData\\Local\\Temp/ipykernel_17580/3853157450.py:17: MatplotlibDeprecationWarning: Passing non-integers as three-element position specification is deprecated since 3.3 and will be removed two minor releases later.\n",
      "  ax = plt.subplot(2, len(degrees)/2, i + 1)\n",
      "C:\\Users\\Hi\\AppData\\Local\\Temp/ipykernel_17580/3853157450.py:17: MatplotlibDeprecationWarning: Passing non-integers as three-element position specification is deprecated since 3.3 and will be removed two minor releases later.\n",
      "  ax = plt.subplot(2, len(degrees)/2, i + 1)\n"
     ]
    },
    {
     "name": "stdout",
     "output_type": "stream",
     "text": [
      "intercept :  2710.0883844039176\n",
      "coefficient :  [ 0.00000000e+00  5.52194063e+03 -4.69358335e+04  2.88503679e+05\n",
      " -1.19492125e+06  3.23017022e+06 -5.70534107e+06  6.54225780e+06\n",
      " -4.70127353e+06  1.92581199e+06 -3.43443472e+05]\n",
      "\n",
      "train accuracy :  0.9529408665618746\n",
      "test accuracy :  0.9471346947636007\n",
      "MAE : 74.355\n",
      "MSE : 13895.446\n",
      "RMSE : 117.879\n",
      "ㅡㅡㅡㅡㅡㅡㅡㅡㅡㅡㅡㅡㅡㅡㅡㅡㅡㅡㅡㅡㅡㅡㅡㅡ\n",
      "degrees :  20\n",
      "ㅡㅡㅡㅡㅡㅡㅡㅡㅡㅡㅡㅡㅡㅡㅡㅡㅡㅡㅡㅡㅡㅡㅡㅡ\n"
     ]
    },
    {
     "name": "stderr",
     "output_type": "stream",
     "text": [
      "C:\\Users\\Hi\\AppData\\Local\\Temp/ipykernel_17580/3853157450.py:17: MatplotlibDeprecationWarning: Passing non-integers as three-element position specification is deprecated since 3.3 and will be removed two minor releases later.\n",
      "  ax = plt.subplot(2, len(degrees)/2, i + 1)\n"
     ]
    },
    {
     "name": "stdout",
     "output_type": "stream",
     "text": [
      "intercept :  2710.054465491021\n",
      "coefficient :  [ 0.00000000e+00  7.58065855e+03 -1.00384468e+05 -2.09293753e+06\n",
      "  1.34026245e+08 -2.86521615e+09  3.54536712e+10 -2.91881925e+11\n",
      "  1.71045649e+12 -7.42484405e+12  2.44820547e+13 -6.22842653e+13\n",
      "  1.23303308e+14 -1.90406189e+14  2.28516569e+14 -2.10913356e+14\n",
      "  1.46790686e+14 -7.44954684e+13  2.60075878e+13 -5.58266644e+12\n",
      "  5.55287357e+11]\n",
      "\n",
      "train accuracy :  0.955743900528744\n",
      "test accuracy :  0.9489907002704706\n",
      "MAE : 74.767\n",
      "MSE : 13407.602\n",
      "RMSE : 115.791\n",
      "ㅡㅡㅡㅡㅡㅡㅡㅡㅡㅡㅡㅡㅡㅡㅡㅡㅡㅡㅡㅡㅡㅡㅡㅡ\n",
      "degrees :  30\n",
      "ㅡㅡㅡㅡㅡㅡㅡㅡㅡㅡㅡㅡㅡㅡㅡㅡㅡㅡㅡㅡㅡㅡㅡㅡ\n",
      "intercept :  2710.0829378350572\n",
      "coefficient :  [-4.28638621e+10  7.58472383e+03 -1.01232044e+05 -2.01692090e+06\n",
      "  1.30300761e+08 -2.75809584e+09  3.34975021e+10 -2.67702259e+11\n",
      "  1.49857570e+12 -6.06517925e+12  1.79514156e+13 -3.84981411e+13\n",
      "  5.72971164e+13 -5.15081891e+13  1.08146321e+13  3.28903665e+13\n",
      " -3.02223939e+13 -1.31252218e+13  3.12504819e+13  2.19578342e+12\n",
      " -2.87044018e+13  4.90077434e+12  2.57531847e+13 -1.38103143e+13\n",
      " -1.89505522e+13  2.97624980e+13 -1.78618240e+13  5.32425288e+12\n",
      " -6.56029338e+11  0.00000000e+00  0.00000000e+00]\n",
      "\n"
     ]
    },
    {
     "name": "stderr",
     "output_type": "stream",
     "text": [
      "C:\\Users\\Hi\\AppData\\Local\\Temp/ipykernel_17580/3853157450.py:17: MatplotlibDeprecationWarning: Passing non-integers as three-element position specification is deprecated since 3.3 and will be removed two minor releases later.\n",
      "  ax = plt.subplot(2, len(degrees)/2, i + 1)\n",
      "C:\\Users\\Hi\\anaconda3\\lib\\site-packages\\numpy\\lib\\nanfunctions.py:1544: RuntimeWarning: overflow encountered in multiply\n",
      "  sqr = np.multiply(arr, arr, out=arr)\n"
     ]
    },
    {
     "name": "stdout",
     "output_type": "stream",
     "text": [
      "train accuracy :  0.9557353534442933\n",
      "test accuracy :  0.9490450825683923\n",
      "MAE : 74.553\n",
      "MSE : 13393.308\n",
      "RMSE : 115.729\n"
     ]
    },
    {
     "data": {
      "image/png": "[encoded data removed]",
      "text/plain": [
       "<Figure size 1080x1080 with 8 Axes>"
      ]
     },
     "metadata": {},
     "output_type": "display_data"
    }
   ],
   "source": [
    "# 다항식\n",
    "from sklearn.preprocessing import PolynomialFeatures\n",
    "from sklearn.preprocessing import StandardScaler\n",
    "from sklearn.pipeline import Pipeline\n",
    "\n",
    "# 다항식 변환\n",
    "print('일차 단항식 계수 피처 : ', train_input[0])\n",
    "fig = plt.figure(figsize = (15, 15))\n",
    "\n",
    "degrees = [2, 3, 4, 5, 8, 10, 20, 30]\n",
    "\n",
    "# 다항식 시각화\n",
    "for i in range(len(degrees)):\n",
    "    print(\"ㅡㅡㅡㅡㅡㅡㅡㅡㅡㅡㅡㅡㅡㅡㅡㅡㅡㅡㅡㅡㅡㅡㅡㅡ\")\n",
    "    print(\"degrees : \", degrees[i])\n",
    "    print(\"ㅡㅡㅡㅡㅡㅡㅡㅡㅡㅡㅡㅡㅡㅡㅡㅡㅡㅡㅡㅡㅡㅡㅡㅡ\")\n",
    "    ax = plt.subplot(2, len(degrees)/2, i + 1)\n",
    "    plt.setp(ax, xticks=(), yticks=())\n",
    "\n",
    "    poly_features = PolynomialFeatures(degree=degrees[i], include_bias = True)\n",
    "    train_poly = poly_features.fit_transform(train_input)\n",
    "    test_poly = poly_features.transform(test_input)\n",
    "    \n",
    "    ss = StandardScaler()\n",
    "    ss.fit(train_poly)\n",
    "    \n",
    "    train_scaled = ss.transform(train_poly)\n",
    "    test_scaled = ss.transform(test_poly)\n",
    "\n",
    "    # 선형 회귀 모델 선정 & 훈련\n",
    "    lr = LinearRegression()\n",
    "    lr.fit(train_scaled, train_target)\n",
    "\n",
    "    # 파라미터 출력\n",
    "    print(\"intercept : \", lr.intercept_)\n",
    "    print(\"coefficient : \", lr.coef_)\n",
    "    print()\n",
    "\n",
    "    # 시각화\n",
    "    plt.scatter(train_input, train_target, label=\"Original Data\")\n",
    "\n",
    "    # 예측값 곡선\n",
    "    X_new = np.linspace(0, 300000, 300000).reshape(300000, 1)\n",
    "    X_new_poly = poly_features.transform(X_new)\n",
    "    X_new_scaled = ss.transform(X_new_poly)\n",
    "    y_new = lr.predict(X_new_scaled)\n",
    "    \n",
    "    # 실제 값 곡선\n",
    "    plt.plot(X_new, y_new, \"r\", linewidth=2, label=str(degrees[i]) + \"Poly Linear Regression\")\n",
    "    plt.xlabel('covid count')\n",
    "    plt.ylabel('kospi')\n",
    "    plt.legend()\n",
    "\n",
    "    # 결과 예측 by 테스트 데이터\n",
    "    test_prediction = lr.predict(test_scaled)\n",
    "\n",
    "    # 모델분석(결정계수) by 테스트 데이터 & 테스트 데이터\n",
    "    print(\"train accuracy : \", lr.score(train_scaled, train_target))\n",
    "    print(\"test accuracy : \", lr.score(test_scaled, test_target))\n",
    "\n",
    "    # 평균 오차 계산 by 테스트 데이터\n",
    "    mae = mean_absolute_error(test_target, test_prediction)\n",
    "    mse = mean_squared_error(test_target, test_prediction)\n",
    "    rmse = np.sqrt(mse)\n",
    "    print('MAE : {0:.3f}'.format(mae))\n",
    "    print('MSE : {0:.3f}'.format(mse))\n",
    "    print('RMSE : {0:.3f}'.format(rmse))\n",
    "    \n",
    "plt.show()"
   ]
  },
  {
   "cell_type": "markdown",
   "metadata": {},
   "source": [
    "# K-Fold"
   ]
  },
  {
   "cell_type": "code",
   "execution_count": 57,
   "metadata": {},
   "outputs": [
    {
     "name": "stdout",
     "output_type": "stream",
     "text": [
      "일차 단항식 계수 피처 :  [1012.]\n",
      "ㅡㅡㅡㅡㅡㅡㅡㅡㅡㅡㅡㅡㅡㅡㅡㅡㅡㅡㅡㅡㅡㅡㅡㅡ\n",
      "degrees :  2\n",
      "ㅡㅡㅡㅡㅡㅡㅡㅡㅡㅡㅡㅡㅡㅡㅡㅡㅡㅡㅡㅡㅡㅡㅡㅡ\n",
      "한 번씩 검증 때마다 accuracy : [0.61670055 0.6238948  0.70088881 0.62216273 0.64376851 0.56135842\n",
      " 0.63031975 0.6914492  0.6060135  0.656283  ]\n",
      "\n",
      "5번 모두 검증한 accuracy 총 평균 : 0.6352839274821334\n",
      "ㅡㅡㅡㅡㅡㅡㅡㅡㅡㅡㅡㅡㅡㅡㅡㅡㅡㅡㅡㅡㅡㅡㅡㅡ\n",
      "degrees :  3\n",
      "ㅡㅡㅡㅡㅡㅡㅡㅡㅡㅡㅡㅡㅡㅡㅡㅡㅡㅡㅡㅡㅡㅡㅡㅡ\n",
      "한 번씩 검증 때마다 accuracy : [0.88570571 0.88528033 0.88537713 0.87095976 0.85672846 0.85782263\n",
      " 0.88106048 0.87022219 0.87294517 0.8712971 ]\n",
      "\n",
      "5번 모두 검증한 accuracy 총 평균 : 0.8737398950829268\n",
      "ㅡㅡㅡㅡㅡㅡㅡㅡㅡㅡㅡㅡㅡㅡㅡㅡㅡㅡㅡㅡㅡㅡㅡㅡ\n",
      "degrees :  4\n",
      "ㅡㅡㅡㅡㅡㅡㅡㅡㅡㅡㅡㅡㅡㅡㅡㅡㅡㅡㅡㅡㅡㅡㅡㅡ\n",
      "한 번씩 검증 때마다 accuracy : [0.9445074  0.94247231 0.93775118 0.93360661 0.91426674 0.9268188\n",
      " 0.94497905 0.94031302 0.9200798  0.93068269]\n",
      "\n",
      "5번 모두 검증한 accuracy 총 평균 : 0.9335477597256319\n",
      "ㅡㅡㅡㅡㅡㅡㅡㅡㅡㅡㅡㅡㅡㅡㅡㅡㅡㅡㅡㅡㅡㅡㅡㅡ\n",
      "degrees :  5\n",
      "ㅡㅡㅡㅡㅡㅡㅡㅡㅡㅡㅡㅡㅡㅡㅡㅡㅡㅡㅡㅡㅡㅡㅡㅡ\n",
      "한 번씩 검증 때마다 accuracy : [0.95123915 0.95073824 0.94673085 0.93596879 0.9268818  0.93410125\n",
      " 0.95433507 0.94719405 0.92733342 0.94060578]\n",
      "\n",
      "5번 모두 검증한 accuracy 총 평균 : 0.9415128384571213\n",
      "ㅡㅡㅡㅡㅡㅡㅡㅡㅡㅡㅡㅡㅡㅡㅡㅡㅡㅡㅡㅡㅡㅡㅡㅡ\n",
      "degrees :  6\n",
      "ㅡㅡㅡㅡㅡㅡㅡㅡㅡㅡㅡㅡㅡㅡㅡㅡㅡㅡㅡㅡㅡㅡㅡㅡ\n",
      "한 번씩 검증 때마다 accuracy : [0.94904252 0.95605509 0.94959145 0.93532893 0.93272797 0.93624329\n",
      " 0.95820517 0.94781577 0.93129831 0.9469069 ]\n",
      "\n",
      "5번 모두 검증한 accuracy 총 평균 : 0.9443215389250948\n",
      "ㅡㅡㅡㅡㅡㅡㅡㅡㅡㅡㅡㅡㅡㅡㅡㅡㅡㅡㅡㅡㅡㅡㅡㅡ\n",
      "degrees :  7\n",
      "ㅡㅡㅡㅡㅡㅡㅡㅡㅡㅡㅡㅡㅡㅡㅡㅡㅡㅡㅡㅡㅡㅡㅡㅡ\n",
      "한 번씩 검증 때마다 accuracy : [0.9490884  0.95870819 0.9501956  0.9367151  0.93738419 0.93947698\n",
      " 0.96017538 0.95205705 0.93282148 0.95165468]\n",
      "\n",
      "5번 모두 검증한 accuracy 총 평균 : 0.946827705165591\n",
      "ㅡㅡㅡㅡㅡㅡㅡㅡㅡㅡㅡㅡㅡㅡㅡㅡㅡㅡㅡㅡㅡㅡㅡㅡ\n",
      "degrees :  8\n",
      "ㅡㅡㅡㅡㅡㅡㅡㅡㅡㅡㅡㅡㅡㅡㅡㅡㅡㅡㅡㅡㅡㅡㅡㅡ\n",
      "한 번씩 검증 때마다 accuracy : [0.95108304 0.96058167 0.94865226 0.94011501 0.93942233 0.9412602\n",
      " 0.96189077 0.95402039 0.93521179 0.95355841]\n",
      "\n",
      "5번 모두 검증한 accuracy 총 평균 : 0.948579588243188\n",
      "ㅡㅡㅡㅡㅡㅡㅡㅡㅡㅡㅡㅡㅡㅡㅡㅡㅡㅡㅡㅡㅡㅡㅡㅡ\n",
      "degrees :  9\n",
      "ㅡㅡㅡㅡㅡㅡㅡㅡㅡㅡㅡㅡㅡㅡㅡㅡㅡㅡㅡㅡㅡㅡㅡㅡ\n",
      "한 번씩 검증 때마다 accuracy : [0.95046712 0.96173313 0.94820272 0.94111131 0.93985213 0.94170712\n",
      " 0.96222634 0.95490958 0.93592749 0.95401096]\n",
      "\n",
      "5번 모두 검증한 accuracy 총 평균 : 0.9490147913289595\n",
      "ㅡㅡㅡㅡㅡㅡㅡㅡㅡㅡㅡㅡㅡㅡㅡㅡㅡㅡㅡㅡㅡㅡㅡㅡ\n",
      "degrees :  10\n",
      "ㅡㅡㅡㅡㅡㅡㅡㅡㅡㅡㅡㅡㅡㅡㅡㅡㅡㅡㅡㅡㅡㅡㅡㅡ\n",
      "한 번씩 검증 때마다 accuracy : [0.95050379 0.96186263 0.94798073 0.94137889 0.93984883 0.94177469\n",
      " 0.96229635 0.95512539 0.93591779 0.95423981]\n",
      "\n",
      "5번 모두 검증한 accuracy 총 평균 : 0.9490928891689918\n",
      "ㅡㅡㅡㅡㅡㅡㅡㅡㅡㅡㅡㅡㅡㅡㅡㅡㅡㅡㅡㅡㅡㅡㅡㅡ\n",
      "degrees :  11\n",
      "ㅡㅡㅡㅡㅡㅡㅡㅡㅡㅡㅡㅡㅡㅡㅡㅡㅡㅡㅡㅡㅡㅡㅡㅡ\n",
      "한 번씩 검증 때마다 accuracy : [0.95069867 0.96195636 0.948146   0.94026824 0.93990331 0.94189549\n",
      " 0.96246219 0.95516375 0.9356161  0.95387909]\n",
      "\n",
      "5번 모두 검증한 accuracy 총 평균 : 0.9489989199706391\n",
      "ㅡㅡㅡㅡㅡㅡㅡㅡㅡㅡㅡㅡㅡㅡㅡㅡㅡㅡㅡㅡㅡㅡㅡㅡ\n",
      "degrees :  12\n",
      "ㅡㅡㅡㅡㅡㅡㅡㅡㅡㅡㅡㅡㅡㅡㅡㅡㅡㅡㅡㅡㅡㅡㅡㅡ\n",
      "한 번씩 검증 때마다 accuracy : [0.95067549 0.96197656 0.94779573 0.93978484 0.93989835 0.94173496\n",
      " 0.96237194 0.95467371 0.93562903 0.95388893]\n",
      "\n",
      "5번 모두 검증한 accuracy 총 평균 : 0.9488429533378738\n",
      "ㅡㅡㅡㅡㅡㅡㅡㅡㅡㅡㅡㅡㅡㅡㅡㅡㅡㅡㅡㅡㅡㅡㅡㅡ\n",
      "degrees :  13\n",
      "ㅡㅡㅡㅡㅡㅡㅡㅡㅡㅡㅡㅡㅡㅡㅡㅡㅡㅡㅡㅡㅡㅡㅡㅡ\n",
      "한 번씩 검증 때마다 accuracy : [0.95071392 0.96224216 0.94676944 0.9406106  0.9401044  0.94088247\n",
      " 0.962456   0.95542655 0.93601162 0.95408329]\n",
      "\n",
      "5번 모두 검증한 accuracy 총 평균 : 0.9489300455813673\n",
      "ㅡㅡㅡㅡㅡㅡㅡㅡㅡㅡㅡㅡㅡㅡㅡㅡㅡㅡㅡㅡㅡㅡㅡㅡ\n",
      "degrees :  14\n",
      "ㅡㅡㅡㅡㅡㅡㅡㅡㅡㅡㅡㅡㅡㅡㅡㅡㅡㅡㅡㅡㅡㅡㅡㅡ\n",
      "한 번씩 검증 때마다 accuracy : [0.94981192 0.96165634 0.94681887 0.94166566 0.94060815 0.94021952\n",
      " 0.96261182 0.95515957 0.9366912  0.95436937]\n",
      "\n",
      "5번 모두 검증한 accuracy 총 평균 : 0.948961243550767\n",
      "ㅡㅡㅡㅡㅡㅡㅡㅡㅡㅡㅡㅡㅡㅡㅡㅡㅡㅡㅡㅡㅡㅡㅡㅡ\n",
      "degrees :  15\n",
      "ㅡㅡㅡㅡㅡㅡㅡㅡㅡㅡㅡㅡㅡㅡㅡㅡㅡㅡㅡㅡㅡㅡㅡㅡ\n",
      "한 번씩 검증 때마다 accuracy : [0.94757733 0.9619437  0.94871229 0.94613733 0.94201754 0.93825874\n",
      " 0.96370057 0.95665859 0.93474853 0.95498705]\n",
      "\n",
      "5번 모두 검증한 accuracy 총 평균 : 0.9494741669920593\n",
      "ㅡㅡㅡㅡㅡㅡㅡㅡㅡㅡㅡㅡㅡㅡㅡㅡㅡㅡㅡㅡㅡㅡㅡㅡ\n",
      "degrees :  16\n",
      "ㅡㅡㅡㅡㅡㅡㅡㅡㅡㅡㅡㅡㅡㅡㅡㅡㅡㅡㅡㅡㅡㅡㅡㅡ\n",
      "한 번씩 검증 때마다 accuracy : [0.94462501 0.96337138 0.95021476 0.95107133 0.94286439 0.93736577\n",
      " 0.96632586 0.95879085 0.93849691 0.95658422]\n",
      "\n",
      "5번 모두 검증한 accuracy 총 평균 : 0.9509710489245988\n",
      "ㅡㅡㅡㅡㅡㅡㅡㅡㅡㅡㅡㅡㅡㅡㅡㅡㅡㅡㅡㅡㅡㅡㅡㅡ\n",
      "degrees :  17\n",
      "ㅡㅡㅡㅡㅡㅡㅡㅡㅡㅡㅡㅡㅡㅡㅡㅡㅡㅡㅡㅡㅡㅡㅡㅡ\n",
      "한 번씩 검증 때마다 accuracy : [0.94416528 0.96296244 0.95028487 0.95151983 0.94280841 0.93719527\n",
      " 0.9665894  0.9597363  0.9385586  0.9568663 ]\n",
      "\n",
      "5번 모두 검증한 accuracy 총 평균 : 0.9510686699733762\n",
      "ㅡㅡㅡㅡㅡㅡㅡㅡㅡㅡㅡㅡㅡㅡㅡㅡㅡㅡㅡㅡㅡㅡㅡㅡ\n",
      "degrees :  18\n",
      "ㅡㅡㅡㅡㅡㅡㅡㅡㅡㅡㅡㅡㅡㅡㅡㅡㅡㅡㅡㅡㅡㅡㅡㅡ\n",
      "한 번씩 검증 때마다 accuracy : [0.94445142 0.96336469 0.95035361 0.95138212 0.94292891 0.93735733\n",
      " 0.96669565 0.96033347 0.93772899 0.95651653]\n",
      "\n",
      "5번 모두 검증한 accuracy 총 평균 : 0.9511112725310472\n",
      "ㅡㅡㅡㅡㅡㅡㅡㅡㅡㅡㅡㅡㅡㅡㅡㅡㅡㅡㅡㅡㅡㅡㅡㅡ\n",
      "degrees :  19\n",
      "ㅡㅡㅡㅡㅡㅡㅡㅡㅡㅡㅡㅡㅡㅡㅡㅡㅡㅡㅡㅡㅡㅡㅡㅡ\n",
      "한 번씩 검증 때마다 accuracy : [0.94487038 0.96357328 0.95056882 0.95051624 0.94303739 0.93748947\n",
      " 0.96702947 0.95857532 0.93823541 0.95607231]\n",
      "\n",
      "5번 모두 검증한 accuracy 총 평균 : 0.9509968088910561\n",
      "ㅡㅡㅡㅡㅡㅡㅡㅡㅡㅡㅡㅡㅡㅡㅡㅡㅡㅡㅡㅡㅡㅡㅡㅡ\n",
      "degrees :  20\n",
      "ㅡㅡㅡㅡㅡㅡㅡㅡㅡㅡㅡㅡㅡㅡㅡㅡㅡㅡㅡㅡㅡㅡㅡㅡ\n",
      "한 번씩 검증 때마다 accuracy : [0.94527111 0.96359234 0.95080351 0.94923429 0.94308827 0.93766037\n",
      " 0.96714756 0.95993299 0.93827767 0.95580408]\n",
      "\n",
      "5번 모두 검증한 accuracy 총 평균 : 0.9510812197683457\n",
      "ㅡㅡㅡㅡㅡㅡㅡㅡㅡㅡㅡㅡㅡㅡㅡㅡㅡㅡㅡㅡㅡㅡㅡㅡ\n",
      "degrees :  21\n",
      "ㅡㅡㅡㅡㅡㅡㅡㅡㅡㅡㅡㅡㅡㅡㅡㅡㅡㅡㅡㅡㅡㅡㅡㅡ\n",
      "한 번씩 검증 때마다 accuracy : [0.94511751 0.96367629 0.95092649 0.94790792 0.94312742 0.93792657\n",
      " 0.96722631 0.9586422  0.93822416 0.95565919]\n",
      "\n",
      "5번 모두 검증한 accuracy 총 평균 : 0.9508434058474917\n",
      "ㅡㅡㅡㅡㅡㅡㅡㅡㅡㅡㅡㅡㅡㅡㅡㅡㅡㅡㅡㅡㅡㅡㅡㅡ\n",
      "degrees :  22\n",
      "ㅡㅡㅡㅡㅡㅡㅡㅡㅡㅡㅡㅡㅡㅡㅡㅡㅡㅡㅡㅡㅡㅡㅡㅡ\n",
      "한 번씩 검증 때마다 accuracy : [0.94510699 0.96372576 0.95087313 0.94850575 0.94314343 0.9377819\n",
      " 0.96716267 0.95839921 0.9381299  0.95563182]\n",
      "\n",
      "5번 모두 검증한 accuracy 총 평균 : 0.9508460546772144\n",
      "ㅡㅡㅡㅡㅡㅡㅡㅡㅡㅡㅡㅡㅡㅡㅡㅡㅡㅡㅡㅡㅡㅡㅡㅡ\n",
      "degrees :  23\n",
      "ㅡㅡㅡㅡㅡㅡㅡㅡㅡㅡㅡㅡㅡㅡㅡㅡㅡㅡㅡㅡㅡㅡㅡㅡ\n",
      "한 번씩 검증 때마다 accuracy : [0.94545822 0.9633864  0.95110164 0.94697659 0.94341361 0.93791332\n",
      " 0.96733283 0.96034822 0.93891865 0.95569599]\n",
      "\n",
      "5번 모두 검증한 accuracy 총 평균 : 0.9510545458876123\n",
      "ㅡㅡㅡㅡㅡㅡㅡㅡㅡㅡㅡㅡㅡㅡㅡㅡㅡㅡㅡㅡㅡㅡㅡㅡ\n",
      "degrees :  24\n",
      "ㅡㅡㅡㅡㅡㅡㅡㅡㅡㅡㅡㅡㅡㅡㅡㅡㅡㅡㅡㅡㅡㅡㅡㅡ\n",
      "한 번씩 검증 때마다 accuracy : [0.94536574 0.96357199 0.95093904 0.94763991 0.94319618 0.93783079\n",
      " 0.96721762 0.95991778 0.93861542 0.9556237 ]\n",
      "\n",
      "5번 모두 검증한 accuracy 총 평균 : 0.9509918169615161\n",
      "ㅡㅡㅡㅡㅡㅡㅡㅡㅡㅡㅡㅡㅡㅡㅡㅡㅡㅡㅡㅡㅡㅡㅡㅡ\n",
      "degrees :  25\n",
      "ㅡㅡㅡㅡㅡㅡㅡㅡㅡㅡㅡㅡㅡㅡㅡㅡㅡㅡㅡㅡㅡㅡㅡㅡ\n",
      "한 번씩 검증 때마다 accuracy : [0.94530478 0.96369822 0.95087031 0.94797936 0.9430971  0.93770762\n",
      " 0.96717774 0.95966969 0.93841838 0.95563549]\n",
      "\n",
      "5번 모두 검증한 accuracy 총 평균 : 0.9509558699828748\n",
      "ㅡㅡㅡㅡㅡㅡㅡㅡㅡㅡㅡㅡㅡㅡㅡㅡㅡㅡㅡㅡㅡㅡㅡㅡ\n",
      "degrees :  26\n",
      "ㅡㅡㅡㅡㅡㅡㅡㅡㅡㅡㅡㅡㅡㅡㅡㅡㅡㅡㅡㅡㅡㅡㅡㅡ\n",
      "한 번씩 검증 때마다 accuracy : [0.94537908 0.96287401 0.95100415 0.94722176 0.94326684 0.93784947\n",
      " 0.96722827 0.95603654 0.9371539  0.95568175]\n",
      "\n",
      "5번 모두 검증한 accuracy 총 평균 : 0.9503695779566534\n",
      "ㅡㅡㅡㅡㅡㅡㅡㅡㅡㅡㅡㅡㅡㅡㅡㅡㅡㅡㅡㅡㅡㅡㅡㅡ\n",
      "degrees :  27\n",
      "ㅡㅡㅡㅡㅡㅡㅡㅡㅡㅡㅡㅡㅡㅡㅡㅡㅡㅡㅡㅡㅡㅡㅡㅡ\n",
      "한 번씩 검증 때마다 accuracy : [0.94525611 0.96324388 0.95092717 0.9476274  0.94313434 0.93773035\n",
      " 0.96719924 0.95618452 0.93744903 0.95563331]\n",
      "\n",
      "5번 모두 검증한 accuracy 총 평균 : 0.9504385344181182\n",
      "ㅡㅡㅡㅡㅡㅡㅡㅡㅡㅡㅡㅡㅡㅡㅡㅡㅡㅡㅡㅡㅡㅡㅡㅡ\n",
      "degrees :  28\n",
      "ㅡㅡㅡㅡㅡㅡㅡㅡㅡㅡㅡㅡㅡㅡㅡㅡㅡㅡㅡㅡㅡㅡㅡㅡ\n",
      "한 번씩 검증 때마다 accuracy : [0.94521642 0.96353446 0.95081334 0.94802123 0.94307796 0.9376592\n",
      " 0.96714846 0.95865187 0.93784403 0.95567696]\n",
      "\n",
      "5번 모두 검증한 accuracy 총 평균 : 0.9507643932300421\n",
      "ㅡㅡㅡㅡㅡㅡㅡㅡㅡㅡㅡㅡㅡㅡㅡㅡㅡㅡㅡㅡㅡㅡㅡㅡ\n",
      "degrees :  29\n",
      "ㅡㅡㅡㅡㅡㅡㅡㅡㅡㅡㅡㅡㅡㅡㅡㅡㅡㅡㅡㅡㅡㅡㅡㅡ\n",
      "한 번씩 검증 때마다 accuracy : [0.94521912 0.96353443 0.95081338 0.94802566 0.94307824 0.93766015\n",
      " 0.96714735 0.9586475  0.93784032 0.9556762 ]\n",
      "\n",
      "5번 모두 검증한 accuracy 총 평균 : 0.9507642363897879\n",
      "ㅡㅡㅡㅡㅡㅡㅡㅡㅡㅡㅡㅡㅡㅡㅡㅡㅡㅡㅡㅡㅡㅡㅡㅡ\n",
      "degrees :  30\n",
      "ㅡㅡㅡㅡㅡㅡㅡㅡㅡㅡㅡㅡㅡㅡㅡㅡㅡㅡㅡㅡㅡㅡㅡㅡ\n",
      "한 번씩 검증 때마다 accuracy : [0.94521977 0.96353381 0.95081386 0.94802718 0.94307768 0.93765964\n",
      " 0.96714768 0.95865196 0.93784604 0.95567634]\n",
      "\n",
      "5번 모두 검증한 accuracy 총 평균 : 0.9507653953441849\n"
     ]
    },
    {
     "name": "stderr",
     "output_type": "stream",
     "text": [
      "C:\\Users\\Hi\\anaconda3\\lib\\site-packages\\numpy\\lib\\nanfunctions.py:1544: RuntimeWarning: overflow encountered in multiply\n",
      "  sqr = np.multiply(arr, arr, out=arr)\n",
      "C:\\Users\\Hi\\anaconda3\\lib\\site-packages\\numpy\\lib\\nanfunctions.py:1544: RuntimeWarning: overflow encountered in multiply\n",
      "  sqr = np.multiply(arr, arr, out=arr)\n"
     ]
    },
    {
     "data": {
      "text/plain": [
       "<Figure size 1080x1080 with 0 Axes>"
      ]
     },
     "metadata": {},
     "output_type": "display_data"
    }
   ],
   "source": [
    "from sklearn.model_selection import cross_val_score, cross_validate\n",
    "import numpy as np\n",
    "\n",
    "# 다항식\n",
    "from sklearn.preprocessing import PolynomialFeatures\n",
    "from sklearn.preprocessing import StandardScaler\n",
    "from sklearn.pipeline import Pipeline\n",
    "\n",
    "# 다항식 변환\n",
    "print('일차 단항식 계수 피처 : ', train_input[0])\n",
    "fig = plt.figure(figsize = (15, 15))\n",
    "\n",
    "degrees = list(range(2, 31))\n",
    "\n",
    "# 다항식 시각화\n",
    "for i in range(len(degrees)):\n",
    "    print(\"ㅡㅡㅡㅡㅡㅡㅡㅡㅡㅡㅡㅡㅡㅡㅡㅡㅡㅡㅡㅡㅡㅡㅡㅡ\")\n",
    "    print(\"degrees : \", degrees[i])\n",
    "    print(\"ㅡㅡㅡㅡㅡㅡㅡㅡㅡㅡㅡㅡㅡㅡㅡㅡㅡㅡㅡㅡㅡㅡㅡㅡ\")\n",
    "\n",
    "    poly_features = PolynomialFeatures(degree=degrees[i], include_bias = True)\n",
    "    train_poly = poly_features.fit_transform(train_input)\n",
    "    test_poly = poly_features.transform(test_input)\n",
    "    \n",
    "    ss = StandardScaler()\n",
    "    ss.fit(train_poly)\n",
    "    \n",
    "    train_scaled = ss.transform(train_poly)\n",
    "    test_scaled = ss.transform(test_poly)\n",
    "\n",
    "    # 선형 회귀 모델 선정 & 훈련\n",
    "    lr = LinearRegression()\n",
    "    scores = cross_val_score(lr, np.concatenate([train_scaled, test_scaled], 0), \n",
    "                             np.concatenate([train_target, test_target], 0), cv=10)\n",
    "\n",
    "    print(f\"한 번씩 검증 때마다 accuracy : {scores}\")\n",
    "    print()\n",
    "    print(f\"5번 모두 검증한 accuracy 총 평균 : {np.mean(scores)}\")"
   ]
  }
 ],
 "metadata": {
  "colab": {
   "authorship_tag": "ABX9TyP/K+2VKm+7gJYWBdi4NH3X",
   "collapsed_sections": [],
   "name": "3-2 선형 회귀.ipynb",
   "provenance": []
  },
  "kernelspec": {
   "display_name": "Python 3 (ipykernel)",
   "language": "python",
   "name": "python3"
  },
  "language_info": {
   "codemirror_mode": {
    "name": "ipython",
    "version": 3
   },
   "file_extension": ".py",
   "mimetype": "text/x-python",
   "name": "python",
   "nbconvert_exporter": "python",
   "pygments_lexer": "ipython3",
   "version": "3.9.7"
  }
 },
 "nbformat": 4,
 "nbformat_minor": 1
}
